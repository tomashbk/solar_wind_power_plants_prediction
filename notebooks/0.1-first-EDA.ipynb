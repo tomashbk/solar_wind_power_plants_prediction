{
 "cells": [
  {
   "cell_type": "code",
   "execution_count": 1,
   "metadata": {},
   "outputs": [],
   "source": [
    "import numpy as np\n",
    "import pandas as pd\n",
    "import pyhere\n",
    "from datetime import datetime\n",
    "import matplotlib.pyplot as plt\n",
    "import seaborn as sns"
   ]
  },
  {
   "cell_type": "code",
   "execution_count": 2,
   "metadata": {},
   "outputs": [],
   "source": [
    "dir_data_raw = pyhere.here().resolve().joinpath(\"data\", \"raw\")\n",
    "dir_data_interim = pyhere.here().resolve().joinpath(\"data\", \"interim\")\n"
   ]
  },
  {
   "cell_type": "code",
   "execution_count": 7,
   "metadata": {},
   "outputs": [],
   "source": [
    "columns = ['capacity_mw', \n",
    "            'latitude', \n",
    "            'longitude', \n",
    "            'primary_fuel', \n",
    "        #    'commissioning_year', \n",
    "        #    'year_of_capacity_data'#, \n",
    "        #    'other_fuel1', \n",
    "        #    'other_fuel2', \n",
    "        #    'other_fuel3', \n",
    "        #     'generation_gwh_2013',\n",
    "        #    'generation_gwh_2014', \n",
    "        #    'generation_gwh_2015', \n",
    "        #    'generation_gwh_2016', \n",
    "        #    'generation_gwh_2017', \n",
    "        #    'generation_gwh_2018', \n",
    "        #    'generation_gwh_2019', \n",
    "        #    'generation_data_source'\n",
    "        ]\n",
    "df_power_plants = pd.read_csv(dir_data_raw/\"global_power_plant_database.csv\", usecols=columns, engine='python')"
   ]
  },
  {
   "cell_type": "code",
   "execution_count": 8,
   "metadata": {},
   "outputs": [
    {
     "data": {
      "text/html": [
       "<div>\n",
       "<style scoped>\n",
       "    .dataframe tbody tr th:only-of-type {\n",
       "        vertical-align: middle;\n",
       "    }\n",
       "\n",
       "    .dataframe tbody tr th {\n",
       "        vertical-align: top;\n",
       "    }\n",
       "\n",
       "    .dataframe thead th {\n",
       "        text-align: right;\n",
       "    }\n",
       "</style>\n",
       "<table border=\"1\" class=\"dataframe\">\n",
       "  <thead>\n",
       "    <tr style=\"text-align: right;\">\n",
       "      <th></th>\n",
       "      <th>capacity_mw</th>\n",
       "      <th>latitude</th>\n",
       "      <th>longitude</th>\n",
       "      <th>primary_fuel</th>\n",
       "    </tr>\n",
       "  </thead>\n",
       "  <tbody>\n",
       "    <tr>\n",
       "      <th>0</th>\n",
       "      <td>33.0</td>\n",
       "      <td>32.322</td>\n",
       "      <td>65.1190</td>\n",
       "      <td>Hydro</td>\n",
       "    </tr>\n",
       "    <tr>\n",
       "      <th>1</th>\n",
       "      <td>10.0</td>\n",
       "      <td>31.670</td>\n",
       "      <td>65.7950</td>\n",
       "      <td>Solar</td>\n",
       "    </tr>\n",
       "    <tr>\n",
       "      <th>2</th>\n",
       "      <td>10.0</td>\n",
       "      <td>31.623</td>\n",
       "      <td>65.7920</td>\n",
       "      <td>Solar</td>\n",
       "    </tr>\n",
       "    <tr>\n",
       "      <th>3</th>\n",
       "      <td>66.0</td>\n",
       "      <td>34.556</td>\n",
       "      <td>69.4787</td>\n",
       "      <td>Hydro</td>\n",
       "    </tr>\n",
       "    <tr>\n",
       "      <th>4</th>\n",
       "      <td>100.0</td>\n",
       "      <td>34.641</td>\n",
       "      <td>69.7170</td>\n",
       "      <td>Hydro</td>\n",
       "    </tr>\n",
       "  </tbody>\n",
       "</table>\n",
       "</div>"
      ],
      "text/plain": [
       "   capacity_mw  latitude  longitude primary_fuel\n",
       "0         33.0    32.322    65.1190        Hydro\n",
       "1         10.0    31.670    65.7950        Solar\n",
       "2         10.0    31.623    65.7920        Solar\n",
       "3         66.0    34.556    69.4787        Hydro\n",
       "4        100.0    34.641    69.7170        Hydro"
      ]
     },
     "execution_count": 8,
     "metadata": {},
     "output_type": "execute_result"
    }
   ],
   "source": [
    "df_power_plants.head()"
   ]
  },
  {
   "cell_type": "code",
   "execution_count": 9,
   "metadata": {},
   "outputs": [
    {
     "data": {
      "text/plain": [
       "capacity_mw     float64\n",
       "latitude        float64\n",
       "longitude       float64\n",
       "primary_fuel     object\n",
       "dtype: object"
      ]
     },
     "execution_count": 9,
     "metadata": {},
     "output_type": "execute_result"
    }
   ],
   "source": [
    "df_power_plants.dtypes"
   ]
  },
  {
   "cell_type": "code",
   "execution_count": 10,
   "metadata": {},
   "outputs": [],
   "source": [
    "# df_power_plants.astype({\n",
    "#     'capacity_mw': 'float', \n",
    "#     'latitude': 'decimal', \n",
    "#     'longitude': 'decimal', \n",
    "#     'commissioning_year': 'int', \n",
    "#     'generation_gwh_2013': 'float', \n",
    "#     'generation_gwh_2014': 'float', \n",
    "#     'generation_gwh_2015': 'float', \n",
    "#     'generation_gwh_2016': 'float', \n",
    "#     'generation_gwh_2017': 'float', \n",
    "#     'generation_gwh_2018': 'float', \n",
    "#     'generation_gwh_2019': 'float'}).dtypes"
   ]
  },
  {
   "cell_type": "code",
   "execution_count": 55,
   "metadata": {},
   "outputs": [
    {
     "data": {
      "text/plain": [
       "latitude  longitude  capacity_mw\n",
       "-77.8470   166.6605  6.60            1\n",
       " 43.6688   3.2212    11.97           1\n",
       " 43.6679  -72.3036   35.60           1\n",
       " 43.6676  -93.2940   1.50            1\n",
       " 43.6669  -70.6021   7.70            1\n",
       "                                    ..\n",
       " 44.9580   33.9230   20.00           4\n",
       " 24.0850   75.7950   50.00           5\n",
       " 39.4360  -76.2200   2.00            6\n",
       " 38.3026  -121.2958  5.00            6\n",
       " 15.6620   78.2570   50.00          10\n",
       "Name: capacity_mw, Length: 34785, dtype: int64"
      ]
     },
     "execution_count": 55,
     "metadata": {},
     "output_type": "execute_result"
    }
   ],
   "source": [
    "df_power_plants.groupby(['latitude', 'longitude'])['capacity_mw'].value_counts().sort_values()"
   ]
  },
  {
   "cell_type": "code",
   "execution_count": 12,
   "metadata": {},
   "outputs": [
    {
     "data": {
      "text/plain": [
       "capacity_mw\n",
       "22500.00000      1\n",
       "13050.00000      1\n",
       "12600.00000      1\n",
       "8865.00000       1\n",
       "8851.00000       1\n",
       "              ... \n",
       "1.00209          1\n",
       "1.00150          1\n",
       "1.00080          1\n",
       "1.00009          1\n",
       "1.00000        932\n",
       "Length: 5611, dtype: int64"
      ]
     },
     "execution_count": 12,
     "metadata": {},
     "output_type": "execute_result"
    }
   ],
   "source": [
    "df_power_plants[['capacity_mw']].value_counts().sort_index(ascending=False)"
   ]
  },
  {
   "cell_type": "code",
   "execution_count": 13,
   "metadata": {},
   "outputs": [
    {
     "data": {
      "text/html": [
       "<div>\n",
       "<style scoped>\n",
       "    .dataframe tbody tr th:only-of-type {\n",
       "        vertical-align: middle;\n",
       "    }\n",
       "\n",
       "    .dataframe tbody tr th {\n",
       "        vertical-align: top;\n",
       "    }\n",
       "\n",
       "    .dataframe thead th {\n",
       "        text-align: right;\n",
       "    }\n",
       "</style>\n",
       "<table border=\"1\" class=\"dataframe\">\n",
       "  <thead>\n",
       "    <tr style=\"text-align: right;\">\n",
       "      <th></th>\n",
       "      <th>capacity_mw</th>\n",
       "      <th>latitude</th>\n",
       "      <th>longitude</th>\n",
       "      <th>primary_fuel</th>\n",
       "    </tr>\n",
       "  </thead>\n",
       "  <tbody>\n",
       "    <tr>\n",
       "      <th>count</th>\n",
       "      <td>34936.000000</td>\n",
       "      <td>34936.000000</td>\n",
       "      <td>34936.000000</td>\n",
       "      <td>34936</td>\n",
       "    </tr>\n",
       "    <tr>\n",
       "      <th>unique</th>\n",
       "      <td>NaN</td>\n",
       "      <td>NaN</td>\n",
       "      <td>NaN</td>\n",
       "      <td>15</td>\n",
       "    </tr>\n",
       "    <tr>\n",
       "      <th>top</th>\n",
       "      <td>NaN</td>\n",
       "      <td>NaN</td>\n",
       "      <td>NaN</td>\n",
       "      <td>Solar</td>\n",
       "    </tr>\n",
       "    <tr>\n",
       "      <th>freq</th>\n",
       "      <td>NaN</td>\n",
       "      <td>NaN</td>\n",
       "      <td>NaN</td>\n",
       "      <td>10665</td>\n",
       "    </tr>\n",
       "    <tr>\n",
       "      <th>mean</th>\n",
       "      <td>163.355148</td>\n",
       "      <td>32.816637</td>\n",
       "      <td>-6.972803</td>\n",
       "      <td>NaN</td>\n",
       "    </tr>\n",
       "    <tr>\n",
       "      <th>std</th>\n",
       "      <td>489.636072</td>\n",
       "      <td>22.638603</td>\n",
       "      <td>78.405850</td>\n",
       "      <td>NaN</td>\n",
       "    </tr>\n",
       "    <tr>\n",
       "      <th>min</th>\n",
       "      <td>1.000000</td>\n",
       "      <td>-77.847000</td>\n",
       "      <td>-179.977700</td>\n",
       "      <td>NaN</td>\n",
       "    </tr>\n",
       "    <tr>\n",
       "      <th>25%</th>\n",
       "      <td>4.900000</td>\n",
       "      <td>29.256475</td>\n",
       "      <td>-77.641550</td>\n",
       "      <td>NaN</td>\n",
       "    </tr>\n",
       "    <tr>\n",
       "      <th>50%</th>\n",
       "      <td>16.745000</td>\n",
       "      <td>39.727750</td>\n",
       "      <td>-2.127100</td>\n",
       "      <td>NaN</td>\n",
       "    </tr>\n",
       "    <tr>\n",
       "      <th>75%</th>\n",
       "      <td>75.344250</td>\n",
       "      <td>46.263125</td>\n",
       "      <td>49.502675</td>\n",
       "      <td>NaN</td>\n",
       "    </tr>\n",
       "    <tr>\n",
       "      <th>max</th>\n",
       "      <td>22500.000000</td>\n",
       "      <td>71.292000</td>\n",
       "      <td>179.388700</td>\n",
       "      <td>NaN</td>\n",
       "    </tr>\n",
       "  </tbody>\n",
       "</table>\n",
       "</div>"
      ],
      "text/plain": [
       "         capacity_mw      latitude     longitude primary_fuel\n",
       "count   34936.000000  34936.000000  34936.000000        34936\n",
       "unique           NaN           NaN           NaN           15\n",
       "top              NaN           NaN           NaN        Solar\n",
       "freq             NaN           NaN           NaN        10665\n",
       "mean      163.355148     32.816637     -6.972803          NaN\n",
       "std       489.636072     22.638603     78.405850          NaN\n",
       "min         1.000000    -77.847000   -179.977700          NaN\n",
       "25%         4.900000     29.256475    -77.641550          NaN\n",
       "50%        16.745000     39.727750     -2.127100          NaN\n",
       "75%        75.344250     46.263125     49.502675          NaN\n",
       "max     22500.000000     71.292000    179.388700          NaN"
      ]
     },
     "execution_count": 13,
     "metadata": {},
     "output_type": "execute_result"
    }
   ],
   "source": [
    "df_power_plants.describe(include='all')"
   ]
  },
  {
   "cell_type": "code",
   "execution_count": 21,
   "metadata": {},
   "outputs": [
    {
     "data": {
      "text/plain": [
       "0"
      ]
     },
     "execution_count": 21,
     "metadata": {},
     "output_type": "execute_result"
    }
   ],
   "source": [
    "# df_power_plants['generation_gwh_2013'].notna()\n",
    "# df_power_plants_with_generation_not_nan = df_power_plants.loc[df_power_plants['generation_gwh_2013'].notna() & df_power_plants['generation_gwh_2014'].notna() & df_power_plants['generation_gwh_2015'].notna() & df_power_plants['generation_gwh_2016'].notna() & df_power_plants['generation_gwh_2017'].notna() & df_power_plants['generation_gwh_2018'].notna() & df_power_plants['generation_gwh_2019'].notna()]\n",
    "# df_power_plants_with_generation_not_nan.reset_index(drop = True, inplace=True)\n",
    "df_power_plants['capacity_mw'].isna().sum()"
   ]
  },
  {
   "cell_type": "code",
   "execution_count": 22,
   "metadata": {},
   "outputs": [
    {
     "data": {
      "text/html": [
       "<div>\n",
       "<style scoped>\n",
       "    .dataframe tbody tr th:only-of-type {\n",
       "        vertical-align: middle;\n",
       "    }\n",
       "\n",
       "    .dataframe tbody tr th {\n",
       "        vertical-align: top;\n",
       "    }\n",
       "\n",
       "    .dataframe thead th {\n",
       "        text-align: right;\n",
       "    }\n",
       "</style>\n",
       "<table border=\"1\" class=\"dataframe\">\n",
       "  <thead>\n",
       "    <tr style=\"text-align: right;\">\n",
       "      <th></th>\n",
       "      <th>capacity_mw</th>\n",
       "      <th>latitude</th>\n",
       "      <th>longitude</th>\n",
       "      <th>primary_fuel</th>\n",
       "    </tr>\n",
       "  </thead>\n",
       "  <tbody>\n",
       "    <tr>\n",
       "      <th>count</th>\n",
       "      <td>34936.000000</td>\n",
       "      <td>34936.000000</td>\n",
       "      <td>34936.000000</td>\n",
       "      <td>34936</td>\n",
       "    </tr>\n",
       "    <tr>\n",
       "      <th>unique</th>\n",
       "      <td>NaN</td>\n",
       "      <td>NaN</td>\n",
       "      <td>NaN</td>\n",
       "      <td>15</td>\n",
       "    </tr>\n",
       "    <tr>\n",
       "      <th>top</th>\n",
       "      <td>NaN</td>\n",
       "      <td>NaN</td>\n",
       "      <td>NaN</td>\n",
       "      <td>Solar</td>\n",
       "    </tr>\n",
       "    <tr>\n",
       "      <th>freq</th>\n",
       "      <td>NaN</td>\n",
       "      <td>NaN</td>\n",
       "      <td>NaN</td>\n",
       "      <td>10665</td>\n",
       "    </tr>\n",
       "    <tr>\n",
       "      <th>mean</th>\n",
       "      <td>163.355148</td>\n",
       "      <td>32.816637</td>\n",
       "      <td>-6.972803</td>\n",
       "      <td>NaN</td>\n",
       "    </tr>\n",
       "    <tr>\n",
       "      <th>std</th>\n",
       "      <td>489.636072</td>\n",
       "      <td>22.638603</td>\n",
       "      <td>78.405850</td>\n",
       "      <td>NaN</td>\n",
       "    </tr>\n",
       "    <tr>\n",
       "      <th>min</th>\n",
       "      <td>1.000000</td>\n",
       "      <td>-77.847000</td>\n",
       "      <td>-179.977700</td>\n",
       "      <td>NaN</td>\n",
       "    </tr>\n",
       "    <tr>\n",
       "      <th>25%</th>\n",
       "      <td>4.900000</td>\n",
       "      <td>29.256475</td>\n",
       "      <td>-77.641550</td>\n",
       "      <td>NaN</td>\n",
       "    </tr>\n",
       "    <tr>\n",
       "      <th>50%</th>\n",
       "      <td>16.745000</td>\n",
       "      <td>39.727750</td>\n",
       "      <td>-2.127100</td>\n",
       "      <td>NaN</td>\n",
       "    </tr>\n",
       "    <tr>\n",
       "      <th>75%</th>\n",
       "      <td>75.344250</td>\n",
       "      <td>46.263125</td>\n",
       "      <td>49.502675</td>\n",
       "      <td>NaN</td>\n",
       "    </tr>\n",
       "    <tr>\n",
       "      <th>max</th>\n",
       "      <td>22500.000000</td>\n",
       "      <td>71.292000</td>\n",
       "      <td>179.388700</td>\n",
       "      <td>NaN</td>\n",
       "    </tr>\n",
       "  </tbody>\n",
       "</table>\n",
       "</div>"
      ],
      "text/plain": [
       "         capacity_mw      latitude     longitude primary_fuel\n",
       "count   34936.000000  34936.000000  34936.000000        34936\n",
       "unique           NaN           NaN           NaN           15\n",
       "top              NaN           NaN           NaN        Solar\n",
       "freq             NaN           NaN           NaN        10665\n",
       "mean      163.355148     32.816637     -6.972803          NaN\n",
       "std       489.636072     22.638603     78.405850          NaN\n",
       "min         1.000000    -77.847000   -179.977700          NaN\n",
       "25%         4.900000     29.256475    -77.641550          NaN\n",
       "50%        16.745000     39.727750     -2.127100          NaN\n",
       "75%        75.344250     46.263125     49.502675          NaN\n",
       "max     22500.000000     71.292000    179.388700          NaN"
      ]
     },
     "execution_count": 22,
     "metadata": {},
     "output_type": "execute_result"
    }
   ],
   "source": [
    "df_power_plants.describe(include='all')"
   ]
  },
  {
   "cell_type": "code",
   "execution_count": 23,
   "metadata": {},
   "outputs": [
    {
     "data": {
      "text/plain": [
       "<AxesSubplot:xlabel='primary_fuel'>"
      ]
     },
     "execution_count": 23,
     "metadata": {},
     "output_type": "execute_result"
    },
    {
     "data": {
      "image/png": "[encoded data removed]",
      "text/plain": [
       "<Figure size 720x288 with 1 Axes>"
      ]
     },
     "metadata": {
      "needs_background": "light"
     },
     "output_type": "display_data"
    }
   ],
   "source": [
    "plt.figure(figsize=(10,4))\n",
    "df_power_plants[['primary_fuel']].value_counts().plot.bar()"
   ]
  },
  {
   "cell_type": "code",
   "execution_count": 24,
   "metadata": {},
   "outputs": [
    {
     "data": {
      "text/plain": [
       "array(['Hydro', 'Solar', 'Gas', 'Other', 'Oil', 'Wind', 'Nuclear', 'Coal',\n",
       "       'Waste', 'Biomass', 'Wave and Tidal', 'Petcoke', 'Geothermal',\n",
       "       'Storage', 'Cogeneration'], dtype=object)"
      ]
     },
     "execution_count": 24,
     "metadata": {},
     "output_type": "execute_result"
    }
   ],
   "source": [
    "df_power_plants['primary_fuel'].unique()"
   ]
  },
  {
   "cell_type": "code",
   "execution_count": 33,
   "metadata": {},
   "outputs": [],
   "source": [
    "mapping = {\n",
    "            'Gas': 'Other', \n",
    "            'Oil': 'Other', \n",
    "            'Hydro': 'Other', \n",
    "            'Coal': 'Other', \n",
    "            'Biomass': 'Other', \n",
    "            'Waste': 'Other',\n",
    "            'Cogeneration': 'Other', \n",
    "            'Geothermal': 'Other', \n",
    "            'Petcoke': 'Other', \n",
    "            'Nuclear': 'Other', \n",
    "            'Other': 'Other',\n",
    "            'Storage': 'Other',\n",
    "            'Solar': 'Solar',\n",
    "            'Wind': 'Wind'\n",
    "            }"
   ]
  },
  {
   "cell_type": "code",
   "execution_count": 34,
   "metadata": {},
   "outputs": [],
   "source": [
    "# df_power_plants_with_generation_not_nan['solar_wind_or_not'] = \n",
    "\n",
    "# df_power_plants_with_generation_not_nan['solar_wind_or_not'] = df_power_plants_with_generation_not_nan['primary_fuel'] == ('Wind' or 'Solar') ? 'solar_wind' : 'not'\n",
    "\n",
    "df_power_plants['primary_fuel_transformed'] = df_power_plants['primary_fuel'].map(mapping)\n",
    "\n",
    "# df_power_plants_with_generation_not_nan['solar_wind_or_not'] = df_power_plants_with_generation_not_nan['prmary_fuel'].map(mapping)\n",
    "# df_power_plants_with_generation_not_nan['solar_wind_or_not'] = np.where((df_power_plants_with_generation_not_nan[['primary_fuel']] == 'Wind') | (df_power_plants_with_generation_not_nan[['primary_fuel']] == 'Solar'), 'solar_wind','not')"
   ]
  },
  {
   "cell_type": "code",
   "execution_count": 35,
   "metadata": {},
   "outputs": [
    {
     "data": {
      "text/html": [
       "<div>\n",
       "<style scoped>\n",
       "    .dataframe tbody tr th:only-of-type {\n",
       "        vertical-align: middle;\n",
       "    }\n",
       "\n",
       "    .dataframe tbody tr th {\n",
       "        vertical-align: top;\n",
       "    }\n",
       "\n",
       "    .dataframe thead th {\n",
       "        text-align: right;\n",
       "    }\n",
       "</style>\n",
       "<table border=\"1\" class=\"dataframe\">\n",
       "  <thead>\n",
       "    <tr style=\"text-align: right;\">\n",
       "      <th></th>\n",
       "      <th>primary_fuel</th>\n",
       "      <th>primary_fuel_transformed</th>\n",
       "    </tr>\n",
       "  </thead>\n",
       "  <tbody>\n",
       "    <tr>\n",
       "      <th>3177</th>\n",
       "      <td>Hydro</td>\n",
       "      <td>Other</td>\n",
       "    </tr>\n",
       "    <tr>\n",
       "      <th>33446</th>\n",
       "      <td>Solar</td>\n",
       "      <td>Solar</td>\n",
       "    </tr>\n",
       "    <tr>\n",
       "      <th>17113</th>\n",
       "      <td>Hydro</td>\n",
       "      <td>Other</td>\n",
       "    </tr>\n",
       "    <tr>\n",
       "      <th>11030</th>\n",
       "      <td>Solar</td>\n",
       "      <td>Solar</td>\n",
       "    </tr>\n",
       "    <tr>\n",
       "      <th>16522</th>\n",
       "      <td>Solar</td>\n",
       "      <td>Solar</td>\n",
       "    </tr>\n",
       "    <tr>\n",
       "      <th>31417</th>\n",
       "      <td>Oil</td>\n",
       "      <td>Other</td>\n",
       "    </tr>\n",
       "    <tr>\n",
       "      <th>3384</th>\n",
       "      <td>Wind</td>\n",
       "      <td>Wind</td>\n",
       "    </tr>\n",
       "    <tr>\n",
       "      <th>7218</th>\n",
       "      <td>Solar</td>\n",
       "      <td>Solar</td>\n",
       "    </tr>\n",
       "    <tr>\n",
       "      <th>29954</th>\n",
       "      <td>Wind</td>\n",
       "      <td>Wind</td>\n",
       "    </tr>\n",
       "    <tr>\n",
       "      <th>34847</th>\n",
       "      <td>Solar</td>\n",
       "      <td>Solar</td>\n",
       "    </tr>\n",
       "    <tr>\n",
       "      <th>30493</th>\n",
       "      <td>Hydro</td>\n",
       "      <td>Other</td>\n",
       "    </tr>\n",
       "    <tr>\n",
       "      <th>23454</th>\n",
       "      <td>Solar</td>\n",
       "      <td>Solar</td>\n",
       "    </tr>\n",
       "    <tr>\n",
       "      <th>15632</th>\n",
       "      <td>Solar</td>\n",
       "      <td>Solar</td>\n",
       "    </tr>\n",
       "    <tr>\n",
       "      <th>16697</th>\n",
       "      <td>Solar</td>\n",
       "      <td>Solar</td>\n",
       "    </tr>\n",
       "    <tr>\n",
       "      <th>29568</th>\n",
       "      <td>Gas</td>\n",
       "      <td>Other</td>\n",
       "    </tr>\n",
       "    <tr>\n",
       "      <th>7939</th>\n",
       "      <td>Solar</td>\n",
       "      <td>Solar</td>\n",
       "    </tr>\n",
       "    <tr>\n",
       "      <th>1837</th>\n",
       "      <td>Biomass</td>\n",
       "      <td>Other</td>\n",
       "    </tr>\n",
       "    <tr>\n",
       "      <th>3599</th>\n",
       "      <td>Wind</td>\n",
       "      <td>Wind</td>\n",
       "    </tr>\n",
       "    <tr>\n",
       "      <th>22318</th>\n",
       "      <td>Wind</td>\n",
       "      <td>Wind</td>\n",
       "    </tr>\n",
       "    <tr>\n",
       "      <th>31986</th>\n",
       "      <td>Oil</td>\n",
       "      <td>Other</td>\n",
       "    </tr>\n",
       "  </tbody>\n",
       "</table>\n",
       "</div>"
      ],
      "text/plain": [
       "      primary_fuel primary_fuel_transformed\n",
       "3177         Hydro                    Other\n",
       "33446        Solar                    Solar\n",
       "17113        Hydro                    Other\n",
       "11030        Solar                    Solar\n",
       "16522        Solar                    Solar\n",
       "31417          Oil                    Other\n",
       "3384          Wind                     Wind\n",
       "7218         Solar                    Solar\n",
       "29954         Wind                     Wind\n",
       "34847        Solar                    Solar\n",
       "30493        Hydro                    Other\n",
       "23454        Solar                    Solar\n",
       "15632        Solar                    Solar\n",
       "16697        Solar                    Solar\n",
       "29568          Gas                    Other\n",
       "7939         Solar                    Solar\n",
       "1837       Biomass                    Other\n",
       "3599          Wind                     Wind\n",
       "22318         Wind                     Wind\n",
       "31986          Oil                    Other"
      ]
     },
     "execution_count": 35,
     "metadata": {},
     "output_type": "execute_result"
    }
   ],
   "source": [
    "df_power_plants[['primary_fuel', 'primary_fuel_transformed']].sample(20)"
   ]
  },
  {
   "cell_type": "code",
   "execution_count": 39,
   "metadata": {},
   "outputs": [],
   "source": [
    "df_power_plants.drop(columns=['primary_fuel'], inplace=True)"
   ]
  },
  {
   "cell_type": "code",
   "execution_count": 40,
   "metadata": {},
   "outputs": [
    {
     "data": {
      "text/plain": [
       "<AxesSubplot:xlabel='primary_fuel_transformed'>"
      ]
     },
     "execution_count": 40,
     "metadata": {},
     "output_type": "execute_result"
    },
    {
     "data": {
      "image/png": "[encoded data removed]",
      "text/plain": [
       "<Figure size 432x288 with 1 Axes>"
      ]
     },
     "metadata": {
      "needs_background": "light"
     },
     "output_type": "display_data"
    }
   ],
   "source": [
    "# df_power_plants_with_generation_not_nan.groupby(['solar_wind_or_not', 'primary_fuel'])['primary_fuel'].count().plot.bar()\n",
    "df_power_plants[['primary_fuel_transformed']].value_counts().plot.bar()"
   ]
  },
  {
   "cell_type": "code",
   "execution_count": 41,
   "metadata": {},
   "outputs": [],
   "source": [
    "df_power_plants.to_csv(dir_data_interim/\"power_plants_with_generation_transformed.csv\")"
   ]
  },
  {
   "cell_type": "code",
   "execution_count": null,
   "metadata": {},
   "outputs": [],
   "source": []
  }
 ],
 "metadata": {
  "interpreter": {
   "hash": "33e38b4fc567f4e8019f05d798cf38d5465d2749ead22ae1a365825ed0d2a079"
  },
  "kernelspec": {
   "display_name": "Python 3.8.10 ('env_renewable_power_plants_pred': venv)",
   "language": "python",
   "name": "python3"
  },
  "language_info": {
   "codemirror_mode": {
    "name": "ipython",
    "version": 3
   },
   "file_extension": ".py",
   "mimetype": "text/x-python",
   "name": "python",
   "nbconvert_exporter": "python",
   "pygments_lexer": "ipython3",
   "version": "3.8.10"
  },
  "orig_nbformat": 4
 },
 "nbformat": 4,
 "nbformat_minor": 2
}
