{
 "cells": [
  {
   "cell_type": "code",
   "execution_count": 4,
   "metadata": {},
   "outputs": [],
   "source": [
    "import numpy as np\n",
    "import pandas as pd\n",
    "import pyhere"
   ]
  },
  {
   "cell_type": "code",
   "execution_count": 11,
   "metadata": {},
   "outputs": [],
   "source": [
    "dir_raw_data = pyhere.here().resolve().joinpath(\"data\", \"raw\")\n"
   ]
  },
  {
   "cell_type": "code",
   "execution_count": 14,
   "metadata": {},
   "outputs": [
    {
     "name": "stderr",
     "output_type": "stream",
     "text": [
      "/tmp/ipykernel_1547/1573865454.py:1: DtypeWarning: Columns (10) have mixed types. Specify dtype option on import or set low_memory=False.\n",
      "  csv_power_plants = pd.read_csv(dir_raw_data/\"global_power_plant_database.csv\")\n"
     ]
    }
   ],
   "source": [
    "csv_power_plants = pd.read_csv(dir_raw_data/\"global_power_plant_database.csv\")"
   ]
  },
  {
   "cell_type": "code",
   "execution_count": 24,
   "metadata": {},
   "outputs": [
    {
     "data": {
      "text/html": [
       "<div>\n",
       "<style scoped>\n",
       "    .dataframe tbody tr th:only-of-type {\n",
       "        vertical-align: middle;\n",
       "    }\n",
       "\n",
       "    .dataframe tbody tr th {\n",
       "        vertical-align: top;\n",
       "    }\n",
       "\n",
       "    .dataframe thead th {\n",
       "        text-align: right;\n",
       "    }\n",
       "</style>\n",
       "<table border=\"1\" class=\"dataframe\">\n",
       "  <thead>\n",
       "    <tr style=\"text-align: right;\">\n",
       "      <th></th>\n",
       "      <th>latitude</th>\n",
       "      <th>longitude</th>\n",
       "    </tr>\n",
       "  </thead>\n",
       "  <tbody>\n",
       "    <tr>\n",
       "      <th>0</th>\n",
       "      <td>32.322</td>\n",
       "      <td>65.119</td>\n",
       "    </tr>\n",
       "  </tbody>\n",
       "</table>\n",
       "</div>"
      ],
      "text/plain": [
       "   latitude  longitude\n",
       "0    32.322     65.119"
      ]
     },
     "execution_count": 24,
     "metadata": {},
     "output_type": "execute_result"
    }
   ],
   "source": [
    "csv_power_plants[[\"latitude\", \"longitude\"]].head(1)"
   ]
  },
  {
   "cell_type": "code",
   "execution_count": null,
   "metadata": {},
   "outputs": [],
   "source": [
    "'''\n",
    "*Version: 2.0 Published: 2021/03/09* Source: [NASA POWER](https://power.larc.nasa.gov/)\n",
    "POWER API Multi-Point Download\n",
    "This is an overview of the process to request data from multiple data points from the POWER API.\n",
    "'''\n",
    "\n",
    "import os, sys, time, json, urllib3, requests, multiprocessing\n",
    "\n",
    "urllib3.disable_warnings()\n",
    "\n",
    "def download_function(collection):\n",
    "    ''' '''\n",
    "\n",
    "    request, filepath = collection\n",
    "    response = requests.get(url=request, verify=False, timeout=30.00).json()\n",
    "\n",
    "    with open(filepath, 'w') as file_object:\n",
    "        json.dump(response, file_object)\n",
    "\n",
    "class Process():\n",
    "\n",
    "    def __init__(self):\n",
    "\n",
    "        self.processes = 5 # Please do not go more than five concurrent requests.\n",
    "\n",
    "        self.request_template = r\"https://power.larc.nasa.gov/api/temporal/daily/point?parameters=T2M,T2MDEW,T2MWET,TS,T2M_RANGE,T2M_MAX,T2M_MIN&community=RE&longitude={longitude}&latitude={latitude}&start=20150101&end=20150305&format=JSON\"\n",
    "        self.filename_template = \"File_Lat_{latitude}_Lon_{longitude}.csv\"\n",
    "\n",
    "        self.messages = []\n",
    "        self.times = {}\n",
    "\n",
    "    def execute(self):\n",
    "\n",
    "        Start_Time = time.time()\n",
    "\n",
    "        locations = [(39.9373, -83.0485), (10.9373, -50.0485)]\n",
    "\n",
    "        requests = []\n",
    "        for latitude, longitude in locations:\n",
    "            request = self.request_template.format(latitude=latitude, longitude=longitude)\n",
    "            filename = self.filename_template.format(latitude=latitude, longitude=longitude)\n",
    "            requests.append((request, filename))\n",
    "\n",
    "        requests_total = len(requests)\n",
    "\n",
    "        pool = multiprocessing.Pool(self.processes)\n",
    "        x = pool.imap_unordered(download_function, requests)\n",
    "\n",
    "        for i, df in enumerate(x, 1):\n",
    "            sys.stderr.write('\\rExporting {0:%}'.format(i/requests_total))\n",
    "\n",
    "        self.times[\"Total Script\"] = round((time.time() - Start_Time), 2)\n",
    "\n",
    "        print (\"\\n\")\n",
    "        print (\"Total Script Time:\", self.times[\"Total Script\"])\n",
    "\n",
    "if __name__ == '__main__':\n",
    "    Process().execute()"
   ]
  }
 ],
 "metadata": {
  "interpreter": {
   "hash": "33e38b4fc567f4e8019f05d798cf38d5465d2749ead22ae1a365825ed0d2a079"
  },
  "kernelspec": {
   "display_name": "Python 3.8.10 ('env_renewable_power_plants_pred': venv)",
   "language": "python",
   "name": "python3"
  },
  "language_info": {
   "codemirror_mode": {
    "name": "ipython",
    "version": 3
   },
   "file_extension": ".py",
   "mimetype": "text/x-python",
   "name": "python",
   "nbconvert_exporter": "python",
   "pygments_lexer": "ipython3",
   "version": "3.8.10"
  },
  "orig_nbformat": 4
 },
 "nbformat": 4,
 "nbformat_minor": 2
}
