{
 "cells": [
  {
   "cell_type": "code",
   "execution_count": 4,
   "metadata": {},
   "outputs": [],
   "source": [
    "import numpy as np\n",
    "import pandas as pd\n",
    "import pyhere"
   ]
  },
  {
   "cell_type": "code",
   "execution_count": 11,
   "metadata": {},
   "outputs": [],
   "source": [
    "dir_raw_data = pyhere.here().resolve().joinpath(\"data\", \"raw\")\n"
   ]
  },
  {
   "cell_type": "code",
   "execution_count": 14,
   "metadata": {},
   "outputs": [
    {
     "name": "stderr",
     "output_type": "stream",
     "text": [
      "/tmp/ipykernel_1547/1573865454.py:1: DtypeWarning: Columns (10) have mixed types. Specify dtype option on import or set low_memory=False.\n",
      "  csv_power_plants = pd.read_csv(dir_raw_data/\"global_power_plant_database.csv\")\n"
     ]
    }
   ],
   "source": [
    "csv_power_plants = pd.read_csv(dir_raw_data/\"global_power_plant_database.csv\")"
   ]
  },
  {
   "cell_type": "code",
   "execution_count": 37,
   "metadata": {},
   "outputs": [],
   "source": [
    "sample_lat_lon = csv_power_plants[[\"latitude\", \"longitude\"]].head(10)\n"
   ]
  },
  {
   "cell_type": "code",
   "execution_count": 38,
   "metadata": {},
   "outputs": [
    {
     "data": {
      "text/plain": [
       "[(32.322, 65.119),\n",
       " (31.67, 65.795),\n",
       " (31.623, 65.792),\n",
       " (34.556, 69.4787),\n",
       " (34.641, 69.717),\n",
       " (34.4847, 70.3633),\n",
       " (34.5638, 69.1134),\n",
       " (35.9416, 68.71),\n",
       " (34.5865, 69.7757),\n",
       " (39.9116, 20.1047)]"
      ]
     },
     "execution_count": 38,
     "metadata": {},
     "output_type": "execute_result"
    }
   ],
   "source": [
    "list_of_tuples = list(sample_lat_lon.to_records(index=False))\n",
    "list_of_tuples\n"
   ]
  },
  {
   "cell_type": "markdown",
   "metadata": {},
   "source": [
    "# MULTIPOINT"
   ]
  },
  {
   "cell_type": "code",
   "execution_count": 56,
   "metadata": {},
   "outputs": [
    {
     "name": "stderr",
     "output_type": "stream",
     "text": [
      "Exporting 90.000000%"
     ]
    },
    {
     "name": "stdout",
     "output_type": "stream",
     "text": [
      "\n",
      "\n",
      "Total Script Time: 3.57\n"
     ]
    },
    {
     "name": "stderr",
     "output_type": "stream",
     "text": [
      "Exporting 100.000000%"
     ]
    }
   ],
   "source": [
    "'''\n",
    "*Version: 2.0 Published: 2021/03/09* Source: [NASA POWER](https://power.larc.nasa.gov/)\n",
    "POWER API Multi-Point Download\n",
    "This is an overview of the process to request data from multiple data points from the POWER API.\n",
    "'''\n",
    "\n",
    "import os, sys, time, json, urllib3, requests, multiprocessing, csv\n",
    "\n",
    "urllib3.disable_warnings()\n",
    "\n",
    "def download_function(collection):\n",
    "    ''' '''\n",
    "\n",
    "    request, filepath = collection\n",
    "    response = requests.get(url=request, verify=False, timeout=30.00).json()\n",
    "\n",
    "    with open(filepath, 'w') as file_object:\n",
    "        json.dump(response, file_object)\n",
    "\n",
    "def download_function_csv(collection):\n",
    "    ''' '''\n",
    "\n",
    "    request, filepath = collection\n",
    "    response = requests.get(url=request, verify=False, timeout=30.00).content.decode('utf-8')\n",
    "\n",
    "  \n",
    "    \n",
    "    \n",
    "    with open(filepath, 'w') as file_object:\n",
    "        file_object.write(response)\n",
    "        file_object.close()\n",
    "\n",
    "class Process():\n",
    "\n",
    "    def __init__(self):\n",
    "\n",
    "        self.processes = 5 # Please do not go more than five concurrent requests.\n",
    "\n",
    "        self.request_template = r\"https://power.larc.nasa.gov/api/temporal/daily/point?parameters=CLRSKY_SFC_SW_DNI,WS10M,TQV&community=RE&longitude={longitude}&latitude={latitude}&start=20150101&end=20150305&format=CSV\"\n",
    "        self.filename_template = \"File_Lat_{latitude}_Lon_{longitude}.csv\"\n",
    "\n",
    "        self.messages = []\n",
    "        self.times = {}\n",
    "\n",
    "    def execute(self):\n",
    "\n",
    "        Start_Time = time.time()\n",
    "\n",
    "        locations = list_of_tuples\n",
    "\n",
    "        requests = []\n",
    "        for latitude, longitude in locations:\n",
    "            request = self.request_template.format(latitude=latitude, longitude=longitude)\n",
    "            filename = self.filename_template.format(latitude=latitude, longitude=longitude)\n",
    "            requests.append((request, filename))\n",
    "\n",
    "        requests_total = len(requests)\n",
    "\n",
    "        pool = multiprocessing.Pool(self.processes)\n",
    "        x = pool.imap_unordered(download_function_csv, requests)\n",
    "\n",
    "        for i, df in enumerate(x, 1):\n",
    "            sys.stderr.write('\\rExporting {0:%}'.format(i/requests_total))\n",
    "\n",
    "        self.times[\"Total Script\"] = round((time.time() - Start_Time), 2)\n",
    "\n",
    "        print (\"\\n\")\n",
    "        print (\"Total Script Time:\", self.times[\"Total Script\"])\n",
    "\n",
    "if __name__ == '__main__':\n",
    "    Process().execute()"
   ]
  },
  {
   "cell_type": "markdown",
   "metadata": {},
   "source": [
    "# SINGLE POINT"
   ]
  },
  {
   "cell_type": "code",
   "execution_count": 54,
   "metadata": {},
   "outputs": [
    {
     "name": "stdout",
     "output_type": "stream",
     "text": [
      "-BEGIN HEADER-\n",
      "NASA/POWER CERES/MERRA2 Native Resolution Daily Data \n",
      "Dates (month/day/year): 01/01/2015 through 03/05/2015 \n",
      "Location: Latitude  32.929   Longitude -95.77 \n",
      "Elevation from MERRA-2: Average for 0.5 x 0.625 degree lat/lon region = 145.83 meters\n",
      "The value for missing source data that cannot be computed or is outside of the sources availability range: -999 \n",
      "Parameter(s): \n",
      "CLRSKY_SFC_SW_DNI     CERES SYN1deg Clear Sky Surface Shortwave Downward Direct Normal Irradiance (kW-hr/m^2/day) \n",
      "WS10M                 MERRA-2 Wind Speed at 10 Meters (m/s) \n",
      "TQV                   MERRA-2 Total Column Precipitable Water (kg m-2) \n",
      "-END HEADER-\n",
      "YEAR,MO,DY,CLRSKY_SFC_SW_DNI,WS10M,TQV\n",
      "2015,1,1,4.7,2.33,28.97\n",
      "2015,1,2,3.95,3.34,31.87\n",
      "2015,1,3,6.6,3.23,17.66\n",
      "2015,1,4,8.86,6.22,6.23\n",
      "2015,1,5,8.76,3.35,5.2\n",
      "2015,1,6,8.13,3.15,7.73\n",
      "2015,1,7,7.57,7.17,11.96\n",
      "2015,1,8,7.83,3.59,10.64\n",
      "2015,1,9,7.06,4.19,13.12\n",
      "2015,1,10,4.8,3.23,18.21\n",
      "2015,1,11,6.18,2.62,21.98\n",
      "2015,1,12,6.3,4.92,14.32\n",
      "2015,1,13,6.41,3.69,13.58\n",
      "2015,1,14,4.48,1.87,13.84\n",
      "2015,1,15,7.06,2.83,10.6\n",
      "2015,1,16,8.56,3.15,7.33\n",
      "2015,1,17,8.3,5.87,7.91\n",
      "2015,1,18,9.19,3.75,4.62\n",
      "2015,1,19,8.29,4.19,11.6\n",
      "2015,1,20,7.24,3.75,15.52\n",
      "2015,1,21,6.87,4.84,16.06\n",
      "2015,1,22,6.33,7.31,21.02\n",
      "2015,1,23,6.81,4.42,12.02\n",
      "2015,1,24,8.6,3.75,8.48\n",
      "2015,1,25,8.91,6.26,9.19\n",
      "2015,1,26,8.34,3.19,12.39\n",
      "2015,1,27,8.35,2.42,12.62\n",
      "2015,1,28,8.17,5.16,14.52\n",
      "2015,1,29,7.77,5.73,17.05\n",
      "2015,1,30,7.97,4.05,11.76\n",
      "2015,1,31,6.17,5.13,19.91\n",
      "2015,2,1,7.21,8.57,19.54\n",
      "2015,2,2,9.39,3.7,5.98\n",
      "2015,2,3,7.91,3.51,11.98\n",
      "2015,2,4,6.71,4.28,18.0\n",
      "2015,2,5,7.49,3.44,15.18\n",
      "2015,2,6,7.62,3.44,11.37\n",
      "2015,2,7,7.85,7.53,10.45\n",
      "2015,2,8,7.73,4.91,15.5\n",
      "2015,2,9,8.96,4.45,11.24\n",
      "2015,2,10,8.22,4.67,12.66\n",
      "2015,2,11,6.72,4.02,18.62\n",
      "2015,2,12,9.05,4.91,11.13\n",
      "2015,2,13,8.79,3.67,11.79\n",
      "2015,2,14,9.17,2.47,11.21\n",
      "2015,2,15,5.75,5.32,24.87\n",
      "2015,2,16,7.49,6.66,18.88\n",
      "2015,2,17,8.77,2.77,8.7\n",
      "2015,2,18,8.9,3.2,8.33\n",
      "2015,2,19,8.93,5.04,11.25\n",
      "2015,2,20,6.24,8.0,23.77\n",
      "2015,2,21,6.19,7.12,22.96\n",
      "2015,2,22,5.74,6.62,22.52\n",
      "2015,2,23,7.14,5.4,20.59\n",
      "2015,2,24,8.34,2.06,14.85\n",
      "2015,2,25,6.93,1.47,14.64\n",
      "2015,2,26,8.02,5.15,10.39\n",
      "2015,2,27,6.17,4.88,11.56\n",
      "2015,2,28,5.69,3.67,19.73\n",
      "2015,3,1,7.1,4.22,25.32\n",
      "2015,3,2,6.68,3.67,26.31\n",
      "2015,3,3,6.05,3.96,31.58\n",
      "2015,3,4,5.66,7.05,33.28\n",
      "2015,3,5,10.03,5.98,8.1\n",
      "\n",
      "-BEGIN HEADER-\n",
      "NASA/POWER CERES/MERRA2 Native Resolution Daily Data \n",
      "Dates (month/day/year): 01/01/2015 through 03/05/2015 \n",
      "Location: Latitude  5.0   Longitude 10.0 \n",
      "Elevation from MERRA-2: Average for 0.5 x 0.625 degree lat/lon region = 776.92 meters\n",
      "The value for missing source data that cannot be computed or is outside of the sources availability range: -999 \n",
      "Parameter(s): \n",
      "CLRSKY_SFC_SW_DNI     CERES SYN1deg Clear Sky Surface Shortwave Downward Direct Normal Irradiance (kW-hr/m^2/day) \n",
      "WS10M                 MERRA-2 Wind Speed at 10 Meters (m/s) \n",
      "TQV                   MERRA-2 Total Column Precipitable Water (kg m-2) \n",
      "-END HEADER-\n",
      "YEAR,MO,DY,CLRSKY_SFC_SW_DNI,WS10M,TQV\n",
      "2015,1,1,5.7,0.96,24.3\n",
      "2015,1,2,7.09,1.31,23.3\n",
      "2015,1,3,3.97,1.4,28.2\n",
      "2015,1,4,4.08,1.68,24.84\n",
      "2015,1,5,3.11,1.45,24.05\n",
      "2015,1,6,2.14,1.23,23.27\n",
      "2015,1,7,3.37,1.56,22.91\n",
      "2015,1,8,5.82,1.69,18.62\n",
      "2015,1,9,5.83,2.0,14.31\n",
      "2015,1,10,5.05,2.03,16.39\n",
      "2015,1,11,4.01,1.59,19.63\n",
      "2015,1,12,4.39,1.48,20.3\n",
      "2015,1,13,4.71,1.67,19.72\n",
      "2015,1,14,5.07,1.47,25.92\n",
      "2015,1,15,6.48,1.7,21.74\n",
      "2015,1,16,6.19,1.34,22.16\n",
      "2015,1,17,5.55,1.36,23.12\n",
      "2015,1,18,4.86,1.03,24.91\n",
      "2015,1,19,5.27,0.95,25.46\n",
      "2015,1,20,5.17,1.23,25.54\n",
      "2015,1,21,5.24,1.53,27.8\n",
      "2015,1,22,4.81,1.48,29.55\n",
      "2015,1,23,5.95,0.91,28.79\n",
      "2015,1,24,5.78,1.0,28.69\n",
      "2015,1,25,5.11,1.21,33.16\n",
      "2015,1,26,4.26,0.91,34.48\n",
      "2015,1,27,4.92,1.1,34.27\n",
      "2015,1,28,5.42,1.24,37.41\n",
      "2015,1,29,5.74,1.11,33.5\n",
      "2015,1,30,4.84,1.02,32.91\n",
      "2015,1,31,4.59,1.2,28.51\n",
      "2015,2,1,5.63,1.08,27.91\n",
      "2015,2,2,6.12,1.18,23.76\n",
      "2015,2,3,5.28,0.97,33.47\n",
      "2015,2,4,4.98,0.9,33.84\n",
      "2015,2,5,4.74,1.02,32.25\n",
      "2015,2,6,4.99,1.02,39.15\n",
      "2015,2,7,5.52,1.06,41.02\n",
      "2015,2,8,4.81,1.07,43.38\n",
      "2015,2,9,5.36,1.09,35.3\n",
      "2015,2,10,5.34,1.4,41.16\n",
      "2015,2,11,6.43,1.07,36.23\n",
      "2015,2,12,5.67,1.02,37.27\n",
      "2015,2,13,4.19,1.32,35.13\n",
      "2015,2,14,5.08,1.25,35.75\n",
      "2015,2,15,4.93,1.36,37.34\n",
      "2015,2,16,4.92,1.29,38.65\n",
      "2015,2,17,4.38,1.15,43.16\n",
      "2015,2,18,4.88,1.01,45.45\n",
      "2015,2,19,5.35,1.2,42.44\n",
      "2015,2,20,5.37,1.23,41.52\n",
      "2015,2,21,4.96,1.42,40.85\n",
      "2015,2,22,3.86,1.3,49.45\n",
      "2015,2,23,4.48,1.23,47.88\n",
      "2015,2,24,3.87,1.37,43.32\n",
      "2015,2,25,3.46,1.44,35.69\n",
      "2015,2,26,3.17,0.9,40.68\n",
      "2015,2,27,2.75,1.1,37.52\n",
      "2015,2,28,2.58,0.99,40.27\n",
      "2015,3,1,3.51,1.31,32.05\n",
      "2015,3,2,3.71,1.26,28.74\n",
      "2015,3,3,3.85,0.97,28.14\n",
      "2015,3,4,3.11,1.26,25.59\n",
      "2015,3,5,2.5,1.34,27.16\n",
      "\n"
     ]
    }
   ],
   "source": [
    "'''\n",
    "*Version: 2.0 Published: 2021/03/09* Source: [NASA POWER](https://power.larc.nasa.gov/)\n",
    "POWER API Multi-Point Download\n",
    "This is an overview of the process to request data from multiple data points from the POWER API.\n",
    "'''\n",
    "\n",
    "import os, json, requests\n",
    "\n",
    "locations = [(32.929, -95.770), (5, 10)]\n",
    "\n",
    "output = r\"\"\n",
    "base_url = r\"https://power.larc.nasa.gov/api/temporal/daily/point?parameters=CLRSKY_SFC_SW_DNI,WS10M,TQV&community=RE&longitude={longitude}&latitude={latitude}&start=20150101&end=20150305&format=CSV\"\n",
    "\n",
    "for latitude, longitude in locations:\n",
    "    api_request_url = base_url.format(longitude=longitude, latitude=latitude)\n",
    "\n",
    "    response = requests.get(url=api_request_url, verify=True, timeout=30.00)\n",
    "    \n",
    "    print(response.content.decode('utf-8'))\n",
    "    # content = json.loads(response.content.decode('utf-8'))\n",
    "    # print(json.dumps(content,indent=2))\n",
    "    # filename = response.headers['content-disposition'].split('filename=')[1]\n",
    "\n",
    "    # filepath = os.path.join(output, filename)\n",
    "    # with open(filepath, 'w') as file_object:\n",
    "    #     json.dump(content, file_object)"
   ]
  },
  {
   "cell_type": "code",
   "execution_count": null,
   "metadata": {},
   "outputs": [],
   "source": []
  }
 ],
 "metadata": {
  "interpreter": {
   "hash": "33e38b4fc567f4e8019f05d798cf38d5465d2749ead22ae1a365825ed0d2a079"
  },
  "kernelspec": {
   "display_name": "Python 3.8.10 ('env_renewable_power_plants_pred': venv)",
   "language": "python",
   "name": "python3"
  },
  "language_info": {
   "codemirror_mode": {
    "name": "ipython",
    "version": 3
   },
   "file_extension": ".py",
   "mimetype": "text/x-python",
   "name": "python",
   "nbconvert_exporter": "python",
   "pygments_lexer": "ipython3",
   "version": "3.8.10"
  },
  "orig_nbformat": 4
 },
 "nbformat": 4,
 "nbformat_minor": 2
}
