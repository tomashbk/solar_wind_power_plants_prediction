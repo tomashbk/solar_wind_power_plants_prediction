{
 "cells": [
  {
   "cell_type": "code",
   "execution_count": 1,
   "metadata": {},
   "outputs": [],
   "source": [
    "import numpy as np\n",
    "import pandas as pd\n",
    "import pyhere"
   ]
  },
  {
   "cell_type": "code",
   "execution_count": 2,
   "metadata": {},
   "outputs": [],
   "source": [
    "dir_raw_data = pyhere.here().resolve().joinpath(\"data\", \"raw\")\n"
   ]
  },
  {
   "cell_type": "code",
   "execution_count": 3,
   "metadata": {},
   "outputs": [
    {
     "name": "stderr",
     "output_type": "stream",
     "text": [
      "/tmp/ipykernel_1438/1573865454.py:1: DtypeWarning: Columns (10) have mixed types. Specify dtype option on import or set low_memory=False.\n",
      "  csv_power_plants = pd.read_csv(dir_raw_data/\"global_power_plant_database.csv\")\n"
     ]
    }
   ],
   "source": [
    "csv_power_plants = pd.read_csv(dir_raw_data/\"global_power_plant_database.csv\")"
   ]
  },
  {
   "cell_type": "code",
   "execution_count": 9,
   "metadata": {},
   "outputs": [],
   "source": [
    "sample_lat_lon = csv_power_plants[[\"latitude\", \"longitude\"]].head(2)\n"
   ]
  },
  {
   "cell_type": "code",
   "execution_count": 10,
   "metadata": {},
   "outputs": [
    {
     "data": {
      "text/plain": [
       "[(32.322, 65.119), (31.67, 65.795)]"
      ]
     },
     "execution_count": 10,
     "metadata": {},
     "output_type": "execute_result"
    }
   ],
   "source": [
    "list_of_tuples = list(sample_lat_lon.to_records(index=False))\n",
    "list_of_tuples\n"
   ]
  },
  {
   "cell_type": "markdown",
   "metadata": {},
   "source": [
    "# MULTIPOINT"
   ]
  },
  {
   "cell_type": "code",
   "execution_count": 89,
   "metadata": {},
   "outputs": [
    {
     "name": "stdout",
     "output_type": "stream",
     "text": [
      "32.322\n",
      "65.119\n",
      "Empty DataFrame\n",
      "Columns: []\n",
      "Index: []\n",
      "31.67\n",
      "65.795\n",
      "Empty DataFrame\n",
      "Columns: []\n",
      "Index: []\n"
     ]
    },
    {
     "name": "stderr",
     "output_type": "stream",
     "text": [
      "Exporting 100.000000%"
     ]
    },
    {
     "name": "stdout",
     "output_type": "stream",
     "text": [
      "\n",
      "\n",
      "Empty DataFrame\n",
      "Columns: []\n",
      "Index: []\n",
      "Total Script Time: 3.21\n"
     ]
    }
   ],
   "source": [
    "'''\n",
    "*Version: 2.0 Published: 2021/03/09* Source: [NASA POWER](https://power.larc.nasa.gov/)\n",
    "POWER API Multi-Point Download\n",
    "This is an overview of the process to request data from multiple data points from the POWER API.\n",
    "'''\n",
    "\n",
    "# TQV                   MERRA-2 Total Column Precipitable Water (kg m-2) \n",
    "# WS10M                 MERRA-2 Wind Speed at 10 Meters (m/s) \n",
    "# CLRSKY_SFC_SW_DNI     CERES SYN1deg Clear Sky Surface Shortwave Downward Direct Normal Irradiance (kW-hr/m^2/day) \n",
    "\n",
    "\n",
    "import os, sys, time, json, urllib3, requests, multiprocessing, csv\n",
    "from io import StringIO\n",
    "\n",
    "urllib3.disable_warnings()\n",
    "df_response = pd.DataFrame()\n",
    "def download_function(collection):\n",
    "    ''' ''' \n",
    "\n",
    "    request, filepath, coordinates = collection\n",
    "    response = requests.get(url=request, verify=False, timeout=30.00).json()\n",
    "    # print(json.dumps(response[\"properties\"], indent=2))\n",
    "    # print(response[\"properties\"])\n",
    "    for obj in response[\"properties\"].items():\n",
    "        # df_response = pd.DataFrame.from_dict(obj[\"parameter\"])\n",
    "        print (obj[\"parameter\"])\n",
    "    # df_response = pd.DataFrame.from_dict(response[\"properties\"])\n",
    "    # print(df_response)\n",
    "    # with open(filepath, 'w') as file_object:\n",
    "        # json.dump(response, file_object)\n",
    "\n",
    "def download_function_csv(collection):\n",
    "    ''' '''\n",
    "\n",
    "    request, filepath, coordinates = collection\n",
    "    response = requests.get(url=request, verify=False, timeout=30.00).content.decode('utf-8')\n",
    "    # print(pd.read_csv(StringIO(response)))\n",
    "    df_response_aux = pd.read_csv(StringIO(response))\n",
    "    df_response_aux[\"latitude\"] = coordinates[0]\n",
    "    df_response_aux[\"longitude\"] = coordinates[1]\n",
    "\n",
    "    if(df_response.empty):\n",
    "        df_response = df_response_aux\n",
    "    else:\n",
    "        pd.concat([df_response,df_response_aux])\n",
    "    \n",
    "    print(df_response)\n",
    "    # return df_response\n",
    "    # with open(filepath, 'w') as file_object:\n",
    "    #     file_object.write(response)\n",
    "    #     file_object.close()\n",
    "\n",
    "class Process():\n",
    "\n",
    "    def __init__(self):\n",
    "\n",
    "        self.processes = 5 # Please do not go more than five concurrent requests.\n",
    "\n",
    "        self.request_template = r\"https://power.larc.nasa.gov/api/temporal/monthly/point?parameters=CLRSKY_SFC_SW_DNI,WS10M,TQV&community=RE&longitude={longitude}&latitude={latitude}&start=1990&end=2020&format=CSV&header=false\"\n",
    "        self.filename_template = \"File_Lat_{latitude}_Lon_{longitude}.csv\"\n",
    "\n",
    "        self.messages = []\n",
    "        self.times = {}\n",
    "\n",
    "    def execute(self):\n",
    "\n",
    "        Start_Time = time.time()\n",
    "\n",
    "        locations = list_of_tuples\n",
    "\n",
    "        requests = []\n",
    "        for latitude, longitude in locations:\n",
    "            request = self.request_template.format(latitude=latitude, longitude=longitude)\n",
    "            filename = self.filename_template.format(latitude=latitude, longitude=longitude)\n",
    "            coordinates = (latitude, longitude)\n",
    "            requests.append((request, filename, coordinates))\n",
    "\n",
    "        requests_total = len(requests)\n",
    "        pool = multiprocessing.Pool(self.processes)\n",
    "        x = pool.imap_unordered(download_function_csv, requests)\n",
    "        for i, df in enumerate(x, 1):\n",
    "            sys.stderr.write('\\rExporting {0:%}'.format(i/requests_total))\n",
    "\n",
    "        self.times[\"Total Script\"] = round((time.time() - Start_Time), 2)\n",
    "\n",
    "        print (\"\\n\")\n",
    "        print(df_response)\n",
    "        print (\"Total Script Time:\", self.times[\"Total Script\"])\n",
    "\n",
    "if __name__ == '__main__':\n",
    "    Process().execute()\n"
   ]
  },
  {
   "cell_type": "code",
   "execution_count": 64,
   "metadata": {},
   "outputs": [
    {
     "data": {
      "text/plain": [
       "str"
      ]
     },
     "execution_count": 64,
     "metadata": {},
     "output_type": "execute_result"
    }
   ],
   "source": []
  },
  {
   "cell_type": "code",
   "execution_count": null,
   "metadata": {},
   "outputs": [],
   "source": []
  }
 ],
 "metadata": {
  "interpreter": {
   "hash": "33e38b4fc567f4e8019f05d798cf38d5465d2749ead22ae1a365825ed0d2a079"
  },
  "kernelspec": {
   "display_name": "Python 3.8.10 ('env_renewable_power_plants_pred': venv)",
   "language": "python",
   "name": "python3"
  },
  "language_info": {
   "codemirror_mode": {
    "name": "ipython",
    "version": 3
   },
   "file_extension": ".py",
   "mimetype": "text/x-python",
   "name": "python",
   "nbconvert_exporter": "python",
   "pygments_lexer": "ipython3",
   "version": "3.8.10"
  },
  "orig_nbformat": 4
 },
 "nbformat": 4,
 "nbformat_minor": 2
}
