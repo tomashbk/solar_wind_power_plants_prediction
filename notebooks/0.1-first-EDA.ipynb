{
 "cells": [
  {
   "cell_type": "code",
   "execution_count": 1,
   "metadata": {},
   "outputs": [],
   "source": [
    "import numpy as np\n",
    "import pandas as pd\n",
    "import pyhere"
   ]
  },
  {
   "cell_type": "code",
   "execution_count": 2,
   "metadata": {},
   "outputs": [],
   "source": [
    "dir_raw_data = pyhere.here().resolve().joinpath(\"data\", \"raw\")\n"
   ]
  },
  {
   "cell_type": "code",
   "execution_count": 3,
   "metadata": {},
   "outputs": [
    {
     "name": "stderr",
     "output_type": "stream",
     "text": [
      "/tmp/ipykernel_1438/1573865454.py:1: DtypeWarning: Columns (10) have mixed types. Specify dtype option on import or set low_memory=False.\n",
      "  csv_power_plants = pd.read_csv(dir_raw_data/\"global_power_plant_database.csv\")\n"
     ]
    }
   ],
   "source": [
    "csv_power_plants = pd.read_csv(dir_raw_data/\"global_power_plant_database.csv\")"
   ]
  },
  {
   "cell_type": "code",
   "execution_count": 113,
   "metadata": {},
   "outputs": [],
   "source": [
    "sample_lat_lon = csv_power_plants[[\"latitude\", \"longitude\"]].head(2)\n"
   ]
  },
  {
   "cell_type": "code",
   "execution_count": 114,
   "metadata": {},
   "outputs": [
    {
     "data": {
      "text/plain": [
       "[(32.322, 65.119), (31.67, 65.795)]"
      ]
     },
     "execution_count": 114,
     "metadata": {},
     "output_type": "execute_result"
    }
   ],
   "source": [
    "list_of_tuples = list(sample_lat_lon.to_records(index=False))\n",
    "list_of_tuples\n"
   ]
  },
  {
   "cell_type": "code",
   "execution_count": 64,
   "metadata": {},
   "outputs": [
    {
     "data": {
      "text/plain": [
       "str"
      ]
     },
     "execution_count": 64,
     "metadata": {},
     "output_type": "execute_result"
    }
   ],
   "source": []
  },
  {
   "cell_type": "markdown",
   "metadata": {},
   "source": [
    "# LOOP SINGLE POINT"
   ]
  },
  {
   "cell_type": "code",
   "execution_count": 125,
   "metadata": {},
   "outputs": [],
   "source": [
    "'''\n",
    "*Version: 2.0 Published: 2021/03/09* Source: [NASA POWER](https://power.larc.nasa.gov/)\n",
    "POWER API Multi-Point Download\n",
    "This is an overview of the process to request data from multiple data points from the POWER API.\n",
    "'''\n",
    "# TQV                   MERRA-2 Total Column Precipitable Water (kg m-2) \n",
    "# WS10M                 MERRA-2 Wind Speed at 10 Meters (m/s) \n",
    "# CLRSKY_SFC_SW_DNI     CERES SYN1deg Clear Sky Surface Shortwave Downward Direct Normal Irradiance (kW-hr/m^2/day) \n",
    "\n",
    "\n",
    "import os, json, requests\n",
    "\n",
    "locations = list_of_tuples\n",
    "north_hemisfere = list()\n",
    "south_hemisfere = list()\n",
    "north_hemisfere[\"autumn\"] = (\"OCT\", \"NOV\", \"DEC\")\n",
    "north_hemisfere[\"winter\"] = (\"JAN\", \"FEB\", \"MAR\")\n",
    "north_hemisfere[\"spring\"] = (\"APR\", \"MAY\", \"JUN\")\n",
    "north_hemisfere[\"summer\"] = (\"JUL\", \"AUG\", \"SEP\")\n",
    "south_hemisfere[\"spring\"] = (\"OCT\", \"NOV\", \"DEC\")\n",
    "south_hemisfere[\"summer\"] = (\"JAN\", \"FEB\", \"MAR\")\n",
    "south_hemisfere[\"autumn\"] = (\"APR\", \"MAY\", \"JUN\")\n",
    "south_hemisfere[\"winter\"] = (\"JUL\", \"AUG\", \"SEP\")\n",
    "\n",
    "output = r\"\"\n",
    "base_url = r\"https://power.larc.nasa.gov/api/temporal/monthly/point?parameters=CLRSKY_SFC_SW_DNI,WS10M,TQV&community=RE&longitude={longitude}&latitude={latitude}&start=1990&end=2020&format=CSV&header=false\"\n",
    "df_response = pd.DataFrame()\n",
    "\n",
    "\n",
    "for latitude, longitude in locations:\n",
    "    api_request_url = base_url.format(longitude=longitude, latitude=latitude)\n",
    "\n",
    "    \n",
    "    response = requests.get(url=api_request_url, verify=False, timeout=30.00).content.decode('utf-8')\n",
    "\n",
    "    # content = json.loads(response.content.decode('utf-8'))\n",
    "    # filename = response.headers['content-disposition'].split('filename=')[1]\n",
    "    filename_template = \"File_Lat_{latitude}_Lon_{longitude}.csv\"\n",
    "    filename = filename_template.format(latitude=latitude, longitude=longitude)\n",
    "\n",
    "    # print(pd.read_csv(StringIO(response)))\n",
    "    df_response_aux = pd.read_csv(StringIO(response))\n",
    "    df_response_aux[\"latitude\"] = latitude\n",
    "    df_response_aux[\"longitude\"] = longitude\n",
    "    # print(type(df_response_aux))\n",
    "    # print(df_response.empty)\n",
    "    # df_response_aux.to_csv(f\"df_response_aux_{filename}\")\n",
    "    if(df_response.empty):\n",
    "        \n",
    "        # print(\"sasa1\")\n",
    "        df_response = df_response_aux.copy()\n",
    "        # print(df_response)\n",
    "        # df_response.to_csv(f\"df_response_{filename}\")\n",
    "    else:\n",
    "        # print(\"sasa2\")\n",
    "        df_response = pd.concat([df_response,df_response_aux], ignore_index = True)\n",
    "        # print(df_response)\n",
    "        # df_response.to_csv(f\"df_response_sasa_{filename}\")\n",
    "        \n",
    "        # df_response_aux.to_csv(f\"df_response_aux_sasa_{filename}\")\n",
    "    \n",
    "# print(df_response)\n",
    "df_response.to_csv(filename)\n",
    "# with open(filename, 'w') as file_object:\n",
    "#     file_object.write(response)\n",
    "#     file_object.close()"
   ]
  },
  {
   "cell_type": "code",
   "execution_count": null,
   "metadata": {},
   "outputs": [],
   "source": []
  }
 ],
 "metadata": {
  "interpreter": {
   "hash": "33e38b4fc567f4e8019f05d798cf38d5465d2749ead22ae1a365825ed0d2a079"
  },
  "kernelspec": {
   "display_name": "Python 3.8.10 ('env_renewable_power_plants_pred': venv)",
   "language": "python",
   "name": "python3"
  },
  "language_info": {
   "codemirror_mode": {
    "name": "ipython",
    "version": 3
   },
   "file_extension": ".py",
   "mimetype": "text/x-python",
   "name": "python",
   "nbconvert_exporter": "python",
   "pygments_lexer": "ipython3",
   "version": "3.8.10"
  },
  "orig_nbformat": 4
 },
 "nbformat": 4,
 "nbformat_minor": 2
}
