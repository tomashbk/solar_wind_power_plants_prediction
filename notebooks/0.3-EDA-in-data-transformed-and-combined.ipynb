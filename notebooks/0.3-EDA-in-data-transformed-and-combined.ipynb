{
 "cells": [
  {
   "cell_type": "code",
   "execution_count": 142,
   "metadata": {},
   "outputs": [],
   "source": [
    "import numpy as np\n",
    "import pandas as pd\n",
    "import matplotlib.pyplot as plt\n",
    "import seaborn as sns\n",
    "\n",
    "from sklearn.feature_selection import mutual_info_classif\n",
    "from sklearn.model_selection import train_test_split, cross_val_score, GridSearchCV\n",
    "# from sklearn.metrics import mean_absolute_error\n",
    "from sklearn.tree import DecisionTreeClassifier\n",
    "from sklearn.ensemble import RandomForestClassifier\n",
    "from sklearn import tree\n",
    "from sklearn.metrics import confusion_matrix, accuracy_score, precision_score\n",
    "import pyhere\n"
   ]
  },
  {
   "cell_type": "code",
   "execution_count": 108,
   "metadata": {},
   "outputs": [],
   "source": [
    "dir_data_raw = pyhere.here().resolve().joinpath(\"data\", \"raw\")\n",
    "dir_data_interim = pyhere.here().resolve().joinpath(\"data\", \"interim\")\n",
    "dir_data_external = pyhere.here().resolve().joinpath(\"data\", \"external\")"
   ]
  },
  {
   "cell_type": "code",
   "execution_count": 109,
   "metadata": {},
   "outputs": [],
   "source": [
    "csv_power_plants = pd.read_csv(dir_data_interim/\"power_plants_with_generation_transformed.csv\", index_col=[0])"
   ]
  },
  {
   "cell_type": "code",
   "execution_count": 110,
   "metadata": {},
   "outputs": [
    {
     "data": {
      "text/html": [
       "<div>\n",
       "<style scoped>\n",
       "    .dataframe tbody tr th:only-of-type {\n",
       "        vertical-align: middle;\n",
       "    }\n",
       "\n",
       "    .dataframe tbody tr th {\n",
       "        vertical-align: top;\n",
       "    }\n",
       "\n",
       "    .dataframe thead th {\n",
       "        text-align: right;\n",
       "    }\n",
       "</style>\n",
       "<table border=\"1\" class=\"dataframe\">\n",
       "  <thead>\n",
       "    <tr style=\"text-align: right;\">\n",
       "      <th></th>\n",
       "      <th>latitude</th>\n",
       "      <th>longitude</th>\n",
       "      <th>ANN_CLRSKY_SFC_SW_DNI_2009</th>\n",
       "      <th>ANN_CLRSKY_SFC_SW_DNI_2010</th>\n",
       "      <th>ANN_TQV_2009</th>\n",
       "      <th>ANN_TQV_2010</th>\n",
       "      <th>ANN_WS10M_2009</th>\n",
       "      <th>ANN_WS10M_2010</th>\n",
       "      <th>autumn_CLRSKY_SFC_SW_DNI_2009</th>\n",
       "      <th>autumn_CLRSKY_SFC_SW_DNI_2010</th>\n",
       "      <th>...</th>\n",
       "      <th>summer_TQV_2009</th>\n",
       "      <th>summer_TQV_2010</th>\n",
       "      <th>summer_WS10M_2009</th>\n",
       "      <th>summer_WS10M_2010</th>\n",
       "      <th>winter_CLRSKY_SFC_SW_DNI_2009</th>\n",
       "      <th>winter_CLRSKY_SFC_SW_DNI_2010</th>\n",
       "      <th>winter_TQV_2009</th>\n",
       "      <th>winter_TQV_2010</th>\n",
       "      <th>winter_WS10M_2009</th>\n",
       "      <th>winter_WS10M_2010</th>\n",
       "    </tr>\n",
       "    <tr>\n",
       "      <th>index</th>\n",
       "      <th></th>\n",
       "      <th></th>\n",
       "      <th></th>\n",
       "      <th></th>\n",
       "      <th></th>\n",
       "      <th></th>\n",
       "      <th></th>\n",
       "      <th></th>\n",
       "      <th></th>\n",
       "      <th></th>\n",
       "      <th></th>\n",
       "      <th></th>\n",
       "      <th></th>\n",
       "      <th></th>\n",
       "      <th></th>\n",
       "      <th></th>\n",
       "      <th></th>\n",
       "      <th></th>\n",
       "      <th></th>\n",
       "      <th></th>\n",
       "      <th></th>\n",
       "    </tr>\n",
       "  </thead>\n",
       "  <tbody>\n",
       "    <tr>\n",
       "      <th>0</th>\n",
       "      <td>32.3220</td>\n",
       "      <td>65.1190</td>\n",
       "      <td>7.72</td>\n",
       "      <td>7.76</td>\n",
       "      <td>9.75</td>\n",
       "      <td>9.77</td>\n",
       "      <td>3.36</td>\n",
       "      <td>3.26</td>\n",
       "      <td>7.440000</td>\n",
       "      <td>8.013333</td>\n",
       "      <td>...</td>\n",
       "      <td>10.276667</td>\n",
       "      <td>11.860000</td>\n",
       "      <td>3.893333</td>\n",
       "      <td>3.386667</td>\n",
       "      <td>6.560000</td>\n",
       "      <td>7.016667</td>\n",
       "      <td>9.003333</td>\n",
       "      <td>9.106667</td>\n",
       "      <td>2.843333</td>\n",
       "      <td>2.963333</td>\n",
       "    </tr>\n",
       "    <tr>\n",
       "      <th>1</th>\n",
       "      <td>31.6700</td>\n",
       "      <td>65.7950</td>\n",
       "      <td>7.47</td>\n",
       "      <td>7.36</td>\n",
       "      <td>10.63</td>\n",
       "      <td>10.71</td>\n",
       "      <td>3.22</td>\n",
       "      <td>3.09</td>\n",
       "      <td>7.420000</td>\n",
       "      <td>7.620000</td>\n",
       "      <td>...</td>\n",
       "      <td>11.146667</td>\n",
       "      <td>13.940000</td>\n",
       "      <td>3.183333</td>\n",
       "      <td>3.063333</td>\n",
       "      <td>6.536667</td>\n",
       "      <td>7.096667</td>\n",
       "      <td>10.183333</td>\n",
       "      <td>9.613333</td>\n",
       "      <td>3.196667</td>\n",
       "      <td>3.223333</td>\n",
       "    </tr>\n",
       "    <tr>\n",
       "      <th>2</th>\n",
       "      <td>31.6230</td>\n",
       "      <td>65.7920</td>\n",
       "      <td>7.47</td>\n",
       "      <td>7.36</td>\n",
       "      <td>10.63</td>\n",
       "      <td>10.71</td>\n",
       "      <td>3.22</td>\n",
       "      <td>3.09</td>\n",
       "      <td>7.420000</td>\n",
       "      <td>7.620000</td>\n",
       "      <td>...</td>\n",
       "      <td>11.146667</td>\n",
       "      <td>13.940000</td>\n",
       "      <td>3.183333</td>\n",
       "      <td>3.063333</td>\n",
       "      <td>6.536667</td>\n",
       "      <td>7.096667</td>\n",
       "      <td>10.183333</td>\n",
       "      <td>9.613333</td>\n",
       "      <td>3.196667</td>\n",
       "      <td>3.223333</td>\n",
       "    </tr>\n",
       "    <tr>\n",
       "      <th>3</th>\n",
       "      <td>34.5560</td>\n",
       "      <td>69.4787</td>\n",
       "      <td>7.96</td>\n",
       "      <td>7.96</td>\n",
       "      <td>8.84</td>\n",
       "      <td>10.03</td>\n",
       "      <td>2.87</td>\n",
       "      <td>2.72</td>\n",
       "      <td>7.240000</td>\n",
       "      <td>7.670000</td>\n",
       "      <td>...</td>\n",
       "      <td>11.420000</td>\n",
       "      <td>15.633333</td>\n",
       "      <td>3.516667</td>\n",
       "      <td>2.890000</td>\n",
       "      <td>7.080000</td>\n",
       "      <td>7.180000</td>\n",
       "      <td>6.540000</td>\n",
       "      <td>6.843333</td>\n",
       "      <td>2.373333</td>\n",
       "      <td>2.356667</td>\n",
       "    </tr>\n",
       "    <tr>\n",
       "      <th>4</th>\n",
       "      <td>34.6410</td>\n",
       "      <td>69.7170</td>\n",
       "      <td>7.96</td>\n",
       "      <td>7.96</td>\n",
       "      <td>10.67</td>\n",
       "      <td>12.15</td>\n",
       "      <td>2.39</td>\n",
       "      <td>2.34</td>\n",
       "      <td>7.240000</td>\n",
       "      <td>7.670000</td>\n",
       "      <td>...</td>\n",
       "      <td>15.133333</td>\n",
       "      <td>20.490000</td>\n",
       "      <td>2.380000</td>\n",
       "      <td>2.076667</td>\n",
       "      <td>7.080000</td>\n",
       "      <td>7.180000</td>\n",
       "      <td>7.730000</td>\n",
       "      <td>8.060000</td>\n",
       "      <td>2.070000</td>\n",
       "      <td>2.053333</td>\n",
       "    </tr>\n",
       "    <tr>\n",
       "      <th>...</th>\n",
       "      <td>...</td>\n",
       "      <td>...</td>\n",
       "      <td>...</td>\n",
       "      <td>...</td>\n",
       "      <td>...</td>\n",
       "      <td>...</td>\n",
       "      <td>...</td>\n",
       "      <td>...</td>\n",
       "      <td>...</td>\n",
       "      <td>...</td>\n",
       "      <td>...</td>\n",
       "      <td>...</td>\n",
       "      <td>...</td>\n",
       "      <td>...</td>\n",
       "      <td>...</td>\n",
       "      <td>...</td>\n",
       "      <td>...</td>\n",
       "      <td>...</td>\n",
       "      <td>...</td>\n",
       "      <td>...</td>\n",
       "      <td>...</td>\n",
       "    </tr>\n",
       "    <tr>\n",
       "      <th>34931</th>\n",
       "      <td>-12.9667</td>\n",
       "      <td>28.6333</td>\n",
       "      <td>7.64</td>\n",
       "      <td>7.52</td>\n",
       "      <td>25.69</td>\n",
       "      <td>25.84</td>\n",
       "      <td>3.73</td>\n",
       "      <td>3.92</td>\n",
       "      <td>7.473333</td>\n",
       "      <td>7.320000</td>\n",
       "      <td>...</td>\n",
       "      <td>13.583333</td>\n",
       "      <td>13.333333</td>\n",
       "      <td>4.860000</td>\n",
       "      <td>5.136667</td>\n",
       "      <td>7.556667</td>\n",
       "      <td>7.200000</td>\n",
       "      <td>37.370000</td>\n",
       "      <td>39.736667</td>\n",
       "      <td>2.743333</td>\n",
       "      <td>2.893333</td>\n",
       "    </tr>\n",
       "    <tr>\n",
       "      <th>34932</th>\n",
       "      <td>-12.8167</td>\n",
       "      <td>28.2000</td>\n",
       "      <td>7.64</td>\n",
       "      <td>7.52</td>\n",
       "      <td>26.15</td>\n",
       "      <td>26.34</td>\n",
       "      <td>3.70</td>\n",
       "      <td>3.84</td>\n",
       "      <td>7.473333</td>\n",
       "      <td>7.320000</td>\n",
       "      <td>...</td>\n",
       "      <td>13.686667</td>\n",
       "      <td>13.470000</td>\n",
       "      <td>4.830000</td>\n",
       "      <td>5.046667</td>\n",
       "      <td>7.556667</td>\n",
       "      <td>7.200000</td>\n",
       "      <td>38.013333</td>\n",
       "      <td>40.570000</td>\n",
       "      <td>2.736667</td>\n",
       "      <td>2.853333</td>\n",
       "    </tr>\n",
       "    <tr>\n",
       "      <th>34933</th>\n",
       "      <td>-17.9167</td>\n",
       "      <td>25.8500</td>\n",
       "      <td>8.51</td>\n",
       "      <td>8.36</td>\n",
       "      <td>24.16</td>\n",
       "      <td>25.07</td>\n",
       "      <td>3.73</td>\n",
       "      <td>3.80</td>\n",
       "      <td>8.723333</td>\n",
       "      <td>8.663333</td>\n",
       "      <td>...</td>\n",
       "      <td>13.550000</td>\n",
       "      <td>11.703333</td>\n",
       "      <td>4.096667</td>\n",
       "      <td>4.323333</td>\n",
       "      <td>8.820000</td>\n",
       "      <td>8.360000</td>\n",
       "      <td>35.923333</td>\n",
       "      <td>38.716667</td>\n",
       "      <td>3.340000</td>\n",
       "      <td>3.320000</td>\n",
       "    </tr>\n",
       "    <tr>\n",
       "      <th>34934</th>\n",
       "      <td>-18.3835</td>\n",
       "      <td>26.4700</td>\n",
       "      <td>8.46</td>\n",
       "      <td>8.31</td>\n",
       "      <td>24.98</td>\n",
       "      <td>25.94</td>\n",
       "      <td>3.46</td>\n",
       "      <td>3.48</td>\n",
       "      <td>8.723333</td>\n",
       "      <td>8.653333</td>\n",
       "      <td>...</td>\n",
       "      <td>14.286667</td>\n",
       "      <td>12.283333</td>\n",
       "      <td>3.843333</td>\n",
       "      <td>3.963333</td>\n",
       "      <td>8.796667</td>\n",
       "      <td>8.363333</td>\n",
       "      <td>36.676667</td>\n",
       "      <td>39.353333</td>\n",
       "      <td>3.053333</td>\n",
       "      <td>3.016667</td>\n",
       "    </tr>\n",
       "    <tr>\n",
       "      <th>34935</th>\n",
       "      <td>-16.5222</td>\n",
       "      <td>28.7619</td>\n",
       "      <td>8.01</td>\n",
       "      <td>7.95</td>\n",
       "      <td>30.68</td>\n",
       "      <td>31.53</td>\n",
       "      <td>3.70</td>\n",
       "      <td>3.73</td>\n",
       "      <td>7.990000</td>\n",
       "      <td>8.216667</td>\n",
       "      <td>...</td>\n",
       "      <td>18.320000</td>\n",
       "      <td>17.140000</td>\n",
       "      <td>4.076667</td>\n",
       "      <td>4.013333</td>\n",
       "      <td>8.233333</td>\n",
       "      <td>7.750000</td>\n",
       "      <td>44.080000</td>\n",
       "      <td>46.560000</td>\n",
       "      <td>3.170000</td>\n",
       "      <td>3.046667</td>\n",
       "    </tr>\n",
       "  </tbody>\n",
       "</table>\n",
       "<p>34936 rows × 32 columns</p>\n",
       "</div>"
      ],
      "text/plain": [
       "       latitude  longitude  ANN_CLRSKY_SFC_SW_DNI_2009  \\\n",
       "index                                                    \n",
       "0       32.3220    65.1190                        7.72   \n",
       "1       31.6700    65.7950                        7.47   \n",
       "2       31.6230    65.7920                        7.47   \n",
       "3       34.5560    69.4787                        7.96   \n",
       "4       34.6410    69.7170                        7.96   \n",
       "...         ...        ...                         ...   \n",
       "34931  -12.9667    28.6333                        7.64   \n",
       "34932  -12.8167    28.2000                        7.64   \n",
       "34933  -17.9167    25.8500                        8.51   \n",
       "34934  -18.3835    26.4700                        8.46   \n",
       "34935  -16.5222    28.7619                        8.01   \n",
       "\n",
       "       ANN_CLRSKY_SFC_SW_DNI_2010  ANN_TQV_2009  ANN_TQV_2010  ANN_WS10M_2009  \\\n",
       "index                                                                           \n",
       "0                            7.76          9.75          9.77            3.36   \n",
       "1                            7.36         10.63         10.71            3.22   \n",
       "2                            7.36         10.63         10.71            3.22   \n",
       "3                            7.96          8.84         10.03            2.87   \n",
       "4                            7.96         10.67         12.15            2.39   \n",
       "...                           ...           ...           ...             ...   \n",
       "34931                        7.52         25.69         25.84            3.73   \n",
       "34932                        7.52         26.15         26.34            3.70   \n",
       "34933                        8.36         24.16         25.07            3.73   \n",
       "34934                        8.31         24.98         25.94            3.46   \n",
       "34935                        7.95         30.68         31.53            3.70   \n",
       "\n",
       "       ANN_WS10M_2010  autumn_CLRSKY_SFC_SW_DNI_2009  \\\n",
       "index                                                  \n",
       "0                3.26                       7.440000   \n",
       "1                3.09                       7.420000   \n",
       "2                3.09                       7.420000   \n",
       "3                2.72                       7.240000   \n",
       "4                2.34                       7.240000   \n",
       "...               ...                            ...   \n",
       "34931            3.92                       7.473333   \n",
       "34932            3.84                       7.473333   \n",
       "34933            3.80                       8.723333   \n",
       "34934            3.48                       8.723333   \n",
       "34935            3.73                       7.990000   \n",
       "\n",
       "       autumn_CLRSKY_SFC_SW_DNI_2010  ...  summer_TQV_2009  summer_TQV_2010  \\\n",
       "index                                 ...                                     \n",
       "0                           8.013333  ...        10.276667        11.860000   \n",
       "1                           7.620000  ...        11.146667        13.940000   \n",
       "2                           7.620000  ...        11.146667        13.940000   \n",
       "3                           7.670000  ...        11.420000        15.633333   \n",
       "4                           7.670000  ...        15.133333        20.490000   \n",
       "...                              ...  ...              ...              ...   \n",
       "34931                       7.320000  ...        13.583333        13.333333   \n",
       "34932                       7.320000  ...        13.686667        13.470000   \n",
       "34933                       8.663333  ...        13.550000        11.703333   \n",
       "34934                       8.653333  ...        14.286667        12.283333   \n",
       "34935                       8.216667  ...        18.320000        17.140000   \n",
       "\n",
       "       summer_WS10M_2009  summer_WS10M_2010  winter_CLRSKY_SFC_SW_DNI_2009  \\\n",
       "index                                                                        \n",
       "0               3.893333           3.386667                       6.560000   \n",
       "1               3.183333           3.063333                       6.536667   \n",
       "2               3.183333           3.063333                       6.536667   \n",
       "3               3.516667           2.890000                       7.080000   \n",
       "4               2.380000           2.076667                       7.080000   \n",
       "...                  ...                ...                            ...   \n",
       "34931           4.860000           5.136667                       7.556667   \n",
       "34932           4.830000           5.046667                       7.556667   \n",
       "34933           4.096667           4.323333                       8.820000   \n",
       "34934           3.843333           3.963333                       8.796667   \n",
       "34935           4.076667           4.013333                       8.233333   \n",
       "\n",
       "       winter_CLRSKY_SFC_SW_DNI_2010  winter_TQV_2009  winter_TQV_2010  \\\n",
       "index                                                                    \n",
       "0                           7.016667         9.003333         9.106667   \n",
       "1                           7.096667        10.183333         9.613333   \n",
       "2                           7.096667        10.183333         9.613333   \n",
       "3                           7.180000         6.540000         6.843333   \n",
       "4                           7.180000         7.730000         8.060000   \n",
       "...                              ...              ...              ...   \n",
       "34931                       7.200000        37.370000        39.736667   \n",
       "34932                       7.200000        38.013333        40.570000   \n",
       "34933                       8.360000        35.923333        38.716667   \n",
       "34934                       8.363333        36.676667        39.353333   \n",
       "34935                       7.750000        44.080000        46.560000   \n",
       "\n",
       "       winter_WS10M_2009  winter_WS10M_2010  \n",
       "index                                        \n",
       "0               2.843333           2.963333  \n",
       "1               3.196667           3.223333  \n",
       "2               3.196667           3.223333  \n",
       "3               2.373333           2.356667  \n",
       "4               2.070000           2.053333  \n",
       "...                  ...                ...  \n",
       "34931           2.743333           2.893333  \n",
       "34932           2.736667           2.853333  \n",
       "34933           3.340000           3.320000  \n",
       "34934           3.053333           3.016667  \n",
       "34935           3.170000           3.046667  \n",
       "\n",
       "[34936 rows x 32 columns]"
      ]
     },
     "execution_count": 110,
     "metadata": {},
     "output_type": "execute_result"
    }
   ],
   "source": [
    "df_transformed = pd.read_csv(dir_data_external/\"transformed_data_combined_with_nasa.csv\", index_col=['index'])\n",
    "df_transformed"
   ]
  },
  {
   "cell_type": "code",
   "execution_count": 111,
   "metadata": {},
   "outputs": [
    {
     "data": {
      "text/plain": [
       "Index(['latitude', 'longitude', 'ANN_CLRSKY_SFC_SW_DNI_2009',\n",
       "       'ANN_CLRSKY_SFC_SW_DNI_2010', 'ANN_TQV_2009', 'ANN_TQV_2010',\n",
       "       'ANN_WS10M_2009', 'ANN_WS10M_2010', 'autumn_CLRSKY_SFC_SW_DNI_2009',\n",
       "       'autumn_CLRSKY_SFC_SW_DNI_2010', 'autumn_TQV_2009', 'autumn_TQV_2010',\n",
       "       'autumn_WS10M_2009', 'autumn_WS10M_2010',\n",
       "       'spring_CLRSKY_SFC_SW_DNI_2009', 'spring_CLRSKY_SFC_SW_DNI_2010',\n",
       "       'spring_TQV_2009', 'spring_TQV_2010', 'spring_WS10M_2009',\n",
       "       'spring_WS10M_2010', 'summer_CLRSKY_SFC_SW_DNI_2009',\n",
       "       'summer_CLRSKY_SFC_SW_DNI_2010', 'summer_TQV_2009', 'summer_TQV_2010',\n",
       "       'summer_WS10M_2009', 'summer_WS10M_2010',\n",
       "       'winter_CLRSKY_SFC_SW_DNI_2009', 'winter_CLRSKY_SFC_SW_DNI_2010',\n",
       "       'winter_TQV_2009', 'winter_TQV_2010', 'winter_WS10M_2009',\n",
       "       'winter_WS10M_2010'],\n",
       "      dtype='object')"
      ]
     },
     "execution_count": 111,
     "metadata": {},
     "output_type": "execute_result"
    }
   ],
   "source": [
    "df_transformed.columns"
   ]
  },
  {
   "cell_type": "code",
   "execution_count": 112,
   "metadata": {},
   "outputs": [
    {
     "data": {
      "text/html": [
       "<div>\n",
       "<style scoped>\n",
       "    .dataframe tbody tr th:only-of-type {\n",
       "        vertical-align: middle;\n",
       "    }\n",
       "\n",
       "    .dataframe tbody tr th {\n",
       "        vertical-align: top;\n",
       "    }\n",
       "\n",
       "    .dataframe thead th {\n",
       "        text-align: right;\n",
       "    }\n",
       "</style>\n",
       "<table border=\"1\" class=\"dataframe\">\n",
       "  <thead>\n",
       "    <tr style=\"text-align: right;\">\n",
       "      <th></th>\n",
       "      <th>capacity_mw</th>\n",
       "      <th>latitude</th>\n",
       "      <th>longitude</th>\n",
       "      <th>primary_fuel_transformed</th>\n",
       "    </tr>\n",
       "    <tr>\n",
       "      <th>index</th>\n",
       "      <th></th>\n",
       "      <th></th>\n",
       "      <th></th>\n",
       "      <th></th>\n",
       "    </tr>\n",
       "  </thead>\n",
       "  <tbody>\n",
       "    <tr>\n",
       "      <th>0</th>\n",
       "      <td>33.0</td>\n",
       "      <td>32.3220</td>\n",
       "      <td>65.1190</td>\n",
       "      <td>Other</td>\n",
       "    </tr>\n",
       "    <tr>\n",
       "      <th>1</th>\n",
       "      <td>10.0</td>\n",
       "      <td>31.6700</td>\n",
       "      <td>65.7950</td>\n",
       "      <td>Solar</td>\n",
       "    </tr>\n",
       "    <tr>\n",
       "      <th>2</th>\n",
       "      <td>10.0</td>\n",
       "      <td>31.6230</td>\n",
       "      <td>65.7920</td>\n",
       "      <td>Solar</td>\n",
       "    </tr>\n",
       "    <tr>\n",
       "      <th>3</th>\n",
       "      <td>66.0</td>\n",
       "      <td>34.5560</td>\n",
       "      <td>69.4787</td>\n",
       "      <td>Other</td>\n",
       "    </tr>\n",
       "    <tr>\n",
       "      <th>4</th>\n",
       "      <td>100.0</td>\n",
       "      <td>34.6410</td>\n",
       "      <td>69.7170</td>\n",
       "      <td>Other</td>\n",
       "    </tr>\n",
       "    <tr>\n",
       "      <th>...</th>\n",
       "      <td>...</td>\n",
       "      <td>...</td>\n",
       "      <td>...</td>\n",
       "      <td>...</td>\n",
       "    </tr>\n",
       "    <tr>\n",
       "      <th>34931</th>\n",
       "      <td>50.0</td>\n",
       "      <td>-12.9667</td>\n",
       "      <td>28.6333</td>\n",
       "      <td>Other</td>\n",
       "    </tr>\n",
       "    <tr>\n",
       "      <th>34932</th>\n",
       "      <td>20.0</td>\n",
       "      <td>-12.8167</td>\n",
       "      <td>28.2000</td>\n",
       "      <td>Other</td>\n",
       "    </tr>\n",
       "    <tr>\n",
       "      <th>34933</th>\n",
       "      <td>108.0</td>\n",
       "      <td>-17.9167</td>\n",
       "      <td>25.8500</td>\n",
       "      <td>Other</td>\n",
       "    </tr>\n",
       "    <tr>\n",
       "      <th>34934</th>\n",
       "      <td>920.0</td>\n",
       "      <td>-18.3835</td>\n",
       "      <td>26.4700</td>\n",
       "      <td>Other</td>\n",
       "    </tr>\n",
       "    <tr>\n",
       "      <th>34935</th>\n",
       "      <td>750.0</td>\n",
       "      <td>-16.5222</td>\n",
       "      <td>28.7619</td>\n",
       "      <td>Other</td>\n",
       "    </tr>\n",
       "  </tbody>\n",
       "</table>\n",
       "<p>34936 rows × 4 columns</p>\n",
       "</div>"
      ],
      "text/plain": [
       "       capacity_mw  latitude  longitude primary_fuel_transformed\n",
       "index                                                           \n",
       "0             33.0   32.3220    65.1190                    Other\n",
       "1             10.0   31.6700    65.7950                    Solar\n",
       "2             10.0   31.6230    65.7920                    Solar\n",
       "3             66.0   34.5560    69.4787                    Other\n",
       "4            100.0   34.6410    69.7170                    Other\n",
       "...            ...       ...        ...                      ...\n",
       "34931         50.0  -12.9667    28.6333                    Other\n",
       "34932         20.0  -12.8167    28.2000                    Other\n",
       "34933        108.0  -17.9167    25.8500                    Other\n",
       "34934        920.0  -18.3835    26.4700                    Other\n",
       "34935        750.0  -16.5222    28.7619                    Other\n",
       "\n",
       "[34936 rows x 4 columns]"
      ]
     },
     "execution_count": 112,
     "metadata": {},
     "output_type": "execute_result"
    }
   ],
   "source": [
    "csv_power_plants.loc[0:34935, ['capacity_mw', 'primary_fuel_transformed']].index.name = \"index\"\n",
    "csv_power_plants.index.rename('index', inplace=True)\n",
    "csv_power_plants\n"
   ]
  },
  {
   "cell_type": "code",
   "execution_count": 113,
   "metadata": {},
   "outputs": [],
   "source": [
    "df_transformed_combined = df_transformed.merge(csv_power_plants.loc[0:34935, ['capacity_mw', 'primary_fuel_transformed']],left_on=\"index\", right_on=\"index\")"
   ]
  },
  {
   "cell_type": "code",
   "execution_count": 114,
   "metadata": {},
   "outputs": [
    {
     "data": {
      "text/html": [
       "<div>\n",
       "<style scoped>\n",
       "    .dataframe tbody tr th:only-of-type {\n",
       "        vertical-align: middle;\n",
       "    }\n",
       "\n",
       "    .dataframe tbody tr th {\n",
       "        vertical-align: top;\n",
       "    }\n",
       "\n",
       "    .dataframe thead th {\n",
       "        text-align: right;\n",
       "    }\n",
       "</style>\n",
       "<table border=\"1\" class=\"dataframe\">\n",
       "  <thead>\n",
       "    <tr style=\"text-align: right;\">\n",
       "      <th></th>\n",
       "      <th>latitude</th>\n",
       "      <th>longitude</th>\n",
       "      <th>ANN_CLRSKY_SFC_SW_DNI_2009</th>\n",
       "      <th>ANN_CLRSKY_SFC_SW_DNI_2010</th>\n",
       "      <th>ANN_TQV_2009</th>\n",
       "      <th>ANN_TQV_2010</th>\n",
       "      <th>ANN_WS10M_2009</th>\n",
       "      <th>ANN_WS10M_2010</th>\n",
       "      <th>autumn_CLRSKY_SFC_SW_DNI_2009</th>\n",
       "      <th>autumn_CLRSKY_SFC_SW_DNI_2010</th>\n",
       "      <th>...</th>\n",
       "      <th>summer_WS10M_2009</th>\n",
       "      <th>summer_WS10M_2010</th>\n",
       "      <th>winter_CLRSKY_SFC_SW_DNI_2009</th>\n",
       "      <th>winter_CLRSKY_SFC_SW_DNI_2010</th>\n",
       "      <th>winter_TQV_2009</th>\n",
       "      <th>winter_TQV_2010</th>\n",
       "      <th>winter_WS10M_2009</th>\n",
       "      <th>winter_WS10M_2010</th>\n",
       "      <th>capacity_mw</th>\n",
       "      <th>primary_fuel_transformed</th>\n",
       "    </tr>\n",
       "    <tr>\n",
       "      <th>index</th>\n",
       "      <th></th>\n",
       "      <th></th>\n",
       "      <th></th>\n",
       "      <th></th>\n",
       "      <th></th>\n",
       "      <th></th>\n",
       "      <th></th>\n",
       "      <th></th>\n",
       "      <th></th>\n",
       "      <th></th>\n",
       "      <th></th>\n",
       "      <th></th>\n",
       "      <th></th>\n",
       "      <th></th>\n",
       "      <th></th>\n",
       "      <th></th>\n",
       "      <th></th>\n",
       "      <th></th>\n",
       "      <th></th>\n",
       "      <th></th>\n",
       "      <th></th>\n",
       "    </tr>\n",
       "  </thead>\n",
       "  <tbody>\n",
       "    <tr>\n",
       "      <th>0</th>\n",
       "      <td>32.3220</td>\n",
       "      <td>65.1190</td>\n",
       "      <td>7.72</td>\n",
       "      <td>7.76</td>\n",
       "      <td>9.75</td>\n",
       "      <td>9.77</td>\n",
       "      <td>3.36</td>\n",
       "      <td>3.26</td>\n",
       "      <td>7.440000</td>\n",
       "      <td>8.013333</td>\n",
       "      <td>...</td>\n",
       "      <td>3.893333</td>\n",
       "      <td>3.386667</td>\n",
       "      <td>6.560000</td>\n",
       "      <td>7.016667</td>\n",
       "      <td>9.003333</td>\n",
       "      <td>9.106667</td>\n",
       "      <td>2.843333</td>\n",
       "      <td>2.963333</td>\n",
       "      <td>33.0</td>\n",
       "      <td>Other</td>\n",
       "    </tr>\n",
       "    <tr>\n",
       "      <th>1</th>\n",
       "      <td>31.6700</td>\n",
       "      <td>65.7950</td>\n",
       "      <td>7.47</td>\n",
       "      <td>7.36</td>\n",
       "      <td>10.63</td>\n",
       "      <td>10.71</td>\n",
       "      <td>3.22</td>\n",
       "      <td>3.09</td>\n",
       "      <td>7.420000</td>\n",
       "      <td>7.620000</td>\n",
       "      <td>...</td>\n",
       "      <td>3.183333</td>\n",
       "      <td>3.063333</td>\n",
       "      <td>6.536667</td>\n",
       "      <td>7.096667</td>\n",
       "      <td>10.183333</td>\n",
       "      <td>9.613333</td>\n",
       "      <td>3.196667</td>\n",
       "      <td>3.223333</td>\n",
       "      <td>10.0</td>\n",
       "      <td>Solar</td>\n",
       "    </tr>\n",
       "    <tr>\n",
       "      <th>2</th>\n",
       "      <td>31.6230</td>\n",
       "      <td>65.7920</td>\n",
       "      <td>7.47</td>\n",
       "      <td>7.36</td>\n",
       "      <td>10.63</td>\n",
       "      <td>10.71</td>\n",
       "      <td>3.22</td>\n",
       "      <td>3.09</td>\n",
       "      <td>7.420000</td>\n",
       "      <td>7.620000</td>\n",
       "      <td>...</td>\n",
       "      <td>3.183333</td>\n",
       "      <td>3.063333</td>\n",
       "      <td>6.536667</td>\n",
       "      <td>7.096667</td>\n",
       "      <td>10.183333</td>\n",
       "      <td>9.613333</td>\n",
       "      <td>3.196667</td>\n",
       "      <td>3.223333</td>\n",
       "      <td>10.0</td>\n",
       "      <td>Solar</td>\n",
       "    </tr>\n",
       "    <tr>\n",
       "      <th>3</th>\n",
       "      <td>34.5560</td>\n",
       "      <td>69.4787</td>\n",
       "      <td>7.96</td>\n",
       "      <td>7.96</td>\n",
       "      <td>8.84</td>\n",
       "      <td>10.03</td>\n",
       "      <td>2.87</td>\n",
       "      <td>2.72</td>\n",
       "      <td>7.240000</td>\n",
       "      <td>7.670000</td>\n",
       "      <td>...</td>\n",
       "      <td>3.516667</td>\n",
       "      <td>2.890000</td>\n",
       "      <td>7.080000</td>\n",
       "      <td>7.180000</td>\n",
       "      <td>6.540000</td>\n",
       "      <td>6.843333</td>\n",
       "      <td>2.373333</td>\n",
       "      <td>2.356667</td>\n",
       "      <td>66.0</td>\n",
       "      <td>Other</td>\n",
       "    </tr>\n",
       "    <tr>\n",
       "      <th>4</th>\n",
       "      <td>34.6410</td>\n",
       "      <td>69.7170</td>\n",
       "      <td>7.96</td>\n",
       "      <td>7.96</td>\n",
       "      <td>10.67</td>\n",
       "      <td>12.15</td>\n",
       "      <td>2.39</td>\n",
       "      <td>2.34</td>\n",
       "      <td>7.240000</td>\n",
       "      <td>7.670000</td>\n",
       "      <td>...</td>\n",
       "      <td>2.380000</td>\n",
       "      <td>2.076667</td>\n",
       "      <td>7.080000</td>\n",
       "      <td>7.180000</td>\n",
       "      <td>7.730000</td>\n",
       "      <td>8.060000</td>\n",
       "      <td>2.070000</td>\n",
       "      <td>2.053333</td>\n",
       "      <td>100.0</td>\n",
       "      <td>Other</td>\n",
       "    </tr>\n",
       "    <tr>\n",
       "      <th>...</th>\n",
       "      <td>...</td>\n",
       "      <td>...</td>\n",
       "      <td>...</td>\n",
       "      <td>...</td>\n",
       "      <td>...</td>\n",
       "      <td>...</td>\n",
       "      <td>...</td>\n",
       "      <td>...</td>\n",
       "      <td>...</td>\n",
       "      <td>...</td>\n",
       "      <td>...</td>\n",
       "      <td>...</td>\n",
       "      <td>...</td>\n",
       "      <td>...</td>\n",
       "      <td>...</td>\n",
       "      <td>...</td>\n",
       "      <td>...</td>\n",
       "      <td>...</td>\n",
       "      <td>...</td>\n",
       "      <td>...</td>\n",
       "      <td>...</td>\n",
       "    </tr>\n",
       "    <tr>\n",
       "      <th>34931</th>\n",
       "      <td>-12.9667</td>\n",
       "      <td>28.6333</td>\n",
       "      <td>7.64</td>\n",
       "      <td>7.52</td>\n",
       "      <td>25.69</td>\n",
       "      <td>25.84</td>\n",
       "      <td>3.73</td>\n",
       "      <td>3.92</td>\n",
       "      <td>7.473333</td>\n",
       "      <td>7.320000</td>\n",
       "      <td>...</td>\n",
       "      <td>4.860000</td>\n",
       "      <td>5.136667</td>\n",
       "      <td>7.556667</td>\n",
       "      <td>7.200000</td>\n",
       "      <td>37.370000</td>\n",
       "      <td>39.736667</td>\n",
       "      <td>2.743333</td>\n",
       "      <td>2.893333</td>\n",
       "      <td>50.0</td>\n",
       "      <td>Other</td>\n",
       "    </tr>\n",
       "    <tr>\n",
       "      <th>34932</th>\n",
       "      <td>-12.8167</td>\n",
       "      <td>28.2000</td>\n",
       "      <td>7.64</td>\n",
       "      <td>7.52</td>\n",
       "      <td>26.15</td>\n",
       "      <td>26.34</td>\n",
       "      <td>3.70</td>\n",
       "      <td>3.84</td>\n",
       "      <td>7.473333</td>\n",
       "      <td>7.320000</td>\n",
       "      <td>...</td>\n",
       "      <td>4.830000</td>\n",
       "      <td>5.046667</td>\n",
       "      <td>7.556667</td>\n",
       "      <td>7.200000</td>\n",
       "      <td>38.013333</td>\n",
       "      <td>40.570000</td>\n",
       "      <td>2.736667</td>\n",
       "      <td>2.853333</td>\n",
       "      <td>20.0</td>\n",
       "      <td>Other</td>\n",
       "    </tr>\n",
       "    <tr>\n",
       "      <th>34933</th>\n",
       "      <td>-17.9167</td>\n",
       "      <td>25.8500</td>\n",
       "      <td>8.51</td>\n",
       "      <td>8.36</td>\n",
       "      <td>24.16</td>\n",
       "      <td>25.07</td>\n",
       "      <td>3.73</td>\n",
       "      <td>3.80</td>\n",
       "      <td>8.723333</td>\n",
       "      <td>8.663333</td>\n",
       "      <td>...</td>\n",
       "      <td>4.096667</td>\n",
       "      <td>4.323333</td>\n",
       "      <td>8.820000</td>\n",
       "      <td>8.360000</td>\n",
       "      <td>35.923333</td>\n",
       "      <td>38.716667</td>\n",
       "      <td>3.340000</td>\n",
       "      <td>3.320000</td>\n",
       "      <td>108.0</td>\n",
       "      <td>Other</td>\n",
       "    </tr>\n",
       "    <tr>\n",
       "      <th>34934</th>\n",
       "      <td>-18.3835</td>\n",
       "      <td>26.4700</td>\n",
       "      <td>8.46</td>\n",
       "      <td>8.31</td>\n",
       "      <td>24.98</td>\n",
       "      <td>25.94</td>\n",
       "      <td>3.46</td>\n",
       "      <td>3.48</td>\n",
       "      <td>8.723333</td>\n",
       "      <td>8.653333</td>\n",
       "      <td>...</td>\n",
       "      <td>3.843333</td>\n",
       "      <td>3.963333</td>\n",
       "      <td>8.796667</td>\n",
       "      <td>8.363333</td>\n",
       "      <td>36.676667</td>\n",
       "      <td>39.353333</td>\n",
       "      <td>3.053333</td>\n",
       "      <td>3.016667</td>\n",
       "      <td>920.0</td>\n",
       "      <td>Other</td>\n",
       "    </tr>\n",
       "    <tr>\n",
       "      <th>34935</th>\n",
       "      <td>-16.5222</td>\n",
       "      <td>28.7619</td>\n",
       "      <td>8.01</td>\n",
       "      <td>7.95</td>\n",
       "      <td>30.68</td>\n",
       "      <td>31.53</td>\n",
       "      <td>3.70</td>\n",
       "      <td>3.73</td>\n",
       "      <td>7.990000</td>\n",
       "      <td>8.216667</td>\n",
       "      <td>...</td>\n",
       "      <td>4.076667</td>\n",
       "      <td>4.013333</td>\n",
       "      <td>8.233333</td>\n",
       "      <td>7.750000</td>\n",
       "      <td>44.080000</td>\n",
       "      <td>46.560000</td>\n",
       "      <td>3.170000</td>\n",
       "      <td>3.046667</td>\n",
       "      <td>750.0</td>\n",
       "      <td>Other</td>\n",
       "    </tr>\n",
       "  </tbody>\n",
       "</table>\n",
       "<p>34936 rows × 34 columns</p>\n",
       "</div>"
      ],
      "text/plain": [
       "       latitude  longitude  ANN_CLRSKY_SFC_SW_DNI_2009  \\\n",
       "index                                                    \n",
       "0       32.3220    65.1190                        7.72   \n",
       "1       31.6700    65.7950                        7.47   \n",
       "2       31.6230    65.7920                        7.47   \n",
       "3       34.5560    69.4787                        7.96   \n",
       "4       34.6410    69.7170                        7.96   \n",
       "...         ...        ...                         ...   \n",
       "34931  -12.9667    28.6333                        7.64   \n",
       "34932  -12.8167    28.2000                        7.64   \n",
       "34933  -17.9167    25.8500                        8.51   \n",
       "34934  -18.3835    26.4700                        8.46   \n",
       "34935  -16.5222    28.7619                        8.01   \n",
       "\n",
       "       ANN_CLRSKY_SFC_SW_DNI_2010  ANN_TQV_2009  ANN_TQV_2010  ANN_WS10M_2009  \\\n",
       "index                                                                           \n",
       "0                            7.76          9.75          9.77            3.36   \n",
       "1                            7.36         10.63         10.71            3.22   \n",
       "2                            7.36         10.63         10.71            3.22   \n",
       "3                            7.96          8.84         10.03            2.87   \n",
       "4                            7.96         10.67         12.15            2.39   \n",
       "...                           ...           ...           ...             ...   \n",
       "34931                        7.52         25.69         25.84            3.73   \n",
       "34932                        7.52         26.15         26.34            3.70   \n",
       "34933                        8.36         24.16         25.07            3.73   \n",
       "34934                        8.31         24.98         25.94            3.46   \n",
       "34935                        7.95         30.68         31.53            3.70   \n",
       "\n",
       "       ANN_WS10M_2010  autumn_CLRSKY_SFC_SW_DNI_2009  \\\n",
       "index                                                  \n",
       "0                3.26                       7.440000   \n",
       "1                3.09                       7.420000   \n",
       "2                3.09                       7.420000   \n",
       "3                2.72                       7.240000   \n",
       "4                2.34                       7.240000   \n",
       "...               ...                            ...   \n",
       "34931            3.92                       7.473333   \n",
       "34932            3.84                       7.473333   \n",
       "34933            3.80                       8.723333   \n",
       "34934            3.48                       8.723333   \n",
       "34935            3.73                       7.990000   \n",
       "\n",
       "       autumn_CLRSKY_SFC_SW_DNI_2010  ...  summer_WS10M_2009  \\\n",
       "index                                 ...                      \n",
       "0                           8.013333  ...           3.893333   \n",
       "1                           7.620000  ...           3.183333   \n",
       "2                           7.620000  ...           3.183333   \n",
       "3                           7.670000  ...           3.516667   \n",
       "4                           7.670000  ...           2.380000   \n",
       "...                              ...  ...                ...   \n",
       "34931                       7.320000  ...           4.860000   \n",
       "34932                       7.320000  ...           4.830000   \n",
       "34933                       8.663333  ...           4.096667   \n",
       "34934                       8.653333  ...           3.843333   \n",
       "34935                       8.216667  ...           4.076667   \n",
       "\n",
       "       summer_WS10M_2010  winter_CLRSKY_SFC_SW_DNI_2009  \\\n",
       "index                                                     \n",
       "0               3.386667                       6.560000   \n",
       "1               3.063333                       6.536667   \n",
       "2               3.063333                       6.536667   \n",
       "3               2.890000                       7.080000   \n",
       "4               2.076667                       7.080000   \n",
       "...                  ...                            ...   \n",
       "34931           5.136667                       7.556667   \n",
       "34932           5.046667                       7.556667   \n",
       "34933           4.323333                       8.820000   \n",
       "34934           3.963333                       8.796667   \n",
       "34935           4.013333                       8.233333   \n",
       "\n",
       "       winter_CLRSKY_SFC_SW_DNI_2010  winter_TQV_2009  winter_TQV_2010  \\\n",
       "index                                                                    \n",
       "0                           7.016667         9.003333         9.106667   \n",
       "1                           7.096667        10.183333         9.613333   \n",
       "2                           7.096667        10.183333         9.613333   \n",
       "3                           7.180000         6.540000         6.843333   \n",
       "4                           7.180000         7.730000         8.060000   \n",
       "...                              ...              ...              ...   \n",
       "34931                       7.200000        37.370000        39.736667   \n",
       "34932                       7.200000        38.013333        40.570000   \n",
       "34933                       8.360000        35.923333        38.716667   \n",
       "34934                       8.363333        36.676667        39.353333   \n",
       "34935                       7.750000        44.080000        46.560000   \n",
       "\n",
       "       winter_WS10M_2009  winter_WS10M_2010  capacity_mw  \\\n",
       "index                                                      \n",
       "0               2.843333           2.963333         33.0   \n",
       "1               3.196667           3.223333         10.0   \n",
       "2               3.196667           3.223333         10.0   \n",
       "3               2.373333           2.356667         66.0   \n",
       "4               2.070000           2.053333        100.0   \n",
       "...                  ...                ...          ...   \n",
       "34931           2.743333           2.893333         50.0   \n",
       "34932           2.736667           2.853333         20.0   \n",
       "34933           3.340000           3.320000        108.0   \n",
       "34934           3.053333           3.016667        920.0   \n",
       "34935           3.170000           3.046667        750.0   \n",
       "\n",
       "       primary_fuel_transformed  \n",
       "index                            \n",
       "0                         Other  \n",
       "1                         Solar  \n",
       "2                         Solar  \n",
       "3                         Other  \n",
       "4                         Other  \n",
       "...                         ...  \n",
       "34931                     Other  \n",
       "34932                     Other  \n",
       "34933                     Other  \n",
       "34934                     Other  \n",
       "34935                     Other  \n",
       "\n",
       "[34936 rows x 34 columns]"
      ]
     },
     "execution_count": 114,
     "metadata": {},
     "output_type": "execute_result"
    }
   ],
   "source": [
    "df_transformed_combined"
   ]
  },
  {
   "cell_type": "code",
   "execution_count": 115,
   "metadata": {},
   "outputs": [
    {
     "data": {
      "text/plain": [
       "<AxesSubplot:xlabel='primary_fuel_transformed'>"
      ]
     },
     "execution_count": 115,
     "metadata": {},
     "output_type": "execute_result"
    },
    {
     "data": {
      "image/png": "[encoded data removed]",
      "text/plain": [
       "<Figure size 432x288 with 1 Axes>"
      ]
     },
     "metadata": {
      "needs_background": "light"
     },
     "output_type": "display_data"
    }
   ],
   "source": [
    "\n",
    "df_transformed_combined[['primary_fuel_transformed']].value_counts().plot.bar()"
   ]
  },
  {
   "cell_type": "code",
   "execution_count": 116,
   "metadata": {},
   "outputs": [],
   "source": [
    "index_rows_to_delete = df_transformed_combined[df_transformed_combined['primary_fuel_transformed'] == 'Other'].sample(12000).index\n",
    "index_rows_to_delete_solar = df_transformed_combined[df_transformed_combined['primary_fuel_transformed'] == 'Solar'].sample(3000).index\n"
   ]
  },
  {
   "cell_type": "code",
   "execution_count": 117,
   "metadata": {},
   "outputs": [],
   "source": [
    "df_transformed_combined.drop(index_rows_to_delete, axis = 0, inplace = True)\n",
    "df_transformed_combined.drop(index_rows_to_delete_solar, axis = 0, inplace = True)"
   ]
  },
  {
   "cell_type": "code",
   "execution_count": 118,
   "metadata": {},
   "outputs": [
    {
     "data": {
      "text/plain": [
       "<AxesSubplot:xlabel='primary_fuel_transformed'>"
      ]
     },
     "execution_count": 118,
     "metadata": {},
     "output_type": "execute_result"
    },
    {
     "data": {
      "image/png": "[encoded data removed]",
      "text/plain": [
       "<Figure size 432x288 with 1 Axes>"
      ]
     },
     "metadata": {
      "needs_background": "light"
     },
     "output_type": "display_data"
    }
   ],
   "source": [
    "df_transformed_combined[['primary_fuel_transformed']].value_counts().plot.bar()"
   ]
  },
  {
   "cell_type": "code",
   "execution_count": 119,
   "metadata": {},
   "outputs": [],
   "source": [
    "# df_transformed_combined.isna().sum()\n",
    "# df_transformed_combined[df_transformed_combined.isna().any(axis=1)]\n",
    "# df_transformed_combined.dropna(inplace = True)\n",
    "pre_X = df_transformed_combined.drop(columns=['capacity_mw', 'latitude', 'longitude']).dropna()\n",
    "X = pre_X.drop(columns=['primary_fuel_transformed'])\n",
    "y = pre_X['primary_fuel_transformed']"
   ]
  },
  {
   "cell_type": "code",
   "execution_count": 120,
   "metadata": {},
   "outputs": [
    {
     "data": {
      "text/plain": [
       "index\n",
       "2        Solar\n",
       "4        Other\n",
       "5        Other\n",
       "6        Other\n",
       "10       Other\n",
       "         ...  \n",
       "34920    Other\n",
       "34924    Other\n",
       "34927    Other\n",
       "34931    Other\n",
       "34934    Other\n",
       "Name: primary_fuel_transformed, Length: 19926, dtype: object"
      ]
     },
     "execution_count": 120,
     "metadata": {},
     "output_type": "execute_result"
    }
   ],
   "source": [
    "y"
   ]
  },
  {
   "cell_type": "code",
   "execution_count": 121,
   "metadata": {},
   "outputs": [],
   "source": [
    "def make_mi_scores(X, y):\n",
    "    mi_scores = mutual_info_classif(X, y)\n",
    "    mi_scores = pd.Series(mi_scores, name=\"MI Scores\", index=X.columns)\n",
    "    mi_scores = mi_scores.sort_values(ascending=False)\n",
    "    return mi_scores"
   ]
  },
  {
   "cell_type": "code",
   "execution_count": 122,
   "metadata": {},
   "outputs": [],
   "source": [
    "def get_accuracy(max_leaf_nodes, X_train, X_test, y_train, y_test):\n",
    "    model = DecisionTreeClassifier(max_leaf_nodes = max_leaf_nodes, random_state=0)\n",
    "    model.fit(X_train, y_train)\n",
    "    preds_val = model.predict(X_test)\n",
    "    accuracy = accuracy_score(y_test, preds_val)\n",
    "\n",
    "    return accuracy"
   ]
  },
  {
   "cell_type": "code",
   "execution_count": 123,
   "metadata": {},
   "outputs": [
    {
     "data": {
      "text/plain": [
       "winter_TQV_2010                  0.397797\n",
       "autumn_TQV_2010                  0.385594\n",
       "autumn_CLRSKY_SFC_SW_DNI_2009    0.375789\n",
       "spring_TQV_2010                  0.362277\n",
       "spring_CLRSKY_SFC_SW_DNI_2009    0.324802\n",
       "spring_CLRSKY_SFC_SW_DNI_2010    0.306855\n",
       "spring_WS10M_2010                0.288986\n",
       "autumn_WS10M_2010                0.277055\n",
       "summer_WS10M_2009                0.271310\n",
       "ANN_CLRSKY_SFC_SW_DNI_2009       0.202527\n",
       "Name: MI Scores, dtype: float64"
      ]
     },
     "execution_count": 123,
     "metadata": {},
     "output_type": "execute_result"
    }
   ],
   "source": [
    "mi_scores = make_mi_scores(X, y)\n",
    "mi_scores[::3]"
   ]
  },
  {
   "cell_type": "code",
   "execution_count": 124,
   "metadata": {},
   "outputs": [],
   "source": [
    "def plot_mi_scores(scores):\n",
    "    scores = scores.sort_values(ascending=True)\n",
    "    width = np.arange(len(scores))\n",
    "    ticks = list(scores.index)\n",
    "    plt.barh(width, scores)\n",
    "    plt.yticks(width, ticks)\n",
    "    plt.title(\"Mutual Information Scores\")"
   ]
  },
  {
   "cell_type": "code",
   "execution_count": 125,
   "metadata": {},
   "outputs": [
    {
     "data": {
      "image/png": "[encoded data removed]",
      "text/plain": [
       "<Figure size 800x500 with 1 Axes>"
      ]
     },
     "metadata": {
      "needs_background": "light"
     },
     "output_type": "display_data"
    }
   ],
   "source": [
    "plt.figure(dpi=100, figsize=(8, 5))\n",
    "plot_mi_scores(mi_scores)"
   ]
  },
  {
   "cell_type": "code",
   "execution_count": 126,
   "metadata": {},
   "outputs": [],
   "source": [
    "train_X, val_X, train_y, val_y = train_test_split(X, y,random_state = 0)"
   ]
  },
  {
   "cell_type": "markdown",
   "metadata": {},
   "source": [
    "## DECISION TREE CLASSIFIER"
   ]
  },
  {
   "cell_type": "code",
   "execution_count": 127,
   "metadata": {},
   "outputs": [
    {
     "data": {
      "text/plain": [
       "<AxesSubplot:>"
      ]
     },
     "execution_count": 127,
     "metadata": {},
     "output_type": "execute_result"
    },
    {
     "data": {
      "image/png": "[encoded data removed]",
      "text/plain": [
       "<Figure size 432x288 with 1 Axes>"
      ]
     },
     "metadata": {
      "needs_background": "light"
     },
     "output_type": "display_data"
    }
   ],
   "source": [
    "candidate_max_leaf_nodes = [5, 10, 50, 100, 500, 900, 1200, 1500]\n",
    "results = {}\n",
    "# Write loop to find the ideal tree size from candidate_max_leaf_nodes\n",
    "\n",
    "\n",
    "results = {node: get_accuracy(node, train_X, val_X, train_y, val_y) for node in candidate_max_leaf_nodes}\n",
    "# for node in candidate_max_leaf_nodes:\n",
    "#     results[node] = get_accuracy(node, X_train, X_test, y_train, y_test)\n",
    "# Store the best value of max_leaf_nodes (it will be either 5, 25, 50, 100, 250 or 500)\n",
    "best_tree_size = min(results, key=results.get)\n",
    "sns.lineplot(data=results, x= results.keys(), y= results.values())"
   ]
  },
  {
   "cell_type": "code",
   "execution_count": 128,
   "metadata": {},
   "outputs": [],
   "source": [
    "tree_model = DecisionTreeClassifier(max_leaf_nodes = best_tree_size, random_state=0)\n",
    "tree_model.fit(train_X, train_y)\n",
    "y_pred = tree_model.predict(val_X)\n",
    "# print(cross_val_score(tree_model, X, y, cv=5))"
   ]
  },
  {
   "cell_type": "code",
   "execution_count": 129,
   "metadata": {},
   "outputs": [
    {
     "data": {
      "text/plain": [
       "<AxesSubplot:>"
      ]
     },
     "execution_count": 129,
     "metadata": {},
     "output_type": "execute_result"
    },
    {
     "data": {
      "image/png": "[encoded data removed]",
      "text/plain": [
       "<Figure size 432x288 with 2 Axes>"
      ]
     },
     "metadata": {
      "needs_background": "light"
     },
     "output_type": "display_data"
    }
   ],
   "source": [
    "confusion_matrix_return = confusion_matrix(val_y, y_pred)\n",
    "sns.heatmap(confusion_matrix_return, annot=True, fmt = 'g')"
   ]
  },
  {
   "cell_type": "code",
   "execution_count": 130,
   "metadata": {},
   "outputs": [
    {
     "data": {
      "text/plain": [
       "0.523083099156965"
      ]
     },
     "execution_count": 130,
     "metadata": {},
     "output_type": "execute_result"
    }
   ],
   "source": [
    "accuracy_score(val_y, y_pred)"
   ]
  },
  {
   "cell_type": "code",
   "execution_count": 131,
   "metadata": {},
   "outputs": [
    {
     "data": {
      "text/plain": [
       "0.5700934556816024"
      ]
     },
     "execution_count": 131,
     "metadata": {},
     "output_type": "execute_result"
    }
   ],
   "source": [
    "precision_score(val_y, y_pred, average='weighted')"
   ]
  },
  {
   "cell_type": "code",
   "execution_count": 132,
   "metadata": {},
   "outputs": [
    {
     "data": {
      "text/plain": [
       "0.523083099156965"
      ]
     },
     "execution_count": 132,
     "metadata": {},
     "output_type": "execute_result"
    }
   ],
   "source": [
    "tree_model.score(val_X, val_y)"
   ]
  },
  {
   "cell_type": "code",
   "execution_count": 133,
   "metadata": {},
   "outputs": [],
   "source": [
    "# tree.plot_tree(tree_model)"
   ]
  },
  {
   "cell_type": "markdown",
   "metadata": {},
   "source": [
    "# RANDOM FOREST CLASSIFIER"
   ]
  },
  {
   "cell_type": "code",
   "execution_count": 143,
   "metadata": {},
   "outputs": [],
   "source": [
    "# Numbers of trees\n",
    "n_estimators = [int(x) for x in np.arange(10, 101, 10)]\n",
    "# Numbers of features to consider at every split\n",
    "max_features = [1, \"sqrt\", \"log2\"]\n",
    "# Maximum numbers of levels in tree\n",
    "max_depth = [2, 3, 4, 5]\n",
    "# Minimum numbers of samples required to split a node\n",
    "min_samples_split = [2, 5]\n",
    "# Minimum numbers of samples required at each leaf node\n",
    "min_samples_leaf = [1, 2]\n",
    "# Method of selecting samples for training each tree\n",
    "bootstrap = [True, False]\n",
    "\n",
    "param_grid = {\n",
    "                'n_estimators': n_estimators,\n",
    "                'max_features': max_features,\n",
    "                'max_depth': max_depth,\n",
    "                'min_samples_split': min_samples_split,\n",
    "                'min_samples_leaf': min_samples_leaf,\n",
    "                'bootstrap': bootstrap\n",
    "            }\n",
    "\n"
   ]
  },
  {
   "cell_type": "code",
   "execution_count": 144,
   "metadata": {},
   "outputs": [],
   "source": [
    "rf_model = RandomForestClassifier(random_state=0)\n",
    "rf_grid = GridSearchCV(estimator = rf_model, param_grid = param_grid, cv=3, verbose = 2, n_jobs=4)"
   ]
  },
  {
   "cell_type": "code",
   "execution_count": null,
   "metadata": {},
   "outputs": [],
   "source": [
    "rf_grid.fit(train_X, train_y)"
   ]
  },
  {
   "cell_type": "code",
   "execution_count": 146,
   "metadata": {},
   "outputs": [
    {
     "data": {
      "text/plain": [
       "{'bootstrap': False,\n",
       " 'max_depth': 5,\n",
       " 'max_features': 1,\n",
       " 'min_samples_leaf': 2,\n",
       " 'min_samples_split': 2,\n",
       " 'n_estimators': 60}"
      ]
     },
     "execution_count": 146,
     "metadata": {},
     "output_type": "execute_result"
    }
   ],
   "source": [
    "rf_grid.best_params_"
   ]
  },
  {
   "cell_type": "code",
   "execution_count": 149,
   "metadata": {},
   "outputs": [
    {
     "data": {
      "text/plain": [
       "0.6346848655158571"
      ]
     },
     "execution_count": 149,
     "metadata": {},
     "output_type": "execute_result"
    }
   ],
   "source": [
    "rf_grid.score(val_X, val_y)"
   ]
  },
  {
   "cell_type": "code",
   "execution_count": 150,
   "metadata": {},
   "outputs": [],
   "source": [
    "rf_model2 = RandomForestClassifier(bootstrap= False,\n",
    " max_depth= 5,\n",
    " max_features= 1,\n",
    " min_samples_leaf= 2,\n",
    " min_samples_split= 2,\n",
    " n_estimators= 60,\n",
    " random_state=0)\n",
    "rf_model2.fit(train_X, train_y)\n",
    "y_pred = rf_model2.predict(val_X)\n",
    "# print(cross_val_score(tree_model, X, y, cv=5))"
   ]
  },
  {
   "cell_type": "code",
   "execution_count": 151,
   "metadata": {},
   "outputs": [
    {
     "data": {
      "text/plain": [
       "<AxesSubplot:>"
      ]
     },
     "execution_count": 151,
     "metadata": {},
     "output_type": "execute_result"
    },
    {
     "data": {
      "image/png": "[encoded data removed]",
      "text/plain": [
       "<Figure size 432x288 with 2 Axes>"
      ]
     },
     "metadata": {
      "needs_background": "light"
     },
     "output_type": "display_data"
    }
   ],
   "source": [
    "confusion_matrix_return = confusion_matrix(val_y, y_pred)\n",
    "sns.heatmap(confusion_matrix_return, annot=True, fmt = 'g')"
   ]
  },
  {
   "cell_type": "code",
   "execution_count": 152,
   "metadata": {},
   "outputs": [
    {
     "data": {
      "text/plain": [
       "0.6346848655158571"
      ]
     },
     "execution_count": 152,
     "metadata": {},
     "output_type": "execute_result"
    }
   ],
   "source": [
    "accuracy_score(val_y, y_pred)"
   ]
  },
  {
   "cell_type": "code",
   "execution_count": 154,
   "metadata": {},
   "outputs": [
    {
     "data": {
      "text/plain": [
       "0.6346848655158571"
      ]
     },
     "execution_count": 154,
     "metadata": {},
     "output_type": "execute_result"
    }
   ],
   "source": [
    "rf_model2.score(val_X, val_y)"
   ]
  },
  {
   "cell_type": "code",
   "execution_count": null,
   "metadata": {},
   "outputs": [],
   "source": []
  }
 ],
 "metadata": {
  "interpreter": {
   "hash": "33e38b4fc567f4e8019f05d798cf38d5465d2749ead22ae1a365825ed0d2a079"
  },
  "kernelspec": {
   "display_name": "Python 3.8.10 ('env_renewable_power_plants_pred': venv)",
   "language": "python",
   "name": "python3"
  },
  "language_info": {
   "codemirror_mode": {
    "name": "ipython",
    "version": 3
   },
   "file_extension": ".py",
   "mimetype": "text/x-python",
   "name": "python",
   "nbconvert_exporter": "python",
   "pygments_lexer": "ipython3",
   "version": "3.8.10"
  },
  "orig_nbformat": 4
 },
 "nbformat": 4,
 "nbformat_minor": 2
}
