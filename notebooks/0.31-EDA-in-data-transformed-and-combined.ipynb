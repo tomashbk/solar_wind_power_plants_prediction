{
 "cells": [
  {
   "cell_type": "code",
   "execution_count": 149,
   "metadata": {},
   "outputs": [],
   "source": [
    "import numpy as np\n",
    "import pandas as pd\n",
    "import matplotlib.pyplot as plt\n",
    "import seaborn as sns\n",
    "\n",
    "from sklearn.feature_selection import mutual_info_classif\n",
    "from sklearn.model_selection import train_test_split, cross_val_score, GridSearchCV, RandomizedSearchCV\n",
    "from sklearn.preprocessing import LabelEncoder, MinMaxScaler, PowerTransformer\n",
    "# from sklearn.metrics import mean_absolute_error\n",
    "from sklearn.tree import DecisionTreeClassifier\n",
    "from sklearn.ensemble import RandomForestClassifier\n",
    "from sklearn import tree\n",
    "from sklearn.neighbors import KNeighborsClassifier\n",
    "from sklearn.metrics import confusion_matrix, accuracy_score, precision_score, classification_report\n",
    "from xgboost import XGBClassifier\n",
    "from sklearn.svm import SVC\n",
    "from sklearn.naive_bayes import GaussianNB\n",
    "from scipy import stats\n",
    "import pyhere\n"
   ]
  },
  {
   "cell_type": "code",
   "execution_count": 150,
   "metadata": {},
   "outputs": [],
   "source": [
    "dir_data_raw = pyhere.here().resolve().joinpath(\"data\", \"raw\")\n",
    "dir_data_interim = pyhere.here().resolve().joinpath(\"data\", \"interim\")\n",
    "dir_data_external = pyhere.here().resolve().joinpath(\"data\", \"external\")"
   ]
  },
  {
   "cell_type": "code",
   "execution_count": 151,
   "metadata": {},
   "outputs": [],
   "source": [
    "csv_power_plants = pd.read_csv(dir_data_interim/\"power_plants_with_generation_transformed.csv\", index_col=[0])"
   ]
  },
  {
   "cell_type": "code",
   "execution_count": 152,
   "metadata": {},
   "outputs": [
    {
     "data": {
      "text/html": [
       "<div>\n",
       "<style scoped>\n",
       "    .dataframe tbody tr th:only-of-type {\n",
       "        vertical-align: middle;\n",
       "    }\n",
       "\n",
       "    .dataframe tbody tr th {\n",
       "        vertical-align: top;\n",
       "    }\n",
       "\n",
       "    .dataframe thead th {\n",
       "        text-align: right;\n",
       "    }\n",
       "</style>\n",
       "<table border=\"1\" class=\"dataframe\">\n",
       "  <thead>\n",
       "    <tr style=\"text-align: right;\">\n",
       "      <th></th>\n",
       "      <th>latitude</th>\n",
       "      <th>longitude</th>\n",
       "      <th>ANN_ALLSKY_KT_2012</th>\n",
       "      <th>ANN_ALLSKY_KT_2013</th>\n",
       "      <th>ANN_ALLSKY_KT_2014</th>\n",
       "      <th>ANN_ALLSKY_KT_2015</th>\n",
       "      <th>ANN_ALLSKY_KT_2016</th>\n",
       "      <th>ANN_ALLSKY_KT_2017</th>\n",
       "      <th>ANN_ALLSKY_KT_2018</th>\n",
       "      <th>ANN_ALLSKY_KT_2019</th>\n",
       "      <th>...</th>\n",
       "      <th>winter_WS50M_MAX_AVG_2018</th>\n",
       "      <th>winter_WS50M_MAX_AVG_2019</th>\n",
       "      <th>winter_WS50M_MIN_AVG_2012</th>\n",
       "      <th>winter_WS50M_MIN_AVG_2013</th>\n",
       "      <th>winter_WS50M_MIN_AVG_2014</th>\n",
       "      <th>winter_WS50M_MIN_AVG_2015</th>\n",
       "      <th>winter_WS50M_MIN_AVG_2016</th>\n",
       "      <th>winter_WS50M_MIN_AVG_2017</th>\n",
       "      <th>winter_WS50M_MIN_AVG_2018</th>\n",
       "      <th>winter_WS50M_MIN_AVG_2019</th>\n",
       "    </tr>\n",
       "    <tr>\n",
       "      <th>index</th>\n",
       "      <th></th>\n",
       "      <th></th>\n",
       "      <th></th>\n",
       "      <th></th>\n",
       "      <th></th>\n",
       "      <th></th>\n",
       "      <th></th>\n",
       "      <th></th>\n",
       "      <th></th>\n",
       "      <th></th>\n",
       "      <th></th>\n",
       "      <th></th>\n",
       "      <th></th>\n",
       "      <th></th>\n",
       "      <th></th>\n",
       "      <th></th>\n",
       "      <th></th>\n",
       "      <th></th>\n",
       "      <th></th>\n",
       "      <th></th>\n",
       "      <th></th>\n",
       "    </tr>\n",
       "  </thead>\n",
       "  <tbody>\n",
       "    <tr>\n",
       "      <th>0</th>\n",
       "      <td>32.3220</td>\n",
       "      <td>65.1190</td>\n",
       "      <td>0.69</td>\n",
       "      <td>0.70</td>\n",
       "      <td>0.70</td>\n",
       "      <td>0.68</td>\n",
       "      <td>0.71</td>\n",
       "      <td>0.71</td>\n",
       "      <td>0.70</td>\n",
       "      <td>0.69</td>\n",
       "      <td>...</td>\n",
       "      <td>6.966667</td>\n",
       "      <td>6.850000</td>\n",
       "      <td>1.283333</td>\n",
       "      <td>1.003333</td>\n",
       "      <td>1.023333</td>\n",
       "      <td>1.006667</td>\n",
       "      <td>0.950000</td>\n",
       "      <td>1.320000</td>\n",
       "      <td>1.176667</td>\n",
       "      <td>1.176667</td>\n",
       "    </tr>\n",
       "    <tr>\n",
       "      <th>1</th>\n",
       "      <td>31.6700</td>\n",
       "      <td>65.7950</td>\n",
       "      <td>0.70</td>\n",
       "      <td>0.70</td>\n",
       "      <td>0.70</td>\n",
       "      <td>0.69</td>\n",
       "      <td>0.72</td>\n",
       "      <td>0.71</td>\n",
       "      <td>0.70</td>\n",
       "      <td>0.69</td>\n",
       "      <td>...</td>\n",
       "      <td>7.606667</td>\n",
       "      <td>7.903333</td>\n",
       "      <td>1.663333</td>\n",
       "      <td>1.473333</td>\n",
       "      <td>1.290000</td>\n",
       "      <td>1.520000</td>\n",
       "      <td>1.543333</td>\n",
       "      <td>1.613333</td>\n",
       "      <td>1.476667</td>\n",
       "      <td>1.603333</td>\n",
       "    </tr>\n",
       "    <tr>\n",
       "      <th>2</th>\n",
       "      <td>31.6230</td>\n",
       "      <td>65.7920</td>\n",
       "      <td>0.70</td>\n",
       "      <td>0.70</td>\n",
       "      <td>0.70</td>\n",
       "      <td>0.69</td>\n",
       "      <td>0.72</td>\n",
       "      <td>0.71</td>\n",
       "      <td>0.70</td>\n",
       "      <td>0.69</td>\n",
       "      <td>...</td>\n",
       "      <td>7.606667</td>\n",
       "      <td>7.903333</td>\n",
       "      <td>1.663333</td>\n",
       "      <td>1.473333</td>\n",
       "      <td>1.290000</td>\n",
       "      <td>1.520000</td>\n",
       "      <td>1.543333</td>\n",
       "      <td>1.613333</td>\n",
       "      <td>1.476667</td>\n",
       "      <td>1.603333</td>\n",
       "    </tr>\n",
       "    <tr>\n",
       "      <th>3</th>\n",
       "      <td>34.5560</td>\n",
       "      <td>69.4787</td>\n",
       "      <td>0.65</td>\n",
       "      <td>0.65</td>\n",
       "      <td>0.65</td>\n",
       "      <td>0.63</td>\n",
       "      <td>0.66</td>\n",
       "      <td>0.67</td>\n",
       "      <td>0.67</td>\n",
       "      <td>0.65</td>\n",
       "      <td>...</td>\n",
       "      <td>5.126667</td>\n",
       "      <td>5.426667</td>\n",
       "      <td>1.870000</td>\n",
       "      <td>1.380000</td>\n",
       "      <td>1.606667</td>\n",
       "      <td>1.260000</td>\n",
       "      <td>1.473333</td>\n",
       "      <td>1.873333</td>\n",
       "      <td>1.210000</td>\n",
       "      <td>1.516667</td>\n",
       "    </tr>\n",
       "    <tr>\n",
       "      <th>4</th>\n",
       "      <td>34.6410</td>\n",
       "      <td>69.7170</td>\n",
       "      <td>0.65</td>\n",
       "      <td>0.65</td>\n",
       "      <td>0.65</td>\n",
       "      <td>0.63</td>\n",
       "      <td>0.66</td>\n",
       "      <td>0.67</td>\n",
       "      <td>0.67</td>\n",
       "      <td>0.65</td>\n",
       "      <td>...</td>\n",
       "      <td>4.650000</td>\n",
       "      <td>4.740000</td>\n",
       "      <td>1.616667</td>\n",
       "      <td>1.020000</td>\n",
       "      <td>1.063333</td>\n",
       "      <td>0.743333</td>\n",
       "      <td>0.936667</td>\n",
       "      <td>1.336667</td>\n",
       "      <td>0.916667</td>\n",
       "      <td>0.923333</td>\n",
       "    </tr>\n",
       "    <tr>\n",
       "      <th>...</th>\n",
       "      <td>...</td>\n",
       "      <td>...</td>\n",
       "      <td>...</td>\n",
       "      <td>...</td>\n",
       "      <td>...</td>\n",
       "      <td>...</td>\n",
       "      <td>...</td>\n",
       "      <td>...</td>\n",
       "      <td>...</td>\n",
       "      <td>...</td>\n",
       "      <td>...</td>\n",
       "      <td>...</td>\n",
       "      <td>...</td>\n",
       "      <td>...</td>\n",
       "      <td>...</td>\n",
       "      <td>...</td>\n",
       "      <td>...</td>\n",
       "      <td>...</td>\n",
       "      <td>...</td>\n",
       "      <td>...</td>\n",
       "      <td>...</td>\n",
       "    </tr>\n",
       "    <tr>\n",
       "      <th>34931</th>\n",
       "      <td>-12.9667</td>\n",
       "      <td>28.6333</td>\n",
       "      <td>0.59</td>\n",
       "      <td>0.60</td>\n",
       "      <td>0.59</td>\n",
       "      <td>0.59</td>\n",
       "      <td>0.60</td>\n",
       "      <td>0.57</td>\n",
       "      <td>0.59</td>\n",
       "      <td>0.59</td>\n",
       "      <td>...</td>\n",
       "      <td>6.050000</td>\n",
       "      <td>5.556667</td>\n",
       "      <td>2.056667</td>\n",
       "      <td>2.323333</td>\n",
       "      <td>2.373333</td>\n",
       "      <td>2.510000</td>\n",
       "      <td>1.760000</td>\n",
       "      <td>2.160000</td>\n",
       "      <td>2.183333</td>\n",
       "      <td>1.750000</td>\n",
       "    </tr>\n",
       "    <tr>\n",
       "      <th>34932</th>\n",
       "      <td>-12.8167</td>\n",
       "      <td>28.2000</td>\n",
       "      <td>0.59</td>\n",
       "      <td>0.60</td>\n",
       "      <td>0.59</td>\n",
       "      <td>0.59</td>\n",
       "      <td>0.60</td>\n",
       "      <td>0.57</td>\n",
       "      <td>0.59</td>\n",
       "      <td>0.59</td>\n",
       "      <td>...</td>\n",
       "      <td>6.076667</td>\n",
       "      <td>5.696667</td>\n",
       "      <td>2.090000</td>\n",
       "      <td>2.503333</td>\n",
       "      <td>2.360000</td>\n",
       "      <td>2.596667</td>\n",
       "      <td>1.806667</td>\n",
       "      <td>2.246667</td>\n",
       "      <td>2.200000</td>\n",
       "      <td>1.790000</td>\n",
       "    </tr>\n",
       "    <tr>\n",
       "      <th>34933</th>\n",
       "      <td>-17.9167</td>\n",
       "      <td>25.8500</td>\n",
       "      <td>0.62</td>\n",
       "      <td>0.62</td>\n",
       "      <td>0.61</td>\n",
       "      <td>0.64</td>\n",
       "      <td>0.62</td>\n",
       "      <td>0.59</td>\n",
       "      <td>0.62</td>\n",
       "      <td>0.65</td>\n",
       "      <td>...</td>\n",
       "      <td>6.873333</td>\n",
       "      <td>7.233333</td>\n",
       "      <td>2.180000</td>\n",
       "      <td>2.910000</td>\n",
       "      <td>2.400000</td>\n",
       "      <td>3.120000</td>\n",
       "      <td>2.076667</td>\n",
       "      <td>2.496667</td>\n",
       "      <td>2.300000</td>\n",
       "      <td>2.903333</td>\n",
       "    </tr>\n",
       "    <tr>\n",
       "      <th>34934</th>\n",
       "      <td>-18.3835</td>\n",
       "      <td>26.4700</td>\n",
       "      <td>0.62</td>\n",
       "      <td>0.63</td>\n",
       "      <td>0.62</td>\n",
       "      <td>0.65</td>\n",
       "      <td>0.63</td>\n",
       "      <td>0.60</td>\n",
       "      <td>0.63</td>\n",
       "      <td>0.66</td>\n",
       "      <td>...</td>\n",
       "      <td>6.926667</td>\n",
       "      <td>7.060000</td>\n",
       "      <td>1.733333</td>\n",
       "      <td>2.503333</td>\n",
       "      <td>1.910000</td>\n",
       "      <td>2.536667</td>\n",
       "      <td>1.813333</td>\n",
       "      <td>2.380000</td>\n",
       "      <td>2.050000</td>\n",
       "      <td>2.243333</td>\n",
       "    </tr>\n",
       "    <tr>\n",
       "      <th>34935</th>\n",
       "      <td>-16.5222</td>\n",
       "      <td>28.7619</td>\n",
       "      <td>0.61</td>\n",
       "      <td>0.62</td>\n",
       "      <td>0.61</td>\n",
       "      <td>0.62</td>\n",
       "      <td>0.62</td>\n",
       "      <td>0.58</td>\n",
       "      <td>0.62</td>\n",
       "      <td>0.64</td>\n",
       "      <td>...</td>\n",
       "      <td>7.113333</td>\n",
       "      <td>7.460000</td>\n",
       "      <td>1.716667</td>\n",
       "      <td>1.603333</td>\n",
       "      <td>1.573333</td>\n",
       "      <td>2.180000</td>\n",
       "      <td>1.663333</td>\n",
       "      <td>1.646667</td>\n",
       "      <td>1.966667</td>\n",
       "      <td>1.750000</td>\n",
       "    </tr>\n",
       "  </tbody>\n",
       "</table>\n",
       "<p>34936 rows × 282 columns</p>\n",
       "</div>"
      ],
      "text/plain": [
       "       latitude  longitude  ANN_ALLSKY_KT_2012  ANN_ALLSKY_KT_2013  \\\n",
       "index                                                                \n",
       "0       32.3220    65.1190                0.69                0.70   \n",
       "1       31.6700    65.7950                0.70                0.70   \n",
       "2       31.6230    65.7920                0.70                0.70   \n",
       "3       34.5560    69.4787                0.65                0.65   \n",
       "4       34.6410    69.7170                0.65                0.65   \n",
       "...         ...        ...                 ...                 ...   \n",
       "34931  -12.9667    28.6333                0.59                0.60   \n",
       "34932  -12.8167    28.2000                0.59                0.60   \n",
       "34933  -17.9167    25.8500                0.62                0.62   \n",
       "34934  -18.3835    26.4700                0.62                0.63   \n",
       "34935  -16.5222    28.7619                0.61                0.62   \n",
       "\n",
       "       ANN_ALLSKY_KT_2014  ANN_ALLSKY_KT_2015  ANN_ALLSKY_KT_2016  \\\n",
       "index                                                               \n",
       "0                    0.70                0.68                0.71   \n",
       "1                    0.70                0.69                0.72   \n",
       "2                    0.70                0.69                0.72   \n",
       "3                    0.65                0.63                0.66   \n",
       "4                    0.65                0.63                0.66   \n",
       "...                   ...                 ...                 ...   \n",
       "34931                0.59                0.59                0.60   \n",
       "34932                0.59                0.59                0.60   \n",
       "34933                0.61                0.64                0.62   \n",
       "34934                0.62                0.65                0.63   \n",
       "34935                0.61                0.62                0.62   \n",
       "\n",
       "       ANN_ALLSKY_KT_2017  ANN_ALLSKY_KT_2018  ANN_ALLSKY_KT_2019  ...  \\\n",
       "index                                                              ...   \n",
       "0                    0.71                0.70                0.69  ...   \n",
       "1                    0.71                0.70                0.69  ...   \n",
       "2                    0.71                0.70                0.69  ...   \n",
       "3                    0.67                0.67                0.65  ...   \n",
       "4                    0.67                0.67                0.65  ...   \n",
       "...                   ...                 ...                 ...  ...   \n",
       "34931                0.57                0.59                0.59  ...   \n",
       "34932                0.57                0.59                0.59  ...   \n",
       "34933                0.59                0.62                0.65  ...   \n",
       "34934                0.60                0.63                0.66  ...   \n",
       "34935                0.58                0.62                0.64  ...   \n",
       "\n",
       "       winter_WS50M_MAX_AVG_2018  winter_WS50M_MAX_AVG_2019  \\\n",
       "index                                                         \n",
       "0                       6.966667                   6.850000   \n",
       "1                       7.606667                   7.903333   \n",
       "2                       7.606667                   7.903333   \n",
       "3                       5.126667                   5.426667   \n",
       "4                       4.650000                   4.740000   \n",
       "...                          ...                        ...   \n",
       "34931                   6.050000                   5.556667   \n",
       "34932                   6.076667                   5.696667   \n",
       "34933                   6.873333                   7.233333   \n",
       "34934                   6.926667                   7.060000   \n",
       "34935                   7.113333                   7.460000   \n",
       "\n",
       "       winter_WS50M_MIN_AVG_2012  winter_WS50M_MIN_AVG_2013  \\\n",
       "index                                                         \n",
       "0                       1.283333                   1.003333   \n",
       "1                       1.663333                   1.473333   \n",
       "2                       1.663333                   1.473333   \n",
       "3                       1.870000                   1.380000   \n",
       "4                       1.616667                   1.020000   \n",
       "...                          ...                        ...   \n",
       "34931                   2.056667                   2.323333   \n",
       "34932                   2.090000                   2.503333   \n",
       "34933                   2.180000                   2.910000   \n",
       "34934                   1.733333                   2.503333   \n",
       "34935                   1.716667                   1.603333   \n",
       "\n",
       "       winter_WS50M_MIN_AVG_2014  winter_WS50M_MIN_AVG_2015  \\\n",
       "index                                                         \n",
       "0                       1.023333                   1.006667   \n",
       "1                       1.290000                   1.520000   \n",
       "2                       1.290000                   1.520000   \n",
       "3                       1.606667                   1.260000   \n",
       "4                       1.063333                   0.743333   \n",
       "...                          ...                        ...   \n",
       "34931                   2.373333                   2.510000   \n",
       "34932                   2.360000                   2.596667   \n",
       "34933                   2.400000                   3.120000   \n",
       "34934                   1.910000                   2.536667   \n",
       "34935                   1.573333                   2.180000   \n",
       "\n",
       "       winter_WS50M_MIN_AVG_2016  winter_WS50M_MIN_AVG_2017  \\\n",
       "index                                                         \n",
       "0                       0.950000                   1.320000   \n",
       "1                       1.543333                   1.613333   \n",
       "2                       1.543333                   1.613333   \n",
       "3                       1.473333                   1.873333   \n",
       "4                       0.936667                   1.336667   \n",
       "...                          ...                        ...   \n",
       "34931                   1.760000                   2.160000   \n",
       "34932                   1.806667                   2.246667   \n",
       "34933                   2.076667                   2.496667   \n",
       "34934                   1.813333                   2.380000   \n",
       "34935                   1.663333                   1.646667   \n",
       "\n",
       "       winter_WS50M_MIN_AVG_2018  winter_WS50M_MIN_AVG_2019  \n",
       "index                                                        \n",
       "0                       1.176667                   1.176667  \n",
       "1                       1.476667                   1.603333  \n",
       "2                       1.476667                   1.603333  \n",
       "3                       1.210000                   1.516667  \n",
       "4                       0.916667                   0.923333  \n",
       "...                          ...                        ...  \n",
       "34931                   2.183333                   1.750000  \n",
       "34932                   2.200000                   1.790000  \n",
       "34933                   2.300000                   2.903333  \n",
       "34934                   2.050000                   2.243333  \n",
       "34935                   1.966667                   1.750000  \n",
       "\n",
       "[34936 rows x 282 columns]"
      ]
     },
     "execution_count": 152,
     "metadata": {},
     "output_type": "execute_result"
    }
   ],
   "source": [
    "df_transformed = pd.read_csv(dir_data_external/\"v2_transformed_data_combined_with_nasa.csv\", index_col=['index'])\n",
    "df_transformed"
   ]
  },
  {
   "cell_type": "code",
   "execution_count": 153,
   "metadata": {},
   "outputs": [
    {
     "data": {
      "text/plain": [
       "Index(['latitude', 'longitude', 'ANN_ALLSKY_KT_2012', 'ANN_ALLSKY_KT_2013',\n",
       "       'ANN_ALLSKY_KT_2014', 'ANN_ALLSKY_KT_2015', 'ANN_ALLSKY_KT_2016',\n",
       "       'ANN_ALLSKY_KT_2017', 'ANN_ALLSKY_KT_2018', 'ANN_ALLSKY_KT_2019',\n",
       "       ...\n",
       "       'winter_WS50M_MAX_AVG_2018', 'winter_WS50M_MAX_AVG_2019',\n",
       "       'winter_WS50M_MIN_AVG_2012', 'winter_WS50M_MIN_AVG_2013',\n",
       "       'winter_WS50M_MIN_AVG_2014', 'winter_WS50M_MIN_AVG_2015',\n",
       "       'winter_WS50M_MIN_AVG_2016', 'winter_WS50M_MIN_AVG_2017',\n",
       "       'winter_WS50M_MIN_AVG_2018', 'winter_WS50M_MIN_AVG_2019'],\n",
       "      dtype='object', length=282)"
      ]
     },
     "execution_count": 153,
     "metadata": {},
     "output_type": "execute_result"
    }
   ],
   "source": [
    "df_transformed.columns"
   ]
  },
  {
   "cell_type": "code",
   "execution_count": 154,
   "metadata": {},
   "outputs": [
    {
     "data": {
      "text/html": [
       "<div>\n",
       "<style scoped>\n",
       "    .dataframe tbody tr th:only-of-type {\n",
       "        vertical-align: middle;\n",
       "    }\n",
       "\n",
       "    .dataframe tbody tr th {\n",
       "        vertical-align: top;\n",
       "    }\n",
       "\n",
       "    .dataframe thead th {\n",
       "        text-align: right;\n",
       "    }\n",
       "</style>\n",
       "<table border=\"1\" class=\"dataframe\">\n",
       "  <thead>\n",
       "    <tr style=\"text-align: right;\">\n",
       "      <th></th>\n",
       "      <th>capacity_mw</th>\n",
       "      <th>latitude</th>\n",
       "      <th>longitude</th>\n",
       "      <th>primary_fuel_transformed</th>\n",
       "    </tr>\n",
       "    <tr>\n",
       "      <th>index</th>\n",
       "      <th></th>\n",
       "      <th></th>\n",
       "      <th></th>\n",
       "      <th></th>\n",
       "    </tr>\n",
       "  </thead>\n",
       "  <tbody>\n",
       "    <tr>\n",
       "      <th>0</th>\n",
       "      <td>33.0</td>\n",
       "      <td>32.3220</td>\n",
       "      <td>65.1190</td>\n",
       "      <td>Other</td>\n",
       "    </tr>\n",
       "    <tr>\n",
       "      <th>1</th>\n",
       "      <td>10.0</td>\n",
       "      <td>31.6700</td>\n",
       "      <td>65.7950</td>\n",
       "      <td>Solar</td>\n",
       "    </tr>\n",
       "    <tr>\n",
       "      <th>2</th>\n",
       "      <td>10.0</td>\n",
       "      <td>31.6230</td>\n",
       "      <td>65.7920</td>\n",
       "      <td>Solar</td>\n",
       "    </tr>\n",
       "    <tr>\n",
       "      <th>3</th>\n",
       "      <td>66.0</td>\n",
       "      <td>34.5560</td>\n",
       "      <td>69.4787</td>\n",
       "      <td>Other</td>\n",
       "    </tr>\n",
       "    <tr>\n",
       "      <th>4</th>\n",
       "      <td>100.0</td>\n",
       "      <td>34.6410</td>\n",
       "      <td>69.7170</td>\n",
       "      <td>Other</td>\n",
       "    </tr>\n",
       "    <tr>\n",
       "      <th>...</th>\n",
       "      <td>...</td>\n",
       "      <td>...</td>\n",
       "      <td>...</td>\n",
       "      <td>...</td>\n",
       "    </tr>\n",
       "    <tr>\n",
       "      <th>34931</th>\n",
       "      <td>50.0</td>\n",
       "      <td>-12.9667</td>\n",
       "      <td>28.6333</td>\n",
       "      <td>Other</td>\n",
       "    </tr>\n",
       "    <tr>\n",
       "      <th>34932</th>\n",
       "      <td>20.0</td>\n",
       "      <td>-12.8167</td>\n",
       "      <td>28.2000</td>\n",
       "      <td>Other</td>\n",
       "    </tr>\n",
       "    <tr>\n",
       "      <th>34933</th>\n",
       "      <td>108.0</td>\n",
       "      <td>-17.9167</td>\n",
       "      <td>25.8500</td>\n",
       "      <td>Other</td>\n",
       "    </tr>\n",
       "    <tr>\n",
       "      <th>34934</th>\n",
       "      <td>920.0</td>\n",
       "      <td>-18.3835</td>\n",
       "      <td>26.4700</td>\n",
       "      <td>Other</td>\n",
       "    </tr>\n",
       "    <tr>\n",
       "      <th>34935</th>\n",
       "      <td>750.0</td>\n",
       "      <td>-16.5222</td>\n",
       "      <td>28.7619</td>\n",
       "      <td>Other</td>\n",
       "    </tr>\n",
       "  </tbody>\n",
       "</table>\n",
       "<p>34936 rows × 4 columns</p>\n",
       "</div>"
      ],
      "text/plain": [
       "       capacity_mw  latitude  longitude primary_fuel_transformed\n",
       "index                                                           \n",
       "0             33.0   32.3220    65.1190                    Other\n",
       "1             10.0   31.6700    65.7950                    Solar\n",
       "2             10.0   31.6230    65.7920                    Solar\n",
       "3             66.0   34.5560    69.4787                    Other\n",
       "4            100.0   34.6410    69.7170                    Other\n",
       "...            ...       ...        ...                      ...\n",
       "34931         50.0  -12.9667    28.6333                    Other\n",
       "34932         20.0  -12.8167    28.2000                    Other\n",
       "34933        108.0  -17.9167    25.8500                    Other\n",
       "34934        920.0  -18.3835    26.4700                    Other\n",
       "34935        750.0  -16.5222    28.7619                    Other\n",
       "\n",
       "[34936 rows x 4 columns]"
      ]
     },
     "execution_count": 154,
     "metadata": {},
     "output_type": "execute_result"
    }
   ],
   "source": [
    "# csv_power_plants.loc[0:34935, ['capacity_mw', 'primary_fuel_transformed']].index.name = \"index\"\n",
    "csv_power_plants.index.rename('index', inplace=True)\n",
    "csv_power_plants\n"
   ]
  },
  {
   "cell_type": "code",
   "execution_count": 155,
   "metadata": {},
   "outputs": [],
   "source": [
    "# df_transformed_combined = df_transformed.merge(csv_power_plants.loc[0:24360, ['capacity_mw', 'primary_fuel_transformed']],left_on=\"index\", right_on=\"index\")\n",
    "df_transformed_combined = df_transformed.merge(csv_power_plants[['capacity_mw', 'primary_fuel_transformed']],left_on=\"index\", right_on=\"index\")"
   ]
  },
  {
   "cell_type": "code",
   "execution_count": 156,
   "metadata": {},
   "outputs": [
    {
     "data": {
      "text/html": [
       "<div>\n",
       "<style scoped>\n",
       "    .dataframe tbody tr th:only-of-type {\n",
       "        vertical-align: middle;\n",
       "    }\n",
       "\n",
       "    .dataframe tbody tr th {\n",
       "        vertical-align: top;\n",
       "    }\n",
       "\n",
       "    .dataframe thead th {\n",
       "        text-align: right;\n",
       "    }\n",
       "</style>\n",
       "<table border=\"1\" class=\"dataframe\">\n",
       "  <thead>\n",
       "    <tr style=\"text-align: right;\">\n",
       "      <th></th>\n",
       "      <th>latitude</th>\n",
       "      <th>longitude</th>\n",
       "      <th>ANN_ALLSKY_KT_2012</th>\n",
       "      <th>ANN_ALLSKY_KT_2013</th>\n",
       "      <th>ANN_ALLSKY_KT_2014</th>\n",
       "      <th>ANN_ALLSKY_KT_2015</th>\n",
       "      <th>ANN_ALLSKY_KT_2016</th>\n",
       "      <th>ANN_ALLSKY_KT_2017</th>\n",
       "      <th>ANN_ALLSKY_KT_2018</th>\n",
       "      <th>ANN_ALLSKY_KT_2019</th>\n",
       "      <th>...</th>\n",
       "      <th>winter_WS50M_MIN_AVG_2012</th>\n",
       "      <th>winter_WS50M_MIN_AVG_2013</th>\n",
       "      <th>winter_WS50M_MIN_AVG_2014</th>\n",
       "      <th>winter_WS50M_MIN_AVG_2015</th>\n",
       "      <th>winter_WS50M_MIN_AVG_2016</th>\n",
       "      <th>winter_WS50M_MIN_AVG_2017</th>\n",
       "      <th>winter_WS50M_MIN_AVG_2018</th>\n",
       "      <th>winter_WS50M_MIN_AVG_2019</th>\n",
       "      <th>capacity_mw</th>\n",
       "      <th>primary_fuel_transformed</th>\n",
       "    </tr>\n",
       "    <tr>\n",
       "      <th>index</th>\n",
       "      <th></th>\n",
       "      <th></th>\n",
       "      <th></th>\n",
       "      <th></th>\n",
       "      <th></th>\n",
       "      <th></th>\n",
       "      <th></th>\n",
       "      <th></th>\n",
       "      <th></th>\n",
       "      <th></th>\n",
       "      <th></th>\n",
       "      <th></th>\n",
       "      <th></th>\n",
       "      <th></th>\n",
       "      <th></th>\n",
       "      <th></th>\n",
       "      <th></th>\n",
       "      <th></th>\n",
       "      <th></th>\n",
       "      <th></th>\n",
       "      <th></th>\n",
       "    </tr>\n",
       "  </thead>\n",
       "  <tbody>\n",
       "    <tr>\n",
       "      <th>0</th>\n",
       "      <td>32.3220</td>\n",
       "      <td>65.1190</td>\n",
       "      <td>0.69</td>\n",
       "      <td>0.70</td>\n",
       "      <td>0.70</td>\n",
       "      <td>0.68</td>\n",
       "      <td>0.71</td>\n",
       "      <td>0.71</td>\n",
       "      <td>0.70</td>\n",
       "      <td>0.69</td>\n",
       "      <td>...</td>\n",
       "      <td>1.283333</td>\n",
       "      <td>1.003333</td>\n",
       "      <td>1.023333</td>\n",
       "      <td>1.006667</td>\n",
       "      <td>0.950000</td>\n",
       "      <td>1.320000</td>\n",
       "      <td>1.176667</td>\n",
       "      <td>1.176667</td>\n",
       "      <td>33.0</td>\n",
       "      <td>Other</td>\n",
       "    </tr>\n",
       "    <tr>\n",
       "      <th>1</th>\n",
       "      <td>31.6700</td>\n",
       "      <td>65.7950</td>\n",
       "      <td>0.70</td>\n",
       "      <td>0.70</td>\n",
       "      <td>0.70</td>\n",
       "      <td>0.69</td>\n",
       "      <td>0.72</td>\n",
       "      <td>0.71</td>\n",
       "      <td>0.70</td>\n",
       "      <td>0.69</td>\n",
       "      <td>...</td>\n",
       "      <td>1.663333</td>\n",
       "      <td>1.473333</td>\n",
       "      <td>1.290000</td>\n",
       "      <td>1.520000</td>\n",
       "      <td>1.543333</td>\n",
       "      <td>1.613333</td>\n",
       "      <td>1.476667</td>\n",
       "      <td>1.603333</td>\n",
       "      <td>10.0</td>\n",
       "      <td>Solar</td>\n",
       "    </tr>\n",
       "    <tr>\n",
       "      <th>2</th>\n",
       "      <td>31.6230</td>\n",
       "      <td>65.7920</td>\n",
       "      <td>0.70</td>\n",
       "      <td>0.70</td>\n",
       "      <td>0.70</td>\n",
       "      <td>0.69</td>\n",
       "      <td>0.72</td>\n",
       "      <td>0.71</td>\n",
       "      <td>0.70</td>\n",
       "      <td>0.69</td>\n",
       "      <td>...</td>\n",
       "      <td>1.663333</td>\n",
       "      <td>1.473333</td>\n",
       "      <td>1.290000</td>\n",
       "      <td>1.520000</td>\n",
       "      <td>1.543333</td>\n",
       "      <td>1.613333</td>\n",
       "      <td>1.476667</td>\n",
       "      <td>1.603333</td>\n",
       "      <td>10.0</td>\n",
       "      <td>Solar</td>\n",
       "    </tr>\n",
       "    <tr>\n",
       "      <th>3</th>\n",
       "      <td>34.5560</td>\n",
       "      <td>69.4787</td>\n",
       "      <td>0.65</td>\n",
       "      <td>0.65</td>\n",
       "      <td>0.65</td>\n",
       "      <td>0.63</td>\n",
       "      <td>0.66</td>\n",
       "      <td>0.67</td>\n",
       "      <td>0.67</td>\n",
       "      <td>0.65</td>\n",
       "      <td>...</td>\n",
       "      <td>1.870000</td>\n",
       "      <td>1.380000</td>\n",
       "      <td>1.606667</td>\n",
       "      <td>1.260000</td>\n",
       "      <td>1.473333</td>\n",
       "      <td>1.873333</td>\n",
       "      <td>1.210000</td>\n",
       "      <td>1.516667</td>\n",
       "      <td>66.0</td>\n",
       "      <td>Other</td>\n",
       "    </tr>\n",
       "    <tr>\n",
       "      <th>4</th>\n",
       "      <td>34.6410</td>\n",
       "      <td>69.7170</td>\n",
       "      <td>0.65</td>\n",
       "      <td>0.65</td>\n",
       "      <td>0.65</td>\n",
       "      <td>0.63</td>\n",
       "      <td>0.66</td>\n",
       "      <td>0.67</td>\n",
       "      <td>0.67</td>\n",
       "      <td>0.65</td>\n",
       "      <td>...</td>\n",
       "      <td>1.616667</td>\n",
       "      <td>1.020000</td>\n",
       "      <td>1.063333</td>\n",
       "      <td>0.743333</td>\n",
       "      <td>0.936667</td>\n",
       "      <td>1.336667</td>\n",
       "      <td>0.916667</td>\n",
       "      <td>0.923333</td>\n",
       "      <td>100.0</td>\n",
       "      <td>Other</td>\n",
       "    </tr>\n",
       "    <tr>\n",
       "      <th>...</th>\n",
       "      <td>...</td>\n",
       "      <td>...</td>\n",
       "      <td>...</td>\n",
       "      <td>...</td>\n",
       "      <td>...</td>\n",
       "      <td>...</td>\n",
       "      <td>...</td>\n",
       "      <td>...</td>\n",
       "      <td>...</td>\n",
       "      <td>...</td>\n",
       "      <td>...</td>\n",
       "      <td>...</td>\n",
       "      <td>...</td>\n",
       "      <td>...</td>\n",
       "      <td>...</td>\n",
       "      <td>...</td>\n",
       "      <td>...</td>\n",
       "      <td>...</td>\n",
       "      <td>...</td>\n",
       "      <td>...</td>\n",
       "      <td>...</td>\n",
       "    </tr>\n",
       "    <tr>\n",
       "      <th>34931</th>\n",
       "      <td>-12.9667</td>\n",
       "      <td>28.6333</td>\n",
       "      <td>0.59</td>\n",
       "      <td>0.60</td>\n",
       "      <td>0.59</td>\n",
       "      <td>0.59</td>\n",
       "      <td>0.60</td>\n",
       "      <td>0.57</td>\n",
       "      <td>0.59</td>\n",
       "      <td>0.59</td>\n",
       "      <td>...</td>\n",
       "      <td>2.056667</td>\n",
       "      <td>2.323333</td>\n",
       "      <td>2.373333</td>\n",
       "      <td>2.510000</td>\n",
       "      <td>1.760000</td>\n",
       "      <td>2.160000</td>\n",
       "      <td>2.183333</td>\n",
       "      <td>1.750000</td>\n",
       "      <td>50.0</td>\n",
       "      <td>Other</td>\n",
       "    </tr>\n",
       "    <tr>\n",
       "      <th>34932</th>\n",
       "      <td>-12.8167</td>\n",
       "      <td>28.2000</td>\n",
       "      <td>0.59</td>\n",
       "      <td>0.60</td>\n",
       "      <td>0.59</td>\n",
       "      <td>0.59</td>\n",
       "      <td>0.60</td>\n",
       "      <td>0.57</td>\n",
       "      <td>0.59</td>\n",
       "      <td>0.59</td>\n",
       "      <td>...</td>\n",
       "      <td>2.090000</td>\n",
       "      <td>2.503333</td>\n",
       "      <td>2.360000</td>\n",
       "      <td>2.596667</td>\n",
       "      <td>1.806667</td>\n",
       "      <td>2.246667</td>\n",
       "      <td>2.200000</td>\n",
       "      <td>1.790000</td>\n",
       "      <td>20.0</td>\n",
       "      <td>Other</td>\n",
       "    </tr>\n",
       "    <tr>\n",
       "      <th>34933</th>\n",
       "      <td>-17.9167</td>\n",
       "      <td>25.8500</td>\n",
       "      <td>0.62</td>\n",
       "      <td>0.62</td>\n",
       "      <td>0.61</td>\n",
       "      <td>0.64</td>\n",
       "      <td>0.62</td>\n",
       "      <td>0.59</td>\n",
       "      <td>0.62</td>\n",
       "      <td>0.65</td>\n",
       "      <td>...</td>\n",
       "      <td>2.180000</td>\n",
       "      <td>2.910000</td>\n",
       "      <td>2.400000</td>\n",
       "      <td>3.120000</td>\n",
       "      <td>2.076667</td>\n",
       "      <td>2.496667</td>\n",
       "      <td>2.300000</td>\n",
       "      <td>2.903333</td>\n",
       "      <td>108.0</td>\n",
       "      <td>Other</td>\n",
       "    </tr>\n",
       "    <tr>\n",
       "      <th>34934</th>\n",
       "      <td>-18.3835</td>\n",
       "      <td>26.4700</td>\n",
       "      <td>0.62</td>\n",
       "      <td>0.63</td>\n",
       "      <td>0.62</td>\n",
       "      <td>0.65</td>\n",
       "      <td>0.63</td>\n",
       "      <td>0.60</td>\n",
       "      <td>0.63</td>\n",
       "      <td>0.66</td>\n",
       "      <td>...</td>\n",
       "      <td>1.733333</td>\n",
       "      <td>2.503333</td>\n",
       "      <td>1.910000</td>\n",
       "      <td>2.536667</td>\n",
       "      <td>1.813333</td>\n",
       "      <td>2.380000</td>\n",
       "      <td>2.050000</td>\n",
       "      <td>2.243333</td>\n",
       "      <td>920.0</td>\n",
       "      <td>Other</td>\n",
       "    </tr>\n",
       "    <tr>\n",
       "      <th>34935</th>\n",
       "      <td>-16.5222</td>\n",
       "      <td>28.7619</td>\n",
       "      <td>0.61</td>\n",
       "      <td>0.62</td>\n",
       "      <td>0.61</td>\n",
       "      <td>0.62</td>\n",
       "      <td>0.62</td>\n",
       "      <td>0.58</td>\n",
       "      <td>0.62</td>\n",
       "      <td>0.64</td>\n",
       "      <td>...</td>\n",
       "      <td>1.716667</td>\n",
       "      <td>1.603333</td>\n",
       "      <td>1.573333</td>\n",
       "      <td>2.180000</td>\n",
       "      <td>1.663333</td>\n",
       "      <td>1.646667</td>\n",
       "      <td>1.966667</td>\n",
       "      <td>1.750000</td>\n",
       "      <td>750.0</td>\n",
       "      <td>Other</td>\n",
       "    </tr>\n",
       "  </tbody>\n",
       "</table>\n",
       "<p>34936 rows × 284 columns</p>\n",
       "</div>"
      ],
      "text/plain": [
       "       latitude  longitude  ANN_ALLSKY_KT_2012  ANN_ALLSKY_KT_2013  \\\n",
       "index                                                                \n",
       "0       32.3220    65.1190                0.69                0.70   \n",
       "1       31.6700    65.7950                0.70                0.70   \n",
       "2       31.6230    65.7920                0.70                0.70   \n",
       "3       34.5560    69.4787                0.65                0.65   \n",
       "4       34.6410    69.7170                0.65                0.65   \n",
       "...         ...        ...                 ...                 ...   \n",
       "34931  -12.9667    28.6333                0.59                0.60   \n",
       "34932  -12.8167    28.2000                0.59                0.60   \n",
       "34933  -17.9167    25.8500                0.62                0.62   \n",
       "34934  -18.3835    26.4700                0.62                0.63   \n",
       "34935  -16.5222    28.7619                0.61                0.62   \n",
       "\n",
       "       ANN_ALLSKY_KT_2014  ANN_ALLSKY_KT_2015  ANN_ALLSKY_KT_2016  \\\n",
       "index                                                               \n",
       "0                    0.70                0.68                0.71   \n",
       "1                    0.70                0.69                0.72   \n",
       "2                    0.70                0.69                0.72   \n",
       "3                    0.65                0.63                0.66   \n",
       "4                    0.65                0.63                0.66   \n",
       "...                   ...                 ...                 ...   \n",
       "34931                0.59                0.59                0.60   \n",
       "34932                0.59                0.59                0.60   \n",
       "34933                0.61                0.64                0.62   \n",
       "34934                0.62                0.65                0.63   \n",
       "34935                0.61                0.62                0.62   \n",
       "\n",
       "       ANN_ALLSKY_KT_2017  ANN_ALLSKY_KT_2018  ANN_ALLSKY_KT_2019  ...  \\\n",
       "index                                                              ...   \n",
       "0                    0.71                0.70                0.69  ...   \n",
       "1                    0.71                0.70                0.69  ...   \n",
       "2                    0.71                0.70                0.69  ...   \n",
       "3                    0.67                0.67                0.65  ...   \n",
       "4                    0.67                0.67                0.65  ...   \n",
       "...                   ...                 ...                 ...  ...   \n",
       "34931                0.57                0.59                0.59  ...   \n",
       "34932                0.57                0.59                0.59  ...   \n",
       "34933                0.59                0.62                0.65  ...   \n",
       "34934                0.60                0.63                0.66  ...   \n",
       "34935                0.58                0.62                0.64  ...   \n",
       "\n",
       "       winter_WS50M_MIN_AVG_2012  winter_WS50M_MIN_AVG_2013  \\\n",
       "index                                                         \n",
       "0                       1.283333                   1.003333   \n",
       "1                       1.663333                   1.473333   \n",
       "2                       1.663333                   1.473333   \n",
       "3                       1.870000                   1.380000   \n",
       "4                       1.616667                   1.020000   \n",
       "...                          ...                        ...   \n",
       "34931                   2.056667                   2.323333   \n",
       "34932                   2.090000                   2.503333   \n",
       "34933                   2.180000                   2.910000   \n",
       "34934                   1.733333                   2.503333   \n",
       "34935                   1.716667                   1.603333   \n",
       "\n",
       "       winter_WS50M_MIN_AVG_2014  winter_WS50M_MIN_AVG_2015  \\\n",
       "index                                                         \n",
       "0                       1.023333                   1.006667   \n",
       "1                       1.290000                   1.520000   \n",
       "2                       1.290000                   1.520000   \n",
       "3                       1.606667                   1.260000   \n",
       "4                       1.063333                   0.743333   \n",
       "...                          ...                        ...   \n",
       "34931                   2.373333                   2.510000   \n",
       "34932                   2.360000                   2.596667   \n",
       "34933                   2.400000                   3.120000   \n",
       "34934                   1.910000                   2.536667   \n",
       "34935                   1.573333                   2.180000   \n",
       "\n",
       "       winter_WS50M_MIN_AVG_2016  winter_WS50M_MIN_AVG_2017  \\\n",
       "index                                                         \n",
       "0                       0.950000                   1.320000   \n",
       "1                       1.543333                   1.613333   \n",
       "2                       1.543333                   1.613333   \n",
       "3                       1.473333                   1.873333   \n",
       "4                       0.936667                   1.336667   \n",
       "...                          ...                        ...   \n",
       "34931                   1.760000                   2.160000   \n",
       "34932                   1.806667                   2.246667   \n",
       "34933                   2.076667                   2.496667   \n",
       "34934                   1.813333                   2.380000   \n",
       "34935                   1.663333                   1.646667   \n",
       "\n",
       "       winter_WS50M_MIN_AVG_2018  winter_WS50M_MIN_AVG_2019  capacity_mw  \\\n",
       "index                                                                      \n",
       "0                       1.176667                   1.176667         33.0   \n",
       "1                       1.476667                   1.603333         10.0   \n",
       "2                       1.476667                   1.603333         10.0   \n",
       "3                       1.210000                   1.516667         66.0   \n",
       "4                       0.916667                   0.923333        100.0   \n",
       "...                          ...                        ...          ...   \n",
       "34931                   2.183333                   1.750000         50.0   \n",
       "34932                   2.200000                   1.790000         20.0   \n",
       "34933                   2.300000                   2.903333        108.0   \n",
       "34934                   2.050000                   2.243333        920.0   \n",
       "34935                   1.966667                   1.750000        750.0   \n",
       "\n",
       "       primary_fuel_transformed  \n",
       "index                            \n",
       "0                         Other  \n",
       "1                         Solar  \n",
       "2                         Solar  \n",
       "3                         Other  \n",
       "4                         Other  \n",
       "...                         ...  \n",
       "34931                     Other  \n",
       "34932                     Other  \n",
       "34933                     Other  \n",
       "34934                     Other  \n",
       "34935                     Other  \n",
       "\n",
       "[34936 rows x 284 columns]"
      ]
     },
     "execution_count": 156,
     "metadata": {},
     "output_type": "execute_result"
    }
   ],
   "source": [
    "df_transformed_combined"
   ]
  },
  {
   "cell_type": "code",
   "execution_count": 157,
   "metadata": {},
   "outputs": [
    {
     "name": "stdout",
     "output_type": "stream",
     "text": [
      "primary_fuel_transformed\n",
      "Other                       18917\n",
      "Solar                       10665\n",
      "Wind                         5344\n",
      "dtype: int64\n"
     ]
    },
    {
     "data": {
      "text/plain": [
       "<AxesSubplot:xlabel='primary_fuel_transformed'>"
      ]
     },
     "execution_count": 157,
     "metadata": {},
     "output_type": "execute_result"
    },
    {
     "data": {
      "image/png": "[encoded data removed]",
      "text/plain": [
       "<Figure size 432x288 with 1 Axes>"
      ]
     },
     "metadata": {
      "needs_background": "light"
     },
     "output_type": "display_data"
    }
   ],
   "source": [
    "print(df_transformed_combined[['primary_fuel_transformed']].value_counts())\n",
    "df_transformed_combined[['primary_fuel_transformed']].value_counts().plot.bar()"
   ]
  },
  {
   "cell_type": "code",
   "execution_count": 158,
   "metadata": {},
   "outputs": [],
   "source": [
    "label_encoder = LabelEncoder()\n",
    "# df_transformed_combined.isna().sum()\n",
    "# df_transformed_combined[df_transformed_combined.isna().any(axis=1)]\n",
    "df_transformed_combined.dropna(inplace = True)\n",
    "df_transformed_combined['code_prim_fuel_transf'] = label_encoder.fit_transform(df_transformed_combined['primary_fuel_transformed'])\n"
   ]
  },
  {
   "cell_type": "code",
   "execution_count": 159,
   "metadata": {},
   "outputs": [
    {
     "data": {
      "text/html": [
       "<div>\n",
       "<style scoped>\n",
       "    .dataframe tbody tr th:only-of-type {\n",
       "        vertical-align: middle;\n",
       "    }\n",
       "\n",
       "    .dataframe tbody tr th {\n",
       "        vertical-align: top;\n",
       "    }\n",
       "\n",
       "    .dataframe thead th {\n",
       "        text-align: right;\n",
       "    }\n",
       "</style>\n",
       "<table border=\"1\" class=\"dataframe\">\n",
       "  <thead>\n",
       "    <tr style=\"text-align: right;\">\n",
       "      <th></th>\n",
       "      <th>primary_fuel_transformed</th>\n",
       "      <th>code_prim_fuel_transf</th>\n",
       "    </tr>\n",
       "    <tr>\n",
       "      <th>index</th>\n",
       "      <th></th>\n",
       "      <th></th>\n",
       "    </tr>\n",
       "  </thead>\n",
       "  <tbody>\n",
       "    <tr>\n",
       "      <th>0</th>\n",
       "      <td>Other</td>\n",
       "      <td>0</td>\n",
       "    </tr>\n",
       "    <tr>\n",
       "      <th>1</th>\n",
       "      <td>Solar</td>\n",
       "      <td>1</td>\n",
       "    </tr>\n",
       "    <tr>\n",
       "      <th>91</th>\n",
       "      <td>Wind</td>\n",
       "      <td>2</td>\n",
       "    </tr>\n",
       "  </tbody>\n",
       "</table>\n",
       "</div>"
      ],
      "text/plain": [
       "      primary_fuel_transformed  code_prim_fuel_transf\n",
       "index                                                \n",
       "0                        Other                      0\n",
       "1                        Solar                      1\n",
       "91                        Wind                      2"
      ]
     },
     "execution_count": 159,
     "metadata": {},
     "output_type": "execute_result"
    }
   ],
   "source": [
    "df_target_equivalent = df_transformed_combined[['primary_fuel_transformed', 'code_prim_fuel_transf']].drop_duplicates()\n",
    "df_target_equivalent"
   ]
  },
  {
   "cell_type": "markdown",
   "metadata": {},
   "source": [
    "## Balancing the data"
   ]
  },
  {
   "cell_type": "code",
   "execution_count": 160,
   "metadata": {},
   "outputs": [],
   "source": [
    "index_rows_to_delete = df_transformed_combined[df_transformed_combined['code_prim_fuel_transf'] == 0].sample(14000).index\n",
    "# index_rows_to_delete = df_transformed_combined[df_transformed_combined['code_prim_fuel_transf'] == 0].sample(9000).index\n",
    "index_rows_to_delete_solar = df_transformed_combined[df_transformed_combined['code_prim_fuel_transf'] == 1].sample(5500).index\n",
    "# index_rows_to_delete_solar = df_transformed_combined[df_transformed_combined['code_prim_fuel_transf'] == 1].sample(3000).index\n"
   ]
  },
  {
   "cell_type": "code",
   "execution_count": 161,
   "metadata": {},
   "outputs": [],
   "source": [
    "df_transformed_combined.drop(index_rows_to_delete, axis = 0, inplace = True)\n",
    "df_transformed_combined.drop(index_rows_to_delete_solar, axis = 0, inplace = True)"
   ]
  },
  {
   "cell_type": "code",
   "execution_count": 162,
   "metadata": {},
   "outputs": [
    {
     "data": {
      "text/plain": [
       "<AxesSubplot:xlabel='primary_fuel_transformed'>"
      ]
     },
     "execution_count": 162,
     "metadata": {},
     "output_type": "execute_result"
    },
    {
     "data": {
      "image/png": "[encoded data removed]",
      "text/plain": [
       "<Figure size 432x288 with 1 Axes>"
      ]
     },
     "metadata": {
      "needs_background": "light"
     },
     "output_type": "display_data"
    }
   ],
   "source": [
    "df_transformed_combined[['primary_fuel_transformed']].value_counts().plot.bar()"
   ]
  },
  {
   "cell_type": "code",
   "execution_count": 163,
   "metadata": {},
   "outputs": [],
   "source": [
    "# df_transformed_combined.isna().sum()\n",
    "# df_transformed_combined[df_transformed_combined.isna().any(axis=1)]\n",
    "# df_transformed_combined.dropna(inplace = True)\n",
    "\n",
    "pre_X = df_transformed_combined.drop(columns=['capacity_mw', 'latitude', 'longitude', 'primary_fuel_transformed'])\n",
    "X = pre_X.drop(columns=['code_prim_fuel_transf'])\n",
    "y = pre_X['code_prim_fuel_transf']"
   ]
  },
  {
   "cell_type": "code",
   "execution_count": 164,
   "metadata": {},
   "outputs": [
    {
     "data": {
      "text/plain": [
       "index\n",
       "1        1\n",
       "2        1\n",
       "5        0\n",
       "9        0\n",
       "14       0\n",
       "        ..\n",
       "34923    0\n",
       "34924    0\n",
       "34925    0\n",
       "34931    0\n",
       "34933    0\n",
       "Name: code_prim_fuel_transf, Length: 15426, dtype: int64"
      ]
     },
     "execution_count": 164,
     "metadata": {},
     "output_type": "execute_result"
    }
   ],
   "source": [
    "y"
   ]
  },
  {
   "cell_type": "code",
   "execution_count": 165,
   "metadata": {},
   "outputs": [],
   "source": [
    "# sns.kdeplot(data=pre_X, x='winter_TQV_2009', hue='code_prim_fuel_transf', shade=True)"
   ]
  },
  {
   "cell_type": "code",
   "execution_count": 166,
   "metadata": {},
   "outputs": [],
   "source": [
    "def make_mi_scores(X, y):\n",
    "    mi_scores = mutual_info_classif(X, y)\n",
    "    mi_scores = pd.Series(mi_scores, name=\"MI Scores\", index=X.columns)\n",
    "    mi_scores = mi_scores.sort_values(ascending=False)\n",
    "    return mi_scores"
   ]
  },
  {
   "cell_type": "code",
   "execution_count": 167,
   "metadata": {},
   "outputs": [],
   "source": [
    "def get_accuracy(max_leaf_nodes, X_train, X_test, y_train, y_test):\n",
    "    model = DecisionTreeClassifier(max_leaf_nodes = max_leaf_nodes, random_state=0)\n",
    "    model.fit(X_train, y_train)\n",
    "    preds_val = model.predict(X_test)\n",
    "    accuracy = accuracy_score(y_test, preds_val)\n",
    "\n",
    "    return accuracy"
   ]
  },
  {
   "cell_type": "code",
   "execution_count": 168,
   "metadata": {},
   "outputs": [],
   "source": [
    "def get_accuracy_knn(n_neighbors, X_train, X_test, y_train, y_test):\n",
    "    model = KNeighborsClassifier(n_neighbors = n_neighbors)\n",
    "    model.fit(X_train, y_train)\n",
    "    preds_val = model.predict(X_test)\n",
    "    accuracy = accuracy_score(y_test, preds_val)\n",
    "\n",
    "    return accuracy"
   ]
  },
  {
   "cell_type": "code",
   "execution_count": 19,
   "metadata": {},
   "outputs": [
    {
     "data": {
      "text/plain": [
       "autumn_ALLSKY_SFC_SW_DWN_2013    0.316014\n",
       "spring_ALLSKY_SFC_SW_DWN_2017    0.303913\n",
       "autumn_ALLSKY_SFC_SW_DWN_2016    0.300964\n",
       "autumn_ALLSKY_SFC_SW_DWN_2018    0.296522\n",
       "autumn_CLRSKY_SFC_SW_DWN_2013    0.294349\n",
       "                                   ...   \n",
       "ANN_ALLSKY_KT_2016               0.059400\n",
       "ANN_ALLSKY_KT_2015               0.057562\n",
       "ANN_ALLSKY_KT_2013               0.048390\n",
       "ANN_ALLSKY_KT_2019               0.043224\n",
       "ANN_CLRSKY_SFC_SW_DWN_2019       0.000000\n",
       "Name: MI Scores, Length: 94, dtype: float64"
      ]
     },
     "execution_count": 19,
     "metadata": {},
     "output_type": "execute_result"
    }
   ],
   "source": [
    "mi_scores = make_mi_scores(X, y)\n",
    "mi_scores[::3]"
   ]
  },
  {
   "cell_type": "code",
   "execution_count": 20,
   "metadata": {},
   "outputs": [],
   "source": [
    "def plot_mi_scores(scores):\n",
    "    scores = scores.sort_values(ascending=True)\n",
    "    width = np.arange(len(scores))\n",
    "    ticks = list(scores.index)\n",
    "    plt.barh(width, scores)\n",
    "    plt.yticks(width, ticks)\n",
    "    plt.title(\"Mutual Information Scores\")"
   ]
  },
  {
   "cell_type": "code",
   "execution_count": 21,
   "metadata": {},
   "outputs": [
    {
     "data": {
      "image/png": "[encoded data removed]",
      "text/plain": [
       "<Figure size 800x500 with 1 Axes>"
      ]
     },
     "metadata": {
      "needs_background": "light"
     },
     "output_type": "display_data"
    }
   ],
   "source": [
    "plt.figure(dpi=100, figsize=(8, 5))\n",
    "plot_mi_scores(mi_scores)"
   ]
  },
  {
   "cell_type": "code",
   "execution_count": 169,
   "metadata": {},
   "outputs": [],
   "source": [
    "train_X, val_X, train_y, val_y = train_test_split(X, y,random_state = 0)"
   ]
  },
  {
   "cell_type": "markdown",
   "metadata": {},
   "source": [
    "## DECISION TREE CLASSIFIER"
   ]
  },
  {
   "cell_type": "code",
   "execution_count": 170,
   "metadata": {},
   "outputs": [
    {
     "name": "stdout",
     "output_type": "stream",
     "text": [
      "1200\n"
     ]
    },
    {
     "data": {
      "text/plain": [
       "<AxesSubplot:>"
      ]
     },
     "execution_count": 170,
     "metadata": {},
     "output_type": "execute_result"
    },
    {
     "data": {
      "image/png": "[encoded data removed]",
      "text/plain": [
       "<Figure size 432x288 with 1 Axes>"
      ]
     },
     "metadata": {
      "needs_background": "light"
     },
     "output_type": "display_data"
    }
   ],
   "source": [
    "candidate_max_leaf_nodes = [10, 100, 500, 1200, 1500]\n",
    "results = {}\n",
    "# Write loop to find the ideal tree size from candidate_max_leaf_nodes\n",
    "\n",
    "\n",
    "results = {node: get_accuracy(node, train_X, val_X, train_y, val_y) for node in candidate_max_leaf_nodes}\n",
    "# for node in candidate_max_leaf_nodes:\n",
    "#     results[node] = get_accuracy(node, X_train, X_test, y_train, y_test)\n",
    "# Store the best value of max_leaf_nodes (it will be either 5, 25, 50, 100, 250 or 500)\n",
    "best_tree_size = max(results, key=results.get)\n",
    "print(best_tree_size)\n",
    "sns.lineplot(data=results, x= results.keys(), y= results.values())"
   ]
  },
  {
   "cell_type": "code",
   "execution_count": 171,
   "metadata": {},
   "outputs": [],
   "source": [
    "tree_model = DecisionTreeClassifier(max_leaf_nodes = best_tree_size, random_state=0)\n",
    "tree_model.fit(train_X, train_y)\n",
    "y_pred = tree_model.predict(val_X)\n",
    "# print(cross_val_score(tree_model, X, y, cv=5))"
   ]
  },
  {
   "cell_type": "code",
   "execution_count": 172,
   "metadata": {},
   "outputs": [
    {
     "data": {
      "text/plain": [
       "<AxesSubplot:>"
      ]
     },
     "execution_count": 172,
     "metadata": {},
     "output_type": "execute_result"
    },
    {
     "data": {
      "image/png": "[encoded data removed]",
      "text/plain": [
       "<Figure size 432x288 with 2 Axes>"
      ]
     },
     "metadata": {
      "needs_background": "light"
     },
     "output_type": "display_data"
    }
   ],
   "source": [
    "confusion_matrix_return = confusion_matrix(val_y, y_pred)\n",
    "sns.heatmap(confusion_matrix_return, annot=True, fmt = 'g')"
   ]
  },
  {
   "cell_type": "code",
   "execution_count": 173,
   "metadata": {},
   "outputs": [
    {
     "data": {
      "text/plain": [
       "0.729064039408867"
      ]
     },
     "execution_count": 173,
     "metadata": {},
     "output_type": "execute_result"
    }
   ],
   "source": [
    "accuracy_score(val_y, y_pred)"
   ]
  },
  {
   "cell_type": "code",
   "execution_count": 174,
   "metadata": {},
   "outputs": [
    {
     "data": {
      "text/plain": [
       "0.7281794612899337"
      ]
     },
     "execution_count": 174,
     "metadata": {},
     "output_type": "execute_result"
    }
   ],
   "source": [
    "precision_score(val_y, y_pred, average='weighted')"
   ]
  },
  {
   "cell_type": "code",
   "execution_count": 28,
   "metadata": {},
   "outputs": [
    {
     "data": {
      "text/plain": [
       "0.7540082455336693"
      ]
     },
     "execution_count": 28,
     "metadata": {},
     "output_type": "execute_result"
    }
   ],
   "source": [
    "tree_model.score(val_X, val_y)"
   ]
  },
  {
   "cell_type": "code",
   "execution_count": 29,
   "metadata": {},
   "outputs": [],
   "source": [
    "# tree.plot_tree(tree_model)"
   ]
  },
  {
   "cell_type": "markdown",
   "metadata": {},
   "source": [
    "# RANDOM FOREST CLASSIFIER"
   ]
  },
  {
   "cell_type": "code",
   "execution_count": 175,
   "metadata": {},
   "outputs": [],
   "source": [
    "# Numbers of trees\n",
    "n_estimators = [int(x) for x in np.arange(10, 101, 10)]\n",
    "# Numbers of features to consider at every split\n",
    "max_features = [1, \"sqrt\", \"log2\"]\n",
    "# Maximum numbers of levels in tree\n",
    "max_depth = [50, 100, 500]\n",
    "# Minimum numbers of samples required to split a node\n",
    "min_samples_split = [2, 10, 50, 100, 500]\n",
    "# Minimum numbers of samples required at each leaf node\n",
    "min_samples_leaf = [100, 500, 1000, 1500]\n",
    "# Method of selecting samples for training each tree\n",
    "bootstrap = [True, False]\n",
    "\n",
    "max_leaf_nodes = [1000, 1500, 1700]\n",
    "\n",
    "param_grid = {\n",
    "                'n_estimators': n_estimators,\n",
    "                'max_features': max_features,\n",
    "                'max_depth': max_depth,\n",
    "                'min_samples_split': min_samples_split,\n",
    "                'min_samples_leaf': min_samples_leaf,\n",
    "                'bootstrap': bootstrap,\n",
    "                'max_leaf_nodes': max_leaf_nodes\n",
    "            }\n",
    "\n"
   ]
  },
  {
   "cell_type": "code",
   "execution_count": 176,
   "metadata": {},
   "outputs": [],
   "source": [
    "rf_model = RandomForestClassifier(random_state=0)\n",
    "# rf_grid = GridSearchCV(estimator = rf_model, param_grid = param_grid, cv=3, verbose = 2, n_jobs=4)\n",
    "rf_grid = RandomizedSearchCV(estimator = rf_model, param_distributions = param_grid, n_iter = 20, cv=5, verbose = 2, n_jobs=4)"
   ]
  },
  {
   "cell_type": "code",
   "execution_count": 177,
   "metadata": {},
   "outputs": [
    {
     "name": "stdout",
     "output_type": "stream",
     "text": [
      "Fitting 5 folds for each of 20 candidates, totalling 100 fits\n",
      "[CV] END bootstrap=True, max_depth=100, max_features=1, max_leaf_nodes=1500, min_samples_leaf=1000, min_samples_split=100, n_estimators=20; total time=   0.3s\n",
      "[CV] END bootstrap=True, max_depth=100, max_features=1, max_leaf_nodes=1500, min_samples_leaf=1000, min_samples_split=100, n_estimators=20; total time=   0.3s\n",
      "[CV] END bootstrap=True, max_depth=100, max_features=1, max_leaf_nodes=1500, min_samples_leaf=1000, min_samples_split=100, n_estimators=20; total time=   0.3s\n",
      "[CV] END bootstrap=True, max_depth=100, max_features=1, max_leaf_nodes=1500, min_samples_leaf=1000, min_samples_split=100, n_estimators=20; total time=   0.3s\n",
      "[CV] END bootstrap=True, max_depth=100, max_features=1, max_leaf_nodes=1500, min_samples_leaf=1000, min_samples_split=100, n_estimators=20; total time=   0.2s\n",
      "[CV] END bootstrap=False, max_depth=500, max_features=sqrt, max_leaf_nodes=1500, min_samples_leaf=100, min_samples_split=50, n_estimators=10; total time=   1.4s\n",
      "[CV] END bootstrap=False, max_depth=500, max_features=sqrt, max_leaf_nodes=1500, min_samples_leaf=100, min_samples_split=50, n_estimators=10; total time=   1.4s\n",
      "[CV] END bootstrap=False, max_depth=500, max_features=sqrt, max_leaf_nodes=1500, min_samples_leaf=100, min_samples_split=50, n_estimators=10; total time=   1.5s\n",
      "[CV] END bootstrap=False, max_depth=500, max_features=sqrt, max_leaf_nodes=1500, min_samples_leaf=100, min_samples_split=50, n_estimators=10; total time=   1.4s\n",
      "[CV] END bootstrap=False, max_depth=500, max_features=sqrt, max_leaf_nodes=1500, min_samples_leaf=100, min_samples_split=50, n_estimators=10; total time=   1.3s\n",
      "[CV] END bootstrap=False, max_depth=100, max_features=sqrt, max_leaf_nodes=1000, min_samples_leaf=500, min_samples_split=10, n_estimators=80; total time=   5.7s\n",
      "[CV] END bootstrap=False, max_depth=100, max_features=sqrt, max_leaf_nodes=1000, min_samples_leaf=500, min_samples_split=10, n_estimators=80; total time=   5.8s\n",
      "[CV] END bootstrap=False, max_depth=100, max_features=sqrt, max_leaf_nodes=1000, min_samples_leaf=500, min_samples_split=10, n_estimators=80; total time=   5.9s\n",
      "[CV] END bootstrap=False, max_depth=100, max_features=sqrt, max_leaf_nodes=1000, min_samples_leaf=500, min_samples_split=10, n_estimators=80; total time=   5.7s\n",
      "[CV] END bootstrap=False, max_depth=100, max_features=sqrt, max_leaf_nodes=1000, min_samples_leaf=500, min_samples_split=10, n_estimators=80; total time=   5.6s\n",
      "[CV] END bootstrap=False, max_depth=500, max_features=sqrt, max_leaf_nodes=1500, min_samples_leaf=100, min_samples_split=50, n_estimators=60; total time=   7.2s\n",
      "[CV] END bootstrap=False, max_depth=500, max_features=sqrt, max_leaf_nodes=1500, min_samples_leaf=100, min_samples_split=50, n_estimators=60; total time=   7.3s\n",
      "[CV] END bootstrap=False, max_depth=500, max_features=sqrt, max_leaf_nodes=1500, min_samples_leaf=100, min_samples_split=50, n_estimators=60; total time=   7.2s\n",
      "[CV] END bootstrap=False, max_depth=500, max_features=1, max_leaf_nodes=1700, min_samples_leaf=100, min_samples_split=50, n_estimators=80; total time=   1.0s\n",
      "[CV] END bootstrap=False, max_depth=500, max_features=1, max_leaf_nodes=1700, min_samples_leaf=100, min_samples_split=50, n_estimators=80; total time=   1.2s\n",
      "[CV] END bootstrap=False, max_depth=500, max_features=1, max_leaf_nodes=1700, min_samples_leaf=100, min_samples_split=50, n_estimators=80; total time=   1.3s\n",
      "[CV] END bootstrap=False, max_depth=500, max_features=1, max_leaf_nodes=1700, min_samples_leaf=100, min_samples_split=50, n_estimators=80; total time=   1.1s\n",
      "[CV] END bootstrap=False, max_depth=500, max_features=1, max_leaf_nodes=1700, min_samples_leaf=100, min_samples_split=50, n_estimators=80; total time=   1.0s\n",
      "[CV] END bootstrap=True, max_depth=500, max_features=log2, max_leaf_nodes=1700, min_samples_leaf=1500, min_samples_split=500, n_estimators=30; total time=   0.5s\n",
      "[CV] END bootstrap=True, max_depth=500, max_features=log2, max_leaf_nodes=1700, min_samples_leaf=1500, min_samples_split=500, n_estimators=30; total time=   0.5s\n",
      "[CV] END bootstrap=True, max_depth=500, max_features=log2, max_leaf_nodes=1700, min_samples_leaf=1500, min_samples_split=500, n_estimators=30; total time=   0.4s\n",
      "[CV] END bootstrap=True, max_depth=500, max_features=log2, max_leaf_nodes=1700, min_samples_leaf=1500, min_samples_split=500, n_estimators=30; total time=   0.4s\n",
      "[CV] END bootstrap=True, max_depth=500, max_features=log2, max_leaf_nodes=1700, min_samples_leaf=1500, min_samples_split=500, n_estimators=30; total time=   0.4s\n",
      "[CV] END bootstrap=True, max_depth=500, max_features=1, max_leaf_nodes=1700, min_samples_leaf=100, min_samples_split=2, n_estimators=60; total time=   0.7s\n",
      "[CV] END bootstrap=True, max_depth=500, max_features=1, max_leaf_nodes=1700, min_samples_leaf=100, min_samples_split=2, n_estimators=60; total time=   0.7s\n",
      "[CV] END bootstrap=False, max_depth=500, max_features=sqrt, max_leaf_nodes=1500, min_samples_leaf=100, min_samples_split=50, n_estimators=60; total time=   7.4s\n",
      "[CV] END bootstrap=True, max_depth=500, max_features=1, max_leaf_nodes=1700, min_samples_leaf=100, min_samples_split=2, n_estimators=60; total time=   0.7s\n",
      "[CV] END bootstrap=True, max_depth=500, max_features=1, max_leaf_nodes=1700, min_samples_leaf=100, min_samples_split=2, n_estimators=60; total time=   0.7s\n",
      "[CV] END bootstrap=True, max_depth=500, max_features=1, max_leaf_nodes=1700, min_samples_leaf=100, min_samples_split=2, n_estimators=60; total time=   0.7s\n",
      "[CV] END bootstrap=True, max_depth=50, max_features=sqrt, max_leaf_nodes=1700, min_samples_leaf=1500, min_samples_split=500, n_estimators=50; total time=   1.1s\n",
      "[CV] END bootstrap=True, max_depth=50, max_features=sqrt, max_leaf_nodes=1700, min_samples_leaf=1500, min_samples_split=500, n_estimators=50; total time=   1.2s\n",
      "[CV] END bootstrap=False, max_depth=500, max_features=sqrt, max_leaf_nodes=1500, min_samples_leaf=100, min_samples_split=50, n_estimators=60; total time=   7.6s\n",
      "[CV] END bootstrap=True, max_depth=50, max_features=sqrt, max_leaf_nodes=1700, min_samples_leaf=1500, min_samples_split=500, n_estimators=50; total time=   1.3s\n",
      "[CV] END bootstrap=True, max_depth=50, max_features=sqrt, max_leaf_nodes=1700, min_samples_leaf=1500, min_samples_split=500, n_estimators=50; total time=   1.2s\n",
      "[CV] END bootstrap=True, max_depth=50, max_features=sqrt, max_leaf_nodes=1700, min_samples_leaf=1500, min_samples_split=500, n_estimators=50; total time=   1.1s\n",
      "[CV] END bootstrap=False, max_depth=50, max_features=sqrt, max_leaf_nodes=1700, min_samples_leaf=1500, min_samples_split=100, n_estimators=30; total time=   1.3s\n",
      "[CV] END bootstrap=False, max_depth=50, max_features=sqrt, max_leaf_nodes=1700, min_samples_leaf=1500, min_samples_split=100, n_estimators=30; total time=   1.3s\n",
      "[CV] END bootstrap=False, max_depth=50, max_features=sqrt, max_leaf_nodes=1700, min_samples_leaf=1500, min_samples_split=100, n_estimators=30; total time=   1.3s\n",
      "[CV] END bootstrap=False, max_depth=50, max_features=sqrt, max_leaf_nodes=1700, min_samples_leaf=1500, min_samples_split=100, n_estimators=30; total time=   1.3s\n",
      "[CV] END bootstrap=False, max_depth=50, max_features=sqrt, max_leaf_nodes=1700, min_samples_leaf=1500, min_samples_split=100, n_estimators=30; total time=   1.3s\n",
      "[CV] END bootstrap=False, max_depth=50, max_features=sqrt, max_leaf_nodes=1500, min_samples_leaf=1000, min_samples_split=500, n_estimators=50; total time=   2.7s\n",
      "[CV] END bootstrap=False, max_depth=50, max_features=sqrt, max_leaf_nodes=1500, min_samples_leaf=1000, min_samples_split=500, n_estimators=50; total time=   2.7s\n",
      "[CV] END bootstrap=False, max_depth=50, max_features=sqrt, max_leaf_nodes=1500, min_samples_leaf=1000, min_samples_split=500, n_estimators=50; total time=   2.8s\n",
      "[CV] END bootstrap=True, max_depth=500, max_features=1, max_leaf_nodes=1000, min_samples_leaf=500, min_samples_split=2, n_estimators=90; total time=   0.9s\n",
      "[CV] END bootstrap=False, max_depth=50, max_features=sqrt, max_leaf_nodes=1500, min_samples_leaf=1000, min_samples_split=500, n_estimators=50; total time=   3.0s\n",
      "[CV] END bootstrap=True, max_depth=500, max_features=1, max_leaf_nodes=1000, min_samples_leaf=500, min_samples_split=2, n_estimators=90; total time=   1.0s\n",
      "[CV] END bootstrap=True, max_depth=500, max_features=1, max_leaf_nodes=1000, min_samples_leaf=500, min_samples_split=2, n_estimators=90; total time=   0.8s\n",
      "[CV] END bootstrap=True, max_depth=500, max_features=1, max_leaf_nodes=1000, min_samples_leaf=500, min_samples_split=2, n_estimators=90; total time=   0.8s\n",
      "[CV] END bootstrap=True, max_depth=500, max_features=1, max_leaf_nodes=1000, min_samples_leaf=500, min_samples_split=2, n_estimators=90; total time=   0.7s\n",
      "[CV] END bootstrap=False, max_depth=100, max_features=1, max_leaf_nodes=1000, min_samples_leaf=100, min_samples_split=50, n_estimators=50; total time=   0.7s\n",
      "[CV] END bootstrap=False, max_depth=100, max_features=1, max_leaf_nodes=1000, min_samples_leaf=100, min_samples_split=50, n_estimators=50; total time=   0.7s\n",
      "[CV] END bootstrap=False, max_depth=50, max_features=sqrt, max_leaf_nodes=1500, min_samples_leaf=1000, min_samples_split=500, n_estimators=50; total time=   3.0s\n",
      "[CV] END bootstrap=False, max_depth=100, max_features=1, max_leaf_nodes=1000, min_samples_leaf=100, min_samples_split=50, n_estimators=50; total time=   0.7s\n",
      "[CV] END bootstrap=False, max_depth=100, max_features=1, max_leaf_nodes=1000, min_samples_leaf=100, min_samples_split=50, n_estimators=50; total time=   0.8s\n",
      "[CV] END bootstrap=False, max_depth=100, max_features=1, max_leaf_nodes=1000, min_samples_leaf=100, min_samples_split=50, n_estimators=50; total time=   0.8s\n",
      "[CV] END bootstrap=False, max_depth=100, max_features=sqrt, max_leaf_nodes=1000, min_samples_leaf=1000, min_samples_split=500, n_estimators=60; total time=   3.2s\n",
      "[CV] END bootstrap=False, max_depth=100, max_features=sqrt, max_leaf_nodes=1000, min_samples_leaf=1000, min_samples_split=500, n_estimators=60; total time=   3.1s\n",
      "[CV] END bootstrap=False, max_depth=100, max_features=sqrt, max_leaf_nodes=1000, min_samples_leaf=1000, min_samples_split=500, n_estimators=60; total time=   3.4s\n",
      "[CV] END bootstrap=False, max_depth=100, max_features=sqrt, max_leaf_nodes=1000, min_samples_leaf=1000, min_samples_split=500, n_estimators=60; total time=   3.4s\n",
      "[CV] END bootstrap=False, max_depth=500, max_features=log2, max_leaf_nodes=1000, min_samples_leaf=500, min_samples_split=50, n_estimators=20; total time=   1.1s\n",
      "[CV] END bootstrap=False, max_depth=500, max_features=log2, max_leaf_nodes=1000, min_samples_leaf=500, min_samples_split=50, n_estimators=20; total time=   0.9s\n",
      "[CV] END bootstrap=False, max_depth=500, max_features=log2, max_leaf_nodes=1000, min_samples_leaf=500, min_samples_split=50, n_estimators=20; total time=   0.8s\n",
      "[CV] END bootstrap=False, max_depth=500, max_features=log2, max_leaf_nodes=1000, min_samples_leaf=500, min_samples_split=50, n_estimators=20; total time=   0.8s\n",
      "[CV] END bootstrap=False, max_depth=500, max_features=log2, max_leaf_nodes=1000, min_samples_leaf=500, min_samples_split=50, n_estimators=20; total time=   0.8s\n",
      "[CV] END bootstrap=False, max_depth=100, max_features=sqrt, max_leaf_nodes=1000, min_samples_leaf=1000, min_samples_split=500, n_estimators=60; total time=   3.4s\n",
      "[CV] END bootstrap=True, max_depth=500, max_features=sqrt, max_leaf_nodes=1700, min_samples_leaf=500, min_samples_split=2, n_estimators=70; total time=   2.8s\n",
      "[CV] END bootstrap=True, max_depth=500, max_features=sqrt, max_leaf_nodes=1700, min_samples_leaf=500, min_samples_split=2, n_estimators=70; total time=   2.8s\n",
      "[CV] END bootstrap=True, max_depth=500, max_features=sqrt, max_leaf_nodes=1700, min_samples_leaf=500, min_samples_split=2, n_estimators=70; total time=   2.8s\n",
      "[CV] END bootstrap=True, max_depth=500, max_features=sqrt, max_leaf_nodes=1700, min_samples_leaf=500, min_samples_split=2, n_estimators=70; total time=   3.0s\n",
      "[CV] END bootstrap=True, max_depth=500, max_features=sqrt, max_leaf_nodes=1700, min_samples_leaf=500, min_samples_split=2, n_estimators=70; total time=   3.1s\n",
      "[CV] END bootstrap=False, max_depth=100, max_features=log2, max_leaf_nodes=1500, min_samples_leaf=100, min_samples_split=10, n_estimators=70; total time=   4.9s\n",
      "[CV] END bootstrap=False, max_depth=100, max_features=log2, max_leaf_nodes=1500, min_samples_leaf=100, min_samples_split=10, n_estimators=70; total time=   4.9s\n",
      "[CV] END bootstrap=False, max_depth=100, max_features=log2, max_leaf_nodes=1500, min_samples_leaf=100, min_samples_split=10, n_estimators=70; total time=   4.8s\n",
      "[CV] END bootstrap=False, max_depth=100, max_features=log2, max_leaf_nodes=1500, min_samples_leaf=100, min_samples_split=10, n_estimators=70; total time=   4.8s\n",
      "[CV] END bootstrap=True, max_depth=100, max_features=log2, max_leaf_nodes=1000, min_samples_leaf=100, min_samples_split=10, n_estimators=60; total time=   2.8s\n",
      "[CV] END bootstrap=True, max_depth=100, max_features=log2, max_leaf_nodes=1000, min_samples_leaf=100, min_samples_split=10, n_estimators=60; total time=   2.5s\n",
      "[CV] END bootstrap=False, max_depth=100, max_features=log2, max_leaf_nodes=1500, min_samples_leaf=100, min_samples_split=10, n_estimators=70; total time=   4.8s\n",
      "[CV] END bootstrap=True, max_depth=100, max_features=log2, max_leaf_nodes=1000, min_samples_leaf=100, min_samples_split=10, n_estimators=60; total time=   2.3s\n",
      "[CV] END bootstrap=True, max_depth=100, max_features=log2, max_leaf_nodes=1000, min_samples_leaf=100, min_samples_split=10, n_estimators=60; total time=   2.3s\n",
      "[CV] END bootstrap=False, max_depth=50, max_features=sqrt, max_leaf_nodes=1500, min_samples_leaf=500, min_samples_split=2, n_estimators=10; total time=   0.7s\n",
      "[CV] END bootstrap=False, max_depth=50, max_features=sqrt, max_leaf_nodes=1500, min_samples_leaf=500, min_samples_split=2, n_estimators=10; total time=   0.8s\n",
      "[CV] END bootstrap=False, max_depth=50, max_features=sqrt, max_leaf_nodes=1500, min_samples_leaf=500, min_samples_split=2, n_estimators=10; total time=   0.7s\n",
      "[CV] END bootstrap=False, max_depth=50, max_features=sqrt, max_leaf_nodes=1500, min_samples_leaf=500, min_samples_split=2, n_estimators=10; total time=   0.8s\n",
      "[CV] END bootstrap=True, max_depth=100, max_features=log2, max_leaf_nodes=1000, min_samples_leaf=100, min_samples_split=10, n_estimators=60; total time=   2.3s\n",
      "[CV] END bootstrap=False, max_depth=50, max_features=sqrt, max_leaf_nodes=1500, min_samples_leaf=500, min_samples_split=2, n_estimators=10; total time=   0.7s\n",
      "[CV] END bootstrap=True, max_depth=50, max_features=1, max_leaf_nodes=1000, min_samples_leaf=1000, min_samples_split=2, n_estimators=80; total time=   0.6s\n",
      "[CV] END bootstrap=True, max_depth=50, max_features=1, max_leaf_nodes=1000, min_samples_leaf=1000, min_samples_split=2, n_estimators=80; total time=   0.6s\n",
      "[CV] END bootstrap=True, max_depth=50, max_features=1, max_leaf_nodes=1000, min_samples_leaf=1000, min_samples_split=2, n_estimators=80; total time=   0.6s\n",
      "[CV] END bootstrap=True, max_depth=50, max_features=1, max_leaf_nodes=1000, min_samples_leaf=1000, min_samples_split=2, n_estimators=80; total time=   0.6s\n",
      "[CV] END bootstrap=False, max_depth=500, max_features=1, max_leaf_nodes=1000, min_samples_leaf=1500, min_samples_split=100, n_estimators=40; total time=   0.3s\n",
      "[CV] END bootstrap=False, max_depth=500, max_features=1, max_leaf_nodes=1000, min_samples_leaf=1500, min_samples_split=100, n_estimators=40; total time=   0.3s\n",
      "[CV] END bootstrap=True, max_depth=50, max_features=1, max_leaf_nodes=1000, min_samples_leaf=1000, min_samples_split=2, n_estimators=80; total time=   0.6s\n",
      "[CV] END bootstrap=False, max_depth=500, max_features=1, max_leaf_nodes=1000, min_samples_leaf=1500, min_samples_split=100, n_estimators=40; total time=   0.3s\n",
      "[CV] END bootstrap=False, max_depth=500, max_features=1, max_leaf_nodes=1000, min_samples_leaf=1500, min_samples_split=100, n_estimators=40; total time=   0.3s\n",
      "[CV] END bootstrap=False, max_depth=500, max_features=1, max_leaf_nodes=1000, min_samples_leaf=1500, min_samples_split=100, n_estimators=40; total time=   0.3s\n"
     ]
    },
    {
     "data": {
      "text/html": [
       "<style>#sk-container-id-11 {color: black;background-color: white;}#sk-container-id-11 pre{padding: 0;}#sk-container-id-11 div.sk-toggleable {background-color: white;}#sk-container-id-11 label.sk-toggleable__label {cursor: pointer;display: block;width: 100%;margin-bottom: 0;padding: 0.3em;box-sizing: border-box;text-align: center;}#sk-container-id-11 label.sk-toggleable__label-arrow:before {content: \"▸\";float: left;margin-right: 0.25em;color: #696969;}#sk-container-id-11 label.sk-toggleable__label-arrow:hover:before {color: black;}#sk-container-id-11 div.sk-estimator:hover label.sk-toggleable__label-arrow:before {color: black;}#sk-container-id-11 div.sk-toggleable__content {max-height: 0;max-width: 0;overflow: hidden;text-align: left;background-color: #f0f8ff;}#sk-container-id-11 div.sk-toggleable__content pre {margin: 0.2em;color: black;border-radius: 0.25em;background-color: #f0f8ff;}#sk-container-id-11 input.sk-toggleable__control:checked~div.sk-toggleable__content {max-height: 200px;max-width: 100%;overflow: auto;}#sk-container-id-11 input.sk-toggleable__control:checked~label.sk-toggleable__label-arrow:before {content: \"▾\";}#sk-container-id-11 div.sk-estimator input.sk-toggleable__control:checked~label.sk-toggleable__label {background-color: #d4ebff;}#sk-container-id-11 div.sk-label input.sk-toggleable__control:checked~label.sk-toggleable__label {background-color: #d4ebff;}#sk-container-id-11 input.sk-hidden--visually {border: 0;clip: rect(1px 1px 1px 1px);clip: rect(1px, 1px, 1px, 1px);height: 1px;margin: -1px;overflow: hidden;padding: 0;position: absolute;width: 1px;}#sk-container-id-11 div.sk-estimator {font-family: monospace;background-color: #f0f8ff;border: 1px dotted black;border-radius: 0.25em;box-sizing: border-box;margin-bottom: 0.5em;}#sk-container-id-11 div.sk-estimator:hover {background-color: #d4ebff;}#sk-container-id-11 div.sk-parallel-item::after {content: \"\";width: 100%;border-bottom: 1px solid gray;flex-grow: 1;}#sk-container-id-11 div.sk-label:hover label.sk-toggleable__label {background-color: #d4ebff;}#sk-container-id-11 div.sk-serial::before {content: \"\";position: absolute;border-left: 1px solid gray;box-sizing: border-box;top: 0;bottom: 0;left: 50%;z-index: 0;}#sk-container-id-11 div.sk-serial {display: flex;flex-direction: column;align-items: center;background-color: white;padding-right: 0.2em;padding-left: 0.2em;position: relative;}#sk-container-id-11 div.sk-item {position: relative;z-index: 1;}#sk-container-id-11 div.sk-parallel {display: flex;align-items: stretch;justify-content: center;background-color: white;position: relative;}#sk-container-id-11 div.sk-item::before, #sk-container-id-11 div.sk-parallel-item::before {content: \"\";position: absolute;border-left: 1px solid gray;box-sizing: border-box;top: 0;bottom: 0;left: 50%;z-index: -1;}#sk-container-id-11 div.sk-parallel-item {display: flex;flex-direction: column;z-index: 1;position: relative;background-color: white;}#sk-container-id-11 div.sk-parallel-item:first-child::after {align-self: flex-end;width: 50%;}#sk-container-id-11 div.sk-parallel-item:last-child::after {align-self: flex-start;width: 50%;}#sk-container-id-11 div.sk-parallel-item:only-child::after {width: 0;}#sk-container-id-11 div.sk-dashed-wrapped {border: 1px dashed gray;margin: 0 0.4em 0.5em 0.4em;box-sizing: border-box;padding-bottom: 0.4em;background-color: white;}#sk-container-id-11 div.sk-label label {font-family: monospace;font-weight: bold;display: inline-block;line-height: 1.2em;}#sk-container-id-11 div.sk-label-container {text-align: center;}#sk-container-id-11 div.sk-container {/* jupyter's `normalize.less` sets `[hidden] { display: none; }` but bootstrap.min.css set `[hidden] { display: none !important; }` so we also need the `!important` here to be able to override the default hidden behavior on the sphinx rendered scikit-learn.org. See: https://github.com/scikit-learn/scikit-learn/issues/21755 */display: inline-block !important;position: relative;}#sk-container-id-11 div.sk-text-repr-fallback {display: none;}</style><div id=\"sk-container-id-11\" class=\"sk-top-container\"><div class=\"sk-text-repr-fallback\"><pre>RandomizedSearchCV(cv=5, estimator=RandomForestClassifier(random_state=0),\n",
       "                   n_iter=20, n_jobs=4,\n",
       "                   param_distributions={&#x27;bootstrap&#x27;: [True, False],\n",
       "                                        &#x27;max_depth&#x27;: [50, 100, 500],\n",
       "                                        &#x27;max_features&#x27;: [1, &#x27;sqrt&#x27;, &#x27;log2&#x27;],\n",
       "                                        &#x27;max_leaf_nodes&#x27;: [1000, 1500, 1700],\n",
       "                                        &#x27;min_samples_leaf&#x27;: [100, 500, 1000,\n",
       "                                                             1500],\n",
       "                                        &#x27;min_samples_split&#x27;: [2, 10, 50, 100,\n",
       "                                                              500],\n",
       "                                        &#x27;n_estimators&#x27;: [10, 20, 30, 40, 50, 60,\n",
       "                                                         70, 80, 90, 100]},\n",
       "                   verbose=2)</pre><b>In a Jupyter environment, please rerun this cell to show the HTML representation or trust the notebook. <br />On GitHub, the HTML representation is unable to render, please try loading this page with nbviewer.org.</b></div><div class=\"sk-container\" hidden><div class=\"sk-item sk-dashed-wrapped\"><div class=\"sk-label-container\"><div class=\"sk-label sk-toggleable\"><input class=\"sk-toggleable__control sk-hidden--visually\" id=\"sk-estimator-id-13\" type=\"checkbox\" ><label for=\"sk-estimator-id-13\" class=\"sk-toggleable__label sk-toggleable__label-arrow\">RandomizedSearchCV</label><div class=\"sk-toggleable__content\"><pre>RandomizedSearchCV(cv=5, estimator=RandomForestClassifier(random_state=0),\n",
       "                   n_iter=20, n_jobs=4,\n",
       "                   param_distributions={&#x27;bootstrap&#x27;: [True, False],\n",
       "                                        &#x27;max_depth&#x27;: [50, 100, 500],\n",
       "                                        &#x27;max_features&#x27;: [1, &#x27;sqrt&#x27;, &#x27;log2&#x27;],\n",
       "                                        &#x27;max_leaf_nodes&#x27;: [1000, 1500, 1700],\n",
       "                                        &#x27;min_samples_leaf&#x27;: [100, 500, 1000,\n",
       "                                                             1500],\n",
       "                                        &#x27;min_samples_split&#x27;: [2, 10, 50, 100,\n",
       "                                                              500],\n",
       "                                        &#x27;n_estimators&#x27;: [10, 20, 30, 40, 50, 60,\n",
       "                                                         70, 80, 90, 100]},\n",
       "                   verbose=2)</pre></div></div></div><div class=\"sk-parallel\"><div class=\"sk-parallel-item\"><div class=\"sk-item\"><div class=\"sk-label-container\"><div class=\"sk-label sk-toggleable\"><input class=\"sk-toggleable__control sk-hidden--visually\" id=\"sk-estimator-id-14\" type=\"checkbox\" ><label for=\"sk-estimator-id-14\" class=\"sk-toggleable__label sk-toggleable__label-arrow\">estimator: RandomForestClassifier</label><div class=\"sk-toggleable__content\"><pre>RandomForestClassifier(random_state=0)</pre></div></div></div><div class=\"sk-serial\"><div class=\"sk-item\"><div class=\"sk-estimator sk-toggleable\"><input class=\"sk-toggleable__control sk-hidden--visually\" id=\"sk-estimator-id-15\" type=\"checkbox\" ><label for=\"sk-estimator-id-15\" class=\"sk-toggleable__label sk-toggleable__label-arrow\">RandomForestClassifier</label><div class=\"sk-toggleable__content\"><pre>RandomForestClassifier(random_state=0)</pre></div></div></div></div></div></div></div></div></div></div>"
      ],
      "text/plain": [
       "RandomizedSearchCV(cv=5, estimator=RandomForestClassifier(random_state=0),\n",
       "                   n_iter=20, n_jobs=4,\n",
       "                   param_distributions={'bootstrap': [True, False],\n",
       "                                        'max_depth': [50, 100, 500],\n",
       "                                        'max_features': [1, 'sqrt', 'log2'],\n",
       "                                        'max_leaf_nodes': [1000, 1500, 1700],\n",
       "                                        'min_samples_leaf': [100, 500, 1000,\n",
       "                                                             1500],\n",
       "                                        'min_samples_split': [2, 10, 50, 100,\n",
       "                                                              500],\n",
       "                                        'n_estimators': [10, 20, 30, 40, 50, 60,\n",
       "                                                         70, 80, 90, 100]},\n",
       "                   verbose=2)"
      ]
     },
     "execution_count": 177,
     "metadata": {},
     "output_type": "execute_result"
    }
   ],
   "source": [
    "rf_grid.fit(train_X, train_y)"
   ]
  },
  {
   "cell_type": "code",
   "execution_count": 178,
   "metadata": {},
   "outputs": [
    {
     "data": {
      "text/plain": [
       "{'n_estimators': 60,\n",
       " 'min_samples_split': 50,\n",
       " 'min_samples_leaf': 100,\n",
       " 'max_leaf_nodes': 1500,\n",
       " 'max_features': 'sqrt',\n",
       " 'max_depth': 500,\n",
       " 'bootstrap': False}"
      ]
     },
     "execution_count": 178,
     "metadata": {},
     "output_type": "execute_result"
    }
   ],
   "source": [
    "rf_grid.best_params_"
   ]
  },
  {
   "cell_type": "code",
   "execution_count": 179,
   "metadata": {},
   "outputs": [
    {
     "data": {
      "text/plain": [
       "0.698211044853513"
      ]
     },
     "execution_count": 179,
     "metadata": {},
     "output_type": "execute_result"
    }
   ],
   "source": [
    "rf_grid.score(val_X, val_y)"
   ]
  },
  {
   "cell_type": "code",
   "execution_count": 86,
   "metadata": {},
   "outputs": [],
   "source": [
    "rf_model2 = RandomForestClassifier(bootstrap= False,\n",
    " max_depth= 50,\n",
    " max_features= 'log2',\n",
    " min_samples_leaf= 100,\n",
    " min_samples_split= 100,\n",
    " n_estimators= 20,\n",
    " max_leaf_nodes= 1700,\n",
    " random_state=0)\n",
    "rf_model2.fit(train_X, train_y)\n",
    "y_pred = rf_model2.predict(val_X)\n",
    "# print(cross_val_score(tree_model, X, y, cv=5))"
   ]
  },
  {
   "cell_type": "code",
   "execution_count": 87,
   "metadata": {},
   "outputs": [
    {
     "data": {
      "text/plain": [
       "<AxesSubplot:>"
      ]
     },
     "execution_count": 87,
     "metadata": {},
     "output_type": "execute_result"
    },
    {
     "data": {
      "image/png": "[encoded data removed]",
      "text/plain": [
       "<Figure size 432x288 with 2 Axes>"
      ]
     },
     "metadata": {
      "needs_background": "light"
     },
     "output_type": "display_data"
    }
   ],
   "source": [
    "confusion_matrix_return = confusion_matrix(val_y, y_pred)\n",
    "sns.heatmap(confusion_matrix_return, annot=True, fmt = 'g')"
   ]
  },
  {
   "cell_type": "code",
   "execution_count": 32,
   "metadata": {},
   "outputs": [
    {
     "data": {
      "text/plain": [
       "0.7240036646816308"
      ]
     },
     "execution_count": 32,
     "metadata": {},
     "output_type": "execute_result"
    }
   ],
   "source": [
    "accuracy_score(val_y, y_pred)"
   ]
  },
  {
   "cell_type": "code",
   "execution_count": 57,
   "metadata": {},
   "outputs": [
    {
     "data": {
      "text/plain": [
       "0.7001295336787565"
      ]
     },
     "execution_count": 57,
     "metadata": {},
     "output_type": "execute_result"
    }
   ],
   "source": [
    "rf_model2.score(val_X, val_y)"
   ]
  },
  {
   "cell_type": "code",
   "execution_count": 88,
   "metadata": {},
   "outputs": [
    {
     "name": "stdout",
     "output_type": "stream",
     "text": [
      "1    1918\n",
      "0    1563\n",
      "2    1326\n",
      "Name: code_prim_fuel_transf, dtype: int64\n"
     ]
    },
    {
     "data": {
      "text/plain": [
       "<AxesSubplot:>"
      ]
     },
     "execution_count": 88,
     "metadata": {},
     "output_type": "execute_result"
    },
    {
     "data": {
      "image/png": "[encoded data removed]",
      "text/plain": [
       "<Figure size 432x288 with 1 Axes>"
      ]
     },
     "metadata": {
      "needs_background": "light"
     },
     "output_type": "display_data"
    }
   ],
   "source": [
    "print(val_y.value_counts())\n",
    "val_y.value_counts().plot.bar()"
   ]
  },
  {
   "cell_type": "markdown",
   "metadata": {},
   "source": [
    "# XGBOOST"
   ]
  },
  {
   "cell_type": "code",
   "execution_count": 89,
   "metadata": {},
   "outputs": [
    {
     "data": {
      "text/html": [
       "<style>#sk-container-id-7 {color: black;background-color: white;}#sk-container-id-7 pre{padding: 0;}#sk-container-id-7 div.sk-toggleable {background-color: white;}#sk-container-id-7 label.sk-toggleable__label {cursor: pointer;display: block;width: 100%;margin-bottom: 0;padding: 0.3em;box-sizing: border-box;text-align: center;}#sk-container-id-7 label.sk-toggleable__label-arrow:before {content: \"▸\";float: left;margin-right: 0.25em;color: #696969;}#sk-container-id-7 label.sk-toggleable__label-arrow:hover:before {color: black;}#sk-container-id-7 div.sk-estimator:hover label.sk-toggleable__label-arrow:before {color: black;}#sk-container-id-7 div.sk-toggleable__content {max-height: 0;max-width: 0;overflow: hidden;text-align: left;background-color: #f0f8ff;}#sk-container-id-7 div.sk-toggleable__content pre {margin: 0.2em;color: black;border-radius: 0.25em;background-color: #f0f8ff;}#sk-container-id-7 input.sk-toggleable__control:checked~div.sk-toggleable__content {max-height: 200px;max-width: 100%;overflow: auto;}#sk-container-id-7 input.sk-toggleable__control:checked~label.sk-toggleable__label-arrow:before {content: \"▾\";}#sk-container-id-7 div.sk-estimator input.sk-toggleable__control:checked~label.sk-toggleable__label {background-color: #d4ebff;}#sk-container-id-7 div.sk-label input.sk-toggleable__control:checked~label.sk-toggleable__label {background-color: #d4ebff;}#sk-container-id-7 input.sk-hidden--visually {border: 0;clip: rect(1px 1px 1px 1px);clip: rect(1px, 1px, 1px, 1px);height: 1px;margin: -1px;overflow: hidden;padding: 0;position: absolute;width: 1px;}#sk-container-id-7 div.sk-estimator {font-family: monospace;background-color: #f0f8ff;border: 1px dotted black;border-radius: 0.25em;box-sizing: border-box;margin-bottom: 0.5em;}#sk-container-id-7 div.sk-estimator:hover {background-color: #d4ebff;}#sk-container-id-7 div.sk-parallel-item::after {content: \"\";width: 100%;border-bottom: 1px solid gray;flex-grow: 1;}#sk-container-id-7 div.sk-label:hover label.sk-toggleable__label {background-color: #d4ebff;}#sk-container-id-7 div.sk-serial::before {content: \"\";position: absolute;border-left: 1px solid gray;box-sizing: border-box;top: 0;bottom: 0;left: 50%;z-index: 0;}#sk-container-id-7 div.sk-serial {display: flex;flex-direction: column;align-items: center;background-color: white;padding-right: 0.2em;padding-left: 0.2em;position: relative;}#sk-container-id-7 div.sk-item {position: relative;z-index: 1;}#sk-container-id-7 div.sk-parallel {display: flex;align-items: stretch;justify-content: center;background-color: white;position: relative;}#sk-container-id-7 div.sk-item::before, #sk-container-id-7 div.sk-parallel-item::before {content: \"\";position: absolute;border-left: 1px solid gray;box-sizing: border-box;top: 0;bottom: 0;left: 50%;z-index: -1;}#sk-container-id-7 div.sk-parallel-item {display: flex;flex-direction: column;z-index: 1;position: relative;background-color: white;}#sk-container-id-7 div.sk-parallel-item:first-child::after {align-self: flex-end;width: 50%;}#sk-container-id-7 div.sk-parallel-item:last-child::after {align-self: flex-start;width: 50%;}#sk-container-id-7 div.sk-parallel-item:only-child::after {width: 0;}#sk-container-id-7 div.sk-dashed-wrapped {border: 1px dashed gray;margin: 0 0.4em 0.5em 0.4em;box-sizing: border-box;padding-bottom: 0.4em;background-color: white;}#sk-container-id-7 div.sk-label label {font-family: monospace;font-weight: bold;display: inline-block;line-height: 1.2em;}#sk-container-id-7 div.sk-label-container {text-align: center;}#sk-container-id-7 div.sk-container {/* jupyter's `normalize.less` sets `[hidden] { display: none; }` but bootstrap.min.css set `[hidden] { display: none !important; }` so we also need the `!important` here to be able to override the default hidden behavior on the sphinx rendered scikit-learn.org. See: https://github.com/scikit-learn/scikit-learn/issues/21755 */display: inline-block !important;position: relative;}#sk-container-id-7 div.sk-text-repr-fallback {display: none;}</style><div id=\"sk-container-id-7\" class=\"sk-top-container\"><div class=\"sk-text-repr-fallback\"><pre>XGBClassifier(base_score=0.5, booster=&#x27;gbtree&#x27;, callbacks=None,\n",
       "              colsample_bylevel=1, colsample_bynode=1, colsample_bytree=1,\n",
       "              early_stopping_rounds=None, enable_categorical=False,\n",
       "              eval_metric=None, gamma=0, gpu_id=-1, grow_policy=&#x27;depthwise&#x27;,\n",
       "              importance_type=None, interaction_constraints=&#x27;&#x27;,\n",
       "              learning_rate=0.300000012, max_bin=256, max_cat_to_onehot=4,\n",
       "              max_delta_step=0, max_depth=6, max_leaves=0, min_child_weight=1,\n",
       "              missing=nan, monotone_constraints=&#x27;()&#x27;, n_estimators=100,\n",
       "              n_jobs=0, num_parallel_tree=1, objective=&#x27;multi:softprob&#x27;,\n",
       "              predictor=&#x27;auto&#x27;, random_state=0, reg_alpha=0, ...)</pre><b>In a Jupyter environment, please rerun this cell to show the HTML representation or trust the notebook. <br />On GitHub, the HTML representation is unable to render, please try loading this page with nbviewer.org.</b></div><div class=\"sk-container\" hidden><div class=\"sk-item\"><div class=\"sk-estimator sk-toggleable\"><input class=\"sk-toggleable__control sk-hidden--visually\" id=\"sk-estimator-id-9\" type=\"checkbox\" checked><label for=\"sk-estimator-id-9\" class=\"sk-toggleable__label sk-toggleable__label-arrow\">XGBClassifier</label><div class=\"sk-toggleable__content\"><pre>XGBClassifier(base_score=0.5, booster=&#x27;gbtree&#x27;, callbacks=None,\n",
       "              colsample_bylevel=1, colsample_bynode=1, colsample_bytree=1,\n",
       "              early_stopping_rounds=None, enable_categorical=False,\n",
       "              eval_metric=None, gamma=0, gpu_id=-1, grow_policy=&#x27;depthwise&#x27;,\n",
       "              importance_type=None, interaction_constraints=&#x27;&#x27;,\n",
       "              learning_rate=0.300000012, max_bin=256, max_cat_to_onehot=4,\n",
       "              max_delta_step=0, max_depth=6, max_leaves=0, min_child_weight=1,\n",
       "              missing=nan, monotone_constraints=&#x27;()&#x27;, n_estimators=100,\n",
       "              n_jobs=0, num_parallel_tree=1, objective=&#x27;multi:softprob&#x27;,\n",
       "              predictor=&#x27;auto&#x27;, random_state=0, reg_alpha=0, ...)</pre></div></div></div></div></div>"
      ],
      "text/plain": [
       "XGBClassifier(base_score=0.5, booster='gbtree', callbacks=None,\n",
       "              colsample_bylevel=1, colsample_bynode=1, colsample_bytree=1,\n",
       "              early_stopping_rounds=None, enable_categorical=False,\n",
       "              eval_metric=None, gamma=0, gpu_id=-1, grow_policy='depthwise',\n",
       "              importance_type=None, interaction_constraints='',\n",
       "              learning_rate=0.300000012, max_bin=256, max_cat_to_onehot=4,\n",
       "              max_delta_step=0, max_depth=6, max_leaves=0, min_child_weight=1,\n",
       "              missing=nan, monotone_constraints='()', n_estimators=100,\n",
       "              n_jobs=0, num_parallel_tree=1, objective='multi:softprob',\n",
       "              predictor='auto', random_state=0, reg_alpha=0, ...)"
      ]
     },
     "execution_count": 89,
     "metadata": {},
     "output_type": "execute_result"
    }
   ],
   "source": [
    "xgbclass_model_1 = XGBClassifier(random_state=0)\n",
    "xgbclass_model_1.fit(train_X, train_y)"
   ]
  },
  {
   "cell_type": "code",
   "execution_count": 90,
   "metadata": {},
   "outputs": [],
   "source": [
    "y_pred = xgbclass_model_1.predict(val_X)"
   ]
  },
  {
   "cell_type": "code",
   "execution_count": 91,
   "metadata": {},
   "outputs": [
    {
     "data": {
      "text/plain": [
       "0.7657582691907635"
      ]
     },
     "execution_count": 91,
     "metadata": {},
     "output_type": "execute_result"
    }
   ],
   "source": [
    "xgbclass_model_1.score(val_X, val_y)"
   ]
  },
  {
   "cell_type": "code",
   "execution_count": 92,
   "metadata": {},
   "outputs": [
    {
     "data": {
      "text/plain": [
       "<AxesSubplot:>"
      ]
     },
     "execution_count": 92,
     "metadata": {},
     "output_type": "execute_result"
    },
    {
     "data": {
      "image/png": "[encoded data removed]",
      "text/plain": [
       "<Figure size 432x288 with 2 Axes>"
      ]
     },
     "metadata": {
      "needs_background": "light"
     },
     "output_type": "display_data"
    }
   ],
   "source": [
    "confusion_matrix_return = confusion_matrix(val_y, y_pred)\n",
    "sns.heatmap(confusion_matrix_return, annot=True, fmt = 'g')"
   ]
  },
  {
   "cell_type": "code",
   "execution_count": 180,
   "metadata": {},
   "outputs": [
    {
     "data": {
      "text/html": [
       "<style>#sk-container-id-12 {color: black;background-color: white;}#sk-container-id-12 pre{padding: 0;}#sk-container-id-12 div.sk-toggleable {background-color: white;}#sk-container-id-12 label.sk-toggleable__label {cursor: pointer;display: block;width: 100%;margin-bottom: 0;padding: 0.3em;box-sizing: border-box;text-align: center;}#sk-container-id-12 label.sk-toggleable__label-arrow:before {content: \"▸\";float: left;margin-right: 0.25em;color: #696969;}#sk-container-id-12 label.sk-toggleable__label-arrow:hover:before {color: black;}#sk-container-id-12 div.sk-estimator:hover label.sk-toggleable__label-arrow:before {color: black;}#sk-container-id-12 div.sk-toggleable__content {max-height: 0;max-width: 0;overflow: hidden;text-align: left;background-color: #f0f8ff;}#sk-container-id-12 div.sk-toggleable__content pre {margin: 0.2em;color: black;border-radius: 0.25em;background-color: #f0f8ff;}#sk-container-id-12 input.sk-toggleable__control:checked~div.sk-toggleable__content {max-height: 200px;max-width: 100%;overflow: auto;}#sk-container-id-12 input.sk-toggleable__control:checked~label.sk-toggleable__label-arrow:before {content: \"▾\";}#sk-container-id-12 div.sk-estimator input.sk-toggleable__control:checked~label.sk-toggleable__label {background-color: #d4ebff;}#sk-container-id-12 div.sk-label input.sk-toggleable__control:checked~label.sk-toggleable__label {background-color: #d4ebff;}#sk-container-id-12 input.sk-hidden--visually {border: 0;clip: rect(1px 1px 1px 1px);clip: rect(1px, 1px, 1px, 1px);height: 1px;margin: -1px;overflow: hidden;padding: 0;position: absolute;width: 1px;}#sk-container-id-12 div.sk-estimator {font-family: monospace;background-color: #f0f8ff;border: 1px dotted black;border-radius: 0.25em;box-sizing: border-box;margin-bottom: 0.5em;}#sk-container-id-12 div.sk-estimator:hover {background-color: #d4ebff;}#sk-container-id-12 div.sk-parallel-item::after {content: \"\";width: 100%;border-bottom: 1px solid gray;flex-grow: 1;}#sk-container-id-12 div.sk-label:hover label.sk-toggleable__label {background-color: #d4ebff;}#sk-container-id-12 div.sk-serial::before {content: \"\";position: absolute;border-left: 1px solid gray;box-sizing: border-box;top: 0;bottom: 0;left: 50%;z-index: 0;}#sk-container-id-12 div.sk-serial {display: flex;flex-direction: column;align-items: center;background-color: white;padding-right: 0.2em;padding-left: 0.2em;position: relative;}#sk-container-id-12 div.sk-item {position: relative;z-index: 1;}#sk-container-id-12 div.sk-parallel {display: flex;align-items: stretch;justify-content: center;background-color: white;position: relative;}#sk-container-id-12 div.sk-item::before, #sk-container-id-12 div.sk-parallel-item::before {content: \"\";position: absolute;border-left: 1px solid gray;box-sizing: border-box;top: 0;bottom: 0;left: 50%;z-index: -1;}#sk-container-id-12 div.sk-parallel-item {display: flex;flex-direction: column;z-index: 1;position: relative;background-color: white;}#sk-container-id-12 div.sk-parallel-item:first-child::after {align-self: flex-end;width: 50%;}#sk-container-id-12 div.sk-parallel-item:last-child::after {align-self: flex-start;width: 50%;}#sk-container-id-12 div.sk-parallel-item:only-child::after {width: 0;}#sk-container-id-12 div.sk-dashed-wrapped {border: 1px dashed gray;margin: 0 0.4em 0.5em 0.4em;box-sizing: border-box;padding-bottom: 0.4em;background-color: white;}#sk-container-id-12 div.sk-label label {font-family: monospace;font-weight: bold;display: inline-block;line-height: 1.2em;}#sk-container-id-12 div.sk-label-container {text-align: center;}#sk-container-id-12 div.sk-container {/* jupyter's `normalize.less` sets `[hidden] { display: none; }` but bootstrap.min.css set `[hidden] { display: none !important; }` so we also need the `!important` here to be able to override the default hidden behavior on the sphinx rendered scikit-learn.org. See: https://github.com/scikit-learn/scikit-learn/issues/21755 */display: inline-block !important;position: relative;}#sk-container-id-12 div.sk-text-repr-fallback {display: none;}</style><div id=\"sk-container-id-12\" class=\"sk-top-container\"><div class=\"sk-text-repr-fallback\"><pre>XGBClassifier(base_score=0.5, booster=&#x27;gbtree&#x27;, callbacks=None,\n",
       "              colsample_bylevel=1, colsample_bynode=1, colsample_bytree=1,\n",
       "              early_stopping_rounds=5, enable_categorical=False,\n",
       "              eval_metric=None, gamma=0, gpu_id=-1, grow_policy=&#x27;depthwise&#x27;,\n",
       "              importance_type=None, interaction_constraints=&#x27;&#x27;,\n",
       "              learning_rate=0.05, max_bin=256, max_cat_to_onehot=4,\n",
       "              max_delta_step=0, max_depth=6, max_leaves=0, min_child_weight=1,\n",
       "              missing=nan, monotone_constraints=&#x27;()&#x27;, n_estimators=1000,\n",
       "              n_jobs=4, num_parallel_tree=1, objective=&#x27;multi:softprob&#x27;,\n",
       "              predictor=&#x27;auto&#x27;, random_state=0, reg_alpha=0, ...)</pre><b>In a Jupyter environment, please rerun this cell to show the HTML representation or trust the notebook. <br />On GitHub, the HTML representation is unable to render, please try loading this page with nbviewer.org.</b></div><div class=\"sk-container\" hidden><div class=\"sk-item\"><div class=\"sk-estimator sk-toggleable\"><input class=\"sk-toggleable__control sk-hidden--visually\" id=\"sk-estimator-id-16\" type=\"checkbox\" checked><label for=\"sk-estimator-id-16\" class=\"sk-toggleable__label sk-toggleable__label-arrow\">XGBClassifier</label><div class=\"sk-toggleable__content\"><pre>XGBClassifier(base_score=0.5, booster=&#x27;gbtree&#x27;, callbacks=None,\n",
       "              colsample_bylevel=1, colsample_bynode=1, colsample_bytree=1,\n",
       "              early_stopping_rounds=5, enable_categorical=False,\n",
       "              eval_metric=None, gamma=0, gpu_id=-1, grow_policy=&#x27;depthwise&#x27;,\n",
       "              importance_type=None, interaction_constraints=&#x27;&#x27;,\n",
       "              learning_rate=0.05, max_bin=256, max_cat_to_onehot=4,\n",
       "              max_delta_step=0, max_depth=6, max_leaves=0, min_child_weight=1,\n",
       "              missing=nan, monotone_constraints=&#x27;()&#x27;, n_estimators=1000,\n",
       "              n_jobs=4, num_parallel_tree=1, objective=&#x27;multi:softprob&#x27;,\n",
       "              predictor=&#x27;auto&#x27;, random_state=0, reg_alpha=0, ...)</pre></div></div></div></div></div>"
      ],
      "text/plain": [
       "XGBClassifier(base_score=0.5, booster='gbtree', callbacks=None,\n",
       "              colsample_bylevel=1, colsample_bynode=1, colsample_bytree=1,\n",
       "              early_stopping_rounds=5, enable_categorical=False,\n",
       "              eval_metric=None, gamma=0, gpu_id=-1, grow_policy='depthwise',\n",
       "              importance_type=None, interaction_constraints='',\n",
       "              learning_rate=0.05, max_bin=256, max_cat_to_onehot=4,\n",
       "              max_delta_step=0, max_depth=6, max_leaves=0, min_child_weight=1,\n",
       "              missing=nan, monotone_constraints='()', n_estimators=1000,\n",
       "              n_jobs=4, num_parallel_tree=1, objective='multi:softprob',\n",
       "              predictor='auto', random_state=0, reg_alpha=0, ...)"
      ]
     },
     "execution_count": 180,
     "metadata": {},
     "output_type": "execute_result"
    }
   ],
   "source": [
    "xgbclass_model_2 = XGBClassifier(n_estimators=1000, learning_rate=0.05, n_jobs=4, early_stopping_rounds=5)\n",
    "xgbclass_model_2.fit(train_X, train_y, \n",
    "             eval_set=[(val_X, val_y)], \n",
    "             verbose=False)"
   ]
  },
  {
   "cell_type": "code",
   "execution_count": 181,
   "metadata": {},
   "outputs": [],
   "source": [
    "y_pred = xgbclass_model_2.predict(val_X)"
   ]
  },
  {
   "cell_type": "code",
   "execution_count": 182,
   "metadata": {},
   "outputs": [
    {
     "data": {
      "text/plain": [
       "0.7619911848586984"
      ]
     },
     "execution_count": 182,
     "metadata": {},
     "output_type": "execute_result"
    }
   ],
   "source": [
    "xgbclass_model_2.score(val_X, val_y)"
   ]
  },
  {
   "cell_type": "code",
   "execution_count": 183,
   "metadata": {},
   "outputs": [
    {
     "data": {
      "text/plain": [
       "<AxesSubplot:>"
      ]
     },
     "execution_count": 183,
     "metadata": {},
     "output_type": "execute_result"
    },
    {
     "data": {
      "image/png": "[encoded data removed]",
      "text/plain": [
       "<Figure size 432x288 with 2 Axes>"
      ]
     },
     "metadata": {
      "needs_background": "light"
     },
     "output_type": "display_data"
    }
   ],
   "source": [
    "confusion_matrix_return = confusion_matrix(val_y, y_pred)\n",
    "sns.heatmap(confusion_matrix_return, annot=True, fmt = 'g')"
   ]
  },
  {
   "cell_type": "markdown",
   "metadata": {},
   "source": [
    "# KNN"
   ]
  },
  {
   "cell_type": "code",
   "execution_count": 99,
   "metadata": {},
   "outputs": [
    {
     "name": "stdout",
     "output_type": "stream",
     "text": [
      "5\n"
     ]
    },
    {
     "data": {
      "text/plain": [
       "<AxesSubplot:>"
      ]
     },
     "execution_count": 99,
     "metadata": {},
     "output_type": "execute_result"
    },
    {
     "data": {
      "image/png": "[encoded data removed]",
      "text/plain": [
       "<Figure size 432x288 with 1 Axes>"
      ]
     },
     "metadata": {
      "needs_background": "light"
     },
     "output_type": "display_data"
    }
   ],
   "source": [
    "candidate_n_neighbors = np.arange(1,31)\n",
    "results = {}\n",
    "# Write loop to find the ideal tree size from candidate_max_leaf_nodes\n",
    "\n",
    "\n",
    "results = {n: get_accuracy_knn(n, train_X, val_X, train_y, val_y) for n in candidate_n_neighbors}\n",
    "best_n_neighbors = max(results, key=results.get)\n",
    "print(best_n_neighbors)\n",
    "sns.lineplot(data=results, x= results.keys(), y= results.values())"
   ]
  },
  {
   "cell_type": "code",
   "execution_count": 100,
   "metadata": {},
   "outputs": [
    {
     "data": {
      "text/html": [
       "<style>#sk-container-id-9 {color: black;background-color: white;}#sk-container-id-9 pre{padding: 0;}#sk-container-id-9 div.sk-toggleable {background-color: white;}#sk-container-id-9 label.sk-toggleable__label {cursor: pointer;display: block;width: 100%;margin-bottom: 0;padding: 0.3em;box-sizing: border-box;text-align: center;}#sk-container-id-9 label.sk-toggleable__label-arrow:before {content: \"▸\";float: left;margin-right: 0.25em;color: #696969;}#sk-container-id-9 label.sk-toggleable__label-arrow:hover:before {color: black;}#sk-container-id-9 div.sk-estimator:hover label.sk-toggleable__label-arrow:before {color: black;}#sk-container-id-9 div.sk-toggleable__content {max-height: 0;max-width: 0;overflow: hidden;text-align: left;background-color: #f0f8ff;}#sk-container-id-9 div.sk-toggleable__content pre {margin: 0.2em;color: black;border-radius: 0.25em;background-color: #f0f8ff;}#sk-container-id-9 input.sk-toggleable__control:checked~div.sk-toggleable__content {max-height: 200px;max-width: 100%;overflow: auto;}#sk-container-id-9 input.sk-toggleable__control:checked~label.sk-toggleable__label-arrow:before {content: \"▾\";}#sk-container-id-9 div.sk-estimator input.sk-toggleable__control:checked~label.sk-toggleable__label {background-color: #d4ebff;}#sk-container-id-9 div.sk-label input.sk-toggleable__control:checked~label.sk-toggleable__label {background-color: #d4ebff;}#sk-container-id-9 input.sk-hidden--visually {border: 0;clip: rect(1px 1px 1px 1px);clip: rect(1px, 1px, 1px, 1px);height: 1px;margin: -1px;overflow: hidden;padding: 0;position: absolute;width: 1px;}#sk-container-id-9 div.sk-estimator {font-family: monospace;background-color: #f0f8ff;border: 1px dotted black;border-radius: 0.25em;box-sizing: border-box;margin-bottom: 0.5em;}#sk-container-id-9 div.sk-estimator:hover {background-color: #d4ebff;}#sk-container-id-9 div.sk-parallel-item::after {content: \"\";width: 100%;border-bottom: 1px solid gray;flex-grow: 1;}#sk-container-id-9 div.sk-label:hover label.sk-toggleable__label {background-color: #d4ebff;}#sk-container-id-9 div.sk-serial::before {content: \"\";position: absolute;border-left: 1px solid gray;box-sizing: border-box;top: 0;bottom: 0;left: 50%;z-index: 0;}#sk-container-id-9 div.sk-serial {display: flex;flex-direction: column;align-items: center;background-color: white;padding-right: 0.2em;padding-left: 0.2em;position: relative;}#sk-container-id-9 div.sk-item {position: relative;z-index: 1;}#sk-container-id-9 div.sk-parallel {display: flex;align-items: stretch;justify-content: center;background-color: white;position: relative;}#sk-container-id-9 div.sk-item::before, #sk-container-id-9 div.sk-parallel-item::before {content: \"\";position: absolute;border-left: 1px solid gray;box-sizing: border-box;top: 0;bottom: 0;left: 50%;z-index: -1;}#sk-container-id-9 div.sk-parallel-item {display: flex;flex-direction: column;z-index: 1;position: relative;background-color: white;}#sk-container-id-9 div.sk-parallel-item:first-child::after {align-self: flex-end;width: 50%;}#sk-container-id-9 div.sk-parallel-item:last-child::after {align-self: flex-start;width: 50%;}#sk-container-id-9 div.sk-parallel-item:only-child::after {width: 0;}#sk-container-id-9 div.sk-dashed-wrapped {border: 1px dashed gray;margin: 0 0.4em 0.5em 0.4em;box-sizing: border-box;padding-bottom: 0.4em;background-color: white;}#sk-container-id-9 div.sk-label label {font-family: monospace;font-weight: bold;display: inline-block;line-height: 1.2em;}#sk-container-id-9 div.sk-label-container {text-align: center;}#sk-container-id-9 div.sk-container {/* jupyter's `normalize.less` sets `[hidden] { display: none; }` but bootstrap.min.css set `[hidden] { display: none !important; }` so we also need the `!important` here to be able to override the default hidden behavior on the sphinx rendered scikit-learn.org. See: https://github.com/scikit-learn/scikit-learn/issues/21755 */display: inline-block !important;position: relative;}#sk-container-id-9 div.sk-text-repr-fallback {display: none;}</style><div id=\"sk-container-id-9\" class=\"sk-top-container\"><div class=\"sk-text-repr-fallback\"><pre>KNeighborsClassifier()</pre><b>In a Jupyter environment, please rerun this cell to show the HTML representation or trust the notebook. <br />On GitHub, the HTML representation is unable to render, please try loading this page with nbviewer.org.</b></div><div class=\"sk-container\" hidden><div class=\"sk-item\"><div class=\"sk-estimator sk-toggleable\"><input class=\"sk-toggleable__control sk-hidden--visually\" id=\"sk-estimator-id-11\" type=\"checkbox\" checked><label for=\"sk-estimator-id-11\" class=\"sk-toggleable__label sk-toggleable__label-arrow\">KNeighborsClassifier</label><div class=\"sk-toggleable__content\"><pre>KNeighborsClassifier()</pre></div></div></div></div></div>"
      ],
      "text/plain": [
       "KNeighborsClassifier()"
      ]
     },
     "execution_count": 100,
     "metadata": {},
     "output_type": "execute_result"
    }
   ],
   "source": [
    "knn_model_1 = KNeighborsClassifier(n_neighbors = best_n_neighbors)\n",
    "knn_model_1.fit(train_X, train_y)"
   ]
  },
  {
   "cell_type": "code",
   "execution_count": 101,
   "metadata": {},
   "outputs": [
    {
     "data": {
      "text/plain": [
       "0.7376742250884127"
      ]
     },
     "execution_count": 101,
     "metadata": {},
     "output_type": "execute_result"
    }
   ],
   "source": [
    "knn_model_1.score(val_X, val_y)"
   ]
  },
  {
   "cell_type": "code",
   "execution_count": 184,
   "metadata": {},
   "outputs": [],
   "source": [
    "# train_X_normalized = stats.boxcox(train_X)\n",
    "x = train_X.values #returns a numpy array\n",
    "min_max_scaler = MinMaxScaler()\n",
    "power_transformer = PowerTransformer(method='yeo-johnson')\n",
    "# x_scaled = min_max_scaler.fit_transform(x)\n",
    "x_scaled = power_transformer.fit_transform(x)\n",
    "train_X_scaled = pd.DataFrame(x_scaled, index=train_X.index, columns=train_X.columns)\n",
    "\n",
    "x = val_X.values #returns a numpy array\n",
    "# x_scaled = min_max_scaler.fit_transform(x)\n",
    "x_scaled = power_transformer.fit_transform(x)\n",
    "val_X_scaled = pd.DataFrame(x_scaled, index=val_X.index, columns=val_X.columns)\n"
   ]
  },
  {
   "cell_type": "code",
   "execution_count": 185,
   "metadata": {},
   "outputs": [
    {
     "data": {
      "text/html": [
       "<div>\n",
       "<style scoped>\n",
       "    .dataframe tbody tr th:only-of-type {\n",
       "        vertical-align: middle;\n",
       "    }\n",
       "\n",
       "    .dataframe tbody tr th {\n",
       "        vertical-align: top;\n",
       "    }\n",
       "\n",
       "    .dataframe thead th {\n",
       "        text-align: right;\n",
       "    }\n",
       "</style>\n",
       "<table border=\"1\" class=\"dataframe\">\n",
       "  <thead>\n",
       "    <tr style=\"text-align: right;\">\n",
       "      <th></th>\n",
       "      <th>ANN_ALLSKY_KT_2012</th>\n",
       "      <th>ANN_ALLSKY_KT_2013</th>\n",
       "      <th>ANN_ALLSKY_KT_2014</th>\n",
       "      <th>ANN_ALLSKY_KT_2015</th>\n",
       "      <th>ANN_ALLSKY_KT_2016</th>\n",
       "      <th>ANN_ALLSKY_KT_2017</th>\n",
       "      <th>ANN_ALLSKY_KT_2018</th>\n",
       "      <th>ANN_ALLSKY_KT_2019</th>\n",
       "      <th>ANN_ALLSKY_SFC_SW_DWN_2012</th>\n",
       "      <th>ANN_ALLSKY_SFC_SW_DWN_2013</th>\n",
       "      <th>...</th>\n",
       "      <th>winter_WS50M_MAX_AVG_2018</th>\n",
       "      <th>winter_WS50M_MAX_AVG_2019</th>\n",
       "      <th>winter_WS50M_MIN_AVG_2012</th>\n",
       "      <th>winter_WS50M_MIN_AVG_2013</th>\n",
       "      <th>winter_WS50M_MIN_AVG_2014</th>\n",
       "      <th>winter_WS50M_MIN_AVG_2015</th>\n",
       "      <th>winter_WS50M_MIN_AVG_2016</th>\n",
       "      <th>winter_WS50M_MIN_AVG_2017</th>\n",
       "      <th>winter_WS50M_MIN_AVG_2018</th>\n",
       "      <th>winter_WS50M_MIN_AVG_2019</th>\n",
       "    </tr>\n",
       "    <tr>\n",
       "      <th>index</th>\n",
       "      <th></th>\n",
       "      <th></th>\n",
       "      <th></th>\n",
       "      <th></th>\n",
       "      <th></th>\n",
       "      <th></th>\n",
       "      <th></th>\n",
       "      <th></th>\n",
       "      <th></th>\n",
       "      <th></th>\n",
       "      <th></th>\n",
       "      <th></th>\n",
       "      <th></th>\n",
       "      <th></th>\n",
       "      <th></th>\n",
       "      <th></th>\n",
       "      <th></th>\n",
       "      <th></th>\n",
       "      <th></th>\n",
       "      <th></th>\n",
       "      <th></th>\n",
       "    </tr>\n",
       "  </thead>\n",
       "  <tbody>\n",
       "    <tr>\n",
       "      <th>9681</th>\n",
       "      <td>-0.659694</td>\n",
       "      <td>-1.058854</td>\n",
       "      <td>-1.085571</td>\n",
       "      <td>-1.028013</td>\n",
       "      <td>-1.130704</td>\n",
       "      <td>-0.678359</td>\n",
       "      <td>-0.794052</td>\n",
       "      <td>-0.774989</td>\n",
       "      <td>-0.887909</td>\n",
       "      <td>-1.130665</td>\n",
       "      <td>...</td>\n",
       "      <td>-0.209215</td>\n",
       "      <td>0.334817</td>\n",
       "      <td>0.838885</td>\n",
       "      <td>0.125200</td>\n",
       "      <td>-0.250262</td>\n",
       "      <td>0.276219</td>\n",
       "      <td>0.084171</td>\n",
       "      <td>0.373515</td>\n",
       "      <td>0.161252</td>\n",
       "      <td>0.587314</td>\n",
       "    </tr>\n",
       "    <tr>\n",
       "      <th>13513</th>\n",
       "      <td>-0.659694</td>\n",
       "      <td>-1.058854</td>\n",
       "      <td>-1.085571</td>\n",
       "      <td>-0.724887</td>\n",
       "      <td>-0.981144</td>\n",
       "      <td>-0.678359</td>\n",
       "      <td>-0.616885</td>\n",
       "      <td>-0.774989</td>\n",
       "      <td>-0.908741</td>\n",
       "      <td>-1.130665</td>\n",
       "      <td>...</td>\n",
       "      <td>0.328719</td>\n",
       "      <td>0.709388</td>\n",
       "      <td>0.844585</td>\n",
       "      <td>0.249720</td>\n",
       "      <td>-0.311061</td>\n",
       "      <td>0.234169</td>\n",
       "      <td>0.050649</td>\n",
       "      <td>0.400446</td>\n",
       "      <td>0.247695</td>\n",
       "      <td>0.669521</td>\n",
       "    </tr>\n",
       "    <tr>\n",
       "      <th>6732</th>\n",
       "      <td>-1.851343</td>\n",
       "      <td>-1.233037</td>\n",
       "      <td>-1.888750</td>\n",
       "      <td>-2.286254</td>\n",
       "      <td>-1.747239</td>\n",
       "      <td>-1.718036</td>\n",
       "      <td>-1.756774</td>\n",
       "      <td>-1.584039</td>\n",
       "      <td>-0.763218</td>\n",
       "      <td>-0.270505</td>\n",
       "      <td>...</td>\n",
       "      <td>-0.325403</td>\n",
       "      <td>-0.516699</td>\n",
       "      <td>0.054040</td>\n",
       "      <td>-0.293824</td>\n",
       "      <td>-0.129162</td>\n",
       "      <td>-0.441701</td>\n",
       "      <td>-0.189501</td>\n",
       "      <td>-0.474297</td>\n",
       "      <td>-0.218277</td>\n",
       "      <td>-0.207324</td>\n",
       "    </tr>\n",
       "    <tr>\n",
       "      <th>28832</th>\n",
       "      <td>0.245426</td>\n",
       "      <td>-0.263962</td>\n",
       "      <td>-0.341097</td>\n",
       "      <td>-0.278258</td>\n",
       "      <td>-0.119655</td>\n",
       "      <td>-0.257554</td>\n",
       "      <td>-0.444447</td>\n",
       "      <td>-0.465851</td>\n",
       "      <td>0.116630</td>\n",
       "      <td>-0.154386</td>\n",
       "      <td>...</td>\n",
       "      <td>-0.303643</td>\n",
       "      <td>-0.205891</td>\n",
       "      <td>-0.434844</td>\n",
       "      <td>-0.131026</td>\n",
       "      <td>-0.239323</td>\n",
       "      <td>-0.234487</td>\n",
       "      <td>-0.527411</td>\n",
       "      <td>-0.393634</td>\n",
       "      <td>0.085453</td>\n",
       "      <td>-0.199720</td>\n",
       "    </tr>\n",
       "    <tr>\n",
       "      <th>8303</th>\n",
       "      <td>-1.851343</td>\n",
       "      <td>-1.412750</td>\n",
       "      <td>-2.057027</td>\n",
       "      <td>-2.124796</td>\n",
       "      <td>-2.066983</td>\n",
       "      <td>-1.718036</td>\n",
       "      <td>-1.965988</td>\n",
       "      <td>-1.752395</td>\n",
       "      <td>-0.783965</td>\n",
       "      <td>-0.398542</td>\n",
       "      <td>...</td>\n",
       "      <td>-0.325403</td>\n",
       "      <td>-0.516699</td>\n",
       "      <td>0.054040</td>\n",
       "      <td>-0.293824</td>\n",
       "      <td>-0.129162</td>\n",
       "      <td>-0.441701</td>\n",
       "      <td>-0.189501</td>\n",
       "      <td>-0.474297</td>\n",
       "      <td>-0.218277</td>\n",
       "      <td>-0.207324</td>\n",
       "    </tr>\n",
       "    <tr>\n",
       "      <th>...</th>\n",
       "      <td>...</td>\n",
       "      <td>...</td>\n",
       "      <td>...</td>\n",
       "      <td>...</td>\n",
       "      <td>...</td>\n",
       "      <td>...</td>\n",
       "      <td>...</td>\n",
       "      <td>...</td>\n",
       "      <td>...</td>\n",
       "      <td>...</td>\n",
       "      <td>...</td>\n",
       "      <td>...</td>\n",
       "      <td>...</td>\n",
       "      <td>...</td>\n",
       "      <td>...</td>\n",
       "      <td>...</td>\n",
       "      <td>...</td>\n",
       "      <td>...</td>\n",
       "      <td>...</td>\n",
       "      <td>...</td>\n",
       "      <td>...</td>\n",
       "    </tr>\n",
       "    <tr>\n",
       "      <th>29443</th>\n",
       "      <td>0.373260</td>\n",
       "      <td>0.021862</td>\n",
       "      <td>0.079956</td>\n",
       "      <td>-0.131473</td>\n",
       "      <td>0.289384</td>\n",
       "      <td>0.149510</td>\n",
       "      <td>-0.113140</td>\n",
       "      <td>-0.016672</td>\n",
       "      <td>0.488470</td>\n",
       "      <td>0.166753</td>\n",
       "      <td>...</td>\n",
       "      <td>-0.902807</td>\n",
       "      <td>-1.003166</td>\n",
       "      <td>-0.222417</td>\n",
       "      <td>-0.652623</td>\n",
       "      <td>-0.473818</td>\n",
       "      <td>-0.425169</td>\n",
       "      <td>-0.697811</td>\n",
       "      <td>-0.700445</td>\n",
       "      <td>-0.479953</td>\n",
       "      <td>-0.561662</td>\n",
       "    </tr>\n",
       "    <tr>\n",
       "      <th>7630</th>\n",
       "      <td>0.627861</td>\n",
       "      <td>0.785194</td>\n",
       "      <td>0.483228</td>\n",
       "      <td>0.445583</td>\n",
       "      <td>0.684957</td>\n",
       "      <td>0.543536</td>\n",
       "      <td>0.782356</td>\n",
       "      <td>0.415942</td>\n",
       "      <td>0.458458</td>\n",
       "      <td>0.539089</td>\n",
       "      <td>...</td>\n",
       "      <td>0.633472</td>\n",
       "      <td>-0.000323</td>\n",
       "      <td>-0.237718</td>\n",
       "      <td>0.081256</td>\n",
       "      <td>0.100988</td>\n",
       "      <td>-0.064824</td>\n",
       "      <td>-0.181856</td>\n",
       "      <td>-0.205827</td>\n",
       "      <td>-0.019354</td>\n",
       "      <td>-0.294464</td>\n",
       "    </tr>\n",
       "    <tr>\n",
       "      <th>22312</th>\n",
       "      <td>-1.317689</td>\n",
       "      <td>-1.058854</td>\n",
       "      <td>-0.932186</td>\n",
       "      <td>-1.028013</td>\n",
       "      <td>-1.130704</td>\n",
       "      <td>-1.262123</td>\n",
       "      <td>-1.163232</td>\n",
       "      <td>-1.092238</td>\n",
       "      <td>-1.381406</td>\n",
       "      <td>-1.281026</td>\n",
       "      <td>...</td>\n",
       "      <td>0.325037</td>\n",
       "      <td>0.568447</td>\n",
       "      <td>1.004449</td>\n",
       "      <td>0.612829</td>\n",
       "      <td>0.727064</td>\n",
       "      <td>0.844572</td>\n",
       "      <td>0.952023</td>\n",
       "      <td>0.864437</td>\n",
       "      <td>0.689454</td>\n",
       "      <td>0.927799</td>\n",
       "    </tr>\n",
       "    <tr>\n",
       "      <th>23974</th>\n",
       "      <td>-1.583691</td>\n",
       "      <td>-1.412750</td>\n",
       "      <td>-1.085571</td>\n",
       "      <td>-1.181235</td>\n",
       "      <td>-1.282059</td>\n",
       "      <td>-1.564278</td>\n",
       "      <td>-1.355592</td>\n",
       "      <td>-1.254005</td>\n",
       "      <td>-1.540747</td>\n",
       "      <td>-1.445474</td>\n",
       "      <td>...</td>\n",
       "      <td>0.253302</td>\n",
       "      <td>0.453114</td>\n",
       "      <td>0.917918</td>\n",
       "      <td>0.687080</td>\n",
       "      <td>0.685386</td>\n",
       "      <td>0.688553</td>\n",
       "      <td>0.953969</td>\n",
       "      <td>0.892234</td>\n",
       "      <td>0.600002</td>\n",
       "      <td>0.986845</td>\n",
       "    </tr>\n",
       "    <tr>\n",
       "      <th>6586</th>\n",
       "      <td>1.632492</td>\n",
       "      <td>1.801963</td>\n",
       "      <td>1.712205</td>\n",
       "      <td>1.822102</td>\n",
       "      <td>1.679055</td>\n",
       "      <td>1.295050</td>\n",
       "      <td>1.430454</td>\n",
       "      <td>1.235058</td>\n",
       "      <td>1.152837</td>\n",
       "      <td>1.429041</td>\n",
       "      <td>...</td>\n",
       "      <td>0.566813</td>\n",
       "      <td>0.198797</td>\n",
       "      <td>-0.969319</td>\n",
       "      <td>-0.979918</td>\n",
       "      <td>-1.053325</td>\n",
       "      <td>-1.010783</td>\n",
       "      <td>-0.897518</td>\n",
       "      <td>-0.976963</td>\n",
       "      <td>-0.841236</td>\n",
       "      <td>-0.916010</td>\n",
       "    </tr>\n",
       "  </tbody>\n",
       "</table>\n",
       "<p>11569 rows × 280 columns</p>\n",
       "</div>"
      ],
      "text/plain": [
       "       ANN_ALLSKY_KT_2012  ANN_ALLSKY_KT_2013  ANN_ALLSKY_KT_2014  \\\n",
       "index                                                               \n",
       "9681            -0.659694           -1.058854           -1.085571   \n",
       "13513           -0.659694           -1.058854           -1.085571   \n",
       "6732            -1.851343           -1.233037           -1.888750   \n",
       "28832            0.245426           -0.263962           -0.341097   \n",
       "8303            -1.851343           -1.412750           -2.057027   \n",
       "...                   ...                 ...                 ...   \n",
       "29443            0.373260            0.021862            0.079956   \n",
       "7630             0.627861            0.785194            0.483228   \n",
       "22312           -1.317689           -1.058854           -0.932186   \n",
       "23974           -1.583691           -1.412750           -1.085571   \n",
       "6586             1.632492            1.801963            1.712205   \n",
       "\n",
       "       ANN_ALLSKY_KT_2015  ANN_ALLSKY_KT_2016  ANN_ALLSKY_KT_2017  \\\n",
       "index                                                               \n",
       "9681            -1.028013           -1.130704           -0.678359   \n",
       "13513           -0.724887           -0.981144           -0.678359   \n",
       "6732            -2.286254           -1.747239           -1.718036   \n",
       "28832           -0.278258           -0.119655           -0.257554   \n",
       "8303            -2.124796           -2.066983           -1.718036   \n",
       "...                   ...                 ...                 ...   \n",
       "29443           -0.131473            0.289384            0.149510   \n",
       "7630             0.445583            0.684957            0.543536   \n",
       "22312           -1.028013           -1.130704           -1.262123   \n",
       "23974           -1.181235           -1.282059           -1.564278   \n",
       "6586             1.822102            1.679055            1.295050   \n",
       "\n",
       "       ANN_ALLSKY_KT_2018  ANN_ALLSKY_KT_2019  ANN_ALLSKY_SFC_SW_DWN_2012  \\\n",
       "index                                                                       \n",
       "9681            -0.794052           -0.774989                   -0.887909   \n",
       "13513           -0.616885           -0.774989                   -0.908741   \n",
       "6732            -1.756774           -1.584039                   -0.763218   \n",
       "28832           -0.444447           -0.465851                    0.116630   \n",
       "8303            -1.965988           -1.752395                   -0.783965   \n",
       "...                   ...                 ...                         ...   \n",
       "29443           -0.113140           -0.016672                    0.488470   \n",
       "7630             0.782356            0.415942                    0.458458   \n",
       "22312           -1.163232           -1.092238                   -1.381406   \n",
       "23974           -1.355592           -1.254005                   -1.540747   \n",
       "6586             1.430454            1.235058                    1.152837   \n",
       "\n",
       "       ANN_ALLSKY_SFC_SW_DWN_2013  ...  winter_WS50M_MAX_AVG_2018  \\\n",
       "index                              ...                              \n",
       "9681                    -1.130665  ...                  -0.209215   \n",
       "13513                   -1.130665  ...                   0.328719   \n",
       "6732                    -0.270505  ...                  -0.325403   \n",
       "28832                   -0.154386  ...                  -0.303643   \n",
       "8303                    -0.398542  ...                  -0.325403   \n",
       "...                           ...  ...                        ...   \n",
       "29443                    0.166753  ...                  -0.902807   \n",
       "7630                     0.539089  ...                   0.633472   \n",
       "22312                   -1.281026  ...                   0.325037   \n",
       "23974                   -1.445474  ...                   0.253302   \n",
       "6586                     1.429041  ...                   0.566813   \n",
       "\n",
       "       winter_WS50M_MAX_AVG_2019  winter_WS50M_MIN_AVG_2012  \\\n",
       "index                                                         \n",
       "9681                    0.334817                   0.838885   \n",
       "13513                   0.709388                   0.844585   \n",
       "6732                   -0.516699                   0.054040   \n",
       "28832                  -0.205891                  -0.434844   \n",
       "8303                   -0.516699                   0.054040   \n",
       "...                          ...                        ...   \n",
       "29443                  -1.003166                  -0.222417   \n",
       "7630                   -0.000323                  -0.237718   \n",
       "22312                   0.568447                   1.004449   \n",
       "23974                   0.453114                   0.917918   \n",
       "6586                    0.198797                  -0.969319   \n",
       "\n",
       "       winter_WS50M_MIN_AVG_2013  winter_WS50M_MIN_AVG_2014  \\\n",
       "index                                                         \n",
       "9681                    0.125200                  -0.250262   \n",
       "13513                   0.249720                  -0.311061   \n",
       "6732                   -0.293824                  -0.129162   \n",
       "28832                  -0.131026                  -0.239323   \n",
       "8303                   -0.293824                  -0.129162   \n",
       "...                          ...                        ...   \n",
       "29443                  -0.652623                  -0.473818   \n",
       "7630                    0.081256                   0.100988   \n",
       "22312                   0.612829                   0.727064   \n",
       "23974                   0.687080                   0.685386   \n",
       "6586                   -0.979918                  -1.053325   \n",
       "\n",
       "       winter_WS50M_MIN_AVG_2015  winter_WS50M_MIN_AVG_2016  \\\n",
       "index                                                         \n",
       "9681                    0.276219                   0.084171   \n",
       "13513                   0.234169                   0.050649   \n",
       "6732                   -0.441701                  -0.189501   \n",
       "28832                  -0.234487                  -0.527411   \n",
       "8303                   -0.441701                  -0.189501   \n",
       "...                          ...                        ...   \n",
       "29443                  -0.425169                  -0.697811   \n",
       "7630                   -0.064824                  -0.181856   \n",
       "22312                   0.844572                   0.952023   \n",
       "23974                   0.688553                   0.953969   \n",
       "6586                   -1.010783                  -0.897518   \n",
       "\n",
       "       winter_WS50M_MIN_AVG_2017  winter_WS50M_MIN_AVG_2018  \\\n",
       "index                                                         \n",
       "9681                    0.373515                   0.161252   \n",
       "13513                   0.400446                   0.247695   \n",
       "6732                   -0.474297                  -0.218277   \n",
       "28832                  -0.393634                   0.085453   \n",
       "8303                   -0.474297                  -0.218277   \n",
       "...                          ...                        ...   \n",
       "29443                  -0.700445                  -0.479953   \n",
       "7630                   -0.205827                  -0.019354   \n",
       "22312                   0.864437                   0.689454   \n",
       "23974                   0.892234                   0.600002   \n",
       "6586                   -0.976963                  -0.841236   \n",
       "\n",
       "       winter_WS50M_MIN_AVG_2019  \n",
       "index                             \n",
       "9681                    0.587314  \n",
       "13513                   0.669521  \n",
       "6732                   -0.207324  \n",
       "28832                  -0.199720  \n",
       "8303                   -0.207324  \n",
       "...                          ...  \n",
       "29443                  -0.561662  \n",
       "7630                   -0.294464  \n",
       "22312                   0.927799  \n",
       "23974                   0.986845  \n",
       "6586                   -0.916010  \n",
       "\n",
       "[11569 rows x 280 columns]"
      ]
     },
     "execution_count": 185,
     "metadata": {},
     "output_type": "execute_result"
    }
   ],
   "source": [
    "train_X_scaled"
   ]
  },
  {
   "cell_type": "code",
   "execution_count": 186,
   "metadata": {},
   "outputs": [
    {
     "name": "stdout",
     "output_type": "stream",
     "text": [
      "(8, 4)\n"
     ]
    }
   ],
   "source": [
    "def axis_calculation(total_columns_df, grid_columns):\n",
    "    rows = int(total_columns_df / grid_columns)\n",
    "    if( total_columns_df % grid_columns) > 0:\n",
    "        rows += 1\n",
    "\n",
    "    return (rows, grid_columns)\n",
    "print(axis_calculation(30, 4))"
   ]
  },
  {
   "cell_type": "code",
   "execution_count": 187,
   "metadata": {},
   "outputs": [],
   "source": [
    "\n",
    "# # plt.figure(figsize=(200,200))\n",
    "# grid_columns = 5\n",
    "# result_axis = axis_calculation(len(train_X_scaled.columns), grid_columns)\n",
    "# fig, axs = plt.subplots(result_axis[0],result_axis[1], figsize=(30,20))\n",
    "# fig.subplots_adjust(hspace=.5)\n",
    "\n",
    "# aux_cont = 0\n",
    "# aux_cont_2 = 0\n",
    "# # fig.figsize=(30,30)\n",
    "# for col in train_X_scaled.columns:\n",
    "# # #     # print(col)\n",
    "#     sns.kdeplot(data=train_X_scaled, x=col, shade=True, ax=axs[aux_cont_2, aux_cont] )\n",
    "#     # axs[aux_cont_2, aux_cont].set_xlabel('Participation Rate')\n",
    "#     # axs[aux_cont_2, aux_cont].set_ylabel('Frequency')\n",
    "#     # axs[aux_cont_2, aux_cont].set_title(\"sasa\")\n",
    "#     axs[aux_cont_2, aux_cont].set_xticklabels([])\n",
    "#     aux_cont += 1\n",
    "#     if aux_cont >= grid_columns:\n",
    "#         aux_cont_2 +=1\n",
    "#         aux_cont = 0"
   ]
  },
  {
   "cell_type": "code",
   "execution_count": 188,
   "metadata": {},
   "outputs": [],
   "source": [
    "# train_X_scaled.hist(bins=100, xlabelsize=8, ylabelsize=10, figsize=(30,20))\n"
   ]
  },
  {
   "cell_type": "code",
   "execution_count": 189,
   "metadata": {},
   "outputs": [],
   "source": [
    "# WITHOUT SCALING OR NORMALIZING\n",
    "# train_X.hist(bins=100, xlabelsize=8, ylabelsize=10, figsize=(30,20))"
   ]
  },
  {
   "cell_type": "code",
   "execution_count": 190,
   "metadata": {},
   "outputs": [
    {
     "name": "stdout",
     "output_type": "stream",
     "text": [
      "11\n"
     ]
    },
    {
     "data": {
      "text/plain": [
       "<AxesSubplot:>"
      ]
     },
     "execution_count": 190,
     "metadata": {},
     "output_type": "execute_result"
    },
    {
     "data": {
      "image/png": "[encoded data removed]",
      "text/plain": [
       "<Figure size 432x288 with 1 Axes>"
      ]
     },
     "metadata": {
      "needs_background": "light"
     },
     "output_type": "display_data"
    }
   ],
   "source": [
    "candidate_n_neighbors = np.arange(1,25)\n",
    "results = {}\n",
    "# Write loop to find the ideal tree size from candidate_max_leaf_nodes\n",
    "\n",
    "\n",
    "results = {n: get_accuracy_knn(n, train_X_scaled, val_X_scaled, train_y, val_y) for n in candidate_n_neighbors}\n",
    "best_n_neighbors = max(results, key=results.get)\n",
    "print(best_n_neighbors)\n",
    "sns.lineplot(data=results, x= results.keys(), y= results.values())"
   ]
  },
  {
   "cell_type": "code",
   "execution_count": 191,
   "metadata": {},
   "outputs": [
    {
     "data": {
      "text/html": [
       "<style>#sk-container-id-13 {color: black;background-color: white;}#sk-container-id-13 pre{padding: 0;}#sk-container-id-13 div.sk-toggleable {background-color: white;}#sk-container-id-13 label.sk-toggleable__label {cursor: pointer;display: block;width: 100%;margin-bottom: 0;padding: 0.3em;box-sizing: border-box;text-align: center;}#sk-container-id-13 label.sk-toggleable__label-arrow:before {content: \"▸\";float: left;margin-right: 0.25em;color: #696969;}#sk-container-id-13 label.sk-toggleable__label-arrow:hover:before {color: black;}#sk-container-id-13 div.sk-estimator:hover label.sk-toggleable__label-arrow:before {color: black;}#sk-container-id-13 div.sk-toggleable__content {max-height: 0;max-width: 0;overflow: hidden;text-align: left;background-color: #f0f8ff;}#sk-container-id-13 div.sk-toggleable__content pre {margin: 0.2em;color: black;border-radius: 0.25em;background-color: #f0f8ff;}#sk-container-id-13 input.sk-toggleable__control:checked~div.sk-toggleable__content {max-height: 200px;max-width: 100%;overflow: auto;}#sk-container-id-13 input.sk-toggleable__control:checked~label.sk-toggleable__label-arrow:before {content: \"▾\";}#sk-container-id-13 div.sk-estimator input.sk-toggleable__control:checked~label.sk-toggleable__label {background-color: #d4ebff;}#sk-container-id-13 div.sk-label input.sk-toggleable__control:checked~label.sk-toggleable__label {background-color: #d4ebff;}#sk-container-id-13 input.sk-hidden--visually {border: 0;clip: rect(1px 1px 1px 1px);clip: rect(1px, 1px, 1px, 1px);height: 1px;margin: -1px;overflow: hidden;padding: 0;position: absolute;width: 1px;}#sk-container-id-13 div.sk-estimator {font-family: monospace;background-color: #f0f8ff;border: 1px dotted black;border-radius: 0.25em;box-sizing: border-box;margin-bottom: 0.5em;}#sk-container-id-13 div.sk-estimator:hover {background-color: #d4ebff;}#sk-container-id-13 div.sk-parallel-item::after {content: \"\";width: 100%;border-bottom: 1px solid gray;flex-grow: 1;}#sk-container-id-13 div.sk-label:hover label.sk-toggleable__label {background-color: #d4ebff;}#sk-container-id-13 div.sk-serial::before {content: \"\";position: absolute;border-left: 1px solid gray;box-sizing: border-box;top: 0;bottom: 0;left: 50%;z-index: 0;}#sk-container-id-13 div.sk-serial {display: flex;flex-direction: column;align-items: center;background-color: white;padding-right: 0.2em;padding-left: 0.2em;position: relative;}#sk-container-id-13 div.sk-item {position: relative;z-index: 1;}#sk-container-id-13 div.sk-parallel {display: flex;align-items: stretch;justify-content: center;background-color: white;position: relative;}#sk-container-id-13 div.sk-item::before, #sk-container-id-13 div.sk-parallel-item::before {content: \"\";position: absolute;border-left: 1px solid gray;box-sizing: border-box;top: 0;bottom: 0;left: 50%;z-index: -1;}#sk-container-id-13 div.sk-parallel-item {display: flex;flex-direction: column;z-index: 1;position: relative;background-color: white;}#sk-container-id-13 div.sk-parallel-item:first-child::after {align-self: flex-end;width: 50%;}#sk-container-id-13 div.sk-parallel-item:last-child::after {align-self: flex-start;width: 50%;}#sk-container-id-13 div.sk-parallel-item:only-child::after {width: 0;}#sk-container-id-13 div.sk-dashed-wrapped {border: 1px dashed gray;margin: 0 0.4em 0.5em 0.4em;box-sizing: border-box;padding-bottom: 0.4em;background-color: white;}#sk-container-id-13 div.sk-label label {font-family: monospace;font-weight: bold;display: inline-block;line-height: 1.2em;}#sk-container-id-13 div.sk-label-container {text-align: center;}#sk-container-id-13 div.sk-container {/* jupyter's `normalize.less` sets `[hidden] { display: none; }` but bootstrap.min.css set `[hidden] { display: none !important; }` so we also need the `!important` here to be able to override the default hidden behavior on the sphinx rendered scikit-learn.org. See: https://github.com/scikit-learn/scikit-learn/issues/21755 */display: inline-block !important;position: relative;}#sk-container-id-13 div.sk-text-repr-fallback {display: none;}</style><div id=\"sk-container-id-13\" class=\"sk-top-container\"><div class=\"sk-text-repr-fallback\"><pre>KNeighborsClassifier(n_neighbors=11)</pre><b>In a Jupyter environment, please rerun this cell to show the HTML representation or trust the notebook. <br />On GitHub, the HTML representation is unable to render, please try loading this page with nbviewer.org.</b></div><div class=\"sk-container\" hidden><div class=\"sk-item\"><div class=\"sk-estimator sk-toggleable\"><input class=\"sk-toggleable__control sk-hidden--visually\" id=\"sk-estimator-id-17\" type=\"checkbox\" checked><label for=\"sk-estimator-id-17\" class=\"sk-toggleable__label sk-toggleable__label-arrow\">KNeighborsClassifier</label><div class=\"sk-toggleable__content\"><pre>KNeighborsClassifier(n_neighbors=11)</pre></div></div></div></div></div>"
      ],
      "text/plain": [
       "KNeighborsClassifier(n_neighbors=11)"
      ]
     },
     "execution_count": 191,
     "metadata": {},
     "output_type": "execute_result"
    }
   ],
   "source": [
    "knn_model_2 = KNeighborsClassifier(n_neighbors = best_n_neighbors)\n",
    "knn_model_2.fit(train_X_scaled, train_y)"
   ]
  },
  {
   "cell_type": "code",
   "execution_count": 192,
   "metadata": {},
   "outputs": [
    {
     "data": {
      "text/plain": [
       "0.7269898885143894"
      ]
     },
     "execution_count": 192,
     "metadata": {},
     "output_type": "execute_result"
    }
   ],
   "source": [
    "knn_model_2.score(val_X_scaled, val_y)"
   ]
  },
  {
   "cell_type": "code",
   "execution_count": 193,
   "metadata": {},
   "outputs": [],
   "source": [
    "y_pred = knn_model_2.predict(val_X_scaled)"
   ]
  },
  {
   "cell_type": "code",
   "execution_count": 194,
   "metadata": {},
   "outputs": [
    {
     "data": {
      "text/plain": [
       "<AxesSubplot:>"
      ]
     },
     "execution_count": 194,
     "metadata": {},
     "output_type": "execute_result"
    },
    {
     "data": {
      "image/png": "[encoded data removed]",
      "text/plain": [
       "<Figure size 432x288 with 2 Axes>"
      ]
     },
     "metadata": {
      "needs_background": "light"
     },
     "output_type": "display_data"
    }
   ],
   "source": [
    "confusion_matrix_return = confusion_matrix(val_y, y_pred)\n",
    "sns.heatmap(confusion_matrix_return, annot=True, fmt = 'g')"
   ]
  },
  {
   "cell_type": "markdown",
   "metadata": {},
   "source": [
    "# NAIVE BAYES"
   ]
  },
  {
   "cell_type": "code",
   "execution_count": 195,
   "metadata": {},
   "outputs": [
    {
     "name": "stdout",
     "output_type": "stream",
     "text": [
      "0.5136116152450091\n"
     ]
    },
    {
     "data": {
      "text/plain": [
       "<AxesSubplot:>"
      ]
     },
     "execution_count": 195,
     "metadata": {},
     "output_type": "execute_result"
    },
    {
     "data": {
      "image/png": "[encoded data removed]",
      "text/plain": [
       "<Figure size 432x288 with 2 Axes>"
      ]
     },
     "metadata": {
      "needs_background": "light"
     },
     "output_type": "display_data"
    }
   ],
   "source": [
    "nb_model_1 = GaussianNB()\n",
    "\n",
    "#Entreno el modelo\n",
    "nb_model_1.fit(train_X, train_y)\n",
    "\n",
    "#Realizo una predicción\n",
    "y_pred = nb_model_1.predict(val_X)\n",
    "print(nb_model_1.score(val_X, val_y))\n",
    "confusion_matrix_return = confusion_matrix(val_y, y_pred)\n",
    "sns.heatmap(confusion_matrix_return, annot=True, fmt = 'g')"
   ]
  },
  {
   "cell_type": "code",
   "execution_count": 197,
   "metadata": {},
   "outputs": [
    {
     "name": "stdout",
     "output_type": "stream",
     "text": [
      "0.5480943738656987\n"
     ]
    },
    {
     "data": {
      "text/plain": [
       "<AxesSubplot:>"
      ]
     },
     "execution_count": 197,
     "metadata": {},
     "output_type": "execute_result"
    },
    {
     "data": {
      "image/png": "[encoded data removed]",
      "text/plain": [
       "<Figure size 432x288 with 2 Axes>"
      ]
     },
     "metadata": {
      "needs_background": "light"
     },
     "output_type": "display_data"
    }
   ],
   "source": [
    "nb_model_2 = GaussianNB()\n",
    "nb_model_2.fit(train_X_scaled, train_y)\n",
    "print(nb_model_2.score(val_X_scaled, val_y))\n",
    "y_pred = nb_model_2.predict(val_X_scaled)\n",
    "\n",
    "confusion_matrix_return = confusion_matrix(val_y, y_pred)\n",
    "sns.heatmap(confusion_matrix_return, annot=True, fmt = 'g')"
   ]
  },
  {
   "cell_type": "markdown",
   "metadata": {},
   "source": [
    "# SVM"
   ]
  },
  {
   "cell_type": "code",
   "execution_count": 81,
   "metadata": {},
   "outputs": [
    {
     "data": {
      "text/html": [
       "<style>#sk-container-id-6 {color: black;background-color: white;}#sk-container-id-6 pre{padding: 0;}#sk-container-id-6 div.sk-toggleable {background-color: white;}#sk-container-id-6 label.sk-toggleable__label {cursor: pointer;display: block;width: 100%;margin-bottom: 0;padding: 0.3em;box-sizing: border-box;text-align: center;}#sk-container-id-6 label.sk-toggleable__label-arrow:before {content: \"▸\";float: left;margin-right: 0.25em;color: #696969;}#sk-container-id-6 label.sk-toggleable__label-arrow:hover:before {color: black;}#sk-container-id-6 div.sk-estimator:hover label.sk-toggleable__label-arrow:before {color: black;}#sk-container-id-6 div.sk-toggleable__content {max-height: 0;max-width: 0;overflow: hidden;text-align: left;background-color: #f0f8ff;}#sk-container-id-6 div.sk-toggleable__content pre {margin: 0.2em;color: black;border-radius: 0.25em;background-color: #f0f8ff;}#sk-container-id-6 input.sk-toggleable__control:checked~div.sk-toggleable__content {max-height: 200px;max-width: 100%;overflow: auto;}#sk-container-id-6 input.sk-toggleable__control:checked~label.sk-toggleable__label-arrow:before {content: \"▾\";}#sk-container-id-6 div.sk-estimator input.sk-toggleable__control:checked~label.sk-toggleable__label {background-color: #d4ebff;}#sk-container-id-6 div.sk-label input.sk-toggleable__control:checked~label.sk-toggleable__label {background-color: #d4ebff;}#sk-container-id-6 input.sk-hidden--visually {border: 0;clip: rect(1px 1px 1px 1px);clip: rect(1px, 1px, 1px, 1px);height: 1px;margin: -1px;overflow: hidden;padding: 0;position: absolute;width: 1px;}#sk-container-id-6 div.sk-estimator {font-family: monospace;background-color: #f0f8ff;border: 1px dotted black;border-radius: 0.25em;box-sizing: border-box;margin-bottom: 0.5em;}#sk-container-id-6 div.sk-estimator:hover {background-color: #d4ebff;}#sk-container-id-6 div.sk-parallel-item::after {content: \"\";width: 100%;border-bottom: 1px solid gray;flex-grow: 1;}#sk-container-id-6 div.sk-label:hover label.sk-toggleable__label {background-color: #d4ebff;}#sk-container-id-6 div.sk-serial::before {content: \"\";position: absolute;border-left: 1px solid gray;box-sizing: border-box;top: 0;bottom: 0;left: 50%;z-index: 0;}#sk-container-id-6 div.sk-serial {display: flex;flex-direction: column;align-items: center;background-color: white;padding-right: 0.2em;padding-left: 0.2em;position: relative;}#sk-container-id-6 div.sk-item {position: relative;z-index: 1;}#sk-container-id-6 div.sk-parallel {display: flex;align-items: stretch;justify-content: center;background-color: white;position: relative;}#sk-container-id-6 div.sk-item::before, #sk-container-id-6 div.sk-parallel-item::before {content: \"\";position: absolute;border-left: 1px solid gray;box-sizing: border-box;top: 0;bottom: 0;left: 50%;z-index: -1;}#sk-container-id-6 div.sk-parallel-item {display: flex;flex-direction: column;z-index: 1;position: relative;background-color: white;}#sk-container-id-6 div.sk-parallel-item:first-child::after {align-self: flex-end;width: 50%;}#sk-container-id-6 div.sk-parallel-item:last-child::after {align-self: flex-start;width: 50%;}#sk-container-id-6 div.sk-parallel-item:only-child::after {width: 0;}#sk-container-id-6 div.sk-dashed-wrapped {border: 1px dashed gray;margin: 0 0.4em 0.5em 0.4em;box-sizing: border-box;padding-bottom: 0.4em;background-color: white;}#sk-container-id-6 div.sk-label label {font-family: monospace;font-weight: bold;display: inline-block;line-height: 1.2em;}#sk-container-id-6 div.sk-label-container {text-align: center;}#sk-container-id-6 div.sk-container {/* jupyter's `normalize.less` sets `[hidden] { display: none; }` but bootstrap.min.css set `[hidden] { display: none !important; }` so we also need the `!important` here to be able to override the default hidden behavior on the sphinx rendered scikit-learn.org. See: https://github.com/scikit-learn/scikit-learn/issues/21755 */display: inline-block !important;position: relative;}#sk-container-id-6 div.sk-text-repr-fallback {display: none;}</style><div id=\"sk-container-id-6\" class=\"sk-top-container\"><div class=\"sk-text-repr-fallback\"><pre>SVC(random_state=22)</pre><b>In a Jupyter environment, please rerun this cell to show the HTML representation or trust the notebook. <br />On GitHub, the HTML representation is unable to render, please try loading this page with nbviewer.org.</b></div><div class=\"sk-container\" hidden><div class=\"sk-item\"><div class=\"sk-estimator sk-toggleable\"><input class=\"sk-toggleable__control sk-hidden--visually\" id=\"sk-estimator-id-8\" type=\"checkbox\" checked><label for=\"sk-estimator-id-8\" class=\"sk-toggleable__label sk-toggleable__label-arrow\">SVC</label><div class=\"sk-toggleable__content\"><pre>SVC(random_state=22)</pre></div></div></div></div></div>"
      ],
      "text/plain": [
       "SVC(random_state=22)"
      ]
     },
     "execution_count": 81,
     "metadata": {},
     "output_type": "execute_result"
    }
   ],
   "source": [
    "svm_model_1 = SVC(random_state=22)\n",
    "svm_model_1.fit(train_X_scaled, train_y)"
   ]
  },
  {
   "cell_type": "code",
   "execution_count": 82,
   "metadata": {},
   "outputs": [],
   "source": [
    "y_pred = svm_model_1.predict(val_X_scaled)"
   ]
  },
  {
   "cell_type": "code",
   "execution_count": 83,
   "metadata": {},
   "outputs": [
    {
     "data": {
      "text/plain": [
       "0.6962435233160622"
      ]
     },
     "execution_count": 83,
     "metadata": {},
     "output_type": "execute_result"
    }
   ],
   "source": [
    "svm_model_1.score(val_X_scaled, val_y)"
   ]
  },
  {
   "cell_type": "code",
   "execution_count": 84,
   "metadata": {},
   "outputs": [
    {
     "data": {
      "text/plain": [
       "<AxesSubplot:>"
      ]
     },
     "execution_count": 84,
     "metadata": {},
     "output_type": "execute_result"
    },
    {
     "data": {
      "image/png": "[encoded data removed]",
      "text/plain": [
       "<Figure size 432x288 with 2 Axes>"
      ]
     },
     "metadata": {
      "needs_background": "light"
     },
     "output_type": "display_data"
    }
   ],
   "source": [
    "confusion_matrix_return = confusion_matrix(val_y, y_pred)\n",
    "sns.heatmap(confusion_matrix_return, annot=True, fmt = 'g')"
   ]
  },
  {
   "cell_type": "code",
   "execution_count": 88,
   "metadata": {},
   "outputs": [],
   "source": [
    "param_grid = {\n",
    "                'C': [0.5, 1, 10, 100], # NOTE: values for C must be > 0\n",
    "                'gamma': ['scale', 1, .1, .01, .001, .0001],\n",
    "                'kernel': ['rbf'] # Some linear fittings last to 7/8 mins. Not recommended at all\n",
    "            }\n",
    "# svm_grid = GridSearchCV(estimator = SVC(), param_grid = param_grid, cv=5, verbose = 2, n_jobs=4)\n",
    "svm_grid = RandomizedSearchCV(estimator = SVC(), param_distributions = param_grid, cv=5, verbose = 2, n_jobs=4)"
   ]
  },
  {
   "cell_type": "code",
   "execution_count": 89,
   "metadata": {},
   "outputs": [
    {
     "name": "stdout",
     "output_type": "stream",
     "text": [
      "Fitting 5 folds for each of 10 candidates, totalling 50 fits\n",
      "[CV] END ...........................C=1, gamma=1, kernel=rbf; total time=  39.6s\n",
      "[CV] END ...........................C=1, gamma=1, kernel=rbf; total time=  40.2s\n",
      "[CV] END ...........................C=1, gamma=1, kernel=rbf; total time=  40.5s\n",
      "[CV] END ...........................C=1, gamma=1, kernel=rbf; total time=  40.8s\n",
      "[CV] END .......................C=10, gamma=0.01, kernel=rbf; total time=  38.9s\n",
      "[CV] END ...........................C=1, gamma=1, kernel=rbf; total time=  41.2s\n",
      "[CV] END .......................C=10, gamma=0.01, kernel=rbf; total time=  41.0s\n",
      "[CV] END .......................C=10, gamma=0.01, kernel=rbf; total time=  41.3s\n",
      "[CV] END .......................C=10, gamma=0.01, kernel=rbf; total time=  41.8s\n",
      "[CV] END .......................C=10, gamma=0.01, kernel=rbf; total time=  40.8s\n",
      "[CV] END ....................C=1, gamma=scale, kernel=linear; total time= 1.0min\n",
      "[CV] END ....................C=1, gamma=scale, kernel=linear; total time= 1.0min\n",
      "[CV] END ....................C=1, gamma=scale, kernel=linear; total time= 1.1min\n",
      "[CV] END ....................C=1, gamma=scale, kernel=linear; total time= 1.1min\n",
      "[CV] END ..................C=0.5, gamma=scale, kernel=linear; total time=  53.4s\n",
      "[CV] END ....................C=1, gamma=scale, kernel=linear; total time= 1.0min\n",
      "[CV] END ..................C=0.5, gamma=scale, kernel=linear; total time=  59.4s\n",
      "[CV] END ..................C=0.5, gamma=scale, kernel=linear; total time= 1.0min\n",
      "[CV] END ..................C=0.5, gamma=scale, kernel=linear; total time=  57.1s\n",
      "[CV] END ..................C=0.5, gamma=scale, kernel=linear; total time=  56.0s\n",
      "[CV] END .................C=0.5, gamma=0.001, kernel=sigmoid; total time=  54.5s\n",
      "[CV] END .................C=0.5, gamma=0.001, kernel=sigmoid; total time=  55.9s\n",
      "[CV] END .................C=0.5, gamma=0.001, kernel=sigmoid; total time=  50.2s\n",
      "[CV] END .................C=0.5, gamma=0.001, kernel=sigmoid; total time=  53.0s\n",
      "[CV] END .........................C=1, gamma=0.1, kernel=rbf; total time=  33.3s\n",
      "[CV] END .........................C=1, gamma=0.1, kernel=rbf; total time=  34.9s\n",
      "[CV] END .........................C=1, gamma=0.1, kernel=rbf; total time=  32.0s\n",
      "[CV] END .................C=0.5, gamma=0.001, kernel=sigmoid; total time=  52.5s\n",
      "[CV] END .........................C=1, gamma=0.1, kernel=rbf; total time=  28.1s\n",
      "[CV] END .........................C=1, gamma=0.1, kernel=rbf; total time=  29.3s\n",
      "[CV] END .................C=100, gamma=scale, kernel=sigmoid; total time=  29.7s\n",
      "[CV] END .................C=100, gamma=scale, kernel=sigmoid; total time=  35.2s\n",
      "[CV] END .................C=100, gamma=scale, kernel=sigmoid; total time=  29.3s\n",
      "[CV] END .................C=100, gamma=scale, kernel=sigmoid; total time=  31.8s\n",
      "[CV] END .......................C=1, gamma=1, kernel=sigmoid; total time=  25.3s\n",
      "[CV] END .................C=100, gamma=scale, kernel=sigmoid; total time=  36.1s\n",
      "[CV] END .......................C=1, gamma=1, kernel=sigmoid; total time=  28.0s\n",
      "[CV] END .......................C=1, gamma=1, kernel=sigmoid; total time=  29.6s\n",
      "[CV] END .......................C=1, gamma=1, kernel=sigmoid; total time=  25.2s\n",
      "[CV] END .......................C=1, gamma=1, kernel=sigmoid; total time=  24.2s\n",
      "[CV] END ....................C=100, gamma=0.1, kernel=linear; total time= 7.3min\n",
      "[CV] END ....................C=100, gamma=0.1, kernel=linear; total time= 7.7min\n",
      "[CV] END ....................C=100, gamma=0.1, kernel=linear; total time= 7.9min\n",
      "[CV] END ..........................C=10, gamma=1, kernel=rbf; total time=  25.8s\n",
      "[CV] END ..........................C=10, gamma=1, kernel=rbf; total time=  26.7s\n",
      "[CV] END ..........................C=10, gamma=1, kernel=rbf; total time=  27.2s\n",
      "[CV] END ....................C=100, gamma=0.1, kernel=linear; total time= 8.8min\n",
      "[CV] END ..........................C=10, gamma=1, kernel=rbf; total time=  26.3s\n",
      "[CV] END ..........................C=10, gamma=1, kernel=rbf; total time=  23.3s\n",
      "[CV] END ....................C=100, gamma=0.1, kernel=linear; total time= 6.2min\n"
     ]
    },
    {
     "data": {
      "text/html": [
       "<style>#sk-container-id-5 {color: black;background-color: white;}#sk-container-id-5 pre{padding: 0;}#sk-container-id-5 div.sk-toggleable {background-color: white;}#sk-container-id-5 label.sk-toggleable__label {cursor: pointer;display: block;width: 100%;margin-bottom: 0;padding: 0.3em;box-sizing: border-box;text-align: center;}#sk-container-id-5 label.sk-toggleable__label-arrow:before {content: \"▸\";float: left;margin-right: 0.25em;color: #696969;}#sk-container-id-5 label.sk-toggleable__label-arrow:hover:before {color: black;}#sk-container-id-5 div.sk-estimator:hover label.sk-toggleable__label-arrow:before {color: black;}#sk-container-id-5 div.sk-toggleable__content {max-height: 0;max-width: 0;overflow: hidden;text-align: left;background-color: #f0f8ff;}#sk-container-id-5 div.sk-toggleable__content pre {margin: 0.2em;color: black;border-radius: 0.25em;background-color: #f0f8ff;}#sk-container-id-5 input.sk-toggleable__control:checked~div.sk-toggleable__content {max-height: 200px;max-width: 100%;overflow: auto;}#sk-container-id-5 input.sk-toggleable__control:checked~label.sk-toggleable__label-arrow:before {content: \"▾\";}#sk-container-id-5 div.sk-estimator input.sk-toggleable__control:checked~label.sk-toggleable__label {background-color: #d4ebff;}#sk-container-id-5 div.sk-label input.sk-toggleable__control:checked~label.sk-toggleable__label {background-color: #d4ebff;}#sk-container-id-5 input.sk-hidden--visually {border: 0;clip: rect(1px 1px 1px 1px);clip: rect(1px, 1px, 1px, 1px);height: 1px;margin: -1px;overflow: hidden;padding: 0;position: absolute;width: 1px;}#sk-container-id-5 div.sk-estimator {font-family: monospace;background-color: #f0f8ff;border: 1px dotted black;border-radius: 0.25em;box-sizing: border-box;margin-bottom: 0.5em;}#sk-container-id-5 div.sk-estimator:hover {background-color: #d4ebff;}#sk-container-id-5 div.sk-parallel-item::after {content: \"\";width: 100%;border-bottom: 1px solid gray;flex-grow: 1;}#sk-container-id-5 div.sk-label:hover label.sk-toggleable__label {background-color: #d4ebff;}#sk-container-id-5 div.sk-serial::before {content: \"\";position: absolute;border-left: 1px solid gray;box-sizing: border-box;top: 0;bottom: 0;left: 50%;z-index: 0;}#sk-container-id-5 div.sk-serial {display: flex;flex-direction: column;align-items: center;background-color: white;padding-right: 0.2em;padding-left: 0.2em;position: relative;}#sk-container-id-5 div.sk-item {position: relative;z-index: 1;}#sk-container-id-5 div.sk-parallel {display: flex;align-items: stretch;justify-content: center;background-color: white;position: relative;}#sk-container-id-5 div.sk-item::before, #sk-container-id-5 div.sk-parallel-item::before {content: \"\";position: absolute;border-left: 1px solid gray;box-sizing: border-box;top: 0;bottom: 0;left: 50%;z-index: -1;}#sk-container-id-5 div.sk-parallel-item {display: flex;flex-direction: column;z-index: 1;position: relative;background-color: white;}#sk-container-id-5 div.sk-parallel-item:first-child::after {align-self: flex-end;width: 50%;}#sk-container-id-5 div.sk-parallel-item:last-child::after {align-self: flex-start;width: 50%;}#sk-container-id-5 div.sk-parallel-item:only-child::after {width: 0;}#sk-container-id-5 div.sk-dashed-wrapped {border: 1px dashed gray;margin: 0 0.4em 0.5em 0.4em;box-sizing: border-box;padding-bottom: 0.4em;background-color: white;}#sk-container-id-5 div.sk-label label {font-family: monospace;font-weight: bold;display: inline-block;line-height: 1.2em;}#sk-container-id-5 div.sk-label-container {text-align: center;}#sk-container-id-5 div.sk-container {/* jupyter's `normalize.less` sets `[hidden] { display: none; }` but bootstrap.min.css set `[hidden] { display: none !important; }` so we also need the `!important` here to be able to override the default hidden behavior on the sphinx rendered scikit-learn.org. See: https://github.com/scikit-learn/scikit-learn/issues/21755 */display: inline-block !important;position: relative;}#sk-container-id-5 div.sk-text-repr-fallback {display: none;}</style><div id=\"sk-container-id-5\" class=\"sk-top-container\"><div class=\"sk-text-repr-fallback\"><pre>RandomizedSearchCV(cv=5, estimator=SVC(), n_jobs=4,\n",
       "                   param_distributions={&#x27;C&#x27;: [0.5, 1, 10, 100],\n",
       "                                        &#x27;gamma&#x27;: [&#x27;scale&#x27;, 1, 0.1, 0.01, 0.001,\n",
       "                                                  0.0001],\n",
       "                                        &#x27;kernel&#x27;: [&#x27;rbf&#x27;, &#x27;linear&#x27;, &#x27;poly&#x27;,\n",
       "                                                   &#x27;sigmoid&#x27;]},\n",
       "                   verbose=2)</pre><b>In a Jupyter environment, please rerun this cell to show the HTML representation or trust the notebook. <br />On GitHub, the HTML representation is unable to render, please try loading this page with nbviewer.org.</b></div><div class=\"sk-container\" hidden><div class=\"sk-item sk-dashed-wrapped\"><div class=\"sk-label-container\"><div class=\"sk-label sk-toggleable\"><input class=\"sk-toggleable__control sk-hidden--visually\" id=\"sk-estimator-id-7\" type=\"checkbox\" ><label for=\"sk-estimator-id-7\" class=\"sk-toggleable__label sk-toggleable__label-arrow\">RandomizedSearchCV</label><div class=\"sk-toggleable__content\"><pre>RandomizedSearchCV(cv=5, estimator=SVC(), n_jobs=4,\n",
       "                   param_distributions={&#x27;C&#x27;: [0.5, 1, 10, 100],\n",
       "                                        &#x27;gamma&#x27;: [&#x27;scale&#x27;, 1, 0.1, 0.01, 0.001,\n",
       "                                                  0.0001],\n",
       "                                        &#x27;kernel&#x27;: [&#x27;rbf&#x27;, &#x27;linear&#x27;, &#x27;poly&#x27;,\n",
       "                                                   &#x27;sigmoid&#x27;]},\n",
       "                   verbose=2)</pre></div></div></div><div class=\"sk-parallel\"><div class=\"sk-parallel-item\"><div class=\"sk-item\"><div class=\"sk-label-container\"><div class=\"sk-label sk-toggleable\"><input class=\"sk-toggleable__control sk-hidden--visually\" id=\"sk-estimator-id-8\" type=\"checkbox\" ><label for=\"sk-estimator-id-8\" class=\"sk-toggleable__label sk-toggleable__label-arrow\">estimator: SVC</label><div class=\"sk-toggleable__content\"><pre>SVC()</pre></div></div></div><div class=\"sk-serial\"><div class=\"sk-item\"><div class=\"sk-estimator sk-toggleable\"><input class=\"sk-toggleable__control sk-hidden--visually\" id=\"sk-estimator-id-9\" type=\"checkbox\" ><label for=\"sk-estimator-id-9\" class=\"sk-toggleable__label sk-toggleable__label-arrow\">SVC</label><div class=\"sk-toggleable__content\"><pre>SVC()</pre></div></div></div></div></div></div></div></div></div></div>"
      ],
      "text/plain": [
       "RandomizedSearchCV(cv=5, estimator=SVC(), n_jobs=4,\n",
       "                   param_distributions={'C': [0.5, 1, 10, 100],\n",
       "                                        'gamma': ['scale', 1, 0.1, 0.01, 0.001,\n",
       "                                                  0.0001],\n",
       "                                        'kernel': ['rbf', 'linear', 'poly',\n",
       "                                                   'sigmoid']},\n",
       "                   verbose=2)"
      ]
     },
     "execution_count": 89,
     "metadata": {},
     "output_type": "execute_result"
    }
   ],
   "source": [
    "svm_grid.fit(train_X_scaled, train_y)"
   ]
  },
  {
   "cell_type": "code",
   "execution_count": 90,
   "metadata": {},
   "outputs": [
    {
     "data": {
      "text/plain": [
       "{'kernel': 'rbf', 'gamma': 1, 'C': 10}"
      ]
     },
     "execution_count": 90,
     "metadata": {},
     "output_type": "execute_result"
    }
   ],
   "source": [
    "svm_grid.best_params_"
   ]
  },
  {
   "cell_type": "code",
   "execution_count": 198,
   "metadata": {},
   "outputs": [
    {
     "data": {
      "text/html": [
       "<style>#sk-container-id-14 {color: black;background-color: white;}#sk-container-id-14 pre{padding: 0;}#sk-container-id-14 div.sk-toggleable {background-color: white;}#sk-container-id-14 label.sk-toggleable__label {cursor: pointer;display: block;width: 100%;margin-bottom: 0;padding: 0.3em;box-sizing: border-box;text-align: center;}#sk-container-id-14 label.sk-toggleable__label-arrow:before {content: \"▸\";float: left;margin-right: 0.25em;color: #696969;}#sk-container-id-14 label.sk-toggleable__label-arrow:hover:before {color: black;}#sk-container-id-14 div.sk-estimator:hover label.sk-toggleable__label-arrow:before {color: black;}#sk-container-id-14 div.sk-toggleable__content {max-height: 0;max-width: 0;overflow: hidden;text-align: left;background-color: #f0f8ff;}#sk-container-id-14 div.sk-toggleable__content pre {margin: 0.2em;color: black;border-radius: 0.25em;background-color: #f0f8ff;}#sk-container-id-14 input.sk-toggleable__control:checked~div.sk-toggleable__content {max-height: 200px;max-width: 100%;overflow: auto;}#sk-container-id-14 input.sk-toggleable__control:checked~label.sk-toggleable__label-arrow:before {content: \"▾\";}#sk-container-id-14 div.sk-estimator input.sk-toggleable__control:checked~label.sk-toggleable__label {background-color: #d4ebff;}#sk-container-id-14 div.sk-label input.sk-toggleable__control:checked~label.sk-toggleable__label {background-color: #d4ebff;}#sk-container-id-14 input.sk-hidden--visually {border: 0;clip: rect(1px 1px 1px 1px);clip: rect(1px, 1px, 1px, 1px);height: 1px;margin: -1px;overflow: hidden;padding: 0;position: absolute;width: 1px;}#sk-container-id-14 div.sk-estimator {font-family: monospace;background-color: #f0f8ff;border: 1px dotted black;border-radius: 0.25em;box-sizing: border-box;margin-bottom: 0.5em;}#sk-container-id-14 div.sk-estimator:hover {background-color: #d4ebff;}#sk-container-id-14 div.sk-parallel-item::after {content: \"\";width: 100%;border-bottom: 1px solid gray;flex-grow: 1;}#sk-container-id-14 div.sk-label:hover label.sk-toggleable__label {background-color: #d4ebff;}#sk-container-id-14 div.sk-serial::before {content: \"\";position: absolute;border-left: 1px solid gray;box-sizing: border-box;top: 0;bottom: 0;left: 50%;z-index: 0;}#sk-container-id-14 div.sk-serial {display: flex;flex-direction: column;align-items: center;background-color: white;padding-right: 0.2em;padding-left: 0.2em;position: relative;}#sk-container-id-14 div.sk-item {position: relative;z-index: 1;}#sk-container-id-14 div.sk-parallel {display: flex;align-items: stretch;justify-content: center;background-color: white;position: relative;}#sk-container-id-14 div.sk-item::before, #sk-container-id-14 div.sk-parallel-item::before {content: \"\";position: absolute;border-left: 1px solid gray;box-sizing: border-box;top: 0;bottom: 0;left: 50%;z-index: -1;}#sk-container-id-14 div.sk-parallel-item {display: flex;flex-direction: column;z-index: 1;position: relative;background-color: white;}#sk-container-id-14 div.sk-parallel-item:first-child::after {align-self: flex-end;width: 50%;}#sk-container-id-14 div.sk-parallel-item:last-child::after {align-self: flex-start;width: 50%;}#sk-container-id-14 div.sk-parallel-item:only-child::after {width: 0;}#sk-container-id-14 div.sk-dashed-wrapped {border: 1px dashed gray;margin: 0 0.4em 0.5em 0.4em;box-sizing: border-box;padding-bottom: 0.4em;background-color: white;}#sk-container-id-14 div.sk-label label {font-family: monospace;font-weight: bold;display: inline-block;line-height: 1.2em;}#sk-container-id-14 div.sk-label-container {text-align: center;}#sk-container-id-14 div.sk-container {/* jupyter's `normalize.less` sets `[hidden] { display: none; }` but bootstrap.min.css set `[hidden] { display: none !important; }` so we also need the `!important` here to be able to override the default hidden behavior on the sphinx rendered scikit-learn.org. See: https://github.com/scikit-learn/scikit-learn/issues/21755 */display: inline-block !important;position: relative;}#sk-container-id-14 div.sk-text-repr-fallback {display: none;}</style><div id=\"sk-container-id-14\" class=\"sk-top-container\"><div class=\"sk-text-repr-fallback\"><pre>SVC(C=10, gamma=1, random_state=22)</pre><b>In a Jupyter environment, please rerun this cell to show the HTML representation or trust the notebook. <br />On GitHub, the HTML representation is unable to render, please try loading this page with nbviewer.org.</b></div><div class=\"sk-container\" hidden><div class=\"sk-item\"><div class=\"sk-estimator sk-toggleable\"><input class=\"sk-toggleable__control sk-hidden--visually\" id=\"sk-estimator-id-18\" type=\"checkbox\" checked><label for=\"sk-estimator-id-18\" class=\"sk-toggleable__label sk-toggleable__label-arrow\">SVC</label><div class=\"sk-toggleable__content\"><pre>SVC(C=10, gamma=1, random_state=22)</pre></div></div></div></div></div>"
      ],
      "text/plain": [
       "SVC(C=10, gamma=1, random_state=22)"
      ]
     },
     "execution_count": 198,
     "metadata": {},
     "output_type": "execute_result"
    }
   ],
   "source": [
    "svm_model_2 = SVC(C= 10, gamma= 1, random_state=22)\n",
    "svm_model_2.fit(train_X_scaled, train_y)"
   ]
  },
  {
   "cell_type": "code",
   "execution_count": 199,
   "metadata": {},
   "outputs": [],
   "source": [
    "y_pred = svm_model_2.predict(val_X_scaled)"
   ]
  },
  {
   "cell_type": "code",
   "execution_count": 200,
   "metadata": {},
   "outputs": [
    {
     "data": {
      "text/plain": [
       "0.7186932849364791"
      ]
     },
     "execution_count": 200,
     "metadata": {},
     "output_type": "execute_result"
    }
   ],
   "source": [
    "svm_model_2.score(val_X_scaled, val_y)"
   ]
  },
  {
   "cell_type": "code",
   "execution_count": 201,
   "metadata": {},
   "outputs": [
    {
     "data": {
      "text/plain": [
       "<AxesSubplot:>"
      ]
     },
     "execution_count": 201,
     "metadata": {},
     "output_type": "execute_result"
    },
    {
     "data": {
      "image/png": "[encoded data removed]",
      "text/plain": [
       "<Figure size 432x288 with 2 Axes>"
      ]
     },
     "metadata": {
      "needs_background": "light"
     },
     "output_type": "display_data"
    }
   ],
   "source": [
    "confusion_matrix_return = confusion_matrix(val_y, y_pred)\n",
    "sns.heatmap(confusion_matrix_return, annot=True, fmt = 'g')"
   ]
  },
  {
   "cell_type": "code",
   "execution_count": null,
   "metadata": {},
   "outputs": [],
   "source": []
  }
 ],
 "metadata": {
  "interpreter": {
   "hash": "33e38b4fc567f4e8019f05d798cf38d5465d2749ead22ae1a365825ed0d2a079"
  },
  "kernelspec": {
   "display_name": "Python 3.8.10 ('env_renewable_power_plants_pred': venv)",
   "language": "python",
   "name": "python3"
  },
  "language_info": {
   "codemirror_mode": {
    "name": "ipython",
    "version": 3
   },
   "file_extension": ".py",
   "mimetype": "text/x-python",
   "name": "python",
   "nbconvert_exporter": "python",
   "pygments_lexer": "ipython3",
   "version": "3.8.10"
  },
  "orig_nbformat": 4
 },
 "nbformat": 4,
 "nbformat_minor": 2
}
