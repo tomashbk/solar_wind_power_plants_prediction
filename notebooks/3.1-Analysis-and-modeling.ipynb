{
 "cells": [
  {
   "cell_type": "markdown",
   "metadata": {},
   "source": [
    "This notebook comes after `src/data/2-make_dataset.py` and it is covers different sections:\n",
    "- DATAFRAMES\n",
    "- REMOVING OUTLIERS\n",
    "- BALANCING THE DATA\n",
    "- FEATURE ENGINEERING\n",
    "- SCALING THE DATA\n",
    "\n",
    "\n",
    "And after that comes the different models tried:\n",
    "- DECISION TREE CLASSIFIER\n",
    "- RANDOM FOREST CLASSIFIER\n",
    "- XGBOOST\n",
    "- KNN\n",
    "- NAIVE BAYES\n",
    "- SVM\n",
    "- PCA\n",
    "- LOGISTIC REGRESSION\n",
    "- LDA\n",
    "- NEURAL NETWORK\n",
    "- VOTING CLASSIFIER\n",
    "- ADA BOOST\n",
    "- GRADIENT TREE BOOSTING\n",
    "\n",
    "Finally, the export of the final dataframes and model\n",
    "- EXPORTING FINAL DATA AND MODEL"
   ]
  },
  {
   "cell_type": "code",
   "execution_count": 1,
   "metadata": {},
   "outputs": [],
   "source": [
    "import pyhere\n",
    "import sys\n",
    "sys.path.insert(0, str(pyhere.here().resolve().joinpath(\"src\")))\n",
    "import utils\n",
    "\n",
    "import numpy as np\n",
    "import pandas as pd\n",
    "import matplotlib.pyplot as plt\n",
    "import seaborn as sns\n",
    "\n",
    "\n",
    "from sklearn.feature_selection import mutual_info_classif\n",
    "from sklearn.model_selection import train_test_split, cross_val_score, GridSearchCV, RandomizedSearchCV, StratifiedKFold\n",
    "from sklearn.preprocessing import LabelEncoder, MinMaxScaler, PowerTransformer, StandardScaler\n",
    "# from sklearn.metrics import mean_absolute_error\n",
    "from sklearn.tree import DecisionTreeClassifier\n",
    "from sklearn.ensemble import RandomForestClassifier\n",
    "from sklearn import tree\n",
    "from sklearn.neighbors import KNeighborsClassifier\n",
    "from sklearn.metrics import confusion_matrix, accuracy_score, precision_score, classification_report\n",
    "from xgboost import XGBClassifier\n",
    "from sklearn.svm import SVC\n",
    "from sklearn.naive_bayes import GaussianNB\n",
    "from sklearn.linear_model import LogisticRegression\n",
    "from sklearn.decomposition import PCA\n",
    "from sklearn.discriminant_analysis import LinearDiscriminantAnalysis as LDA\n",
    "from sklearn.neural_network import MLPClassifier\n",
    "from sklearn.ensemble import BaggingClassifier, GradientBoostingClassifier, VotingClassifier, AdaBoostClassifier, IsolationForest\n",
    "from sklearn.svm import LinearSVC\n",
    "from sklearn.linear_model import SGDClassifier\n",
    "from scipy import stats\n",
    "import joblib\n"
   ]
  },
  {
   "cell_type": "markdown",
   "metadata": {},
   "source": [
    "# DATAFRAMES"
   ]
  },
  {
   "cell_type": "code",
   "execution_count": 2,
   "metadata": {},
   "outputs": [],
   "source": [
    "csv_power_plants = pd.read_csv(utils.DIR_DATA_INTERIM/\"power_plants_with_generation_transformed.csv\", index_col=[0])\n",
    "df_transformed = pd.read_csv(utils.DIR_DATA_EXTERNAL/\"v7_transformed_data_combined_with_nasa.csv\", index_col=['index'])\n",
    "csv_power_plants.index.rename('index', inplace=True)\n",
    "df_power_plants_raw = pd.read_csv(utils.DIR_DATA_RAW/\"global_power_plant_database.csv\", usecols=['name','primary_fuel', 'other_fuel1', 'other_fuel2', 'other_fuel3'], engine='python')\n",
    "csv_power_plants = csv_power_plants.join(df_power_plants_raw)"
   ]
  },
  {
   "cell_type": "code",
   "execution_count": 3,
   "metadata": {},
   "outputs": [
    {
     "data": {
      "text/plain": [
       "<AxesSubplot:>"
      ]
     },
     "execution_count": 3,
     "metadata": {},
     "output_type": "execute_result"
    },
    {
     "data": {
      "image/png": "[encoded data removed]",
      "text/plain": [
       "<Figure size 432x288 with 1 Axes>"
      ]
     },
     "metadata": {
      "needs_background": "light"
     },
     "output_type": "display_data"
    }
   ],
   "source": [
    "csv_power_plants['primary_fuel'].value_counts().plot.bar()"
   ]
  },
  {
   "cell_type": "code",
   "execution_count": 4,
   "metadata": {},
   "outputs": [],
   "source": [
    "\n",
    "index_set_to_delete = csv_power_plants[~csv_power_plants['primary_fuel'].isin(['Solar', 'Wind', 'Gas', 'Coal', 'Oil', 'Nuclear'])].index.tolist()\n",
    "index_set_to_delete += csv_power_plants[csv_power_plants['other_fuel1'].isin(['Solar', 'Wind'])].index.tolist()\n",
    "index_set_to_delete += (csv_power_plants[csv_power_plants['other_fuel2'].isin(['Solar', 'Wind'])].index.tolist())\n",
    "index_set_to_delete += (csv_power_plants[csv_power_plants['other_fuel3'].isin(['Solar', 'Wind'])].index.tolist())\n",
    "\n",
    "csv_power_plants.drop(index_set_to_delete, inplace = True)\n",
    "\n",
    "# csv_power_plants.filter(like='other_fuel').columns\n",
    "\n",
    "# csv_power_plants[csv_power_plants['other_fuel1'].isin(['Solar', 'Wind'])]\n",
    "# csv_power_plants[csv_power_plants['other_fuel2'].isin(['Solar', 'Wind'])]\n",
    "# csv_power_plants[csv_power_plants['other_fuel3'].isin(['Solar', 'Wind'])]"
   ]
  },
  {
   "cell_type": "code",
   "execution_count": 5,
   "metadata": {},
   "outputs": [],
   "source": [
    "columns_to_combine = [\n",
    "                        'name',\n",
    "                        'capacity_mw',\n",
    "                        'primary_fuel_transformed',\n",
    "                        # 'other_fuel1',\n",
    "                        # 'other_fuel2',\n",
    "                        # 'other_fuel3',\n",
    "                        'generation_gwh_2013',\n",
    "                        'generation_gwh_2014',\n",
    "                        'generation_gwh_2015',\n",
    "                        'generation_gwh_2016',\n",
    "                        'generation_gwh_2017',\n",
    "                        'generation_gwh_2018',\n",
    "                        'generation_gwh_2019'\n",
    "                    ]\n",
    "# df_transformed_combined = df_transformed.merge(csv_power_plants.loc[0:28260, [columns_to_combine]],left_on=\"index\", right_on=\"index\")\n",
    "df_transformed_combined = df_transformed.merge(csv_power_plants[columns_to_combine],left_on=\"index\", right_on=\"index\")"
   ]
  },
  {
   "cell_type": "code",
   "execution_count": 6,
   "metadata": {},
   "outputs": [],
   "source": [
    "columns_delete = df_transformed_combined.columns.str.contains('mean')\n",
    "\n",
    "df_transformed_combined = df_transformed_combined.loc[:,~columns_delete]"
   ]
  },
  {
   "cell_type": "code",
   "execution_count": 7,
   "metadata": {},
   "outputs": [
    {
     "name": "stdout",
     "output_type": "stream",
     "text": [
      "primary_fuel_transformed\n",
      "Solar                       10664\n",
      "Other                        8802\n",
      "Wind                         5340\n",
      "dtype: int64\n"
     ]
    },
    {
     "data": {
      "text/plain": [
       "<AxesSubplot:xlabel='primary_fuel_transformed'>"
      ]
     },
     "execution_count": 7,
     "metadata": {},
     "output_type": "execute_result"
    },
    {
     "data": {
      "image/png": "[encoded data removed]",
      "text/plain": [
       "<Figure size 432x288 with 1 Axes>"
      ]
     },
     "metadata": {
      "needs_background": "light"
     },
     "output_type": "display_data"
    }
   ],
   "source": [
    "print(df_transformed_combined[['primary_fuel_transformed']].value_counts())\n",
    "df_transformed_combined[['primary_fuel_transformed']].value_counts().plot.bar()"
   ]
  },
  {
   "cell_type": "code",
   "execution_count": 8,
   "metadata": {},
   "outputs": [],
   "source": [
    "df_transformed_combined = df_transformed_combined[~(df_transformed_combined['name'].str.contains('CSP') & df_transformed_combined['primary_fuel_transformed'])]"
   ]
  },
  {
   "cell_type": "code",
   "execution_count": 9,
   "metadata": {},
   "outputs": [
    {
     "name": "stdout",
     "output_type": "stream",
     "text": [
      "primary_fuel_transformed\n",
      "Solar                       10649\n",
      "Other                        8802\n",
      "Wind                         5340\n",
      "dtype: int64\n"
     ]
    },
    {
     "data": {
      "text/plain": [
       "<AxesSubplot:xlabel='primary_fuel_transformed'>"
      ]
     },
     "execution_count": 9,
     "metadata": {},
     "output_type": "execute_result"
    },
    {
     "data": {
      "image/png": "[encoded data removed]",
      "text/plain": [
       "<Figure size 432x288 with 1 Axes>"
      ]
     },
     "metadata": {
      "needs_background": "light"
     },
     "output_type": "display_data"
    }
   ],
   "source": [
    "print(df_transformed_combined[['primary_fuel_transformed']].value_counts())\n",
    "df_transformed_combined[['primary_fuel_transformed']].value_counts().plot.bar()"
   ]
  },
  {
   "cell_type": "code",
   "execution_count": 10,
   "metadata": {},
   "outputs": [
    {
     "data": {
      "text/html": [
       "<div>\n",
       "<style scoped>\n",
       "    .dataframe tbody tr th:only-of-type {\n",
       "        vertical-align: middle;\n",
       "    }\n",
       "\n",
       "    .dataframe tbody tr th {\n",
       "        vertical-align: top;\n",
       "    }\n",
       "\n",
       "    .dataframe thead th {\n",
       "        text-align: right;\n",
       "    }\n",
       "</style>\n",
       "<table border=\"1\" class=\"dataframe\">\n",
       "  <thead>\n",
       "    <tr style=\"text-align: right;\">\n",
       "      <th></th>\n",
       "      <th>latitude</th>\n",
       "      <th>longitude</th>\n",
       "      <th>ANN_ALLSKY_SFC_SW_DNI_2013</th>\n",
       "      <th>ANN_ALLSKY_SFC_SW_DNI_2014</th>\n",
       "      <th>ANN_ALLSKY_SFC_SW_DNI_2015</th>\n",
       "      <th>ANN_ALLSKY_SFC_SW_DNI_2016</th>\n",
       "      <th>ANN_ALLSKY_SFC_SW_DNI_2017</th>\n",
       "      <th>ANN_ALLSKY_SFC_SW_DNI_2018</th>\n",
       "      <th>ANN_ALLSKY_SFC_SW_DNI_2019</th>\n",
       "      <th>ANN_ALLSKY_SFC_SW_DWN_2013</th>\n",
       "      <th>...</th>\n",
       "      <th>std_WS50M_RANGE_AVG_2018</th>\n",
       "      <th>std_WS50M_RANGE_AVG_2019</th>\n",
       "      <th>capacity_mw</th>\n",
       "      <th>generation_gwh_2013</th>\n",
       "      <th>generation_gwh_2014</th>\n",
       "      <th>generation_gwh_2015</th>\n",
       "      <th>generation_gwh_2016</th>\n",
       "      <th>generation_gwh_2017</th>\n",
       "      <th>generation_gwh_2018</th>\n",
       "      <th>generation_gwh_2019</th>\n",
       "    </tr>\n",
       "  </thead>\n",
       "  <tbody>\n",
       "    <tr>\n",
       "      <th>count</th>\n",
       "      <td>24791.000000</td>\n",
       "      <td>24791.000000</td>\n",
       "      <td>24791.000000</td>\n",
       "      <td>24791.000000</td>\n",
       "      <td>24791.000000</td>\n",
       "      <td>24791.000000</td>\n",
       "      <td>24791.000000</td>\n",
       "      <td>24791.000000</td>\n",
       "      <td>24791.000000</td>\n",
       "      <td>24791.000000</td>\n",
       "      <td>...</td>\n",
       "      <td>24791.000000</td>\n",
       "      <td>24791.000000</td>\n",
       "      <td>24791.00000</td>\n",
       "      <td>4213.000000</td>\n",
       "      <td>4810.000000</td>\n",
       "      <td>5601.000000</td>\n",
       "      <td>6283.000000</td>\n",
       "      <td>6796.000000</td>\n",
       "      <td>7045.000000</td>\n",
       "      <td>7302.000000</td>\n",
       "    </tr>\n",
       "    <tr>\n",
       "      <th>mean</th>\n",
       "      <td>33.928245</td>\n",
       "      <td>-3.826323</td>\n",
       "      <td>4.386066</td>\n",
       "      <td>4.359166</td>\n",
       "      <td>4.406387</td>\n",
       "      <td>4.473711</td>\n",
       "      <td>4.470474</td>\n",
       "      <td>4.397806</td>\n",
       "      <td>4.425716</td>\n",
       "      <td>4.238151</td>\n",
       "      <td>...</td>\n",
       "      <td>0.682261</td>\n",
       "      <td>0.669360</td>\n",
       "      <td>184.27026</td>\n",
       "      <td>785.793437</td>\n",
       "      <td>875.861542</td>\n",
       "      <td>1008.887201</td>\n",
       "      <td>900.597107</td>\n",
       "      <td>832.720769</td>\n",
       "      <td>630.163237</td>\n",
       "      <td>505.247728</td>\n",
       "    </tr>\n",
       "    <tr>\n",
       "      <th>std</th>\n",
       "      <td>20.645427</td>\n",
       "      <td>79.241199</td>\n",
       "      <td>1.375814</td>\n",
       "      <td>1.315913</td>\n",
       "      <td>1.236904</td>\n",
       "      <td>1.329657</td>\n",
       "      <td>1.331693</td>\n",
       "      <td>1.192065</td>\n",
       "      <td>1.263113</td>\n",
       "      <td>0.943968</td>\n",
       "      <td>...</td>\n",
       "      <td>0.214462</td>\n",
       "      <td>0.233416</td>\n",
       "      <td>496.83033</td>\n",
       "      <td>2448.009578</td>\n",
       "      <td>2635.833075</td>\n",
       "      <td>2980.118619</td>\n",
       "      <td>2821.354033</td>\n",
       "      <td>2729.824191</td>\n",
       "      <td>2238.377489</td>\n",
       "      <td>1898.807419</td>\n",
       "    </tr>\n",
       "    <tr>\n",
       "      <th>min</th>\n",
       "      <td>-77.847000</td>\n",
       "      <td>-179.977700</td>\n",
       "      <td>1.530000</td>\n",
       "      <td>1.660000</td>\n",
       "      <td>1.640000</td>\n",
       "      <td>1.810000</td>\n",
       "      <td>1.880000</td>\n",
       "      <td>1.790000</td>\n",
       "      <td>1.740000</td>\n",
       "      <td>1.970000</td>\n",
       "      <td>...</td>\n",
       "      <td>0.049000</td>\n",
       "      <td>0.075000</td>\n",
       "      <td>1.00000</td>\n",
       "      <td>-2.653000</td>\n",
       "      <td>-262.902000</td>\n",
       "      <td>-141.014000</td>\n",
       "      <td>-127.507000</td>\n",
       "      <td>-132.033000</td>\n",
       "      <td>-143.592000</td>\n",
       "      <td>-64.543000</td>\n",
       "    </tr>\n",
       "    <tr>\n",
       "      <th>25%</th>\n",
       "      <td>31.585800</td>\n",
       "      <td>-77.666150</td>\n",
       "      <td>3.240000</td>\n",
       "      <td>3.290000</td>\n",
       "      <td>3.390000</td>\n",
       "      <td>3.280000</td>\n",
       "      <td>3.370000</td>\n",
       "      <td>3.490000</td>\n",
       "      <td>3.420000</td>\n",
       "      <td>3.600000</td>\n",
       "      <td>...</td>\n",
       "      <td>0.548000</td>\n",
       "      <td>0.509000</td>\n",
       "      <td>5.00000</td>\n",
       "      <td>0.299000</td>\n",
       "      <td>0.714500</td>\n",
       "      <td>1.392000</td>\n",
       "      <td>1.468500</td>\n",
       "      <td>1.551750</td>\n",
       "      <td>1.542000</td>\n",
       "      <td>2.092500</td>\n",
       "    </tr>\n",
       "    <tr>\n",
       "      <th>50%</th>\n",
       "      <td>39.632000</td>\n",
       "      <td>-1.433300</td>\n",
       "      <td>4.270000</td>\n",
       "      <td>4.240000</td>\n",
       "      <td>4.350000</td>\n",
       "      <td>4.470000</td>\n",
       "      <td>4.350000</td>\n",
       "      <td>4.130000</td>\n",
       "      <td>4.250000</td>\n",
       "      <td>4.160000</td>\n",
       "      <td>...</td>\n",
       "      <td>0.661000</td>\n",
       "      <td>0.641000</td>\n",
       "      <td>18.00000</td>\n",
       "      <td>15.411000</td>\n",
       "      <td>14.069500</td>\n",
       "      <td>18.329000</td>\n",
       "      <td>11.305000</td>\n",
       "      <td>9.798500</td>\n",
       "      <td>8.584000</td>\n",
       "      <td>8.685500</td>\n",
       "    </tr>\n",
       "    <tr>\n",
       "      <th>75%</th>\n",
       "      <td>45.584150</td>\n",
       "      <td>71.823500</td>\n",
       "      <td>5.170000</td>\n",
       "      <td>5.110000</td>\n",
       "      <td>5.100000</td>\n",
       "      <td>5.290000</td>\n",
       "      <td>5.280000</td>\n",
       "      <td>5.020000</td>\n",
       "      <td>5.140000</td>\n",
       "      <td>4.930000</td>\n",
       "      <td>...</td>\n",
       "      <td>0.801000</td>\n",
       "      <td>0.815000</td>\n",
       "      <td>88.00000</td>\n",
       "      <td>278.982000</td>\n",
       "      <td>309.883501</td>\n",
       "      <td>400.634000</td>\n",
       "      <td>316.950500</td>\n",
       "      <td>259.006736</td>\n",
       "      <td>157.317500</td>\n",
       "      <td>125.090141</td>\n",
       "    </tr>\n",
       "    <tr>\n",
       "      <th>max</th>\n",
       "      <td>71.292000</td>\n",
       "      <td>178.835900</td>\n",
       "      <td>10.380000</td>\n",
       "      <td>10.580000</td>\n",
       "      <td>10.080000</td>\n",
       "      <td>10.010000</td>\n",
       "      <td>10.320000</td>\n",
       "      <td>9.880000</td>\n",
       "      <td>9.940000</td>\n",
       "      <td>7.240000</td>\n",
       "      <td>...</td>\n",
       "      <td>2.033000</td>\n",
       "      <td>2.162000</td>\n",
       "      <td>8865.00000</td>\n",
       "      <td>31431.080000</td>\n",
       "      <td>32320.917000</td>\n",
       "      <td>37433.607000</td>\n",
       "      <td>32377.477000</td>\n",
       "      <td>36448.643000</td>\n",
       "      <td>35136.000000</td>\n",
       "      <td>31920.368000</td>\n",
       "    </tr>\n",
       "  </tbody>\n",
       "</table>\n",
       "<p>8 rows × 535 columns</p>\n",
       "</div>"
      ],
      "text/plain": [
       "           latitude     longitude  ANN_ALLSKY_SFC_SW_DNI_2013  \\\n",
       "count  24791.000000  24791.000000                24791.000000   \n",
       "mean      33.928245     -3.826323                    4.386066   \n",
       "std       20.645427     79.241199                    1.375814   \n",
       "min      -77.847000   -179.977700                    1.530000   \n",
       "25%       31.585800    -77.666150                    3.240000   \n",
       "50%       39.632000     -1.433300                    4.270000   \n",
       "75%       45.584150     71.823500                    5.170000   \n",
       "max       71.292000    178.835900                   10.380000   \n",
       "\n",
       "       ANN_ALLSKY_SFC_SW_DNI_2014  ANN_ALLSKY_SFC_SW_DNI_2015  \\\n",
       "count                24791.000000                24791.000000   \n",
       "mean                     4.359166                    4.406387   \n",
       "std                      1.315913                    1.236904   \n",
       "min                      1.660000                    1.640000   \n",
       "25%                      3.290000                    3.390000   \n",
       "50%                      4.240000                    4.350000   \n",
       "75%                      5.110000                    5.100000   \n",
       "max                     10.580000                   10.080000   \n",
       "\n",
       "       ANN_ALLSKY_SFC_SW_DNI_2016  ANN_ALLSKY_SFC_SW_DNI_2017  \\\n",
       "count                24791.000000                24791.000000   \n",
       "mean                     4.473711                    4.470474   \n",
       "std                      1.329657                    1.331693   \n",
       "min                      1.810000                    1.880000   \n",
       "25%                      3.280000                    3.370000   \n",
       "50%                      4.470000                    4.350000   \n",
       "75%                      5.290000                    5.280000   \n",
       "max                     10.010000                   10.320000   \n",
       "\n",
       "       ANN_ALLSKY_SFC_SW_DNI_2018  ANN_ALLSKY_SFC_SW_DNI_2019  \\\n",
       "count                24791.000000                24791.000000   \n",
       "mean                     4.397806                    4.425716   \n",
       "std                      1.192065                    1.263113   \n",
       "min                      1.790000                    1.740000   \n",
       "25%                      3.490000                    3.420000   \n",
       "50%                      4.130000                    4.250000   \n",
       "75%                      5.020000                    5.140000   \n",
       "max                      9.880000                    9.940000   \n",
       "\n",
       "       ANN_ALLSKY_SFC_SW_DWN_2013  ...  std_WS50M_RANGE_AVG_2018  \\\n",
       "count                24791.000000  ...              24791.000000   \n",
       "mean                     4.238151  ...                  0.682261   \n",
       "std                      0.943968  ...                  0.214462   \n",
       "min                      1.970000  ...                  0.049000   \n",
       "25%                      3.600000  ...                  0.548000   \n",
       "50%                      4.160000  ...                  0.661000   \n",
       "75%                      4.930000  ...                  0.801000   \n",
       "max                      7.240000  ...                  2.033000   \n",
       "\n",
       "       std_WS50M_RANGE_AVG_2019  capacity_mw  generation_gwh_2013  \\\n",
       "count              24791.000000  24791.00000          4213.000000   \n",
       "mean                   0.669360    184.27026           785.793437   \n",
       "std                    0.233416    496.83033          2448.009578   \n",
       "min                    0.075000      1.00000            -2.653000   \n",
       "25%                    0.509000      5.00000             0.299000   \n",
       "50%                    0.641000     18.00000            15.411000   \n",
       "75%                    0.815000     88.00000           278.982000   \n",
       "max                    2.162000   8865.00000         31431.080000   \n",
       "\n",
       "       generation_gwh_2014  generation_gwh_2015  generation_gwh_2016  \\\n",
       "count          4810.000000          5601.000000          6283.000000   \n",
       "mean            875.861542          1008.887201           900.597107   \n",
       "std            2635.833075          2980.118619          2821.354033   \n",
       "min            -262.902000          -141.014000          -127.507000   \n",
       "25%               0.714500             1.392000             1.468500   \n",
       "50%              14.069500            18.329000            11.305000   \n",
       "75%             309.883501           400.634000           316.950500   \n",
       "max           32320.917000         37433.607000         32377.477000   \n",
       "\n",
       "       generation_gwh_2017  generation_gwh_2018  generation_gwh_2019  \n",
       "count          6796.000000          7045.000000          7302.000000  \n",
       "mean            832.720769           630.163237           505.247728  \n",
       "std            2729.824191          2238.377489          1898.807419  \n",
       "min            -132.033000          -143.592000           -64.543000  \n",
       "25%               1.551750             1.542000             2.092500  \n",
       "50%               9.798500             8.584000             8.685500  \n",
       "75%             259.006736           157.317500           125.090141  \n",
       "max           36448.643000         35136.000000         31920.368000  \n",
       "\n",
       "[8 rows x 535 columns]"
      ]
     },
     "execution_count": 10,
     "metadata": {},
     "output_type": "execute_result"
    }
   ],
   "source": [
    "df_transformed_combined.describe()"
   ]
  },
  {
   "cell_type": "code",
   "execution_count": 11,
   "metadata": {},
   "outputs": [],
   "source": [
    "# df_transformed_combined = df_transformed_combined.loc[df_transformed_combined['generation_gwh_2013'].notna() & df_transformed_combined['generation_gwh_2014'].notna() & df_transformed_combined['generation_gwh_2015'].notna() & df_transformed_combined['generation_gwh_2016'].notna() & df_transformed_combined['generation_gwh_2017'].notna() & df_transformed_combined['generation_gwh_2018'].notna() & df_transformed_combined['generation_gwh_2019'].notna()]"
   ]
  },
  {
   "cell_type": "code",
   "execution_count": 12,
   "metadata": {},
   "outputs": [
    {
     "name": "stdout",
     "output_type": "stream",
     "text": [
      "primary_fuel_transformed\n",
      "Solar                       10649\n",
      "Other                        8802\n",
      "Wind                         5340\n",
      "dtype: int64\n"
     ]
    },
    {
     "data": {
      "text/plain": [
       "<AxesSubplot:xlabel='primary_fuel_transformed'>"
      ]
     },
     "execution_count": 12,
     "metadata": {},
     "output_type": "execute_result"
    },
    {
     "data": {
      "image/png": "[encoded data removed]",
      "text/plain": [
       "<Figure size 432x288 with 1 Axes>"
      ]
     },
     "metadata": {
      "needs_background": "light"
     },
     "output_type": "display_data"
    }
   ],
   "source": [
    "print(df_transformed_combined[['primary_fuel_transformed']].value_counts())\n",
    "df_transformed_combined[['primary_fuel_transformed']].value_counts().plot.bar()"
   ]
  },
  {
   "cell_type": "code",
   "execution_count": 13,
   "metadata": {},
   "outputs": [],
   "source": [
    "label_encoder = LabelEncoder()\n",
    "# df_transformed_combined.isna().sum()\n",
    "# df_transformed_combined[df_transformed_combined.isna().any(axis=1)]\n",
    "# df_transformed_combined.dropna(inplace = True)\n",
    "df_transformed_combined = df_transformed_combined[df_transformed_combined['primary_fuel_transformed'].notna()]\n",
    "df_transformed_combined['code_prim_fuel_transf'] = label_encoder.fit_transform(df_transformed_combined['primary_fuel_transformed'])\n"
   ]
  },
  {
   "cell_type": "code",
   "execution_count": 14,
   "metadata": {},
   "outputs": [],
   "source": [
    "df_target_equivalent = df_transformed_combined[['primary_fuel_transformed', 'code_prim_fuel_transf']].drop_duplicates()\n",
    "df_target_equivalent = df_target_equivalent.set_index('code_prim_fuel_transf').sort_index().reset_index().drop(columns=['code_prim_fuel_transf'])\n",
    "list_target_in_order = df_target_equivalent.squeeze().to_list()"
   ]
  },
  {
   "cell_type": "markdown",
   "metadata": {},
   "source": [
    "# REMOVING OUTLIERS"
   ]
  },
  {
   "cell_type": "code",
   "execution_count": 15,
   "metadata": {},
   "outputs": [],
   "source": [
    "\n",
    "# columns_not_consider_outliers = [\n",
    "#                                     'name',\n",
    "#                                     'capacity_mw',\n",
    "#                                     'latitude',\n",
    "#                                     'longitude',\n",
    "#                                     'primary_fuel_transformed',\n",
    "#                                     'code_prim_fuel_transf',\n",
    "#                                     'generation_gwh_2013',\n",
    "#                                     'generation_gwh_2014',\n",
    "#                                     'generation_gwh_2015',\n",
    "#                                     'generation_gwh_2016',\n",
    "#                                     'generation_gwh_2017',\n",
    "#                                     'generation_gwh_2018',\n",
    "#                                     'generation_gwh_2019'\n",
    "#                                 ]\n",
    "# # X = X.loc[:,~columns_delete]                        \n",
    "# df_transformed_combined_remove_outliers = df_transformed_combined.drop(columns = columns_not_consider_outliers)"
   ]
  },
  {
   "cell_type": "code",
   "execution_count": 16,
   "metadata": {},
   "outputs": [],
   "source": [
    "# iso = IsolationForest(contamination=0.1)\n",
    "# yhat = iso.fit_predict(df_transformed_combined_remove_outliers)"
   ]
  },
  {
   "cell_type": "code",
   "execution_count": 17,
   "metadata": {},
   "outputs": [],
   "source": [
    "# # # select all rows that are outliers\n",
    "# mask = yhat == -1\n",
    "# index_outliers = df_transformed_combined[mask].index"
   ]
  },
  {
   "cell_type": "code",
   "execution_count": 18,
   "metadata": {},
   "outputs": [],
   "source": [
    "# # WITH OUTLIERS\n",
    "# print(df_transformed_combined[['primary_fuel_transformed']].value_counts())\n",
    "# df_transformed_combined[['primary_fuel_transformed']].value_counts().plot.bar()"
   ]
  },
  {
   "cell_type": "code",
   "execution_count": 19,
   "metadata": {},
   "outputs": [],
   "source": [
    "# # WITHOUT OUTLIERS\n",
    "# df_transformed_combined.drop(index_outliers, axis=0, inplace =True)\n",
    "\n",
    "# print(df_transformed_combined[['primary_fuel_transformed']].value_counts())\n",
    "# df_transformed_combined[['primary_fuel_transformed']].value_counts().plot.bar()"
   ]
  },
  {
   "cell_type": "markdown",
   "metadata": {},
   "source": [
    "# BALANCING THE DATA"
   ]
  },
  {
   "cell_type": "code",
   "execution_count": 20,
   "metadata": {},
   "outputs": [],
   "source": [
    "utils.balancing_data_more_than_1000(df_transformed_combined, 'primary_fuel_transformed')"
   ]
  },
  {
   "cell_type": "code",
   "execution_count": 21,
   "metadata": {},
   "outputs": [
    {
     "data": {
      "text/plain": [
       "<AxesSubplot:xlabel='primary_fuel_transformed'>"
      ]
     },
     "execution_count": 21,
     "metadata": {},
     "output_type": "execute_result"
    },
    {
     "data": {
      "image/png": "[encoded data removed]",
      "text/plain": [
       "<Figure size 432x288 with 1 Axes>"
      ]
     },
     "metadata": {
      "needs_background": "light"
     },
     "output_type": "display_data"
    }
   ],
   "source": [
    "df_transformed_combined[['primary_fuel_transformed']].value_counts().plot.bar()"
   ]
  },
  {
   "cell_type": "code",
   "execution_count": 22,
   "metadata": {},
   "outputs": [
    {
     "data": {
      "text/plain": [
       "latitude                          0\n",
       "longitude                         0\n",
       "ANN_ALLSKY_SFC_SW_DNI_2013        0\n",
       "ANN_ALLSKY_SFC_SW_DNI_2014        0\n",
       "ANN_ALLSKY_SFC_SW_DNI_2015        0\n",
       "                              ...  \n",
       "generation_gwh_2016           12019\n",
       "generation_gwh_2017           11752\n",
       "generation_gwh_2018           11614\n",
       "generation_gwh_2019           11506\n",
       "code_prim_fuel_transf             0\n",
       "Length: 538, dtype: int64"
      ]
     },
     "execution_count": 22,
     "metadata": {},
     "output_type": "execute_result"
    }
   ],
   "source": [
    "df_transformed_combined.isna().sum()"
   ]
  },
  {
   "cell_type": "code",
   "execution_count": 23,
   "metadata": {},
   "outputs": [],
   "source": [
    "# index_to_drop = df_transformed_combined[df_transformed_combined['primary_fuel_transformed'] == 'Wind'].index\n",
    "# df_transformed_combined.drop(index_to_drop, inplace=True)\n",
    "# X = X.loc[:,~columns_delete]"
   ]
  },
  {
   "cell_type": "code",
   "execution_count": 24,
   "metadata": {},
   "outputs": [],
   "source": [
    "# df_transformed_combined.isna().sum()\n",
    "# df_transformed_combined[df_transformed_combined.isna().any(axis=1)]\n",
    "# df_transformed_combined.dropna(inplace = True)\n",
    "columns_to_drop = [\n",
    "                        'name',\n",
    "                        'capacity_mw',\n",
    "                        'latitude',\n",
    "                        'longitude',\n",
    "                        'primary_fuel_transformed',\n",
    "                        'generation_gwh_2013',\n",
    "                        'generation_gwh_2014',\n",
    "                        'generation_gwh_2015',\n",
    "                        'generation_gwh_2016',\n",
    "                        'generation_gwh_2017',\n",
    "                        'generation_gwh_2018',\n",
    "                        'generation_gwh_2019'\n",
    "                    ]\n",
    "df_transformed_combined.drop(columns=columns_to_drop, inplace = True)\n",
    "# pre_X.dropna(inplace = True)\n",
    "X = df_transformed_combined.drop(columns=['code_prim_fuel_transf'])\n",
    "y = df_transformed_combined['code_prim_fuel_transf']"
   ]
  },
  {
   "cell_type": "code",
   "execution_count": 25,
   "metadata": {},
   "outputs": [
    {
     "data": {
      "text/plain": [
       "1    5340\n",
       "0    5340\n",
       "2    5340\n",
       "Name: code_prim_fuel_transf, dtype: int64"
      ]
     },
     "execution_count": 25,
     "metadata": {},
     "output_type": "execute_result"
    }
   ],
   "source": [
    "y.value_counts()"
   ]
  },
  {
   "cell_type": "markdown",
   "metadata": {},
   "source": [
    "# DIFFERENT DATASETS"
   ]
  },
  {
   "cell_type": "code",
   "execution_count": 26,
   "metadata": {},
   "outputs": [],
   "source": [
    "#  columns_delete = X.columns.str.contains('ALLSKY_KT') | X.columns.str.contains('ANN') | X.columns.str.contains('autumn_CLRSKY_SFC_SW_DWN_2019')\n",
    "# columns_delete = X.columns.str.contains('ALLSKY_KT') | X.columns.str.contains('ANN') | X.columns.str.contains('2019') | X.columns.str.contains('2013') | X.columns.str.contains('2014') | X.columns.str.contains('2015') | X.columns.str.contains('2016') | X.columns.str.contains('2017') | X.columns.str.contains('MIN')\n",
    "# columns_delete = X.columns.str.contains('ALLSKY_KT') | X.columns.str.contains('2019') | X.columns.str.contains('2012') | X.columns.str.contains('2013') | X.columns.str.contains('2014') | X.columns.str.contains('2015') | X.columns.str.contains('2016') | X.columns.str.contains('2017') | X.columns.str.contains('2018') | X.columns.str.contains('MIN') | X.columns.str.contains('ANN')\n",
    "# columns_delete = X.columns.str.contains('2019') | X.columns.str.contains('2013') | X.columns.str.contains('2014') | X.columns.str.contains('2015') | X.columns.str.contains('2016') | X.columns.str.contains('2017') | X.columns.str.contains('2018') | X.columns.str.contains('ANN') #| X.columns.str.contains('WS50M_RANGE_AVG') | X.columns.str.contains('WS10M_RANGE_AVG') | X.columns.str.contains('CLRSKY_SFC_SW_UP') | X.columns.str.contains('CLRSKY_SFC_SW_DNI') | X.columns.str.contains('CLRSKY_SFC_SW_DIFF') | X.columns.str.contains('ALLSKY_SFC_SW_UP_MAX') | X.columns.str.contains('ALLSKY_SFC_SW_DNI') | X.columns.str.contains('ALLSKY_SFC_LW_UP') | X.columns.str.contains('ALLSKY_SFC_LW_DWN') | X.columns.str.contains('ALLSKY_SFC_SW_UP') | X.columns.str.contains('ALLSKY_SFC_SW_DIFF')\n",
    "# columns_keep = X.columns.str.contains('ANN') | X.columns.str.contains('SFC_LW_DWN') | X.columns.str.contains('2013')| X.columns.str.contains('MAX')\n",
    "# columns_delete = X.columns.str.contains('WS') | X.columns.str.contains('2014') | X.columns.str.contains('2015') | X.columns.str.contains('2016') | X.columns.str.contains('2017') | X.columns.str.contains('2018') | X.columns.str.contains('2019')\n",
    "# columns_keep_2012 =  X.columns.str.contains('2012')\n",
    "X_columns_keep_2013 =  X.columns.str.contains('2013')\n",
    "X_columns_keep_2014 =  X.columns.str.contains('2014')\n",
    "columns_keep_2013 =  df_transformed_combined.columns.str.contains('2013') | df_transformed_combined.columns.str.contains('prim_fuel')\n",
    "columns_keep_2014 =  df_transformed_combined.columns.str.contains('2014') | df_transformed_combined.columns.str.contains('prim_fuel')\n",
    "# columns_keep = mi_scores[mi_scores > .3].index\n",
    "# columns_delete = X.columns.str.contains('ANN') | X.columns.str.contains('2019') | X.columns.str.contains('2013') | X.columns.str.contains('2014') | X.columns.str.contains('2015') | X.columns.str.contains('2016') | X.columns.str.contains('2017') \n",
    "# columns_delete = X.columns.str.contains('WS50M_2013') | X.columns.str.contains('WS10') | X.columns.str.contains('DNI') | X.columns.str.contains('SFC_LW_UP') | X.columns.str.contains('SFC_SW_DWN') | X.columns.str.contains('autumn') | X.columns.str.contains('winter') | X.columns.str.contains('summer') | X.columns.str.contains('spring') | X.columns.str.contains('2014') | X.columns.str.contains('2015') | X.columns.str.contains('2016') | X.columns.str.contains('2017') | X.columns.str.contains('2018') | X.columns.str.contains('2019')\n",
    "# columns_delete = X.columns.str.contains('WS50M_2013') | X.columns.str.contains('WS10') | X.columns.str.contains('autumn') | X.columns.str.contains('winter') | X.columns.str.contains('summer') | X.columns.str.contains('spring') | X.columns.str.contains('2014') | X.columns.str.contains('2015') | X.columns.str.contains('2016') | X.columns.str.contains('2017') | X.columns.str.contains('2018') | X.columns.str.contains('2019')\n",
    "\n",
    "# X_2012 = X.loc[:,columns_keep_2012]\n",
    "X_2013 = X.loc[:,X_columns_keep_2013]\n",
    "X_2014 = X.loc[:,X_columns_keep_2014]\n",
    "df_transformed_combined_2013 = df_transformed_combined.loc[:,columns_keep_2013]\n",
    "df_transformed_combined_2014 = df_transformed_combined.loc[:,columns_keep_2014]\n",
    "# X = X.loc[:,~columns_delete]"
   ]
  },
  {
   "cell_type": "code",
   "execution_count": null,
   "metadata": {},
   "outputs": [],
   "source": [
    "# X_columns_delete_2014 = X_2014.columns.str.contains('RANGE') | X_2014.columns.str.contains('MAX_AVG') | X_2014.columns.str.contains('median')\n",
    "# columns_delete_2014 = df_transformed_combined_2014.columns.str.contains('RANGE') | df_transformed_combined_2014.columns.str.contains('MAX_AVG') | df_transformed_combined_2014.columns.str.contains('median')\n",
    "\n",
    "# X_2014 = X_2014.loc[:,~X_columns_delete_2014]\n",
    "\n",
    "# df_transformed_combined_2014 = df_transformed_combined_2014.loc[:,~columns_delete_2014]"
   ]
  },
  {
   "cell_type": "code",
   "execution_count": 27,
   "metadata": {},
   "outputs": [
    {
     "data": {
      "text/plain": [
       "Index(['ANN_ALLSKY_SFC_SW_DNI_2014', 'ANN_ALLSKY_SFC_SW_DWN_2014',\n",
       "       'ANN_ALLSKY_SFC_SW_UP_2014', 'ANN_ALLSKY_SFC_SW_UP_MAX_2014',\n",
       "       'ANN_CLOUD_AMT_DAY_2014', 'ANN_CLRSKY_SFC_SW_DNI_2014',\n",
       "       'ANN_CLRSKY_SFC_SW_DWN_2014', 'ANN_CLRSKY_SFC_SW_UP_2014',\n",
       "       'ANN_T2M_2014', 'ANN_WS10M_2014', 'ANN_WS10M_MAX_AVG_2014',\n",
       "       'ANN_WS10M_RANGE_AVG_2014', 'ANN_WS50M_2014', 'ANN_WS50M_MAX_AVG_2014',\n",
       "       'ANN_WS50M_RANGE_AVG_2014', 'max_ALLSKY_SFC_SW_DNI_2014',\n",
       "       'max_ALLSKY_SFC_SW_DWN_2014', 'max_ALLSKY_SFC_SW_UP_2014',\n",
       "       'max_ALLSKY_SFC_SW_UP_MAX_2014', 'max_CLOUD_AMT_DAY_2014',\n",
       "       'max_CLRSKY_SFC_SW_DNI_2014', 'max_CLRSKY_SFC_SW_DWN_2014',\n",
       "       'max_CLRSKY_SFC_SW_UP_2014', 'max_T2M_2014', 'max_WS10M_2014',\n",
       "       'max_WS10M_MAX_AVG_2014', 'max_WS10M_RANGE_AVG_2014', 'max_WS50M_2014',\n",
       "       'max_WS50M_MAX_AVG_2014', 'max_WS50M_RANGE_AVG_2014',\n",
       "       'median_ALLSKY_SFC_SW_DNI_2014', 'median_ALLSKY_SFC_SW_DWN_2014',\n",
       "       'median_ALLSKY_SFC_SW_UP_2014', 'median_ALLSKY_SFC_SW_UP_MAX_2014',\n",
       "       'median_CLOUD_AMT_DAY_2014', 'median_CLRSKY_SFC_SW_DNI_2014',\n",
       "       'median_CLRSKY_SFC_SW_DWN_2014', 'median_CLRSKY_SFC_SW_UP_2014',\n",
       "       'median_T2M_2014', 'median_WS10M_2014', 'median_WS10M_MAX_AVG_2014',\n",
       "       'median_WS10M_RANGE_AVG_2014', 'median_WS50M_2014',\n",
       "       'median_WS50M_MAX_AVG_2014', 'median_WS50M_RANGE_AVG_2014',\n",
       "       'min_ALLSKY_SFC_SW_DNI_2014', 'min_ALLSKY_SFC_SW_DWN_2014',\n",
       "       'min_ALLSKY_SFC_SW_UP_2014', 'min_ALLSKY_SFC_SW_UP_MAX_2014',\n",
       "       'min_CLOUD_AMT_DAY_2014', 'min_CLRSKY_SFC_SW_DNI_2014',\n",
       "       'min_CLRSKY_SFC_SW_DWN_2014', 'min_CLRSKY_SFC_SW_UP_2014',\n",
       "       'min_T2M_2014', 'min_WS10M_2014', 'min_WS10M_MAX_AVG_2014',\n",
       "       'min_WS10M_RANGE_AVG_2014', 'min_WS50M_2014', 'min_WS50M_MAX_AVG_2014',\n",
       "       'min_WS50M_RANGE_AVG_2014', 'std_ALLSKY_SFC_SW_DNI_2014',\n",
       "       'std_ALLSKY_SFC_SW_DWN_2014', 'std_ALLSKY_SFC_SW_UP_2014',\n",
       "       'std_ALLSKY_SFC_SW_UP_MAX_2014', 'std_CLOUD_AMT_DAY_2014',\n",
       "       'std_CLRSKY_SFC_SW_DNI_2014', 'std_CLRSKY_SFC_SW_DWN_2014',\n",
       "       'std_CLRSKY_SFC_SW_UP_2014', 'std_T2M_2014', 'std_WS10M_2014',\n",
       "       'std_WS10M_MAX_AVG_2014', 'std_WS10M_RANGE_AVG_2014', 'std_WS50M_2014',\n",
       "       'std_WS50M_MAX_AVG_2014', 'std_WS50M_RANGE_AVG_2014',\n",
       "       'code_prim_fuel_transf'],\n",
       "      dtype='object')"
      ]
     },
     "execution_count": 27,
     "metadata": {},
     "output_type": "execute_result"
    }
   ],
   "source": [
    "df_transformed_combined_2014.columns"
   ]
  },
  {
   "cell_type": "markdown",
   "metadata": {},
   "source": [
    "# FEATURE ENGINEERING"
   ]
  },
  {
   "cell_type": "markdown",
   "metadata": {},
   "source": [
    "## Mutual Information"
   ]
  },
  {
   "cell_type": "code",
   "execution_count": null,
   "metadata": {},
   "outputs": [],
   "source": [
    "mi_scores = utils.make_mi_scores(X_2014, y, \"classifier\")\n"
   ]
  },
  {
   "cell_type": "code",
   "execution_count": null,
   "metadata": {},
   "outputs": [],
   "source": [
    "plt.figure(dpi=100, figsize=(8, 30))\n",
    "utils.plot_scores(mi_scores[mi_scores > .3], \"Mutual Information Scores\")"
   ]
  },
  {
   "cell_type": "markdown",
   "metadata": {},
   "source": [
    "## Pearson correlations"
   ]
  },
  {
   "cell_type": "code",
   "execution_count": null,
   "metadata": {},
   "outputs": [],
   "source": [
    "# df_solar_2 = df_solar_2[(df_solar_2['capacity_mw'] < 100)].copy()\n",
    "\n",
    "\n",
    "corr_matrix = df_transformed_combined_2014.corr().abs()\n",
    "\n",
    "# Select upper triangle of correlation matrix\n",
    "upper = corr_matrix.where(np.triu(np.ones(corr_matrix.shape), k=1).astype(bool))\n",
    "# Find index of feature columns with correlation greater than 0.95\n",
    "to_drop = [column for column in upper.columns if any(upper[column] > 0.95)]\n",
    "df_transformed_combined_2014.drop(columns=to_drop, inplace=True)"
   ]
  },
  {
   "cell_type": "code",
   "execution_count": null,
   "metadata": {},
   "outputs": [],
   "source": [
    "# plt.bar(df_all_concat_annual.corr().abs().unstack()['capacity_mw'].sort_values(ascending=False), height=df_all_concat_annual.columns)\n",
    "corr_matrix = df_transformed_combined_2014.corr().abs()\n",
    "\n",
    "\n",
    "\n",
    "target_correlations = corr_matrix.unstack()['code_prim_fuel_transf'].sort_values(ascending=False)\n",
    "# target_correlations = corr_matrix.unstack()['generation_gwh'].sort_values(ascending=False)\n",
    "# target_correlations[target_correlations > .30]\n",
    "plt.figure(figsize=(20,10))\n",
    "# plt.figure(dpi=100, figsize=(4, 10))\n",
    "utils.plot_scores(target_correlations[target_correlations > .20], \"Correlations\")"
   ]
  },
  {
   "cell_type": "code",
   "execution_count": null,
   "metadata": {},
   "outputs": [],
   "source": [
    "target_correlations[target_correlations > .20].index"
   ]
  },
  {
   "cell_type": "code",
   "execution_count": null,
   "metadata": {},
   "outputs": [],
   "source": [
    "sns.pairplot(df_transformed_combined_2014[target_correlations[target_correlations > .20].index])"
   ]
  },
  {
   "cell_type": "code",
   "execution_count": null,
   "metadata": {},
   "outputs": [],
   "source": [
    "# CLRSKY_SFC_SW_DNI\n",
    "\n",
    "category = pd.cut(df_transformed_combined_2014['max_CLRSKY_SFC_SW_DWN_2014'], 3).cat.codes.rename('category')"
   ]
  },
  {
   "cell_type": "code",
   "execution_count": null,
   "metadata": {},
   "outputs": [],
   "source": [
    "category.value_counts()"
   ]
  },
  {
   "cell_type": "code",
   "execution_count": null,
   "metadata": {},
   "outputs": [],
   "source": [
    "df_all_concat_w_category = pd.concat([df_transformed_combined_2014[target_correlations[target_correlations > .20].index], category], axis=1)"
   ]
  },
  {
   "cell_type": "code",
   "execution_count": null,
   "metadata": {},
   "outputs": [],
   "source": [
    "sns.pairplot(df_all_concat_w_category, hue='category')"
   ]
  },
  {
   "cell_type": "code",
   "execution_count": null,
   "metadata": {},
   "outputs": [],
   "source": [
    "# mi_scores = utils.make_mi_scores(X, y, \"classifier\")\n",
    "# plt.figure(dpi=100, figsize=(8, 30))\n",
    "# utils.plot_scores(mi_scores, \"Mutual Information Scores\")"
   ]
  },
  {
   "cell_type": "code",
   "execution_count": null,
   "metadata": {},
   "outputs": [],
   "source": [
    "utils.correlation_matrix(df_transformed_combined_2014)"
   ]
  },
  {
   "cell_type": "code",
   "execution_count": null,
   "metadata": {},
   "outputs": [],
   "source": [
    "# corr_matrix = X.join(y).corr().abs()\n",
    "\n",
    "\n",
    "\n",
    "# target_correlations = corr_matrix.unstack()['code_prim_fuel_transf'].sort_values(ascending=False)\n",
    "# # target_correlations = corr_matrix.unstack()['generation_gwh'].sort_values(ascending=False)\n",
    "# # target_correlations[target_correlations > .20]\n",
    "# plt.figure(figsize=(20,10))\n",
    "# # plt.figure(dpi=100, figsize=(4, 10))\n",
    "# utils.plot_scores(target_correlations[target_correlations > .20], \"Correlations\")"
   ]
  },
  {
   "cell_type": "code",
   "execution_count": 28,
   "metadata": {},
   "outputs": [],
   "source": [
    "# df_all_concat_w_category\n",
    "\n",
    "X = df_transformed_combined_2014.drop(columns=['code_prim_fuel_transf'])\n",
    "# X = df_transformed_combined_2014[mi_scores[mi_scores > .3].index]\n",
    "# X = df_transformed_combined_2014[target_correlations[target_correlations > .20].index].drop(columns=['code_prim_fuel_transf'])\n",
    "# X = df_all_concat_w_category.drop(columns=['code_prim_fuel_transf'])\n",
    "X = X.reindex(sorted(X.columns), axis=1)\n",
    "y = df_transformed_combined_2014['code_prim_fuel_transf']"
   ]
  },
  {
   "cell_type": "code",
   "execution_count": 29,
   "metadata": {},
   "outputs": [],
   "source": [
    "X_train, X_test, y_train, y_test = train_test_split(X, y, test_size=0.2,random_state = 0)"
   ]
  },
  {
   "cell_type": "markdown",
   "metadata": {},
   "source": [
    "# SCALING"
   ]
  },
  {
   "cell_type": "code",
   "execution_count": 30,
   "metadata": {},
   "outputs": [],
   "source": [
    "# X_train_normalized = stats.boxcox(X_train)\n",
    "x = X_train.values #returns a numpy array\n",
    "min_max_scaler = MinMaxScaler()\n",
    "power_transformer = PowerTransformer(method='yeo-johnson')\n",
    "standard_scaler = StandardScaler()\n",
    "# x_scaled = min_max_scaler.fit_transform(x)\n",
    "# x_scaled = power_transformer.fit_transform(x)\n",
    "x_scaled = standard_scaler.fit_transform(x)\n",
    "X_train_scaled = pd.DataFrame(x_scaled, index=X_train.index, columns=X_train.columns)\n",
    "\n",
    "x = X_test.values #returns a numpy array\n",
    "# x_scaled = min_max_scaler.fit_transform(x)\n",
    "# x_scaled = power_transformer.fit_transform(x)\n",
    "x_scaled = standard_scaler.fit_transform(x)\n",
    "X_test_scaled = pd.DataFrame(x_scaled, index=X_test.index, columns=X_test.columns)\n",
    "\n",
    "x = X.values #returns a numpy array\n",
    "# x_scaled = min_max_scaler.fit_transform(x)\n",
    "# x_scaled = power_transformer.fit_transform(x)\n",
    "x_scaled = standard_scaler.fit_transform(x)\n",
    "X_scaled = pd.DataFrame(x_scaled, index=X.index, columns=X.columns)\n"
   ]
  },
  {
   "cell_type": "markdown",
   "metadata": {},
   "source": [
    "# DECISION TREE CLASSIFIER"
   ]
  },
  {
   "cell_type": "code",
   "execution_count": null,
   "metadata": {},
   "outputs": [],
   "source": [
    "candidate_max_leaf_nodes = [10, 50, 80, 100, 500, 1200, 1500]\n",
    "results = {}\n",
    "\n",
    "results = {node: utils.get_accuracy_tree(\"classifier\",node, X_train, X_test, y_train, y_test) for node in candidate_max_leaf_nodes}\n",
    "best_tree_size = max(results, key=results.get)\n",
    "print(best_tree_size)\n",
    "sns.lineplot(data=results, x= results.keys(), y= results.values())"
   ]
  },
  {
   "cell_type": "code",
   "execution_count": null,
   "metadata": {},
   "outputs": [],
   "source": [
    "tree_model = DecisionTreeClassifier(max_leaf_nodes = best_tree_size, random_state=0)\n",
    "tree_model.fit(X_train, y_train)"
   ]
  },
  {
   "cell_type": "code",
   "execution_count": null,
   "metadata": {},
   "outputs": [],
   "source": [
    "utils.custom_classification_prediction_report(tree_model, X, y, X_test, y_test, list_target_in_order)"
   ]
  },
  {
   "cell_type": "code",
   "execution_count": null,
   "metadata": {},
   "outputs": [],
   "source": [
    "importance = tree_model.feature_importances_\n",
    "# summarize feature importance\n",
    "for i,v in enumerate(importance):\n",
    "\tprint(f'Feature: {X_train.columns[i]}, Score: {np.around(v*100,2)} %')\n",
    "\t# print('Feature: %0d, Score: %.5f' % (i,v))\n",
    "# plot feature importance\n",
    "plt.figure(figsize=(30,20))\n",
    "plt.bar([X_train.columns[x] for x in range(len(importance))], importance)\n",
    "plt.xticks(rotation=90)\n",
    "plt.show()"
   ]
  },
  {
   "cell_type": "markdown",
   "metadata": {},
   "source": [
    "# RANDOM FOREST CLASSIFIER"
   ]
  },
  {
   "cell_type": "code",
   "execution_count": null,
   "metadata": {},
   "outputs": [],
   "source": [
    "# Numbers of trees\n",
    "n_estimators = [int(x) for x in np.arange(10, 101, 10)]\n",
    "# Numbers of features to consider at every split\n",
    "# max_features = [1, \"sqrt\", \"log2\"]\n",
    "# Maximum numbers of levels in tree\n",
    "max_depth = [int(x) for x in np.arange(10, 501, 10)]\n",
    "# Minimum numbers of samples required to split a node\n",
    "min_samples_split = [int(x) for x in np.arange(10, 51, 10)]\n",
    "# Minimum numbers of samples required at each leaf node\n",
    "min_samples_leaf = [int(x) for x in np.arange(5, 101, 5)]\n",
    "# Method of selecting samples for training each tree\n",
    "bootstrap = [True, False]\n",
    "\n",
    "max_leaf_nodes = [int(x) for x in np.arange(10, 501, 10)]\n",
    "\n",
    "\n",
    "param_grid = {\n",
    "                'n_estimators': n_estimators,\n",
    "                # 'max_features': max_features,\n",
    "                'max_depth': max_depth,\n",
    "                'min_samples_split': min_samples_split,\n",
    "                'min_samples_leaf': min_samples_leaf,\n",
    "                'bootstrap': bootstrap,\n",
    "                'max_leaf_nodes': max_leaf_nodes\n",
    "            }\n",
    "\n"
   ]
  },
  {
   "cell_type": "code",
   "execution_count": null,
   "metadata": {},
   "outputs": [],
   "source": [
    "rf_model = RandomForestClassifier(random_state=0)\n",
    "# rf_grid = GridSearchCV(estimator = rf_model, param_grid = param_grid, cv=3, verbose = 2, n_jobs=4)\n",
    "rf_grid = RandomizedSearchCV(estimator = rf_model, param_distributions = param_grid, n_iter = 150, cv=5, verbose = 2, n_jobs=4)"
   ]
  },
  {
   "cell_type": "code",
   "execution_count": null,
   "metadata": {},
   "outputs": [],
   "source": [
    "# rf_grid.fit(X_train_scaled_pca, y_train)\n",
    "rf_grid.fit(X_train, y_train)"
   ]
  },
  {
   "cell_type": "code",
   "execution_count": null,
   "metadata": {},
   "outputs": [],
   "source": [
    "rf_grid.best_params_"
   ]
  },
  {
   "cell_type": "code",
   "execution_count": null,
   "metadata": {},
   "outputs": [],
   "source": [
    "rf_grid.score(X_test, y_test)\n",
    "# rf_grid.score(X_test_scaled_pca, y_test)"
   ]
  },
  {
   "cell_type": "code",
   "execution_count": 35,
   "metadata": {},
   "outputs": [
    {
     "data": {
      "text/html": [
       "<style>#sk-container-id-1 {color: black;background-color: white;}#sk-container-id-1 pre{padding: 0;}#sk-container-id-1 div.sk-toggleable {background-color: white;}#sk-container-id-1 label.sk-toggleable__label {cursor: pointer;display: block;width: 100%;margin-bottom: 0;padding: 0.3em;box-sizing: border-box;text-align: center;}#sk-container-id-1 label.sk-toggleable__label-arrow:before {content: \"▸\";float: left;margin-right: 0.25em;color: #696969;}#sk-container-id-1 label.sk-toggleable__label-arrow:hover:before {color: black;}#sk-container-id-1 div.sk-estimator:hover label.sk-toggleable__label-arrow:before {color: black;}#sk-container-id-1 div.sk-toggleable__content {max-height: 0;max-width: 0;overflow: hidden;text-align: left;background-color: #f0f8ff;}#sk-container-id-1 div.sk-toggleable__content pre {margin: 0.2em;color: black;border-radius: 0.25em;background-color: #f0f8ff;}#sk-container-id-1 input.sk-toggleable__control:checked~div.sk-toggleable__content {max-height: 200px;max-width: 100%;overflow: auto;}#sk-container-id-1 input.sk-toggleable__control:checked~label.sk-toggleable__label-arrow:before {content: \"▾\";}#sk-container-id-1 div.sk-estimator input.sk-toggleable__control:checked~label.sk-toggleable__label {background-color: #d4ebff;}#sk-container-id-1 div.sk-label input.sk-toggleable__control:checked~label.sk-toggleable__label {background-color: #d4ebff;}#sk-container-id-1 input.sk-hidden--visually {border: 0;clip: rect(1px 1px 1px 1px);clip: rect(1px, 1px, 1px, 1px);height: 1px;margin: -1px;overflow: hidden;padding: 0;position: absolute;width: 1px;}#sk-container-id-1 div.sk-estimator {font-family: monospace;background-color: #f0f8ff;border: 1px dotted black;border-radius: 0.25em;box-sizing: border-box;margin-bottom: 0.5em;}#sk-container-id-1 div.sk-estimator:hover {background-color: #d4ebff;}#sk-container-id-1 div.sk-parallel-item::after {content: \"\";width: 100%;border-bottom: 1px solid gray;flex-grow: 1;}#sk-container-id-1 div.sk-label:hover label.sk-toggleable__label {background-color: #d4ebff;}#sk-container-id-1 div.sk-serial::before {content: \"\";position: absolute;border-left: 1px solid gray;box-sizing: border-box;top: 0;bottom: 0;left: 50%;z-index: 0;}#sk-container-id-1 div.sk-serial {display: flex;flex-direction: column;align-items: center;background-color: white;padding-right: 0.2em;padding-left: 0.2em;position: relative;}#sk-container-id-1 div.sk-item {position: relative;z-index: 1;}#sk-container-id-1 div.sk-parallel {display: flex;align-items: stretch;justify-content: center;background-color: white;position: relative;}#sk-container-id-1 div.sk-item::before, #sk-container-id-1 div.sk-parallel-item::before {content: \"\";position: absolute;border-left: 1px solid gray;box-sizing: border-box;top: 0;bottom: 0;left: 50%;z-index: -1;}#sk-container-id-1 div.sk-parallel-item {display: flex;flex-direction: column;z-index: 1;position: relative;background-color: white;}#sk-container-id-1 div.sk-parallel-item:first-child::after {align-self: flex-end;width: 50%;}#sk-container-id-1 div.sk-parallel-item:last-child::after {align-self: flex-start;width: 50%;}#sk-container-id-1 div.sk-parallel-item:only-child::after {width: 0;}#sk-container-id-1 div.sk-dashed-wrapped {border: 1px dashed gray;margin: 0 0.4em 0.5em 0.4em;box-sizing: border-box;padding-bottom: 0.4em;background-color: white;}#sk-container-id-1 div.sk-label label {font-family: monospace;font-weight: bold;display: inline-block;line-height: 1.2em;}#sk-container-id-1 div.sk-label-container {text-align: center;}#sk-container-id-1 div.sk-container {/* jupyter's `normalize.less` sets `[hidden] { display: none; }` but bootstrap.min.css set `[hidden] { display: none !important; }` so we also need the `!important` here to be able to override the default hidden behavior on the sphinx rendered scikit-learn.org. See: https://github.com/scikit-learn/scikit-learn/issues/21755 */display: inline-block !important;position: relative;}#sk-container-id-1 div.sk-text-repr-fallback {display: none;}</style><div id=\"sk-container-id-1\" class=\"sk-top-container\"><div class=\"sk-text-repr-fallback\"><pre>RandomForestClassifier(bootstrap=False, max_depth=420, max_leaf_nodes=490,\n",
       "                       min_samples_split=20, n_estimators=20)</pre><b>In a Jupyter environment, please rerun this cell to show the HTML representation or trust the notebook. <br />On GitHub, the HTML representation is unable to render, please try loading this page with nbviewer.org.</b></div><div class=\"sk-container\" hidden><div class=\"sk-item\"><div class=\"sk-estimator sk-toggleable\"><input class=\"sk-toggleable__control sk-hidden--visually\" id=\"sk-estimator-id-1\" type=\"checkbox\" checked><label for=\"sk-estimator-id-1\" class=\"sk-toggleable__label sk-toggleable__label-arrow\">RandomForestClassifier</label><div class=\"sk-toggleable__content\"><pre>RandomForestClassifier(bootstrap=False, max_depth=420, max_leaf_nodes=490,\n",
       "                       min_samples_split=20, n_estimators=20)</pre></div></div></div></div></div>"
      ],
      "text/plain": [
       "RandomForestClassifier(bootstrap=False, max_depth=420, max_leaf_nodes=490,\n",
       "                       min_samples_split=20, n_estimators=20)"
      ]
     },
     "execution_count": 35,
     "metadata": {},
     "output_type": "execute_result"
    }
   ],
   "source": [
    "rf_model2 = RandomForestClassifier(bootstrap= False,\n",
    " max_depth= 420,\n",
    " min_samples_leaf= 1,\n",
    " min_samples_split= 20,\n",
    " n_estimators= 20,\n",
    " max_leaf_nodes= 490)\n",
    "# rf_model2 = rf_grid.best_estimator_\n",
    "\n",
    "rf_model2.fit(X_train, y_train)"
   ]
  },
  {
   "cell_type": "code",
   "execution_count": 36,
   "metadata": {},
   "outputs": [
    {
     "name": "stdout",
     "output_type": "stream",
     "text": [
      "76.94%\n",
      "[77.59 76.28 76.25 77.09 76.65](%)\n",
      "Mean: 76.77%, Standard Deviation: 0.51%\n",
      "              precision    recall  f1-score   support\n",
      "\n",
      "       Other       0.77      0.73      0.75      1101\n",
      "       Solar       0.75      0.74      0.74      1069\n",
      "        Wind       0.79      0.85      0.81      1034\n",
      "\n",
      "    accuracy                           0.77      3204\n",
      "   macro avg       0.77      0.77      0.77      3204\n",
      "weighted avg       0.77      0.77      0.77      3204\n",
      "\n"
     ]
    },
    {
     "data": {
      "image/png": "[encoded data removed]",
      "text/plain": [
       "<Figure size 432x288 with 2 Axes>"
      ]
     },
     "metadata": {
      "needs_background": "light"
     },
     "output_type": "display_data"
    }
   ],
   "source": [
    "utils.custom_classification_prediction_report(rf_model2, X, y, X_test, y_test, list_target_in_order)"
   ]
  },
  {
   "cell_type": "code",
   "execution_count": 38,
   "metadata": {},
   "outputs": [
    {
     "data": {
      "image/png": "[encoded data removed]",
      "text/plain": [
       "<Figure size 1080x360 with 1 Axes>"
      ]
     },
     "metadata": {
      "needs_background": "light"
     },
     "output_type": "display_data"
    }
   ],
   "source": [
    "utils.learning_curve_plot(\"sasa\", rf_model2, X_train, y_train)"
   ]
  },
  {
   "cell_type": "code",
   "execution_count": 39,
   "metadata": {},
   "outputs": [
    {
     "name": "stdout",
     "output_type": "stream",
     "text": [
      "Feature: ANN_ALLSKY_SFC_SW_DNI_2014, Score: 1.03 %\n",
      "Feature: ANN_ALLSKY_SFC_SW_DWN_2014, Score: 1.05 %\n",
      "Feature: ANN_ALLSKY_SFC_SW_UP_2014, Score: 0.89 %\n",
      "Feature: ANN_ALLSKY_SFC_SW_UP_MAX_2014, Score: 0.58 %\n",
      "Feature: ANN_CLOUD_AMT_DAY_2014, Score: 0.77 %\n",
      "Feature: ANN_CLRSKY_SFC_SW_DNI_2014, Score: 1.88 %\n",
      "Feature: ANN_CLRSKY_SFC_SW_DWN_2014, Score: 1.61 %\n",
      "Feature: ANN_CLRSKY_SFC_SW_UP_2014, Score: 0.67 %\n",
      "Feature: ANN_T2M_2014, Score: 1.92 %\n",
      "Feature: ANN_WS10M_2014, Score: 0.77 %\n",
      "Feature: ANN_WS10M_MAX_AVG_2014, Score: 1.6 %\n",
      "Feature: ANN_WS10M_RANGE_AVG_2014, Score: 0.87 %\n",
      "Feature: ANN_WS50M_2014, Score: 4.2 %\n",
      "Feature: ANN_WS50M_MAX_AVG_2014, Score: 0.89 %\n",
      "Feature: ANN_WS50M_RANGE_AVG_2014, Score: 0.73 %\n",
      "Feature: max_ALLSKY_SFC_SW_DNI_2014, Score: 0.86 %\n",
      "Feature: max_ALLSKY_SFC_SW_DWN_2014, Score: 1.16 %\n",
      "Feature: max_ALLSKY_SFC_SW_UP_2014, Score: 0.7 %\n",
      "Feature: max_ALLSKY_SFC_SW_UP_MAX_2014, Score: 0.76 %\n",
      "Feature: max_CLOUD_AMT_DAY_2014, Score: 1.31 %\n",
      "Feature: max_CLRSKY_SFC_SW_DNI_2014, Score: 2.07 %\n",
      "Feature: max_CLRSKY_SFC_SW_DWN_2014, Score: 1.43 %\n",
      "Feature: max_CLRSKY_SFC_SW_UP_2014, Score: 0.61 %\n",
      "Feature: max_T2M_2014, Score: 2.05 %\n",
      "Feature: max_WS10M_2014, Score: 1.35 %\n",
      "Feature: max_WS10M_MAX_AVG_2014, Score: 2.91 %\n",
      "Feature: max_WS10M_RANGE_AVG_2014, Score: 0.91 %\n",
      "Feature: max_WS50M_2014, Score: 1.68 %\n",
      "Feature: max_WS50M_MAX_AVG_2014, Score: 2.33 %\n",
      "Feature: max_WS50M_RANGE_AVG_2014, Score: 0.92 %\n",
      "Feature: median_ALLSKY_SFC_SW_DNI_2014, Score: 0.82 %\n",
      "Feature: median_ALLSKY_SFC_SW_DWN_2014, Score: 1.81 %\n",
      "Feature: median_ALLSKY_SFC_SW_UP_2014, Score: 0.89 %\n",
      "Feature: median_ALLSKY_SFC_SW_UP_MAX_2014, Score: 0.66 %\n",
      "Feature: median_CLOUD_AMT_DAY_2014, Score: 0.94 %\n",
      "Feature: median_CLRSKY_SFC_SW_DNI_2014, Score: 1.89 %\n",
      "Feature: median_CLRSKY_SFC_SW_DWN_2014, Score: 2.14 %\n",
      "Feature: median_CLRSKY_SFC_SW_UP_2014, Score: 0.62 %\n",
      "Feature: median_T2M_2014, Score: 1.85 %\n",
      "Feature: median_WS10M_2014, Score: 1.22 %\n",
      "Feature: median_WS10M_MAX_AVG_2014, Score: 2.66 %\n",
      "Feature: median_WS10M_RANGE_AVG_2014, Score: 0.97 %\n",
      "Feature: median_WS50M_2014, Score: 1.53 %\n",
      "Feature: median_WS50M_MAX_AVG_2014, Score: 0.83 %\n",
      "Feature: median_WS50M_RANGE_AVG_2014, Score: 0.95 %\n",
      "Feature: min_ALLSKY_SFC_SW_DNI_2014, Score: 1.01 %\n",
      "Feature: min_ALLSKY_SFC_SW_DWN_2014, Score: 1.29 %\n",
      "Feature: min_ALLSKY_SFC_SW_UP_2014, Score: 0.91 %\n",
      "Feature: min_ALLSKY_SFC_SW_UP_MAX_2014, Score: 1.07 %\n",
      "Feature: min_CLOUD_AMT_DAY_2014, Score: 1.23 %\n",
      "Feature: min_CLRSKY_SFC_SW_DNI_2014, Score: 1.37 %\n",
      "Feature: min_CLRSKY_SFC_SW_DWN_2014, Score: 2.09 %\n",
      "Feature: min_CLRSKY_SFC_SW_UP_2014, Score: 1.15 %\n",
      "Feature: min_T2M_2014, Score: 2.33 %\n",
      "Feature: min_WS10M_2014, Score: 1.08 %\n",
      "Feature: min_WS10M_MAX_AVG_2014, Score: 0.63 %\n",
      "Feature: min_WS10M_RANGE_AVG_2014, Score: 0.97 %\n",
      "Feature: min_WS50M_2014, Score: 1.49 %\n",
      "Feature: min_WS50M_MAX_AVG_2014, Score: 0.74 %\n",
      "Feature: min_WS50M_RANGE_AVG_2014, Score: 0.87 %\n",
      "Feature: std_ALLSKY_SFC_SW_DNI_2014, Score: 1.17 %\n",
      "Feature: std_ALLSKY_SFC_SW_DWN_2014, Score: 2.13 %\n",
      "Feature: std_ALLSKY_SFC_SW_UP_2014, Score: 1.18 %\n",
      "Feature: std_ALLSKY_SFC_SW_UP_MAX_2014, Score: 1.28 %\n",
      "Feature: std_CLOUD_AMT_DAY_2014, Score: 1.43 %\n",
      "Feature: std_CLRSKY_SFC_SW_DNI_2014, Score: 1.37 %\n",
      "Feature: std_CLRSKY_SFC_SW_DWN_2014, Score: 2.01 %\n",
      "Feature: std_CLRSKY_SFC_SW_UP_2014, Score: 0.75 %\n",
      "Feature: std_T2M_2014, Score: 2.47 %\n",
      "Feature: std_WS10M_2014, Score: 2.12 %\n",
      "Feature: std_WS10M_MAX_AVG_2014, Score: 1.21 %\n",
      "Feature: std_WS10M_RANGE_AVG_2014, Score: 0.88 %\n",
      "Feature: std_WS50M_2014, Score: 1.34 %\n",
      "Feature: std_WS50M_MAX_AVG_2014, Score: 1.21 %\n",
      "Feature: std_WS50M_RANGE_AVG_2014, Score: 0.91 %\n"
     ]
    },
    {
     "data": {
      "image/png": "[encoded data removed]",
      "text/plain": [
       "<Figure size 2160x720 with 1 Axes>"
      ]
     },
     "metadata": {
      "needs_background": "light"
     },
     "output_type": "display_data"
    }
   ],
   "source": [
    "importance = rf_model2.feature_importances_\n",
    "# summarize feature importance\n",
    "for i,v in enumerate(importance):\n",
    "\tprint(f'Feature: {X_train.columns[i]}, Score: {np.around(v*100,2)} %')\n",
    "\t# print('Feature: %0d, Score: %.5f' % (i,v))\n",
    "# plot feature importance\n",
    "plt.figure(figsize=(30,10))\n",
    "plt.bar([X_train.columns[x] for x in range(len(importance))], importance)\n",
    "plt.xticks(rotation=90)\n",
    "plt.show()"
   ]
  },
  {
   "cell_type": "markdown",
   "metadata": {},
   "source": [
    "# XGBOOST"
   ]
  },
  {
   "cell_type": "code",
   "execution_count": null,
   "metadata": {},
   "outputs": [],
   "source": [
    "xgbclass_model_1 = XGBClassifier()\n",
    "xgbclass_model_1.fit(X_train, y_train)\n",
    "# xgbclass_model_1.fit(X_train_scaled_pca, y_train)"
   ]
  },
  {
   "cell_type": "code",
   "execution_count": null,
   "metadata": {},
   "outputs": [],
   "source": [
    "utils.custom_classification_prediction_report(xgbclass_model_1, X, y, X_test, y_test, list_target_in_order)"
   ]
  },
  {
   "cell_type": "code",
   "execution_count": null,
   "metadata": {},
   "outputs": [],
   "source": [
    "param_grid = {\n",
    "                'n_estimators': [5,10,50,100,500],\n",
    "                'learning_rate': [0.001,0.01,0.05,0.1,0.2],\n",
    "                'max_depth': [2,4,6],\n",
    "                'gamma': [0.0,0.1,0.2]\n",
    "            }"
   ]
  },
  {
   "cell_type": "code",
   "execution_count": null,
   "metadata": {},
   "outputs": [],
   "source": [
    "# xgb_grid = GridSearchCV(estimator = XGBClassifier(), param_grid = param_grid, cv=4, verbose = 2, n_jobs=4)\n",
    "xgb_grid = RandomizedSearchCV(estimator = XGBClassifier(), param_distributions = param_grid, n_iter = 20, cv=5, verbose = 1, n_jobs=4)"
   ]
  },
  {
   "cell_type": "code",
   "execution_count": null,
   "metadata": {},
   "outputs": [],
   "source": [
    "xgb_grid.fit(X_train, y_train)"
   ]
  },
  {
   "cell_type": "code",
   "execution_count": null,
   "metadata": {},
   "outputs": [],
   "source": [
    "xgb_grid.best_params_"
   ]
  },
  {
   "cell_type": "code",
   "execution_count": null,
   "metadata": {},
   "outputs": [],
   "source": [
    "xgb_grid.score(X_test, y_test)"
   ]
  },
  {
   "cell_type": "code",
   "execution_count": null,
   "metadata": {},
   "outputs": [],
   "source": [
    "# xgbclass_model_2 = XGBClassifier(n_estimators=100, learning_rate=0.2, max_depth=6, gamma=0.2, n_jobs=4)\n",
    "xgbclass_model_2 = XGBClassifier(n_estimators=500, max_depth=6, learning_rate=0.2, gamma=0.0, n_jobs=4)\n",
    "xgbclass_model_2.fit(X_train, y_train)"
   ]
  },
  {
   "cell_type": "code",
   "execution_count": null,
   "metadata": {},
   "outputs": [],
   "source": [
    "utils.custom_classification_prediction_report(xgbclass_model_2, X, y, X_test, y_test, list_target_in_order)"
   ]
  },
  {
   "cell_type": "markdown",
   "metadata": {},
   "source": [
    "# KNN"
   ]
  },
  {
   "cell_type": "code",
   "execution_count": null,
   "metadata": {},
   "outputs": [],
   "source": [
    "candidate_n_neighbors = np.arange(1,31)\n",
    "results = {}\n",
    "\n",
    "# results = {n: utils.get_accuracy_knn(\"classifier\",n, X_train_scaled_pca, X_test_scaled_pca, y_train, y_test) for n in candidate_n_neighbors}\n",
    "results = {n: utils.get_accuracy_knn(\"classifier\",n, X_train, X_test, y_train, y_test) for n in candidate_n_neighbors}\n",
    "best_n_neighbors = max(results, key=results.get)\n",
    "print(best_n_neighbors)\n",
    "sns.lineplot(data=results, x= results.keys(), y= results.values())"
   ]
  },
  {
   "cell_type": "code",
   "execution_count": null,
   "metadata": {},
   "outputs": [],
   "source": [
    "knn_model_1 = KNeighborsClassifier(n_neighbors = best_n_neighbors)\n",
    "knn_model_1.fit(X_train, y_train)"
   ]
  },
  {
   "cell_type": "code",
   "execution_count": null,
   "metadata": {},
   "outputs": [],
   "source": [
    "utils.custom_classification_prediction_report(knn_model_1, X, y, X_test, y_test, list_target_in_order)"
   ]
  },
  {
   "cell_type": "code",
   "execution_count": null,
   "metadata": {},
   "outputs": [],
   "source": [
    "candidate_n_neighbors = np.arange(1,25)\n",
    "results = {}\n",
    "# Write loop to find the ideal tree size from candidate_max_leaf_nodes\n",
    "\n",
    "\n",
    "results = {n: utils.get_accuracy_knn(\"classifier\",n, X_train_scaled, X_test_scaled, y_train, y_test) for n in candidate_n_neighbors}\n",
    "best_n_neighbors = max(results, key=results.get)\n",
    "print(best_n_neighbors)\n",
    "sns.lineplot(data=results, x= results.keys(), y= results.values())"
   ]
  },
  {
   "cell_type": "code",
   "execution_count": null,
   "metadata": {},
   "outputs": [],
   "source": [
    "knn_model_2 = KNeighborsClassifier(n_neighbors = best_n_neighbors)\n",
    "knn_model_2.fit(X_train_scaled, y_train)"
   ]
  },
  {
   "cell_type": "code",
   "execution_count": null,
   "metadata": {},
   "outputs": [],
   "source": [
    "utils.custom_classification_prediction_report(knn_model_1, X, y, X_test, y_test, list_target_in_order)"
   ]
  },
  {
   "cell_type": "markdown",
   "metadata": {},
   "source": [
    "# NAIVE BAYES"
   ]
  },
  {
   "cell_type": "code",
   "execution_count": 41,
   "metadata": {},
   "outputs": [
    {
     "name": "stdout",
     "output_type": "stream",
     "text": [
      "48.91%\n",
      "[49.28 49.41 49.44 49.56 49.09](%)\n",
      "Mean: 49.36%, Standard Deviation: 0.16%\n",
      "              precision    recall  f1-score   support\n",
      "\n",
      "       Other       0.52      0.42      0.46      1101\n",
      "       Solar       0.45      0.50      0.47      1069\n",
      "        Wind       0.51      0.55      0.53      1034\n",
      "\n",
      "    accuracy                           0.49      3204\n",
      "   macro avg       0.49      0.49      0.49      3204\n",
      "weighted avg       0.49      0.49      0.49      3204\n",
      "\n"
     ]
    },
    {
     "data": {
      "image/png": "[encoded data removed]",
      "text/plain": [
       "<Figure size 432x288 with 2 Axes>"
      ]
     },
     "metadata": {
      "needs_background": "light"
     },
     "output_type": "display_data"
    }
   ],
   "source": [
    "nb_model_1 = GaussianNB()\n",
    "\n",
    "#Entreno el modelo\n",
    "nb_model_1.fit(X_train, y_train)\n",
    "utils.custom_classification_prediction_report(nb_model_1, X, y, X_test, y_test, list_target_in_order)"
   ]
  },
  {
   "cell_type": "code",
   "execution_count": 42,
   "metadata": {},
   "outputs": [
    {
     "name": "stdout",
     "output_type": "stream",
     "text": [
      "34.36%\n",
      "[49.06 48.41 50.03 49.19 50.06](%)\n",
      "Mean: 49.35%, Standard Deviation: 0.63%\n",
      "              precision    recall  f1-score   support\n",
      "\n",
      "       Other       0.34      1.00      0.51      1101\n",
      "       Solar       0.00      0.00      0.00      1069\n",
      "        Wind       0.00      0.00      0.00      1034\n",
      "\n",
      "    accuracy                           0.34      3204\n",
      "   macro avg       0.11      0.33      0.17      3204\n",
      "weighted avg       0.12      0.34      0.18      3204\n",
      "\n"
     ]
    },
    {
     "name": "stderr",
     "output_type": "stream",
     "text": [
      "/home/tomas/renewable_power_plants/solar_wind_power_plants_prediction/env_renewable_power_plants_pred/lib/python3.8/site-packages/sklearn/metrics/_classification.py:1327: UndefinedMetricWarning: Precision and F-score are ill-defined and being set to 0.0 in labels with no predicted samples. Use `zero_division` parameter to control this behavior.\n",
      "  _warn_prf(average, modifier, msg_start, len(result))\n",
      "/home/tomas/renewable_power_plants/solar_wind_power_plants_prediction/env_renewable_power_plants_pred/lib/python3.8/site-packages/sklearn/metrics/_classification.py:1327: UndefinedMetricWarning: Precision and F-score are ill-defined and being set to 0.0 in labels with no predicted samples. Use `zero_division` parameter to control this behavior.\n",
      "  _warn_prf(average, modifier, msg_start, len(result))\n",
      "/home/tomas/renewable_power_plants/solar_wind_power_plants_prediction/env_renewable_power_plants_pred/lib/python3.8/site-packages/sklearn/metrics/_classification.py:1327: UndefinedMetricWarning: Precision and F-score are ill-defined and being set to 0.0 in labels with no predicted samples. Use `zero_division` parameter to control this behavior.\n",
      "  _warn_prf(average, modifier, msg_start, len(result))\n"
     ]
    },
    {
     "data": {
      "image/png": "[encoded data removed]",
      "text/plain": [
       "<Figure size 432x288 with 2 Axes>"
      ]
     },
     "metadata": {
      "needs_background": "light"
     },
     "output_type": "display_data"
    }
   ],
   "source": [
    "nb_model_2 = GaussianNB()\n",
    "nb_model_2.fit(X_train_scaled, y_train)\n",
    "\n",
    "utils.custom_classification_prediction_report(nb_model_2, X, y, X_test, y_test, list_target_in_order)"
   ]
  },
  {
   "cell_type": "markdown",
   "metadata": {},
   "source": [
    "# SVM"
   ]
  },
  {
   "cell_type": "code",
   "execution_count": 43,
   "metadata": {},
   "outputs": [
    {
     "name": "stdout",
     "output_type": "stream",
     "text": [
      "34.36%\n",
      "[57.58 55.52 56.93 56.84 55.77](%)\n",
      "Mean: 56.53%, Standard Deviation: 0.77%\n",
      "              precision    recall  f1-score   support\n",
      "\n",
      "       Other       0.34      1.00      0.51      1101\n",
      "       Solar       0.00      0.00      0.00      1069\n",
      "        Wind       0.00      0.00      0.00      1034\n",
      "\n",
      "    accuracy                           0.34      3204\n",
      "   macro avg       0.11      0.33      0.17      3204\n",
      "weighted avg       0.12      0.34      0.18      3204\n",
      "\n"
     ]
    },
    {
     "name": "stderr",
     "output_type": "stream",
     "text": [
      "/home/tomas/renewable_power_plants/solar_wind_power_plants_prediction/env_renewable_power_plants_pred/lib/python3.8/site-packages/sklearn/metrics/_classification.py:1327: UndefinedMetricWarning: Precision and F-score are ill-defined and being set to 0.0 in labels with no predicted samples. Use `zero_division` parameter to control this behavior.\n",
      "  _warn_prf(average, modifier, msg_start, len(result))\n",
      "/home/tomas/renewable_power_plants/solar_wind_power_plants_prediction/env_renewable_power_plants_pred/lib/python3.8/site-packages/sklearn/metrics/_classification.py:1327: UndefinedMetricWarning: Precision and F-score are ill-defined and being set to 0.0 in labels with no predicted samples. Use `zero_division` parameter to control this behavior.\n",
      "  _warn_prf(average, modifier, msg_start, len(result))\n",
      "/home/tomas/renewable_power_plants/solar_wind_power_plants_prediction/env_renewable_power_plants_pred/lib/python3.8/site-packages/sklearn/metrics/_classification.py:1327: UndefinedMetricWarning: Precision and F-score are ill-defined and being set to 0.0 in labels with no predicted samples. Use `zero_division` parameter to control this behavior.\n",
      "  _warn_prf(average, modifier, msg_start, len(result))\n"
     ]
    },
    {
     "data": {
      "image/png": "[encoded data removed]",
      "text/plain": [
       "<Figure size 432x288 with 2 Axes>"
      ]
     },
     "metadata": {
      "needs_background": "light"
     },
     "output_type": "display_data"
    }
   ],
   "source": [
    "svm_model_1 = SVC(decision_function_shape='ovo')\n",
    "svm_model_1.fit(X_train_scaled, y_train)\n",
    "\n",
    "utils.custom_classification_prediction_report(svm_model_1, X, y, X_test, y_test, list_target_in_order)"
   ]
  },
  {
   "cell_type": "code",
   "execution_count": 44,
   "metadata": {},
   "outputs": [],
   "source": [
    "param_grid = {\n",
    "                'C': [0.5, 1, 10, 100], # NOTE: values for C must be > 0\n",
    "                'gamma': ['scale', 1, .1, .01, .001, .0001],\n",
    "                'kernel': ['rbf', 'linear'], # Some linear fittings last to 7/8 mins. Not recommended at all\n",
    "                'decision_function_shape': ['ovo', 'ovr']\n",
    "            }\n",
    "# svm_grid = GridSearchCV(estimator = SVC(), param_grid = param_grid, cv=5, verbose = 2, n_jobs=4)\n",
    "svm_grid = RandomizedSearchCV(estimator = SVC(), param_distributions = param_grid, cv=5, verbose = 2, n_jobs=4)"
   ]
  },
  {
   "cell_type": "code",
   "execution_count": 45,
   "metadata": {},
   "outputs": [
    {
     "name": "stdout",
     "output_type": "stream",
     "text": [
      "Fitting 5 folds for each of 10 candidates, totalling 50 fits\n",
      "[CV] END C=10, decision_function_shape=ovo, gamma=1, kernel=linear; total time= 4.0min\n",
      "[CV] END C=10, decision_function_shape=ovo, gamma=1, kernel=linear; total time= 4.1min\n",
      "[CV] END C=10, decision_function_shape=ovo, gamma=1, kernel=linear; total time= 4.1min\n",
      "[CV] END C=10, decision_function_shape=ovo, gamma=1, kernel=linear; total time= 4.3min\n",
      "[CV] END C=10, decision_function_shape=ovo, gamma=0.1, kernel=rbf; total time=  32.3s\n",
      "[CV] END C=10, decision_function_shape=ovo, gamma=0.1, kernel=rbf; total time=  31.6s\n",
      "[CV] END C=10, decision_function_shape=ovo, gamma=0.1, kernel=rbf; total time=  32.4s\n",
      "[CV] END C=10, decision_function_shape=ovo, gamma=0.1, kernel=rbf; total time=  30.0s\n",
      "[CV] END C=10, decision_function_shape=ovo, gamma=0.1, kernel=rbf; total time=  29.6s\n",
      "[CV] END C=0.5, decision_function_shape=ovr, gamma=0.0001, kernel=linear; total time=  59.9s\n",
      "[CV] END C=0.5, decision_function_shape=ovr, gamma=0.0001, kernel=linear; total time=  56.5s\n",
      "[CV] END C=0.5, decision_function_shape=ovr, gamma=0.0001, kernel=linear; total time=  59.1s\n",
      "[CV] END C=1, decision_function_shape=ovr, gamma=0.001, kernel=rbf; total time=  36.8s\n",
      "[CV] END C=0.5, decision_function_shape=ovr, gamma=0.0001, kernel=linear; total time= 1.0min\n",
      "[CV] END C=0.5, decision_function_shape=ovr, gamma=0.0001, kernel=linear; total time=  58.1s\n",
      "[CV] END C=1, decision_function_shape=ovr, gamma=0.001, kernel=rbf; total time=  45.0s\n",
      "[CV] END C=1, decision_function_shape=ovr, gamma=0.001, kernel=rbf; total time=  47.3s\n",
      "[CV] END C=1, decision_function_shape=ovr, gamma=0.001, kernel=rbf; total time=  50.1s\n",
      "[CV] END C=1, decision_function_shape=ovr, gamma=0.001, kernel=rbf; total time=  41.8s\n",
      "[CV] END C=10, decision_function_shape=ovo, gamma=1, kernel=linear; total time= 4.8min\n",
      "[CV] END C=10, decision_function_shape=ovr, gamma=0.0001, kernel=linear; total time= 4.1min\n",
      "[CV] END C=10, decision_function_shape=ovr, gamma=0.0001, kernel=linear; total time= 3.9min\n",
      "[CV] END C=10, decision_function_shape=ovr, gamma=0.0001, kernel=linear; total time= 4.0min\n",
      "[CV] END C=0.5, decision_function_shape=ovo, gamma=1, kernel=linear; total time=  46.7s\n",
      "[CV] END C=10, decision_function_shape=ovr, gamma=0.0001, kernel=linear; total time= 4.2min\n",
      "[CV] END C=0.5, decision_function_shape=ovo, gamma=1, kernel=linear; total time=  50.3s\n",
      "[CV] END C=0.5, decision_function_shape=ovo, gamma=1, kernel=linear; total time=  53.8s\n",
      "[CV] END C=0.5, decision_function_shape=ovo, gamma=1, kernel=linear; total time=  59.8s\n",
      "[CV] END C=0.5, decision_function_shape=ovo, gamma=1, kernel=linear; total time=  57.3s\n",
      "[CV] END C=100, decision_function_shape=ovr, gamma=0.0001, kernel=rbf; total time=  35.1s\n",
      "[CV] END C=100, decision_function_shape=ovr, gamma=0.0001, kernel=rbf; total time=  35.6s\n",
      "[CV] END C=100, decision_function_shape=ovr, gamma=0.0001, kernel=rbf; total time=  36.5s\n",
      "[CV] END C=100, decision_function_shape=ovr, gamma=0.0001, kernel=rbf; total time=  36.1s\n",
      "[CV] END C=10, decision_function_shape=ovo, gamma=0.01, kernel=rbf; total time=  30.6s\n",
      "[CV] END C=100, decision_function_shape=ovr, gamma=0.0001, kernel=rbf; total time=  37.5s\n",
      "[CV] END C=10, decision_function_shape=ovo, gamma=0.01, kernel=rbf; total time=  30.3s\n",
      "[CV] END C=10, decision_function_shape=ovo, gamma=0.01, kernel=rbf; total time=  29.2s\n",
      "[CV] END C=10, decision_function_shape=ovo, gamma=0.01, kernel=rbf; total time=  27.9s\n",
      "[CV] END C=10, decision_function_shape=ovo, gamma=0.01, kernel=rbf; total time=  28.4s\n",
      "[CV] END C=10, decision_function_shape=ovr, gamma=0.0001, kernel=linear; total time= 4.4min\n",
      "[CV] END C=1, decision_function_shape=ovo, gamma=0.001, kernel=linear; total time= 1.0min\n",
      "[CV] END C=1, decision_function_shape=ovo, gamma=0.001, kernel=linear; total time=  59.9s\n",
      "[CV] END C=1, decision_function_shape=ovo, gamma=0.001, kernel=linear; total time= 1.0min\n",
      "[CV] END C=1, decision_function_shape=ovo, gamma=0.001, kernel=linear; total time= 1.2min\n",
      "[CV] END C=0.5, decision_function_shape=ovo, gamma=0.0001, kernel=rbf; total time=  46.0s\n",
      "[CV] END C=0.5, decision_function_shape=ovo, gamma=0.0001, kernel=rbf; total time=  49.4s\n",
      "[CV] END C=1, decision_function_shape=ovo, gamma=0.001, kernel=linear; total time= 1.3min\n",
      "[CV] END C=0.5, decision_function_shape=ovo, gamma=0.0001, kernel=rbf; total time=  50.3s\n",
      "[CV] END C=0.5, decision_function_shape=ovo, gamma=0.0001, kernel=rbf; total time=  45.7s\n",
      "[CV] END C=0.5, decision_function_shape=ovo, gamma=0.0001, kernel=rbf; total time=  45.3s\n"
     ]
    },
    {
     "data": {
      "text/html": [
       "<style>#sk-container-id-2 {color: black;background-color: white;}#sk-container-id-2 pre{padding: 0;}#sk-container-id-2 div.sk-toggleable {background-color: white;}#sk-container-id-2 label.sk-toggleable__label {cursor: pointer;display: block;width: 100%;margin-bottom: 0;padding: 0.3em;box-sizing: border-box;text-align: center;}#sk-container-id-2 label.sk-toggleable__label-arrow:before {content: \"▸\";float: left;margin-right: 0.25em;color: #696969;}#sk-container-id-2 label.sk-toggleable__label-arrow:hover:before {color: black;}#sk-container-id-2 div.sk-estimator:hover label.sk-toggleable__label-arrow:before {color: black;}#sk-container-id-2 div.sk-toggleable__content {max-height: 0;max-width: 0;overflow: hidden;text-align: left;background-color: #f0f8ff;}#sk-container-id-2 div.sk-toggleable__content pre {margin: 0.2em;color: black;border-radius: 0.25em;background-color: #f0f8ff;}#sk-container-id-2 input.sk-toggleable__control:checked~div.sk-toggleable__content {max-height: 200px;max-width: 100%;overflow: auto;}#sk-container-id-2 input.sk-toggleable__control:checked~label.sk-toggleable__label-arrow:before {content: \"▾\";}#sk-container-id-2 div.sk-estimator input.sk-toggleable__control:checked~label.sk-toggleable__label {background-color: #d4ebff;}#sk-container-id-2 div.sk-label input.sk-toggleable__control:checked~label.sk-toggleable__label {background-color: #d4ebff;}#sk-container-id-2 input.sk-hidden--visually {border: 0;clip: rect(1px 1px 1px 1px);clip: rect(1px, 1px, 1px, 1px);height: 1px;margin: -1px;overflow: hidden;padding: 0;position: absolute;width: 1px;}#sk-container-id-2 div.sk-estimator {font-family: monospace;background-color: #f0f8ff;border: 1px dotted black;border-radius: 0.25em;box-sizing: border-box;margin-bottom: 0.5em;}#sk-container-id-2 div.sk-estimator:hover {background-color: #d4ebff;}#sk-container-id-2 div.sk-parallel-item::after {content: \"\";width: 100%;border-bottom: 1px solid gray;flex-grow: 1;}#sk-container-id-2 div.sk-label:hover label.sk-toggleable__label {background-color: #d4ebff;}#sk-container-id-2 div.sk-serial::before {content: \"\";position: absolute;border-left: 1px solid gray;box-sizing: border-box;top: 0;bottom: 0;left: 50%;z-index: 0;}#sk-container-id-2 div.sk-serial {display: flex;flex-direction: column;align-items: center;background-color: white;padding-right: 0.2em;padding-left: 0.2em;position: relative;}#sk-container-id-2 div.sk-item {position: relative;z-index: 1;}#sk-container-id-2 div.sk-parallel {display: flex;align-items: stretch;justify-content: center;background-color: white;position: relative;}#sk-container-id-2 div.sk-item::before, #sk-container-id-2 div.sk-parallel-item::before {content: \"\";position: absolute;border-left: 1px solid gray;box-sizing: border-box;top: 0;bottom: 0;left: 50%;z-index: -1;}#sk-container-id-2 div.sk-parallel-item {display: flex;flex-direction: column;z-index: 1;position: relative;background-color: white;}#sk-container-id-2 div.sk-parallel-item:first-child::after {align-self: flex-end;width: 50%;}#sk-container-id-2 div.sk-parallel-item:last-child::after {align-self: flex-start;width: 50%;}#sk-container-id-2 div.sk-parallel-item:only-child::after {width: 0;}#sk-container-id-2 div.sk-dashed-wrapped {border: 1px dashed gray;margin: 0 0.4em 0.5em 0.4em;box-sizing: border-box;padding-bottom: 0.4em;background-color: white;}#sk-container-id-2 div.sk-label label {font-family: monospace;font-weight: bold;display: inline-block;line-height: 1.2em;}#sk-container-id-2 div.sk-label-container {text-align: center;}#sk-container-id-2 div.sk-container {/* jupyter's `normalize.less` sets `[hidden] { display: none; }` but bootstrap.min.css set `[hidden] { display: none !important; }` so we also need the `!important` here to be able to override the default hidden behavior on the sphinx rendered scikit-learn.org. See: https://github.com/scikit-learn/scikit-learn/issues/21755 */display: inline-block !important;position: relative;}#sk-container-id-2 div.sk-text-repr-fallback {display: none;}</style><div id=\"sk-container-id-2\" class=\"sk-top-container\"><div class=\"sk-text-repr-fallback\"><pre>RandomizedSearchCV(cv=5, estimator=SVC(), n_jobs=4,\n",
       "                   param_distributions={&#x27;C&#x27;: [0.5, 1, 10, 100],\n",
       "                                        &#x27;decision_function_shape&#x27;: [&#x27;ovo&#x27;,\n",
       "                                                                    &#x27;ovr&#x27;],\n",
       "                                        &#x27;gamma&#x27;: [&#x27;scale&#x27;, 1, 0.1, 0.01, 0.001,\n",
       "                                                  0.0001],\n",
       "                                        &#x27;kernel&#x27;: [&#x27;rbf&#x27;, &#x27;linear&#x27;]},\n",
       "                   verbose=2)</pre><b>In a Jupyter environment, please rerun this cell to show the HTML representation or trust the notebook. <br />On GitHub, the HTML representation is unable to render, please try loading this page with nbviewer.org.</b></div><div class=\"sk-container\" hidden><div class=\"sk-item sk-dashed-wrapped\"><div class=\"sk-label-container\"><div class=\"sk-label sk-toggleable\"><input class=\"sk-toggleable__control sk-hidden--visually\" id=\"sk-estimator-id-2\" type=\"checkbox\" ><label for=\"sk-estimator-id-2\" class=\"sk-toggleable__label sk-toggleable__label-arrow\">RandomizedSearchCV</label><div class=\"sk-toggleable__content\"><pre>RandomizedSearchCV(cv=5, estimator=SVC(), n_jobs=4,\n",
       "                   param_distributions={&#x27;C&#x27;: [0.5, 1, 10, 100],\n",
       "                                        &#x27;decision_function_shape&#x27;: [&#x27;ovo&#x27;,\n",
       "                                                                    &#x27;ovr&#x27;],\n",
       "                                        &#x27;gamma&#x27;: [&#x27;scale&#x27;, 1, 0.1, 0.01, 0.001,\n",
       "                                                  0.0001],\n",
       "                                        &#x27;kernel&#x27;: [&#x27;rbf&#x27;, &#x27;linear&#x27;]},\n",
       "                   verbose=2)</pre></div></div></div><div class=\"sk-parallel\"><div class=\"sk-parallel-item\"><div class=\"sk-item\"><div class=\"sk-label-container\"><div class=\"sk-label sk-toggleable\"><input class=\"sk-toggleable__control sk-hidden--visually\" id=\"sk-estimator-id-3\" type=\"checkbox\" ><label for=\"sk-estimator-id-3\" class=\"sk-toggleable__label sk-toggleable__label-arrow\">estimator: SVC</label><div class=\"sk-toggleable__content\"><pre>SVC()</pre></div></div></div><div class=\"sk-serial\"><div class=\"sk-item\"><div class=\"sk-estimator sk-toggleable\"><input class=\"sk-toggleable__control sk-hidden--visually\" id=\"sk-estimator-id-4\" type=\"checkbox\" ><label for=\"sk-estimator-id-4\" class=\"sk-toggleable__label sk-toggleable__label-arrow\">SVC</label><div class=\"sk-toggleable__content\"><pre>SVC()</pre></div></div></div></div></div></div></div></div></div></div>"
      ],
      "text/plain": [
       "RandomizedSearchCV(cv=5, estimator=SVC(), n_jobs=4,\n",
       "                   param_distributions={'C': [0.5, 1, 10, 100],\n",
       "                                        'decision_function_shape': ['ovo',\n",
       "                                                                    'ovr'],\n",
       "                                        'gamma': ['scale', 1, 0.1, 0.01, 0.001,\n",
       "                                                  0.0001],\n",
       "                                        'kernel': ['rbf', 'linear']},\n",
       "                   verbose=2)"
      ]
     },
     "execution_count": 45,
     "metadata": {},
     "output_type": "execute_result"
    }
   ],
   "source": [
    "svm_grid.fit(X_train_scaled, y_train)"
   ]
  },
  {
   "cell_type": "code",
   "execution_count": 46,
   "metadata": {},
   "outputs": [
    {
     "data": {
      "text/plain": [
       "{'kernel': 'rbf', 'gamma': 0.1, 'decision_function_shape': 'ovo', 'C': 10}"
      ]
     },
     "execution_count": 46,
     "metadata": {},
     "output_type": "execute_result"
    }
   ],
   "source": [
    "svm_grid.best_params_"
   ]
  },
  {
   "cell_type": "code",
   "execution_count": 47,
   "metadata": {},
   "outputs": [
    {
     "data": {
      "text/plain": [
       "0.7718476903870163"
      ]
     },
     "execution_count": 47,
     "metadata": {},
     "output_type": "execute_result"
    }
   ],
   "source": [
    "svm_grid.score(X_test_scaled, y_test)"
   ]
  },
  {
   "cell_type": "code",
   "execution_count": 50,
   "metadata": {},
   "outputs": [
    {
     "name": "stdout",
     "output_type": "stream",
     "text": [
      "77.18%\n",
      "[76.31 75.75 76.31 75.53 75.22](%)\n",
      "Mean: 75.82%, Standard Deviation: 0.43%\n",
      "              precision    recall  f1-score   support\n",
      "\n",
      "       Other       0.78      0.73      0.75      1101\n",
      "       Solar       0.75      0.78      0.76      1069\n",
      "        Wind       0.79      0.82      0.81      1034\n",
      "\n",
      "    accuracy                           0.77      3204\n",
      "   macro avg       0.77      0.77      0.77      3204\n",
      "weighted avg       0.77      0.77      0.77      3204\n",
      "\n"
     ]
    },
    {
     "data": {
      "image/png": "[encoded data removed]",
      "text/plain": [
       "<Figure size 432x288 with 2 Axes>"
      ]
     },
     "metadata": {
      "needs_background": "light"
     },
     "output_type": "display_data"
    }
   ],
   "source": [
    "svm_model_2 = SVC(C= 10, gamma= 0.1, kernel='rbf', decision_function_shape= 'ovo')\n",
    "svm_model_2.fit(X_train_scaled, y_train)\n",
    "\n",
    "utils.custom_classification_prediction_report(svm_model_2, X_scaled, y, X_test_scaled, y_test, list_target_in_order)"
   ]
  },
  {
   "cell_type": "markdown",
   "metadata": {},
   "source": [
    "# PCA"
   ]
  },
  {
   "cell_type": "code",
   "execution_count": 51,
   "metadata": {},
   "outputs": [
    {
     "data": {
      "text/html": [
       "<style>#sk-container-id-3 {color: black;background-color: white;}#sk-container-id-3 pre{padding: 0;}#sk-container-id-3 div.sk-toggleable {background-color: white;}#sk-container-id-3 label.sk-toggleable__label {cursor: pointer;display: block;width: 100%;margin-bottom: 0;padding: 0.3em;box-sizing: border-box;text-align: center;}#sk-container-id-3 label.sk-toggleable__label-arrow:before {content: \"▸\";float: left;margin-right: 0.25em;color: #696969;}#sk-container-id-3 label.sk-toggleable__label-arrow:hover:before {color: black;}#sk-container-id-3 div.sk-estimator:hover label.sk-toggleable__label-arrow:before {color: black;}#sk-container-id-3 div.sk-toggleable__content {max-height: 0;max-width: 0;overflow: hidden;text-align: left;background-color: #f0f8ff;}#sk-container-id-3 div.sk-toggleable__content pre {margin: 0.2em;color: black;border-radius: 0.25em;background-color: #f0f8ff;}#sk-container-id-3 input.sk-toggleable__control:checked~div.sk-toggleable__content {max-height: 200px;max-width: 100%;overflow: auto;}#sk-container-id-3 input.sk-toggleable__control:checked~label.sk-toggleable__label-arrow:before {content: \"▾\";}#sk-container-id-3 div.sk-estimator input.sk-toggleable__control:checked~label.sk-toggleable__label {background-color: #d4ebff;}#sk-container-id-3 div.sk-label input.sk-toggleable__control:checked~label.sk-toggleable__label {background-color: #d4ebff;}#sk-container-id-3 input.sk-hidden--visually {border: 0;clip: rect(1px 1px 1px 1px);clip: rect(1px, 1px, 1px, 1px);height: 1px;margin: -1px;overflow: hidden;padding: 0;position: absolute;width: 1px;}#sk-container-id-3 div.sk-estimator {font-family: monospace;background-color: #f0f8ff;border: 1px dotted black;border-radius: 0.25em;box-sizing: border-box;margin-bottom: 0.5em;}#sk-container-id-3 div.sk-estimator:hover {background-color: #d4ebff;}#sk-container-id-3 div.sk-parallel-item::after {content: \"\";width: 100%;border-bottom: 1px solid gray;flex-grow: 1;}#sk-container-id-3 div.sk-label:hover label.sk-toggleable__label {background-color: #d4ebff;}#sk-container-id-3 div.sk-serial::before {content: \"\";position: absolute;border-left: 1px solid gray;box-sizing: border-box;top: 0;bottom: 0;left: 50%;z-index: 0;}#sk-container-id-3 div.sk-serial {display: flex;flex-direction: column;align-items: center;background-color: white;padding-right: 0.2em;padding-left: 0.2em;position: relative;}#sk-container-id-3 div.sk-item {position: relative;z-index: 1;}#sk-container-id-3 div.sk-parallel {display: flex;align-items: stretch;justify-content: center;background-color: white;position: relative;}#sk-container-id-3 div.sk-item::before, #sk-container-id-3 div.sk-parallel-item::before {content: \"\";position: absolute;border-left: 1px solid gray;box-sizing: border-box;top: 0;bottom: 0;left: 50%;z-index: -1;}#sk-container-id-3 div.sk-parallel-item {display: flex;flex-direction: column;z-index: 1;position: relative;background-color: white;}#sk-container-id-3 div.sk-parallel-item:first-child::after {align-self: flex-end;width: 50%;}#sk-container-id-3 div.sk-parallel-item:last-child::after {align-self: flex-start;width: 50%;}#sk-container-id-3 div.sk-parallel-item:only-child::after {width: 0;}#sk-container-id-3 div.sk-dashed-wrapped {border: 1px dashed gray;margin: 0 0.4em 0.5em 0.4em;box-sizing: border-box;padding-bottom: 0.4em;background-color: white;}#sk-container-id-3 div.sk-label label {font-family: monospace;font-weight: bold;display: inline-block;line-height: 1.2em;}#sk-container-id-3 div.sk-label-container {text-align: center;}#sk-container-id-3 div.sk-container {/* jupyter's `normalize.less` sets `[hidden] { display: none; }` but bootstrap.min.css set `[hidden] { display: none !important; }` so we also need the `!important` here to be able to override the default hidden behavior on the sphinx rendered scikit-learn.org. See: https://github.com/scikit-learn/scikit-learn/issues/21755 */display: inline-block !important;position: relative;}#sk-container-id-3 div.sk-text-repr-fallback {display: none;}</style><div id=\"sk-container-id-3\" class=\"sk-top-container\"><div class=\"sk-text-repr-fallback\"><pre>PCA(n_components=3)</pre><b>In a Jupyter environment, please rerun this cell to show the HTML representation or trust the notebook. <br />On GitHub, the HTML representation is unable to render, please try loading this page with nbviewer.org.</b></div><div class=\"sk-container\" hidden><div class=\"sk-item\"><div class=\"sk-estimator sk-toggleable\"><input class=\"sk-toggleable__control sk-hidden--visually\" id=\"sk-estimator-id-5\" type=\"checkbox\" checked><label for=\"sk-estimator-id-5\" class=\"sk-toggleable__label sk-toggleable__label-arrow\">PCA</label><div class=\"sk-toggleable__content\"><pre>PCA(n_components=3)</pre></div></div></div></div></div>"
      ],
      "text/plain": [
       "PCA(n_components=3)"
      ]
     },
     "execution_count": 51,
     "metadata": {},
     "output_type": "execute_result"
    }
   ],
   "source": [
    "pca = PCA(n_components=3)\n",
    "pca.fit(X_train_scaled)"
   ]
  },
  {
   "cell_type": "code",
   "execution_count": 52,
   "metadata": {},
   "outputs": [
    {
     "data": {
      "image/png": "[encoded data removed]",
      "text/plain": [
       "<Figure size 432x288 with 1 Axes>"
      ]
     },
     "metadata": {
      "needs_background": "light"
     },
     "output_type": "display_data"
    }
   ],
   "source": [
    "PC_values = np.arange(pca.n_components_) + 1\n",
    "plt.plot(PC_values, pca.explained_variance_ratio_, 'o-', linewidth=2, color='blue')\n",
    "plt.title('Scree Plot')\n",
    "plt.xlabel('Principal Component')\n",
    "plt.ylabel('Variance Explained')\n",
    "plt.show()"
   ]
  },
  {
   "cell_type": "code",
   "execution_count": null,
   "metadata": {},
   "outputs": [],
   "source": [
    "X_train_scaled_pca = pca.transform(X_train_scaled)\n",
    "X_test_scaled_pca = pca.transform(X_test_scaled)"
   ]
  },
  {
   "cell_type": "markdown",
   "metadata": {},
   "source": [
    "# LOGISTIC REGRESSION"
   ]
  },
  {
   "cell_type": "code",
   "execution_count": 53,
   "metadata": {},
   "outputs": [
    {
     "name": "stderr",
     "output_type": "stream",
     "text": [
      "/home/tomas/renewable_power_plants/solar_wind_power_plants_prediction/env_renewable_power_plants_pred/lib/python3.8/site-packages/sklearn/linear_model/_logistic.py:444: ConvergenceWarning: lbfgs failed to converge (status=1):\n",
      "STOP: TOTAL NO. of ITERATIONS REACHED LIMIT.\n",
      "\n",
      "Increase the number of iterations (max_iter) or scale the data as shown in:\n",
      "    https://scikit-learn.org/stable/modules/preprocessing.html\n",
      "Please also refer to the documentation for alternative solver options:\n",
      "    https://scikit-learn.org/stable/modules/linear_model.html#logistic-regression\n",
      "  n_iter_i = _check_optimize_result(\n"
     ]
    },
    {
     "name": "stdout",
     "output_type": "stream",
     "text": [
      "61.7%\n"
     ]
    },
    {
     "name": "stderr",
     "output_type": "stream",
     "text": [
      "/home/tomas/renewable_power_plants/solar_wind_power_plants_prediction/env_renewable_power_plants_pred/lib/python3.8/site-packages/sklearn/linear_model/_logistic.py:444: ConvergenceWarning: lbfgs failed to converge (status=1):\n",
      "STOP: TOTAL NO. of ITERATIONS REACHED LIMIT.\n",
      "\n",
      "Increase the number of iterations (max_iter) or scale the data as shown in:\n",
      "    https://scikit-learn.org/stable/modules/preprocessing.html\n",
      "Please also refer to the documentation for alternative solver options:\n",
      "    https://scikit-learn.org/stable/modules/linear_model.html#logistic-regression\n",
      "  n_iter_i = _check_optimize_result(\n",
      "/home/tomas/renewable_power_plants/solar_wind_power_plants_prediction/env_renewable_power_plants_pred/lib/python3.8/site-packages/sklearn/linear_model/_logistic.py:444: ConvergenceWarning: lbfgs failed to converge (status=1):\n",
      "STOP: TOTAL NO. of ITERATIONS REACHED LIMIT.\n",
      "\n",
      "Increase the number of iterations (max_iter) or scale the data as shown in:\n",
      "    https://scikit-learn.org/stable/modules/preprocessing.html\n",
      "Please also refer to the documentation for alternative solver options:\n",
      "    https://scikit-learn.org/stable/modules/linear_model.html#logistic-regression\n",
      "  n_iter_i = _check_optimize_result(\n",
      "/home/tomas/renewable_power_plants/solar_wind_power_plants_prediction/env_renewable_power_plants_pred/lib/python3.8/site-packages/sklearn/linear_model/_logistic.py:444: ConvergenceWarning: lbfgs failed to converge (status=1):\n",
      "STOP: TOTAL NO. of ITERATIONS REACHED LIMIT.\n",
      "\n",
      "Increase the number of iterations (max_iter) or scale the data as shown in:\n",
      "    https://scikit-learn.org/stable/modules/preprocessing.html\n",
      "Please also refer to the documentation for alternative solver options:\n",
      "    https://scikit-learn.org/stable/modules/linear_model.html#logistic-regression\n",
      "  n_iter_i = _check_optimize_result(\n",
      "/home/tomas/renewable_power_plants/solar_wind_power_plants_prediction/env_renewable_power_plants_pred/lib/python3.8/site-packages/sklearn/linear_model/_logistic.py:444: ConvergenceWarning: lbfgs failed to converge (status=1):\n",
      "STOP: TOTAL NO. of ITERATIONS REACHED LIMIT.\n",
      "\n",
      "Increase the number of iterations (max_iter) or scale the data as shown in:\n",
      "    https://scikit-learn.org/stable/modules/preprocessing.html\n",
      "Please also refer to the documentation for alternative solver options:\n",
      "    https://scikit-learn.org/stable/modules/linear_model.html#logistic-regression\n",
      "  n_iter_i = _check_optimize_result(\n",
      "/home/tomas/renewable_power_plants/solar_wind_power_plants_prediction/env_renewable_power_plants_pred/lib/python3.8/site-packages/sklearn/linear_model/_logistic.py:444: ConvergenceWarning: lbfgs failed to converge (status=1):\n",
      "STOP: TOTAL NO. of ITERATIONS REACHED LIMIT.\n",
      "\n",
      "Increase the number of iterations (max_iter) or scale the data as shown in:\n",
      "    https://scikit-learn.org/stable/modules/preprocessing.html\n",
      "Please also refer to the documentation for alternative solver options:\n",
      "    https://scikit-learn.org/stable/modules/linear_model.html#logistic-regression\n",
      "  n_iter_i = _check_optimize_result(\n"
     ]
    },
    {
     "name": "stdout",
     "output_type": "stream",
     "text": [
      "[60.67 59.77 61.24 61.42 62.2 ](%)\n",
      "Mean: 61.06%, Standard Deviation: 0.81%\n",
      "              precision    recall  f1-score   support\n",
      "\n",
      "       Other       0.62      0.53      0.58      1101\n",
      "       Solar       0.58      0.59      0.58      1069\n",
      "        Wind       0.65      0.73      0.69      1034\n",
      "\n",
      "    accuracy                           0.62      3204\n",
      "   macro avg       0.62      0.62      0.62      3204\n",
      "weighted avg       0.62      0.62      0.61      3204\n",
      "\n"
     ]
    },
    {
     "data": {
      "image/png": "[encoded data removed]",
      "text/plain": [
       "<Figure size 432x288 with 2 Axes>"
      ]
     },
     "metadata": {
      "needs_background": "light"
     },
     "output_type": "display_data"
    }
   ],
   "source": [
    "logistic_model_1 = LogisticRegression(multi_class= 'ovr')\n",
    "logistic_model_1.fit(X_train_scaled, y_train)\n",
    "utils.custom_classification_prediction_report(logistic_model_1, X_scaled, y, X_test_scaled, y_test, list_target_in_order)"
   ]
  },
  {
   "cell_type": "markdown",
   "metadata": {},
   "source": [
    "# LDA"
   ]
  },
  {
   "cell_type": "code",
   "execution_count": 54,
   "metadata": {},
   "outputs": [
    {
     "data": {
      "text/html": [
       "<style>#sk-container-id-4 {color: black;background-color: white;}#sk-container-id-4 pre{padding: 0;}#sk-container-id-4 div.sk-toggleable {background-color: white;}#sk-container-id-4 label.sk-toggleable__label {cursor: pointer;display: block;width: 100%;margin-bottom: 0;padding: 0.3em;box-sizing: border-box;text-align: center;}#sk-container-id-4 label.sk-toggleable__label-arrow:before {content: \"▸\";float: left;margin-right: 0.25em;color: #696969;}#sk-container-id-4 label.sk-toggleable__label-arrow:hover:before {color: black;}#sk-container-id-4 div.sk-estimator:hover label.sk-toggleable__label-arrow:before {color: black;}#sk-container-id-4 div.sk-toggleable__content {max-height: 0;max-width: 0;overflow: hidden;text-align: left;background-color: #f0f8ff;}#sk-container-id-4 div.sk-toggleable__content pre {margin: 0.2em;color: black;border-radius: 0.25em;background-color: #f0f8ff;}#sk-container-id-4 input.sk-toggleable__control:checked~div.sk-toggleable__content {max-height: 200px;max-width: 100%;overflow: auto;}#sk-container-id-4 input.sk-toggleable__control:checked~label.sk-toggleable__label-arrow:before {content: \"▾\";}#sk-container-id-4 div.sk-estimator input.sk-toggleable__control:checked~label.sk-toggleable__label {background-color: #d4ebff;}#sk-container-id-4 div.sk-label input.sk-toggleable__control:checked~label.sk-toggleable__label {background-color: #d4ebff;}#sk-container-id-4 input.sk-hidden--visually {border: 0;clip: rect(1px 1px 1px 1px);clip: rect(1px, 1px, 1px, 1px);height: 1px;margin: -1px;overflow: hidden;padding: 0;position: absolute;width: 1px;}#sk-container-id-4 div.sk-estimator {font-family: monospace;background-color: #f0f8ff;border: 1px dotted black;border-radius: 0.25em;box-sizing: border-box;margin-bottom: 0.5em;}#sk-container-id-4 div.sk-estimator:hover {background-color: #d4ebff;}#sk-container-id-4 div.sk-parallel-item::after {content: \"\";width: 100%;border-bottom: 1px solid gray;flex-grow: 1;}#sk-container-id-4 div.sk-label:hover label.sk-toggleable__label {background-color: #d4ebff;}#sk-container-id-4 div.sk-serial::before {content: \"\";position: absolute;border-left: 1px solid gray;box-sizing: border-box;top: 0;bottom: 0;left: 50%;z-index: 0;}#sk-container-id-4 div.sk-serial {display: flex;flex-direction: column;align-items: center;background-color: white;padding-right: 0.2em;padding-left: 0.2em;position: relative;}#sk-container-id-4 div.sk-item {position: relative;z-index: 1;}#sk-container-id-4 div.sk-parallel {display: flex;align-items: stretch;justify-content: center;background-color: white;position: relative;}#sk-container-id-4 div.sk-item::before, #sk-container-id-4 div.sk-parallel-item::before {content: \"\";position: absolute;border-left: 1px solid gray;box-sizing: border-box;top: 0;bottom: 0;left: 50%;z-index: -1;}#sk-container-id-4 div.sk-parallel-item {display: flex;flex-direction: column;z-index: 1;position: relative;background-color: white;}#sk-container-id-4 div.sk-parallel-item:first-child::after {align-self: flex-end;width: 50%;}#sk-container-id-4 div.sk-parallel-item:last-child::after {align-self: flex-start;width: 50%;}#sk-container-id-4 div.sk-parallel-item:only-child::after {width: 0;}#sk-container-id-4 div.sk-dashed-wrapped {border: 1px dashed gray;margin: 0 0.4em 0.5em 0.4em;box-sizing: border-box;padding-bottom: 0.4em;background-color: white;}#sk-container-id-4 div.sk-label label {font-family: monospace;font-weight: bold;display: inline-block;line-height: 1.2em;}#sk-container-id-4 div.sk-label-container {text-align: center;}#sk-container-id-4 div.sk-container {/* jupyter's `normalize.less` sets `[hidden] { display: none; }` but bootstrap.min.css set `[hidden] { display: none !important; }` so we also need the `!important` here to be able to override the default hidden behavior on the sphinx rendered scikit-learn.org. See: https://github.com/scikit-learn/scikit-learn/issues/21755 */display: inline-block !important;position: relative;}#sk-container-id-4 div.sk-text-repr-fallback {display: none;}</style><div id=\"sk-container-id-4\" class=\"sk-top-container\"><div class=\"sk-text-repr-fallback\"><pre>LinearDiscriminantAnalysis(n_components=2)</pre><b>In a Jupyter environment, please rerun this cell to show the HTML representation or trust the notebook. <br />On GitHub, the HTML representation is unable to render, please try loading this page with nbviewer.org.</b></div><div class=\"sk-container\" hidden><div class=\"sk-item\"><div class=\"sk-estimator sk-toggleable\"><input class=\"sk-toggleable__control sk-hidden--visually\" id=\"sk-estimator-id-6\" type=\"checkbox\" checked><label for=\"sk-estimator-id-6\" class=\"sk-toggleable__label sk-toggleable__label-arrow\">LinearDiscriminantAnalysis</label><div class=\"sk-toggleable__content\"><pre>LinearDiscriminantAnalysis(n_components=2)</pre></div></div></div></div></div>"
      ],
      "text/plain": [
       "LinearDiscriminantAnalysis(n_components=2)"
      ]
     },
     "execution_count": 54,
     "metadata": {},
     "output_type": "execute_result"
    }
   ],
   "source": [
    "lda = LDA(n_components = 2)\n",
    "X_train_scaled_lda = lda.fit_transform(X_train_scaled, y_train)\n",
    "X_test_scaled_lda = lda.transform(X_test_scaled)\n",
    "lda.fit(X_train_scaled_lda, y_train)\n",
    "# utils.custom_classification_prediction_report(logistic_model_1, X_scaled, y, X_test_scaled, y_test, list_target_in_order)"
   ]
  },
  {
   "cell_type": "code",
   "execution_count": 55,
   "metadata": {},
   "outputs": [
    {
     "name": "stdout",
     "output_type": "stream",
     "text": [
      "0.6182896379525593\n"
     ]
    },
    {
     "data": {
      "text/plain": [
       "<AxesSubplot:>"
      ]
     },
     "execution_count": 55,
     "metadata": {},
     "output_type": "execute_result"
    },
    {
     "data": {
      "image/png": "[encoded data removed]",
      "text/plain": [
       "<Figure size 432x288 with 2 Axes>"
      ]
     },
     "metadata": {
      "needs_background": "light"
     },
     "output_type": "display_data"
    }
   ],
   "source": [
    "\n",
    "y_pred = lda.predict(X_test_scaled_lda)\n",
    "print(lda.score(X_test_scaled_lda, y_test))\n",
    "confusion_matrix_return = confusion_matrix(y_test, y_pred)\n",
    "sns.heatmap(confusion_matrix_return, annot=True, fmt = 'g')"
   ]
  },
  {
   "cell_type": "markdown",
   "metadata": {},
   "source": [
    "# NEURAL NETWORK"
   ]
  },
  {
   "cell_type": "code",
   "execution_count": null,
   "metadata": {},
   "outputs": [],
   "source": [
    "nn_model_1 = MLPClassifier(hidden_layer_sizes=(25,50,25), max_iter=200,activation = 'tanh',solver='adam',random_state=1)\n",
    "nn_model_1.fit(X_train, y_train)\n",
    "y_pred = nn_model_1.predict(X_test)\n",
    "print(nn_model_1.score(X_test, y_test))\n",
    "confusion_matrix_return = confusion_matrix(y_test, y_pred)\n",
    "sns.heatmap(confusion_matrix_return, annot=True, fmt = 'g')"
   ]
  },
  {
   "cell_type": "markdown",
   "metadata": {},
   "source": [
    "# BAGGING CLASSIFIER"
   ]
  },
  {
   "cell_type": "code",
   "execution_count": 57,
   "metadata": {},
   "outputs": [
    {
     "name": "stdout",
     "output_type": "stream",
     "text": [
      "74.97%\n",
      "[74.25 73.13 73.22 76.4  75.09](%)\n",
      "Mean: 74.42%, Standard Deviation: 1.23%\n",
      "              precision    recall  f1-score   support\n",
      "\n",
      "       Other       0.77      0.68      0.72      1101\n",
      "       Solar       0.72      0.75      0.74      1069\n",
      "        Wind       0.76      0.82      0.79      1034\n",
      "\n",
      "    accuracy                           0.75      3204\n",
      "   macro avg       0.75      0.75      0.75      3204\n",
      "weighted avg       0.75      0.75      0.75      3204\n",
      "\n"
     ]
    },
    {
     "data": {
      "image/png": "[encoded data removed]",
      "text/plain": [
       "<Figure size 432x288 with 2 Axes>"
      ]
     },
     "metadata": {
      "needs_background": "light"
     },
     "output_type": "display_data"
    }
   ],
   "source": [
    "bag_model_1 = BaggingClassifier(base_estimator=KNeighborsClassifier(), n_estimators=50)\n",
    "bag_model_1.fit(X_train_scaled, y_train)\n",
    "utils.custom_classification_prediction_report(bag_model_1, X_scaled, y, X_test_scaled, y_test, list_target_in_order)\n",
    "# y_pred = bag_model_1.predict(X_test_scaled)\n",
    "# print(bag_model_1.score(X_test_scaled, y_test))\n",
    "\n",
    "# results_cvs = cross_val_score(bag_model_1, X_train_scaled, y_train, cv=5)\n",
    "# print(results_cvs)\n",
    "# print(f'Mean: {results_cvs.mean()}, Standard Deviation: {results_cvs.std()}')\n",
    "# confusion_matrix_return = confusion_matrix(y_test, y_pred)\n",
    "# sns.heatmap(confusion_matrix_return, annot=True, fmt = 'g')\n",
    "\n",
    "\n",
    "# print(np.around(bag_model_1.score(X_test_scaled, y_test),3))\n",
    "# # If data is unordered in nature (i.e. non - Time series) then shuffle = True is right choice.\n",
    "# results_cvs = cross_val_score(bag_model_1, X_scaled, y, cv=StratifiedKFold(shuffle = True))\n",
    "# print(np.around(results_cvs, 3))\n",
    "# print(f'Mean: {np.around(results_cvs.mean(),3)}, Standard Deviation: {np.around(results_cvs.std(),3)}')\n",
    "# confusion_matrix_return = confusion_matrix(y_test, y_pred)\n",
    "# sns.heatmap(confusion_matrix_return, annot=True, fmt = 'g')"
   ]
  },
  {
   "cell_type": "code",
   "execution_count": null,
   "metadata": {},
   "outputs": [],
   "source": [
    "classifier = {\n",
    "        'KNeighbors': KNeighborsClassifier(n_neighbors=9),\n",
    "        'DecisionTree': DecisionTreeClassifier(max_leaf_nodes=50),\n",
    "        'XGBClassifier': XGBClassifier()\n",
    "    }\n",
    "\n",
    "for name, estimator in classifier.items():\n",
    "    bag_class = BaggingClassifier(base_estimator=estimator, n_estimators=5).fit(X_train_scaled, y_train)\n",
    "    \n",
    "    bag_pred = bag_class.predict(X_test_scaled)\n",
    "\n",
    "    print(f'Accuracy Bagging with {name}: {accuracy_score(bag_pred, y_test)}')\n",
    "    print('')\n",
    "    print(f'Mean: {cross_val_score(bag_class, X, y, cv=5).mean()}, Standard Deviation: {cross_val_score(tree_model, X, y, cv=5).std()}')\n",
    "    print('')"
   ]
  },
  {
   "cell_type": "markdown",
   "metadata": {},
   "source": [
    "# VOTING CLASSIFIER"
   ]
  },
  {
   "cell_type": "code",
   "execution_count": 59,
   "metadata": {},
   "outputs": [
    {
     "name": "stdout",
     "output_type": "stream",
     "text": [
      "74.81%\n",
      "[75.47 75.25 75.34 74.94 75.37](%)\n",
      "Mean: 75.27%, Standard Deviation: 0.18%\n",
      "              precision    recall  f1-score   support\n",
      "\n",
      "       Other       0.75      0.69      0.72      1101\n",
      "       Solar       0.72      0.76      0.74      1069\n",
      "        Wind       0.78      0.80      0.79      1034\n",
      "\n",
      "    accuracy                           0.75      3204\n",
      "   macro avg       0.75      0.75      0.75      3204\n",
      "weighted avg       0.75      0.75      0.75      3204\n",
      "\n"
     ]
    },
    {
     "data": {
      "image/png": "[encoded data removed]",
      "text/plain": [
       "<Figure size 432x288 with 2 Axes>"
      ]
     },
     "metadata": {
      "needs_background": "light"
     },
     "output_type": "display_data"
    }
   ],
   "source": [
    "\n",
    "\n",
    "votclass_model_1 = VotingClassifier(estimators=[\n",
    "    ('knn', KNeighborsClassifier(n_neighbors=9)), ('dt', DecisionTreeClassifier(max_leaf_nodes=50)), ('xgb', XGBClassifier())], voting='hard')\n",
    "votclass_model_1.fit(X_train_scaled, y_train)\n",
    "\n",
    "utils.custom_classification_prediction_report(votclass_model_1, X_scaled, y, X_test_scaled, y_test, list_target_in_order)\n",
    "\n",
    "# y_pred = votclass_model_1.predict(X_test_scaled)\n",
    "\n",
    "# print(np.around(votclass_model_1.score(X_test_scaled, y_test),3))\n",
    "# # If data is unordered in nature (i.e. non - Time series) then shuffle = True is right choice.\n",
    "# results_cvs = cross_val_score(votclass_model_1, X_scaled, y, cv=StratifiedKFold(shuffle = True))\n",
    "# print(np.around(results_cvs, 3))\n",
    "# print(f'Mean: {np.around(results_cvs.mean(),3)}, Standard Deviation: {np.around(results_cvs.std(),3)}')\n",
    "# confusion_matrix_return = confusion_matrix(y_test, y_pred)\n",
    "# sns.heatmap(confusion_matrix_return, annot=True, fmt = 'g')"
   ]
  },
  {
   "cell_type": "markdown",
   "metadata": {},
   "source": [
    "# ADABOOST"
   ]
  },
  {
   "cell_type": "code",
   "execution_count": 60,
   "metadata": {},
   "outputs": [
    {
     "name": "stdout",
     "output_type": "stream",
     "text": [
      "60.3%\n",
      "[60.55 61.86 61.05 62.05 61.8 ](%)\n",
      "Mean: 61.46%, Standard Deviation: 0.57%\n",
      "              precision    recall  f1-score   support\n",
      "\n",
      "       Other       0.59      0.54      0.56      1101\n",
      "       Solar       0.57      0.57      0.57      1069\n",
      "        Wind       0.65      0.71      0.68      1034\n",
      "\n",
      "    accuracy                           0.60      3204\n",
      "   macro avg       0.60      0.60      0.60      3204\n",
      "weighted avg       0.60      0.60      0.60      3204\n",
      "\n"
     ]
    },
    {
     "data": {
      "image/png": "[encoded data removed]",
      "text/plain": [
       "<Figure size 432x288 with 2 Axes>"
      ]
     },
     "metadata": {
      "needs_background": "light"
     },
     "output_type": "display_data"
    }
   ],
   "source": [
    "adaBoost_model_1 = AdaBoostClassifier()\n",
    "adaBoost_model_1.fit(X_train_scaled, y_train)\n",
    "\n",
    "\n",
    "utils.custom_classification_prediction_report(adaBoost_model_1, X_scaled, y, X_test_scaled, y_test, list_target_in_order)\n",
    "\n",
    "# y_pred = adaBoost_model_1.predict(X_test_scaled)\n",
    "\n",
    "# print(np.around(adaBoost_model_1.score(X_test_scaled, y_test),3))\n",
    "# # If data is unordered in nature (i.e. non - Time series) then shuffle = True is right choice.\n",
    "# results_cvs = cross_val_score(adaBoost_model_1, X_scaled, y, cv=StratifiedKFold(shuffle = True))\n",
    "# print(np.around(results_cvs, 3))\n",
    "# print(f'Mean: {np.around(results_cvs.mean(),3)}, Standard Deviation: {np.around(results_cvs.std(),3)}')\n",
    "# confusion_matrix_return = confusion_matrix(y_test, y_pred)\n",
    "# sns.heatmap(confusion_matrix_return, annot=True, fmt = 'g')"
   ]
  },
  {
   "cell_type": "markdown",
   "metadata": {},
   "source": [
    "# GRADIENT TREE BOOSTING"
   ]
  },
  {
   "cell_type": "code",
   "execution_count": 62,
   "metadata": {},
   "outputs": [
    {
     "name": "stdout",
     "output_type": "stream",
     "text": [
      "72.1%\n",
      "[73.66 71.54 71.94 71.13 73.31](%)\n",
      "Mean: 72.32%, Standard Deviation: 1.0%\n",
      "              precision    recall  f1-score   support\n",
      "\n",
      "       Other       0.73      0.66      0.69      1101\n",
      "       Solar       0.69      0.72      0.71      1069\n",
      "        Wind       0.75      0.79      0.77      1034\n",
      "\n",
      "    accuracy                           0.72      3204\n",
      "   macro avg       0.72      0.72      0.72      3204\n",
      "weighted avg       0.72      0.72      0.72      3204\n",
      "\n"
     ]
    },
    {
     "data": {
      "image/png": "[encoded data removed]",
      "text/plain": [
       "<Figure size 432x288 with 2 Axes>"
      ]
     },
     "metadata": {
      "needs_background": "light"
     },
     "output_type": "display_data"
    }
   ],
   "source": [
    "gradboost_model_1 = GradientBoostingClassifier()\n",
    "gradboost_model_1.fit(X_train, y_train)\n",
    "\n",
    "utils.custom_classification_prediction_report(gradboost_model_1, X, y, X_test, y_test, list_target_in_order)\n",
    "\n",
    "\n",
    "# y_pred = gradboost_model_1.predict(X_test)\n",
    "# print(np.around(gradboost_model_1.score(X_test, y_test),3))\n",
    "# # If data is unordered in nature (i.e. non - Time series) then shuffle = True is right choice.\n",
    "# results_cvs = cross_val_score(gradboost_model_1, X, y, cv=StratifiedKFold(shuffle = True))\n",
    "# print(np.around(results_cvs, 3))\n",
    "# print(f'Mean: {np.around(results_cvs.mean(),3)}, Standard Deviation: {np.around(results_cvs.std(),3)}')\n",
    "# confusion_matrix_return = confusion_matrix(y_test, y_pred)\n",
    "# sns.heatmap(confusion_matrix_return, annot=True, fmt = 'g')"
   ]
  },
  {
   "cell_type": "markdown",
   "metadata": {},
   "source": [
    "# EXPORTING FINAL DATA AND MODEL"
   ]
  },
  {
   "cell_type": "code",
   "execution_count": null,
   "metadata": {},
   "outputs": [],
   "source": [
    "X.to_csv(utils.DIR_DATA_PROCESSED/\"classification_X.csv\")\n",
    "y.to_csv(utils.DIR_DATA_PROCESSED/\"classification_y.csv\")\n",
    "df_target_equivalent.to_csv(utils.DIR_DATA_PROCESSED/\"classification_y_real_values.csv\")"
   ]
  },
  {
   "cell_type": "code",
   "execution_count": null,
   "metadata": {},
   "outputs": [],
   "source": [
    "utils.custom_classification_prediction_report(xgbclass_model_1, X, y, X_test, y_test, list_target_in_order)"
   ]
  },
  {
   "cell_type": "code",
   "execution_count": null,
   "metadata": {},
   "outputs": [],
   "source": [
    "utils.custom_classification_prediction_report(xgbclass_model_2, X, y, X_test, y_test, list_target_in_order)"
   ]
  },
  {
   "cell_type": "code",
   "execution_count": null,
   "metadata": {},
   "outputs": [],
   "source": [
    "joblib.dump(xgbclass_model_1, utils.DIR_MODELS/\"xgbclass_model_1.pkl\")"
   ]
  },
  {
   "cell_type": "code",
   "execution_count": null,
   "metadata": {},
   "outputs": [],
   "source": []
  }
 ],
 "metadata": {
  "kernelspec": {
   "display_name": "Python 3.8.10 ('env_renewable_power_plants_pred': venv)",
   "language": "python",
   "name": "python3"
  },
  "language_info": {
   "codemirror_mode": {
    "name": "ipython",
    "version": 3
   },
   "file_extension": ".py",
   "mimetype": "text/x-python",
   "name": "python",
   "nbconvert_exporter": "python",
   "pygments_lexer": "ipython3",
   "version": "3.8.10"
  },
  "orig_nbformat": 4,
  "vscode": {
   "interpreter": {
    "hash": "60bc2f3e2ae26542789000890b40dee3a700b323ee2b6f35697d2a36a7d239d7"
   }
  }
 },
 "nbformat": 4,
 "nbformat_minor": 2
}
