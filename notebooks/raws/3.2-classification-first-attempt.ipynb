{
 "cells": [
  {
   "cell_type": "markdown",
   "metadata": {},
   "source": [
    "This notebooks was only to display the firsts attempts to make predictions"
   ]
  },
  {
   "cell_type": "markdown",
   "metadata": {},
   "source": [
    "This notebook comes after `src/data/2-make_dataset.py` and it is covers different sections:\n",
    "- DATAFRAMES\n",
    "- REMOVING OUTLIERS\n",
    "- BALANCING THE DATA\n",
    "- FEATURE ENGINEERING\n",
    "- SCALING THE DATA\n",
    "\n",
    "\n",
    "And after that comes the different models tried:\n",
    "- DECISION TREE CLASSIFIER\n",
    "- RANDOM FOREST CLASSIFIER\n",
    "- XGBOOST\n",
    "- KNN\n",
    "- NAIVE BAYES\n",
    "- SVM\n",
    "- PCA\n",
    "- LOGISTIC REGRESSION\n",
    "- LDA\n",
    "- NEURAL NETWORK\n",
    "- VOTING CLASSIFIER\n",
    "- ADA BOOST\n",
    "- GRADIENT TREE BOOSTING\n",
    "\n",
    "Finally, the export of the final dataframes and model\n",
    "- EXPORTING FINAL DATA AND MODEL"
   ]
  },
  {
   "cell_type": "code",
   "execution_count": 2,
   "metadata": {},
   "outputs": [],
   "source": [
    "import pyhere\n",
    "import sys\n",
    "sys.path.insert(0, str(pyhere.here().resolve().joinpath(\"src\")))\n",
    "import utils\n",
    "\n",
    "import numpy as np\n",
    "import pandas as pd\n",
    "import matplotlib.pyplot as plt\n",
    "import seaborn as sns\n",
    "\n",
    "\n",
    "from sklearn.feature_selection import mutual_info_classif\n",
    "from sklearn.model_selection import train_test_split, cross_val_score, GridSearchCV, RandomizedSearchCV, StratifiedKFold\n",
    "from sklearn.preprocessing import LabelEncoder, MinMaxScaler, PowerTransformer, StandardScaler\n",
    "# from sklearn.metrics import mean_absolute_error\n",
    "from sklearn.tree import DecisionTreeClassifier\n",
    "from sklearn.ensemble import RandomForestClassifier\n",
    "from sklearn import tree\n",
    "from sklearn.neighbors import KNeighborsClassifier\n",
    "from sklearn.metrics import confusion_matrix, accuracy_score, precision_score, classification_report\n",
    "from xgboost import XGBClassifier\n",
    "from sklearn.svm import SVC\n",
    "from sklearn.naive_bayes import GaussianNB\n",
    "from sklearn.linear_model import LogisticRegression\n",
    "from sklearn.decomposition import PCA\n",
    "from sklearn.discriminant_analysis import LinearDiscriminantAnalysis as LDA, QuadraticDiscriminantAnalysis as QDA\n",
    "from sklearn.neural_network import MLPClassifier\n",
    "from sklearn.ensemble import BaggingClassifier, GradientBoostingClassifier, VotingClassifier, AdaBoostClassifier, IsolationForest\n",
    "from sklearn.svm import LinearSVC\n",
    "from sklearn.linear_model import SGDClassifier\n",
    "from scipy import stats\n",
    "import joblib\n"
   ]
  },
  {
   "cell_type": "markdown",
   "metadata": {},
   "source": [
    "# DATAFRAMES"
   ]
  },
  {
   "cell_type": "code",
   "execution_count": 3,
   "metadata": {},
   "outputs": [],
   "source": [
    "df_transformed_1 = pd.read_csv(utils.DIR_DATA_EXTERNAL/\"transformed_data_combined_with_nasa.csv\", index_col=['index'])\n",
    "df_transformed_2 = pd.read_csv(utils.DIR_DATA_EXTERNAL/\"v2_transformed_data_combined_with_nasa.csv\", index_col=['index'])\n",
    "df_transformed_3 = pd.read_csv(utils.DIR_DATA_EXTERNAL/\"v3_transformed_data_combined_with_nasa.csv\", index_col=['index'])\n",
    "df_transformed_4 = pd.read_csv(utils.DIR_DATA_EXTERNAL/\"v4_transformed_data_combined_with_nasa.csv\", index_col=['index'])\n",
    "df_transformed_5 = pd.read_csv(utils.DIR_DATA_EXTERNAL/\"v5_transformed_data_combined_with_nasa.csv\", index_col=['index'])\n",
    "# df_transformed_6 = pd.read_csv(utils.DIR_DATA_EXTERNAL/\"v6_transformed_data_combined_with_nasa.csv\", index_col=['index'])\n",
    "df_transformed_7 = pd.read_csv(utils.DIR_DATA_EXTERNAL/\"v7_transformed_data_combined_with_nasa.csv\", index_col=['index'])"
   ]
  },
  {
   "cell_type": "code",
   "execution_count": 34,
   "metadata": {},
   "outputs": [
    {
     "data": {
      "text/html": [
       "<div>\n",
       "<style scoped>\n",
       "    .dataframe tbody tr th:only-of-type {\n",
       "        vertical-align: middle;\n",
       "    }\n",
       "\n",
       "    .dataframe tbody tr th {\n",
       "        vertical-align: top;\n",
       "    }\n",
       "\n",
       "    .dataframe thead th {\n",
       "        text-align: right;\n",
       "    }\n",
       "</style>\n",
       "<table border=\"1\" class=\"dataframe\">\n",
       "  <thead>\n",
       "    <tr style=\"text-align: right;\">\n",
       "      <th></th>\n",
       "      <th>latitude</th>\n",
       "      <th>longitude</th>\n",
       "      <th>autumn_ALLSKY_KT_2012</th>\n",
       "      <th>autumn_ALLSKY_KT_2013</th>\n",
       "      <th>autumn_ALLSKY_KT_2014</th>\n",
       "      <th>autumn_ALLSKY_KT_2015</th>\n",
       "      <th>autumn_ALLSKY_KT_2016</th>\n",
       "      <th>autumn_ALLSKY_KT_2017</th>\n",
       "      <th>autumn_ALLSKY_KT_2018</th>\n",
       "      <th>autumn_ALLSKY_KT_2019</th>\n",
       "      <th>...</th>\n",
       "      <th>winter_WS50M_MAX_AVG_2018</th>\n",
       "      <th>winter_WS50M_MAX_AVG_2019</th>\n",
       "      <th>winter_WS50M_MIN_AVG_2012</th>\n",
       "      <th>winter_WS50M_MIN_AVG_2013</th>\n",
       "      <th>winter_WS50M_MIN_AVG_2014</th>\n",
       "      <th>winter_WS50M_MIN_AVG_2015</th>\n",
       "      <th>winter_WS50M_MIN_AVG_2016</th>\n",
       "      <th>winter_WS50M_MIN_AVG_2017</th>\n",
       "      <th>winter_WS50M_MIN_AVG_2018</th>\n",
       "      <th>winter_WS50M_MIN_AVG_2019</th>\n",
       "    </tr>\n",
       "    <tr>\n",
       "      <th>index</th>\n",
       "      <th></th>\n",
       "      <th></th>\n",
       "      <th></th>\n",
       "      <th></th>\n",
       "      <th></th>\n",
       "      <th></th>\n",
       "      <th></th>\n",
       "      <th></th>\n",
       "      <th></th>\n",
       "      <th></th>\n",
       "      <th></th>\n",
       "      <th></th>\n",
       "      <th></th>\n",
       "      <th></th>\n",
       "      <th></th>\n",
       "      <th></th>\n",
       "      <th></th>\n",
       "      <th></th>\n",
       "      <th></th>\n",
       "      <th></th>\n",
       "      <th></th>\n",
       "    </tr>\n",
       "  </thead>\n",
       "  <tbody>\n",
       "    <tr>\n",
       "      <th>0</th>\n",
       "      <td>32.3220</td>\n",
       "      <td>65.1190</td>\n",
       "      <td>0.683333</td>\n",
       "      <td>0.703333</td>\n",
       "      <td>0.703333</td>\n",
       "      <td>0.656667</td>\n",
       "      <td>0.720000</td>\n",
       "      <td>0.710000</td>\n",
       "      <td>0.720000</td>\n",
       "      <td>0.660000</td>\n",
       "      <td>...</td>\n",
       "      <td>6.966667</td>\n",
       "      <td>6.850000</td>\n",
       "      <td>1.283333</td>\n",
       "      <td>1.003333</td>\n",
       "      <td>1.023333</td>\n",
       "      <td>1.006667</td>\n",
       "      <td>0.950000</td>\n",
       "      <td>1.320000</td>\n",
       "      <td>1.176667</td>\n",
       "      <td>1.176667</td>\n",
       "    </tr>\n",
       "    <tr>\n",
       "      <th>1</th>\n",
       "      <td>31.6700</td>\n",
       "      <td>65.7950</td>\n",
       "      <td>0.696667</td>\n",
       "      <td>0.713333</td>\n",
       "      <td>0.720000</td>\n",
       "      <td>0.676667</td>\n",
       "      <td>0.726667</td>\n",
       "      <td>0.723333</td>\n",
       "      <td>0.726667</td>\n",
       "      <td>0.663333</td>\n",
       "      <td>...</td>\n",
       "      <td>7.606667</td>\n",
       "      <td>7.903333</td>\n",
       "      <td>1.663333</td>\n",
       "      <td>1.473333</td>\n",
       "      <td>1.290000</td>\n",
       "      <td>1.520000</td>\n",
       "      <td>1.543333</td>\n",
       "      <td>1.613333</td>\n",
       "      <td>1.476667</td>\n",
       "      <td>1.603333</td>\n",
       "    </tr>\n",
       "    <tr>\n",
       "      <th>2</th>\n",
       "      <td>31.6230</td>\n",
       "      <td>65.7920</td>\n",
       "      <td>0.696667</td>\n",
       "      <td>0.713333</td>\n",
       "      <td>0.720000</td>\n",
       "      <td>0.676667</td>\n",
       "      <td>0.726667</td>\n",
       "      <td>0.723333</td>\n",
       "      <td>0.726667</td>\n",
       "      <td>0.663333</td>\n",
       "      <td>...</td>\n",
       "      <td>7.606667</td>\n",
       "      <td>7.903333</td>\n",
       "      <td>1.663333</td>\n",
       "      <td>1.473333</td>\n",
       "      <td>1.290000</td>\n",
       "      <td>1.520000</td>\n",
       "      <td>1.543333</td>\n",
       "      <td>1.613333</td>\n",
       "      <td>1.476667</td>\n",
       "      <td>1.603333</td>\n",
       "    </tr>\n",
       "    <tr>\n",
       "      <th>3</th>\n",
       "      <td>34.5560</td>\n",
       "      <td>69.4787</td>\n",
       "      <td>0.656667</td>\n",
       "      <td>0.653333</td>\n",
       "      <td>0.676667</td>\n",
       "      <td>0.620000</td>\n",
       "      <td>0.710000</td>\n",
       "      <td>0.673333</td>\n",
       "      <td>0.683333</td>\n",
       "      <td>0.626667</td>\n",
       "      <td>...</td>\n",
       "      <td>5.126667</td>\n",
       "      <td>5.426667</td>\n",
       "      <td>1.870000</td>\n",
       "      <td>1.380000</td>\n",
       "      <td>1.606667</td>\n",
       "      <td>1.260000</td>\n",
       "      <td>1.473333</td>\n",
       "      <td>1.873333</td>\n",
       "      <td>1.210000</td>\n",
       "      <td>1.516667</td>\n",
       "    </tr>\n",
       "    <tr>\n",
       "      <th>4</th>\n",
       "      <td>34.6410</td>\n",
       "      <td>69.7170</td>\n",
       "      <td>0.656667</td>\n",
       "      <td>0.653333</td>\n",
       "      <td>0.676667</td>\n",
       "      <td>0.620000</td>\n",
       "      <td>0.710000</td>\n",
       "      <td>0.673333</td>\n",
       "      <td>0.683333</td>\n",
       "      <td>0.626667</td>\n",
       "      <td>...</td>\n",
       "      <td>4.650000</td>\n",
       "      <td>4.740000</td>\n",
       "      <td>1.616667</td>\n",
       "      <td>1.020000</td>\n",
       "      <td>1.063333</td>\n",
       "      <td>0.743333</td>\n",
       "      <td>0.936667</td>\n",
       "      <td>1.336667</td>\n",
       "      <td>0.916667</td>\n",
       "      <td>0.923333</td>\n",
       "    </tr>\n",
       "    <tr>\n",
       "      <th>...</th>\n",
       "      <td>...</td>\n",
       "      <td>...</td>\n",
       "      <td>...</td>\n",
       "      <td>...</td>\n",
       "      <td>...</td>\n",
       "      <td>...</td>\n",
       "      <td>...</td>\n",
       "      <td>...</td>\n",
       "      <td>...</td>\n",
       "      <td>...</td>\n",
       "      <td>...</td>\n",
       "      <td>...</td>\n",
       "      <td>...</td>\n",
       "      <td>...</td>\n",
       "      <td>...</td>\n",
       "      <td>...</td>\n",
       "      <td>...</td>\n",
       "      <td>...</td>\n",
       "      <td>...</td>\n",
       "      <td>...</td>\n",
       "      <td>...</td>\n",
       "    </tr>\n",
       "    <tr>\n",
       "      <th>34931</th>\n",
       "      <td>-12.9667</td>\n",
       "      <td>28.6333</td>\n",
       "      <td>0.560000</td>\n",
       "      <td>0.573333</td>\n",
       "      <td>0.566667</td>\n",
       "      <td>0.546667</td>\n",
       "      <td>0.586667</td>\n",
       "      <td>0.533333</td>\n",
       "      <td>0.546667</td>\n",
       "      <td>0.553333</td>\n",
       "      <td>...</td>\n",
       "      <td>6.050000</td>\n",
       "      <td>5.556667</td>\n",
       "      <td>2.056667</td>\n",
       "      <td>2.323333</td>\n",
       "      <td>2.373333</td>\n",
       "      <td>2.510000</td>\n",
       "      <td>1.760000</td>\n",
       "      <td>2.160000</td>\n",
       "      <td>2.183333</td>\n",
       "      <td>1.750000</td>\n",
       "    </tr>\n",
       "    <tr>\n",
       "      <th>34932</th>\n",
       "      <td>-12.8167</td>\n",
       "      <td>28.2000</td>\n",
       "      <td>0.560000</td>\n",
       "      <td>0.573333</td>\n",
       "      <td>0.566667</td>\n",
       "      <td>0.546667</td>\n",
       "      <td>0.586667</td>\n",
       "      <td>0.533333</td>\n",
       "      <td>0.546667</td>\n",
       "      <td>0.553333</td>\n",
       "      <td>...</td>\n",
       "      <td>6.076667</td>\n",
       "      <td>5.696667</td>\n",
       "      <td>2.090000</td>\n",
       "      <td>2.503333</td>\n",
       "      <td>2.360000</td>\n",
       "      <td>2.596667</td>\n",
       "      <td>1.806667</td>\n",
       "      <td>2.246667</td>\n",
       "      <td>2.200000</td>\n",
       "      <td>1.790000</td>\n",
       "    </tr>\n",
       "    <tr>\n",
       "      <th>34933</th>\n",
       "      <td>-17.9167</td>\n",
       "      <td>25.8500</td>\n",
       "      <td>0.546667</td>\n",
       "      <td>0.563333</td>\n",
       "      <td>0.563333</td>\n",
       "      <td>0.603333</td>\n",
       "      <td>0.570000</td>\n",
       "      <td>0.540000</td>\n",
       "      <td>0.633333</td>\n",
       "      <td>0.603333</td>\n",
       "      <td>...</td>\n",
       "      <td>6.873333</td>\n",
       "      <td>7.233333</td>\n",
       "      <td>2.180000</td>\n",
       "      <td>2.910000</td>\n",
       "      <td>2.400000</td>\n",
       "      <td>3.120000</td>\n",
       "      <td>2.076667</td>\n",
       "      <td>2.496667</td>\n",
       "      <td>2.300000</td>\n",
       "      <td>2.903333</td>\n",
       "    </tr>\n",
       "    <tr>\n",
       "      <th>34934</th>\n",
       "      <td>-18.3835</td>\n",
       "      <td>26.4700</td>\n",
       "      <td>0.556667</td>\n",
       "      <td>0.573333</td>\n",
       "      <td>0.580000</td>\n",
       "      <td>0.616667</td>\n",
       "      <td>0.596667</td>\n",
       "      <td>0.566667</td>\n",
       "      <td>0.643333</td>\n",
       "      <td>0.630000</td>\n",
       "      <td>...</td>\n",
       "      <td>6.926667</td>\n",
       "      <td>7.060000</td>\n",
       "      <td>1.733333</td>\n",
       "      <td>2.503333</td>\n",
       "      <td>1.910000</td>\n",
       "      <td>2.536667</td>\n",
       "      <td>1.813333</td>\n",
       "      <td>2.380000</td>\n",
       "      <td>2.050000</td>\n",
       "      <td>2.243333</td>\n",
       "    </tr>\n",
       "    <tr>\n",
       "      <th>34935</th>\n",
       "      <td>-16.5222</td>\n",
       "      <td>28.7619</td>\n",
       "      <td>0.573333</td>\n",
       "      <td>0.586667</td>\n",
       "      <td>0.596667</td>\n",
       "      <td>0.606667</td>\n",
       "      <td>0.586667</td>\n",
       "      <td>0.546667</td>\n",
       "      <td>0.603333</td>\n",
       "      <td>0.616667</td>\n",
       "      <td>...</td>\n",
       "      <td>7.113333</td>\n",
       "      <td>7.460000</td>\n",
       "      <td>1.716667</td>\n",
       "      <td>1.603333</td>\n",
       "      <td>1.573333</td>\n",
       "      <td>2.180000</td>\n",
       "      <td>1.663333</td>\n",
       "      <td>1.646667</td>\n",
       "      <td>1.966667</td>\n",
       "      <td>1.750000</td>\n",
       "    </tr>\n",
       "  </tbody>\n",
       "</table>\n",
       "<p>34936 rows × 226 columns</p>\n",
       "</div>"
      ],
      "text/plain": [
       "       latitude  longitude  autumn_ALLSKY_KT_2012  autumn_ALLSKY_KT_2013  \\\n",
       "index                                                                      \n",
       "0       32.3220    65.1190               0.683333               0.703333   \n",
       "1       31.6700    65.7950               0.696667               0.713333   \n",
       "2       31.6230    65.7920               0.696667               0.713333   \n",
       "3       34.5560    69.4787               0.656667               0.653333   \n",
       "4       34.6410    69.7170               0.656667               0.653333   \n",
       "...         ...        ...                    ...                    ...   \n",
       "34931  -12.9667    28.6333               0.560000               0.573333   \n",
       "34932  -12.8167    28.2000               0.560000               0.573333   \n",
       "34933  -17.9167    25.8500               0.546667               0.563333   \n",
       "34934  -18.3835    26.4700               0.556667               0.573333   \n",
       "34935  -16.5222    28.7619               0.573333               0.586667   \n",
       "\n",
       "       autumn_ALLSKY_KT_2014  autumn_ALLSKY_KT_2015  autumn_ALLSKY_KT_2016  \\\n",
       "index                                                                        \n",
       "0                   0.703333               0.656667               0.720000   \n",
       "1                   0.720000               0.676667               0.726667   \n",
       "2                   0.720000               0.676667               0.726667   \n",
       "3                   0.676667               0.620000               0.710000   \n",
       "4                   0.676667               0.620000               0.710000   \n",
       "...                      ...                    ...                    ...   \n",
       "34931               0.566667               0.546667               0.586667   \n",
       "34932               0.566667               0.546667               0.586667   \n",
       "34933               0.563333               0.603333               0.570000   \n",
       "34934               0.580000               0.616667               0.596667   \n",
       "34935               0.596667               0.606667               0.586667   \n",
       "\n",
       "       autumn_ALLSKY_KT_2017  autumn_ALLSKY_KT_2018  autumn_ALLSKY_KT_2019  \\\n",
       "index                                                                        \n",
       "0                   0.710000               0.720000               0.660000   \n",
       "1                   0.723333               0.726667               0.663333   \n",
       "2                   0.723333               0.726667               0.663333   \n",
       "3                   0.673333               0.683333               0.626667   \n",
       "4                   0.673333               0.683333               0.626667   \n",
       "...                      ...                    ...                    ...   \n",
       "34931               0.533333               0.546667               0.553333   \n",
       "34932               0.533333               0.546667               0.553333   \n",
       "34933               0.540000               0.633333               0.603333   \n",
       "34934               0.566667               0.643333               0.630000   \n",
       "34935               0.546667               0.603333               0.616667   \n",
       "\n",
       "       ...  winter_WS50M_MAX_AVG_2018  winter_WS50M_MAX_AVG_2019  \\\n",
       "index  ...                                                         \n",
       "0      ...                   6.966667                   6.850000   \n",
       "1      ...                   7.606667                   7.903333   \n",
       "2      ...                   7.606667                   7.903333   \n",
       "3      ...                   5.126667                   5.426667   \n",
       "4      ...                   4.650000                   4.740000   \n",
       "...    ...                        ...                        ...   \n",
       "34931  ...                   6.050000                   5.556667   \n",
       "34932  ...                   6.076667                   5.696667   \n",
       "34933  ...                   6.873333                   7.233333   \n",
       "34934  ...                   6.926667                   7.060000   \n",
       "34935  ...                   7.113333                   7.460000   \n",
       "\n",
       "       winter_WS50M_MIN_AVG_2012  winter_WS50M_MIN_AVG_2013  \\\n",
       "index                                                         \n",
       "0                       1.283333                   1.003333   \n",
       "1                       1.663333                   1.473333   \n",
       "2                       1.663333                   1.473333   \n",
       "3                       1.870000                   1.380000   \n",
       "4                       1.616667                   1.020000   \n",
       "...                          ...                        ...   \n",
       "34931                   2.056667                   2.323333   \n",
       "34932                   2.090000                   2.503333   \n",
       "34933                   2.180000                   2.910000   \n",
       "34934                   1.733333                   2.503333   \n",
       "34935                   1.716667                   1.603333   \n",
       "\n",
       "       winter_WS50M_MIN_AVG_2014  winter_WS50M_MIN_AVG_2015  \\\n",
       "index                                                         \n",
       "0                       1.023333                   1.006667   \n",
       "1                       1.290000                   1.520000   \n",
       "2                       1.290000                   1.520000   \n",
       "3                       1.606667                   1.260000   \n",
       "4                       1.063333                   0.743333   \n",
       "...                          ...                        ...   \n",
       "34931                   2.373333                   2.510000   \n",
       "34932                   2.360000                   2.596667   \n",
       "34933                   2.400000                   3.120000   \n",
       "34934                   1.910000                   2.536667   \n",
       "34935                   1.573333                   2.180000   \n",
       "\n",
       "       winter_WS50M_MIN_AVG_2016  winter_WS50M_MIN_AVG_2017  \\\n",
       "index                                                         \n",
       "0                       0.950000                   1.320000   \n",
       "1                       1.543333                   1.613333   \n",
       "2                       1.543333                   1.613333   \n",
       "3                       1.473333                   1.873333   \n",
       "4                       0.936667                   1.336667   \n",
       "...                          ...                        ...   \n",
       "34931                   1.760000                   2.160000   \n",
       "34932                   1.806667                   2.246667   \n",
       "34933                   2.076667                   2.496667   \n",
       "34934                   1.813333                   2.380000   \n",
       "34935                   1.663333                   1.646667   \n",
       "\n",
       "       winter_WS50M_MIN_AVG_2018  winter_WS50M_MIN_AVG_2019  \n",
       "index                                                        \n",
       "0                       1.176667                   1.176667  \n",
       "1                       1.476667                   1.603333  \n",
       "2                       1.476667                   1.603333  \n",
       "3                       1.210000                   1.516667  \n",
       "4                       0.916667                   0.923333  \n",
       "...                          ...                        ...  \n",
       "34931                   2.183333                   1.750000  \n",
       "34932                   2.200000                   1.790000  \n",
       "34933                   2.300000                   2.903333  \n",
       "34934                   2.050000                   2.243333  \n",
       "34935                   1.966667                   1.750000  \n",
       "\n",
       "[34936 rows x 226 columns]"
      ]
     },
     "execution_count": 34,
     "metadata": {},
     "output_type": "execute_result"
    }
   ],
   "source": [
    "df_transformed.loc[:,~df_transformed.columns.str.contains('ANN')]\n",
    "# df_transformed.columns.str.contains('ANN')"
   ]
  },
  {
   "cell_type": "code",
   "execution_count": 5,
   "metadata": {},
   "outputs": [],
   "source": [
    "df_transformed = df_transformed_2"
   ]
  },
  {
   "cell_type": "code",
   "execution_count": 6,
   "metadata": {},
   "outputs": [],
   "source": [
    "csv_power_plants = pd.read_csv(utils.DIR_DATA_INTERIM/\"power_plants_with_generation_transformed.csv\", index_col=[0])\n",
    "# df_transformed = pd.read_csv(utils.DIR_DATA_EXTERNAL/\"v7_transformed_data_combined_with_nasa.csv\", index_col=['index'])\n",
    "csv_power_plants.index.rename('index', inplace=True)\n",
    "df_power_plants_raw = pd.read_csv(utils.DIR_DATA_RAW/\"global_power_plant_database.csv\", usecols=['name','primary_fuel', 'other_fuel1', 'other_fuel2', 'other_fuel3'], engine='python')\n",
    "csv_power_plants = csv_power_plants.join(df_power_plants_raw)"
   ]
  },
  {
   "cell_type": "code",
   "execution_count": 7,
   "metadata": {},
   "outputs": [
    {
     "data": {
      "text/plain": [
       "<AxesSubplot:>"
      ]
     },
     "execution_count": 7,
     "metadata": {},
     "output_type": "execute_result"
    },
    {
     "data": {
      "image/png": "[encoded data removed]",
      "text/plain": [
       "<Figure size 432x288 with 1 Axes>"
      ]
     },
     "metadata": {
      "needs_background": "light"
     },
     "output_type": "display_data"
    }
   ],
   "source": [
    "csv_power_plants['primary_fuel'].value_counts().plot.bar()"
   ]
  },
  {
   "cell_type": "code",
   "execution_count": 32,
   "metadata": {},
   "outputs": [],
   "source": [
    "\n",
    "# index_set_to_delete = csv_power_plants[~csv_power_plants['primary_fuel'].isin(['Solar', 'Wind', 'Gas', 'Coal', 'Oil', 'Nuclear'])].index.tolist()\n",
    "index_set_to_delete = csv_power_plants[csv_power_plants['other_fuel1'].isin(['Solar', 'Wind'])].index.tolist()\n",
    "index_set_to_delete += (csv_power_plants[csv_power_plants['other_fuel2'].isin(['Solar', 'Wind'])].index.tolist())\n",
    "index_set_to_delete += (csv_power_plants[csv_power_plants['other_fuel3'].isin(['Solar', 'Wind'])].index.tolist())\n",
    "\n",
    "csv_power_plants.drop(index_set_to_delete, inplace = True)\n",
    "\n",
    "# csv_power_plants.filter(like='other_fuel').columns\n",
    "\n",
    "# csv_power_plants[csv_power_plants['other_fuel1'].isin(['Solar', 'Wind'])]\n",
    "# csv_power_plants[csv_power_plants['other_fuel2'].isin(['Solar', 'Wind'])]\n",
    "# csv_power_plants[csv_power_plants['other_fuel3'].isin(['Solar', 'Wind'])]"
   ]
  },
  {
   "cell_type": "code",
   "execution_count": 8,
   "metadata": {},
   "outputs": [],
   "source": [
    "columns_to_combine = [\n",
    "                        'name',\n",
    "                        'capacity_mw',\n",
    "                        'primary_fuel_transformed',\n",
    "                        # 'other_fuel1',\n",
    "                        # 'other_fuel2',\n",
    "                        # 'other_fuel3',\n",
    "                        'generation_gwh_2013',\n",
    "                        'generation_gwh_2014',\n",
    "                        'generation_gwh_2015',\n",
    "                        'generation_gwh_2016',\n",
    "                        'generation_gwh_2017',\n",
    "                        'generation_gwh_2018',\n",
    "                        'generation_gwh_2019'\n",
    "                    ]\n",
    "# df_transformed_combined = df_transformed.merge(csv_power_plants.loc[0:28260, [columns_to_combine]],left_on=\"index\", right_on=\"index\")\n",
    "df_transformed_combined = df_transformed.merge(csv_power_plants[columns_to_combine],left_on=\"index\", right_on=\"index\")"
   ]
  },
  {
   "cell_type": "code",
   "execution_count": 9,
   "metadata": {},
   "outputs": [],
   "source": [
    "columns_delete = df_transformed_combined.columns.str.contains('mean')\n",
    "\n",
    "df_transformed_combined = df_transformed_combined.loc[:,~columns_delete]"
   ]
  },
  {
   "cell_type": "code",
   "execution_count": 10,
   "metadata": {},
   "outputs": [
    {
     "name": "stdout",
     "output_type": "stream",
     "text": [
      "primary_fuel_transformed\n",
      "Other                       18917\n",
      "Solar                       10665\n",
      "Wind                         5344\n",
      "dtype: int64\n"
     ]
    },
    {
     "data": {
      "text/plain": [
       "<AxesSubplot:xlabel='primary_fuel_transformed'>"
      ]
     },
     "execution_count": 10,
     "metadata": {},
     "output_type": "execute_result"
    },
    {
     "data": {
      "image/png": "[encoded data removed]",
      "text/plain": [
       "<Figure size 432x288 with 1 Axes>"
      ]
     },
     "metadata": {
      "needs_background": "light"
     },
     "output_type": "display_data"
    }
   ],
   "source": [
    "print(df_transformed_combined[['primary_fuel_transformed']].value_counts())\n",
    "df_transformed_combined[['primary_fuel_transformed']].value_counts().plot.bar()"
   ]
  },
  {
   "cell_type": "code",
   "execution_count": 11,
   "metadata": {},
   "outputs": [],
   "source": [
    "df_transformed_combined = df_transformed_combined[~(df_transformed_combined['name'].str.contains('CSP') & df_transformed_combined['primary_fuel_transformed'])]"
   ]
  },
  {
   "cell_type": "code",
   "execution_count": 12,
   "metadata": {},
   "outputs": [
    {
     "name": "stdout",
     "output_type": "stream",
     "text": [
      "primary_fuel_transformed\n",
      "Other                       18917\n",
      "Solar                       10650\n",
      "Wind                         5344\n",
      "dtype: int64\n"
     ]
    },
    {
     "data": {
      "text/plain": [
       "<AxesSubplot:xlabel='primary_fuel_transformed'>"
      ]
     },
     "execution_count": 12,
     "metadata": {},
     "output_type": "execute_result"
    },
    {
     "data": {
      "image/png": "[encoded data removed]",
      "text/plain": [
       "<Figure size 432x288 with 1 Axes>"
      ]
     },
     "metadata": {
      "needs_background": "light"
     },
     "output_type": "display_data"
    }
   ],
   "source": [
    "print(df_transformed_combined[['primary_fuel_transformed']].value_counts())\n",
    "df_transformed_combined[['primary_fuel_transformed']].value_counts().plot.bar()"
   ]
  },
  {
   "cell_type": "code",
   "execution_count": 13,
   "metadata": {},
   "outputs": [
    {
     "data": {
      "text/html": [
       "<div>\n",
       "<style scoped>\n",
       "    .dataframe tbody tr th:only-of-type {\n",
       "        vertical-align: middle;\n",
       "    }\n",
       "\n",
       "    .dataframe tbody tr th {\n",
       "        vertical-align: top;\n",
       "    }\n",
       "\n",
       "    .dataframe thead th {\n",
       "        text-align: right;\n",
       "    }\n",
       "</style>\n",
       "<table border=\"1\" class=\"dataframe\">\n",
       "  <thead>\n",
       "    <tr style=\"text-align: right;\">\n",
       "      <th></th>\n",
       "      <th>latitude</th>\n",
       "      <th>longitude</th>\n",
       "      <th>ANN_ALLSKY_KT_2012</th>\n",
       "      <th>ANN_ALLSKY_KT_2013</th>\n",
       "      <th>ANN_ALLSKY_KT_2014</th>\n",
       "      <th>ANN_ALLSKY_KT_2015</th>\n",
       "      <th>ANN_ALLSKY_KT_2016</th>\n",
       "      <th>ANN_ALLSKY_KT_2017</th>\n",
       "      <th>ANN_ALLSKY_KT_2018</th>\n",
       "      <th>ANN_ALLSKY_KT_2019</th>\n",
       "      <th>...</th>\n",
       "      <th>winter_WS50M_MIN_AVG_2018</th>\n",
       "      <th>winter_WS50M_MIN_AVG_2019</th>\n",
       "      <th>capacity_mw</th>\n",
       "      <th>generation_gwh_2013</th>\n",
       "      <th>generation_gwh_2014</th>\n",
       "      <th>generation_gwh_2015</th>\n",
       "      <th>generation_gwh_2016</th>\n",
       "      <th>generation_gwh_2017</th>\n",
       "      <th>generation_gwh_2018</th>\n",
       "      <th>generation_gwh_2019</th>\n",
       "    </tr>\n",
       "  </thead>\n",
       "  <tbody>\n",
       "    <tr>\n",
       "      <th>count</th>\n",
       "      <td>34921.000000</td>\n",
       "      <td>34921.000000</td>\n",
       "      <td>34921.000000</td>\n",
       "      <td>34921.000000</td>\n",
       "      <td>34921.000000</td>\n",
       "      <td>34921.000000</td>\n",
       "      <td>34921.000000</td>\n",
       "      <td>34921.000000</td>\n",
       "      <td>34921.000000</td>\n",
       "      <td>34921.000000</td>\n",
       "      <td>...</td>\n",
       "      <td>34921.000000</td>\n",
       "      <td>34921.000000</td>\n",
       "      <td>34921.000000</td>\n",
       "      <td>6416.000000</td>\n",
       "      <td>7225.000000</td>\n",
       "      <td>8202.000000</td>\n",
       "      <td>9143.000000</td>\n",
       "      <td>9499.000000</td>\n",
       "      <td>9636.000000</td>\n",
       "      <td>9657.000000</td>\n",
       "    </tr>\n",
       "    <tr>\n",
       "      <th>mean</th>\n",
       "      <td>32.823123</td>\n",
       "      <td>-6.981838</td>\n",
       "      <td>0.529647</td>\n",
       "      <td>0.524187</td>\n",
       "      <td>0.525905</td>\n",
       "      <td>0.527735</td>\n",
       "      <td>0.529278</td>\n",
       "      <td>0.528846</td>\n",
       "      <td>0.529643</td>\n",
       "      <td>0.531196</td>\n",
       "      <td>...</td>\n",
       "      <td>2.901070</td>\n",
       "      <td>2.996288</td>\n",
       "      <td>163.368215</td>\n",
       "      <td>592.787824</td>\n",
       "      <td>656.954221</td>\n",
       "      <td>762.461277</td>\n",
       "      <td>693.225105</td>\n",
       "      <td>661.903398</td>\n",
       "      <td>517.374051</td>\n",
       "      <td>424.009683</td>\n",
       "    </tr>\n",
       "    <tr>\n",
       "      <th>std</th>\n",
       "      <td>22.634084</td>\n",
       "      <td>78.406172</td>\n",
       "      <td>0.076872</td>\n",
       "      <td>0.073756</td>\n",
       "      <td>0.072620</td>\n",
       "      <td>0.068741</td>\n",
       "      <td>0.072345</td>\n",
       "      <td>0.073356</td>\n",
       "      <td>0.065098</td>\n",
       "      <td>0.068246</td>\n",
       "      <td>...</td>\n",
       "      <td>1.277081</td>\n",
       "      <td>1.346503</td>\n",
       "      <td>489.714777</td>\n",
       "      <td>2174.990576</td>\n",
       "      <td>2231.605519</td>\n",
       "      <td>2533.600450</td>\n",
       "      <td>2404.637471</td>\n",
       "      <td>2369.412069</td>\n",
       "      <td>1975.398268</td>\n",
       "      <td>1698.671556</td>\n",
       "    </tr>\n",
       "    <tr>\n",
       "      <th>min</th>\n",
       "      <td>-77.847000</td>\n",
       "      <td>-179.977700</td>\n",
       "      <td>0.300000</td>\n",
       "      <td>0.340000</td>\n",
       "      <td>0.300000</td>\n",
       "      <td>0.310000</td>\n",
       "      <td>0.340000</td>\n",
       "      <td>0.340000</td>\n",
       "      <td>0.340000</td>\n",
       "      <td>0.330000</td>\n",
       "      <td>...</td>\n",
       "      <td>0.340000</td>\n",
       "      <td>0.283333</td>\n",
       "      <td>1.000000</td>\n",
       "      <td>-947.600000</td>\n",
       "      <td>-989.619000</td>\n",
       "      <td>-864.428000</td>\n",
       "      <td>-768.620000</td>\n",
       "      <td>-934.944000</td>\n",
       "      <td>-982.622000</td>\n",
       "      <td>-780.339000</td>\n",
       "    </tr>\n",
       "    <tr>\n",
       "      <th>25%</th>\n",
       "      <td>29.260000</td>\n",
       "      <td>-77.642600</td>\n",
       "      <td>0.480000</td>\n",
       "      <td>0.470000</td>\n",
       "      <td>0.480000</td>\n",
       "      <td>0.480000</td>\n",
       "      <td>0.470000</td>\n",
       "      <td>0.480000</td>\n",
       "      <td>0.480000</td>\n",
       "      <td>0.480000</td>\n",
       "      <td>...</td>\n",
       "      <td>1.923333</td>\n",
       "      <td>1.973333</td>\n",
       "      <td>4.900000</td>\n",
       "      <td>1.945000</td>\n",
       "      <td>2.260000</td>\n",
       "      <td>2.664250</td>\n",
       "      <td>2.729000</td>\n",
       "      <td>2.465000</td>\n",
       "      <td>2.242000</td>\n",
       "      <td>2.758000</td>\n",
       "    </tr>\n",
       "    <tr>\n",
       "      <th>50%</th>\n",
       "      <td>39.734000</td>\n",
       "      <td>-2.127000</td>\n",
       "      <td>0.530000</td>\n",
       "      <td>0.520000</td>\n",
       "      <td>0.520000</td>\n",
       "      <td>0.520000</td>\n",
       "      <td>0.530000</td>\n",
       "      <td>0.520000</td>\n",
       "      <td>0.520000</td>\n",
       "      <td>0.520000</td>\n",
       "      <td>...</td>\n",
       "      <td>2.793333</td>\n",
       "      <td>2.773333</td>\n",
       "      <td>16.700000</td>\n",
       "      <td>23.439000</td>\n",
       "      <td>23.668000</td>\n",
       "      <td>26.193000</td>\n",
       "      <td>22.462778</td>\n",
       "      <td>17.877000</td>\n",
       "      <td>12.530500</td>\n",
       "      <td>11.536000</td>\n",
       "    </tr>\n",
       "    <tr>\n",
       "      <th>75%</th>\n",
       "      <td>46.265900</td>\n",
       "      <td>49.470000</td>\n",
       "      <td>0.580000</td>\n",
       "      <td>0.570000</td>\n",
       "      <td>0.570000</td>\n",
       "      <td>0.570000</td>\n",
       "      <td>0.580000</td>\n",
       "      <td>0.580000</td>\n",
       "      <td>0.570000</td>\n",
       "      <td>0.580000</td>\n",
       "      <td>...</td>\n",
       "      <td>3.756667</td>\n",
       "      <td>3.960000</td>\n",
       "      <td>75.200000</td>\n",
       "      <td>199.779500</td>\n",
       "      <td>226.366000</td>\n",
       "      <td>285.901792</td>\n",
       "      <td>249.922500</td>\n",
       "      <td>214.528100</td>\n",
       "      <td>151.184000</td>\n",
       "      <td>122.795000</td>\n",
       "    </tr>\n",
       "    <tr>\n",
       "      <th>max</th>\n",
       "      <td>71.292000</td>\n",
       "      <td>179.388700</td>\n",
       "      <td>0.800000</td>\n",
       "      <td>0.800000</td>\n",
       "      <td>0.800000</td>\n",
       "      <td>0.780000</td>\n",
       "      <td>0.790000</td>\n",
       "      <td>0.780000</td>\n",
       "      <td>0.780000</td>\n",
       "      <td>0.780000</td>\n",
       "      <td>...</td>\n",
       "      <td>8.776667</td>\n",
       "      <td>8.590000</td>\n",
       "      <td>22500.000000</td>\n",
       "      <td>50834.000000</td>\n",
       "      <td>32320.917000</td>\n",
       "      <td>37433.607000</td>\n",
       "      <td>32377.477000</td>\n",
       "      <td>36448.643000</td>\n",
       "      <td>35136.000000</td>\n",
       "      <td>31920.368000</td>\n",
       "    </tr>\n",
       "  </tbody>\n",
       "</table>\n",
       "<p>8 rows × 290 columns</p>\n",
       "</div>"
      ],
      "text/plain": [
       "           latitude     longitude  ANN_ALLSKY_KT_2012  ANN_ALLSKY_KT_2013  \\\n",
       "count  34921.000000  34921.000000        34921.000000        34921.000000   \n",
       "mean      32.823123     -6.981838            0.529647            0.524187   \n",
       "std       22.634084     78.406172            0.076872            0.073756   \n",
       "min      -77.847000   -179.977700            0.300000            0.340000   \n",
       "25%       29.260000    -77.642600            0.480000            0.470000   \n",
       "50%       39.734000     -2.127000            0.530000            0.520000   \n",
       "75%       46.265900     49.470000            0.580000            0.570000   \n",
       "max       71.292000    179.388700            0.800000            0.800000   \n",
       "\n",
       "       ANN_ALLSKY_KT_2014  ANN_ALLSKY_KT_2015  ANN_ALLSKY_KT_2016  \\\n",
       "count        34921.000000        34921.000000        34921.000000   \n",
       "mean             0.525905            0.527735            0.529278   \n",
       "std              0.072620            0.068741            0.072345   \n",
       "min              0.300000            0.310000            0.340000   \n",
       "25%              0.480000            0.480000            0.470000   \n",
       "50%              0.520000            0.520000            0.530000   \n",
       "75%              0.570000            0.570000            0.580000   \n",
       "max              0.800000            0.780000            0.790000   \n",
       "\n",
       "       ANN_ALLSKY_KT_2017  ANN_ALLSKY_KT_2018  ANN_ALLSKY_KT_2019  ...  \\\n",
       "count        34921.000000        34921.000000        34921.000000  ...   \n",
       "mean             0.528846            0.529643            0.531196  ...   \n",
       "std              0.073356            0.065098            0.068246  ...   \n",
       "min              0.340000            0.340000            0.330000  ...   \n",
       "25%              0.480000            0.480000            0.480000  ...   \n",
       "50%              0.520000            0.520000            0.520000  ...   \n",
       "75%              0.580000            0.570000            0.580000  ...   \n",
       "max              0.780000            0.780000            0.780000  ...   \n",
       "\n",
       "       winter_WS50M_MIN_AVG_2018  winter_WS50M_MIN_AVG_2019   capacity_mw  \\\n",
       "count               34921.000000               34921.000000  34921.000000   \n",
       "mean                    2.901070                   2.996288    163.368215   \n",
       "std                     1.277081                   1.346503    489.714777   \n",
       "min                     0.340000                   0.283333      1.000000   \n",
       "25%                     1.923333                   1.973333      4.900000   \n",
       "50%                     2.793333                   2.773333     16.700000   \n",
       "75%                     3.756667                   3.960000     75.200000   \n",
       "max                     8.776667                   8.590000  22500.000000   \n",
       "\n",
       "       generation_gwh_2013  generation_gwh_2014  generation_gwh_2015  \\\n",
       "count          6416.000000          7225.000000          8202.000000   \n",
       "mean            592.787824           656.954221           762.461277   \n",
       "std            2174.990576          2231.605519          2533.600450   \n",
       "min            -947.600000          -989.619000          -864.428000   \n",
       "25%               1.945000             2.260000             2.664250   \n",
       "50%              23.439000            23.668000            26.193000   \n",
       "75%             199.779500           226.366000           285.901792   \n",
       "max           50834.000000         32320.917000         37433.607000   \n",
       "\n",
       "       generation_gwh_2016  generation_gwh_2017  generation_gwh_2018  \\\n",
       "count          9143.000000          9499.000000          9636.000000   \n",
       "mean            693.225105           661.903398           517.374051   \n",
       "std            2404.637471          2369.412069          1975.398268   \n",
       "min            -768.620000          -934.944000          -982.622000   \n",
       "25%               2.729000             2.465000             2.242000   \n",
       "50%              22.462778            17.877000            12.530500   \n",
       "75%             249.922500           214.528100           151.184000   \n",
       "max           32377.477000         36448.643000         35136.000000   \n",
       "\n",
       "       generation_gwh_2019  \n",
       "count          9657.000000  \n",
       "mean            424.009683  \n",
       "std            1698.671556  \n",
       "min            -780.339000  \n",
       "25%               2.758000  \n",
       "50%              11.536000  \n",
       "75%             122.795000  \n",
       "max           31920.368000  \n",
       "\n",
       "[8 rows x 290 columns]"
      ]
     },
     "execution_count": 13,
     "metadata": {},
     "output_type": "execute_result"
    }
   ],
   "source": [
    "df_transformed_combined.describe()"
   ]
  },
  {
   "cell_type": "code",
   "execution_count": 14,
   "metadata": {},
   "outputs": [],
   "source": [
    "# df_transformed_combined = df_transformed_combined.loc[df_transformed_combined['generation_gwh_2013'].notna() & df_transformed_combined['generation_gwh_2014'].notna() & df_transformed_combined['generation_gwh_2015'].notna() & df_transformed_combined['generation_gwh_2016'].notna() & df_transformed_combined['generation_gwh_2017'].notna() & df_transformed_combined['generation_gwh_2018'].notna() & df_transformed_combined['generation_gwh_2019'].notna()]"
   ]
  },
  {
   "cell_type": "code",
   "execution_count": 15,
   "metadata": {},
   "outputs": [
    {
     "name": "stdout",
     "output_type": "stream",
     "text": [
      "primary_fuel_transformed\n",
      "Other                       18917\n",
      "Solar                       10650\n",
      "Wind                         5344\n",
      "dtype: int64\n"
     ]
    },
    {
     "data": {
      "text/plain": [
       "<AxesSubplot:xlabel='primary_fuel_transformed'>"
      ]
     },
     "execution_count": 15,
     "metadata": {},
     "output_type": "execute_result"
    },
    {
     "data": {
      "image/png": "[encoded data removed]",
      "text/plain": [
       "<Figure size 432x288 with 1 Axes>"
      ]
     },
     "metadata": {
      "needs_background": "light"
     },
     "output_type": "display_data"
    }
   ],
   "source": [
    "print(df_transformed_combined[['primary_fuel_transformed']].value_counts())\n",
    "df_transformed_combined[['primary_fuel_transformed']].value_counts().plot.bar()"
   ]
  },
  {
   "cell_type": "code",
   "execution_count": 16,
   "metadata": {},
   "outputs": [],
   "source": [
    "label_encoder = LabelEncoder()\n",
    "# df_transformed_combined.isna().sum()\n",
    "# df_transformed_combined[df_transformed_combined.isna().any(axis=1)]\n",
    "# df_transformed_combined.dropna(inplace = True)\n",
    "df_transformed_combined = df_transformed_combined[df_transformed_combined['primary_fuel_transformed'].notna()]\n",
    "df_transformed_combined['code_prim_fuel_transf'] = label_encoder.fit_transform(df_transformed_combined['primary_fuel_transformed'])\n"
   ]
  },
  {
   "cell_type": "code",
   "execution_count": 17,
   "metadata": {},
   "outputs": [],
   "source": [
    "df_target_equivalent = df_transformed_combined[['primary_fuel_transformed', 'code_prim_fuel_transf']].drop_duplicates()\n",
    "df_target_equivalent = df_target_equivalent.set_index('code_prim_fuel_transf').sort_index().reset_index().drop(columns=['code_prim_fuel_transf'])\n",
    "list_target_in_order = df_target_equivalent.squeeze().to_list()"
   ]
  },
  {
   "cell_type": "markdown",
   "metadata": {},
   "source": [
    "# REMOVING OUTLIERS"
   ]
  },
  {
   "cell_type": "code",
   "execution_count": 47,
   "metadata": {},
   "outputs": [],
   "source": [
    "\n",
    "# columns_not_consider_outliers = [\n",
    "#                                     'name',\n",
    "#                                     'capacity_mw',\n",
    "#                                     'latitude',\n",
    "#                                     'longitude',\n",
    "#                                     'primary_fuel_transformed',\n",
    "#                                     'code_prim_fuel_transf',\n",
    "#                                     'generation_gwh_2013',\n",
    "#                                     'generation_gwh_2014',\n",
    "#                                     'generation_gwh_2015',\n",
    "#                                     'generation_gwh_2016',\n",
    "#                                     'generation_gwh_2017',\n",
    "#                                     'generation_gwh_2018',\n",
    "#                                     'generation_gwh_2019'\n",
    "#                                 ]\n",
    "# # X = X.loc[:,~columns_delete]                        \n",
    "# df_transformed_combined_remove_outliers = df_transformed_combined.drop(columns = columns_not_consider_outliers)"
   ]
  },
  {
   "cell_type": "code",
   "execution_count": 48,
   "metadata": {},
   "outputs": [],
   "source": [
    "# iso = IsolationForest(contamination=0.1)\n",
    "# yhat = iso.fit_predict(df_transformed_combined_remove_outliers)"
   ]
  },
  {
   "cell_type": "code",
   "execution_count": 49,
   "metadata": {},
   "outputs": [],
   "source": [
    "# # # select all rows that are outliers\n",
    "# mask = yhat == -1\n",
    "# index_outliers = df_transformed_combined[mask].index"
   ]
  },
  {
   "cell_type": "code",
   "execution_count": 50,
   "metadata": {},
   "outputs": [],
   "source": [
    "# # WITH OUTLIERS\n",
    "# print(df_transformed_combined[['primary_fuel_transformed']].value_counts())\n",
    "# df_transformed_combined[['primary_fuel_transformed']].value_counts().plot.bar()"
   ]
  },
  {
   "cell_type": "code",
   "execution_count": 51,
   "metadata": {},
   "outputs": [],
   "source": [
    "# # WITHOUT OUTLIERS\n",
    "# df_transformed_combined.drop(index_outliers, axis=0, inplace =True)\n",
    "\n",
    "# print(df_transformed_combined[['primary_fuel_transformed']].value_counts())\n",
    "# df_transformed_combined[['primary_fuel_transformed']].value_counts().plot.bar()"
   ]
  },
  {
   "cell_type": "markdown",
   "metadata": {},
   "source": [
    "# BALANCING THE DATA"
   ]
  },
  {
   "cell_type": "code",
   "execution_count": 52,
   "metadata": {},
   "outputs": [],
   "source": [
    "utils.balancing_data_more_than_1000(df_transformed_combined, 'primary_fuel_transformed')"
   ]
  },
  {
   "cell_type": "code",
   "execution_count": 53,
   "metadata": {},
   "outputs": [
    {
     "data": {
      "text/plain": [
       "<AxesSubplot:xlabel='primary_fuel_transformed'>"
      ]
     },
     "execution_count": 53,
     "metadata": {},
     "output_type": "execute_result"
    },
    {
     "data": {
      "image/png": "[encoded data removed]",
      "text/plain": [
       "<Figure size 432x288 with 1 Axes>"
      ]
     },
     "metadata": {
      "needs_background": "light"
     },
     "output_type": "display_data"
    }
   ],
   "source": [
    "df_transformed_combined[['primary_fuel_transformed']].value_counts().plot.bar()"
   ]
  },
  {
   "cell_type": "code",
   "execution_count": 54,
   "metadata": {},
   "outputs": [
    {
     "data": {
      "text/plain": [
       "latitude                             0\n",
       "longitude                            0\n",
       "ANN_CLRSKY_SFC_SW_DNI_2009           0\n",
       "ANN_CLRSKY_SFC_SW_DNI_2010           0\n",
       "ANN_TQV_2009                         0\n",
       "ANN_TQV_2010                         0\n",
       "ANN_WS10M_2009                       0\n",
       "ANN_WS10M_2010                       0\n",
       "autumn_CLRSKY_SFC_SW_DNI_2009        0\n",
       "autumn_CLRSKY_SFC_SW_DNI_2010        0\n",
       "autumn_TQV_2009                      0\n",
       "autumn_TQV_2010                      0\n",
       "autumn_WS10M_2009                    0\n",
       "autumn_WS10M_2010                    0\n",
       "spring_CLRSKY_SFC_SW_DNI_2009        0\n",
       "spring_CLRSKY_SFC_SW_DNI_2010        0\n",
       "spring_TQV_2009                      0\n",
       "spring_TQV_2010                      0\n",
       "spring_WS10M_2009                    0\n",
       "spring_WS10M_2010                    0\n",
       "summer_CLRSKY_SFC_SW_DNI_2009        0\n",
       "summer_CLRSKY_SFC_SW_DNI_2010        0\n",
       "summer_TQV_2009                      0\n",
       "summer_TQV_2010                      0\n",
       "summer_WS10M_2009                    0\n",
       "summer_WS10M_2010                    0\n",
       "winter_CLRSKY_SFC_SW_DNI_2009        0\n",
       "winter_CLRSKY_SFC_SW_DNI_2010        0\n",
       "winter_TQV_2009                      0\n",
       "winter_TQV_2010                      0\n",
       "winter_WS10M_2009                    0\n",
       "winter_WS10M_2010                    0\n",
       "name                                 0\n",
       "capacity_mw                          0\n",
       "primary_fuel_transformed             0\n",
       "generation_gwh_2013              13513\n",
       "generation_gwh_2014              13201\n",
       "generation_gwh_2015              12806\n",
       "generation_gwh_2016              12328\n",
       "generation_gwh_2017              12093\n",
       "generation_gwh_2018              11939\n",
       "generation_gwh_2019              11780\n",
       "code_prim_fuel_transf                0\n",
       "dtype: int64"
      ]
     },
     "execution_count": 54,
     "metadata": {},
     "output_type": "execute_result"
    }
   ],
   "source": [
    "df_transformed_combined.isna().sum()"
   ]
  },
  {
   "cell_type": "code",
   "execution_count": 55,
   "metadata": {},
   "outputs": [],
   "source": [
    "# index_to_drop = df_transformed_combined[df_transformed_combined['primary_fuel_transformed'] == 'Wind'].index\n",
    "# df_transformed_combined.drop(index_to_drop, inplace=True)\n",
    "# X = X.loc[:,~columns_delete]"
   ]
  },
  {
   "cell_type": "code",
   "execution_count": 18,
   "metadata": {},
   "outputs": [],
   "source": [
    "# df_transformed_combined.isna().sum()\n",
    "# df_transformed_combined[df_transformed_combined.isna().any(axis=1)]\n",
    "# df_transformed_combined.dropna(inplace = True)\n",
    "columns_to_drop = [\n",
    "                        'name',\n",
    "                        'capacity_mw',\n",
    "                        'latitude',\n",
    "                        'longitude',\n",
    "                        'primary_fuel_transformed',\n",
    "                        'generation_gwh_2013',\n",
    "                        'generation_gwh_2014',\n",
    "                        'generation_gwh_2015',\n",
    "                        'generation_gwh_2016',\n",
    "                        'generation_gwh_2017',\n",
    "                        'generation_gwh_2018',\n",
    "                        'generation_gwh_2019'\n",
    "                    ]\n",
    "df_transformed_combined.drop(columns=columns_to_drop, inplace = True)\n",
    "# pre_X.dropna(inplace = True)\n",
    "X = df_transformed_combined.drop(columns=['code_prim_fuel_transf'])\n",
    "y = df_transformed_combined['code_prim_fuel_transf']"
   ]
  },
  {
   "cell_type": "code",
   "execution_count": 57,
   "metadata": {},
   "outputs": [
    {
     "data": {
      "text/plain": [
       "1    5344\n",
       "0    5344\n",
       "2    5344\n",
       "Name: code_prim_fuel_transf, dtype: int64"
      ]
     },
     "execution_count": 57,
     "metadata": {},
     "output_type": "execute_result"
    }
   ],
   "source": [
    "y.value_counts()"
   ]
  },
  {
   "cell_type": "code",
   "execution_count": null,
   "metadata": {},
   "outputs": [],
   "source": [
    "df_transformed_combined.columns"
   ]
  },
  {
   "cell_type": "markdown",
   "metadata": {},
   "source": [
    "# DIFFERENT DATASETS"
   ]
  },
  {
   "cell_type": "code",
   "execution_count": 19,
   "metadata": {},
   "outputs": [],
   "source": [
    "#  columns_delete = X.columns.str.contains('ALLSKY_KT') | X.columns.str.contains('ANN') | X.columns.str.contains('autumn_CLRSKY_SFC_SW_DWN_2019')\n",
    "# columns_delete = X.columns.str.contains('ALLSKY_KT') | X.columns.str.contains('ANN') | X.columns.str.contains('2019') | X.columns.str.contains('2013') | X.columns.str.contains('2014') | X.columns.str.contains('2015') | X.columns.str.contains('2016') | X.columns.str.contains('2017') | X.columns.str.contains('MIN')\n",
    "# columns_delete = X.columns.str.contains('ALLSKY_KT') | X.columns.str.contains('2019') | X.columns.str.contains('2012') | X.columns.str.contains('2013') | X.columns.str.contains('2014') | X.columns.str.contains('2015') | X.columns.str.contains('2016') | X.columns.str.contains('2017') | X.columns.str.contains('2018') | X.columns.str.contains('MIN') | X.columns.str.contains('ANN')\n",
    "# columns_delete = X.columns.str.contains('2019') | X.columns.str.contains('2013') | X.columns.str.contains('2014') | X.columns.str.contains('2015') | X.columns.str.contains('2016') | X.columns.str.contains('2017') | X.columns.str.contains('2018') | X.columns.str.contains('ANN') #| X.columns.str.contains('WS50M_RANGE_AVG') | X.columns.str.contains('WS10M_RANGE_AVG') | X.columns.str.contains('CLRSKY_SFC_SW_UP') | X.columns.str.contains('CLRSKY_SFC_SW_DNI') | X.columns.str.contains('CLRSKY_SFC_SW_DIFF') | X.columns.str.contains('ALLSKY_SFC_SW_UP_MAX') | X.columns.str.contains('ALLSKY_SFC_SW_DNI') | X.columns.str.contains('ALLSKY_SFC_LW_UP') | X.columns.str.contains('ALLSKY_SFC_LW_DWN') | X.columns.str.contains('ALLSKY_SFC_SW_UP') | X.columns.str.contains('ALLSKY_SFC_SW_DIFF')\n",
    "# columns_keep = X.columns.str.contains('ANN') | X.columns.str.contains('SFC_LW_DWN') | X.columns.str.contains('2013')| X.columns.str.contains('MAX')\n",
    "# columns_delete = X.columns.str.contains('WS') | X.columns.str.contains('2014') | X.columns.str.contains('2015') | X.columns.str.contains('2016') | X.columns.str.contains('2017') | X.columns.str.contains('2018') | X.columns.str.contains('2019')\n",
    "# columns_keep_2012 =  X.columns.str.contains('2012')\n",
    "X_columns_keep_2013 =  X.columns.str.contains('2013')\n",
    "X_columns_keep_2014 =  X.columns.str.contains('2014')\n",
    "columns_keep_2013 =  df_transformed_combined.columns.str.contains('2013') | df_transformed_combined.columns.str.contains('prim_fuel')\n",
    "columns_keep_2014 =  df_transformed_combined.columns.str.contains('2014') | df_transformed_combined.columns.str.contains('prim_fuel')\n",
    "# columns_keep = mi_scores[mi_scores > .3].index\n",
    "# columns_delete = X.columns.str.contains('ANN') | X.columns.str.contains('2019') | X.columns.str.contains('2013') | X.columns.str.contains('2014') | X.columns.str.contains('2015') | X.columns.str.contains('2016') | X.columns.str.contains('2017') \n",
    "# columns_delete = X.columns.str.contains('WS50M_2013') | X.columns.str.contains('WS10') | X.columns.str.contains('DNI') | X.columns.str.contains('SFC_LW_UP') | X.columns.str.contains('SFC_SW_DWN') | X.columns.str.contains('autumn') | X.columns.str.contains('winter') | X.columns.str.contains('summer') | X.columns.str.contains('spring') | X.columns.str.contains('2014') | X.columns.str.contains('2015') | X.columns.str.contains('2016') | X.columns.str.contains('2017') | X.columns.str.contains('2018') | X.columns.str.contains('2019')\n",
    "# columns_delete = X.columns.str.contains('WS50M_2013') | X.columns.str.contains('WS10') | X.columns.str.contains('autumn') | X.columns.str.contains('winter') | X.columns.str.contains('summer') | X.columns.str.contains('spring') | X.columns.str.contains('2014') | X.columns.str.contains('2015') | X.columns.str.contains('2016') | X.columns.str.contains('2017') | X.columns.str.contains('2018') | X.columns.str.contains('2019')\n",
    "\n",
    "# X_2012 = X.loc[:,columns_keep_2012]\n",
    "X_2013 = X.loc[:,X_columns_keep_2013]\n",
    "X_2014 = X.loc[:,X_columns_keep_2014]\n",
    "df_transformed_combined_2013 = df_transformed_combined.loc[:,columns_keep_2013]\n",
    "df_transformed_combined_2014 = df_transformed_combined.loc[:,columns_keep_2014]\n",
    "# X = X.loc[:,~columns_delete]"
   ]
  },
  {
   "cell_type": "code",
   "execution_count": 21,
   "metadata": {},
   "outputs": [
    {
     "data": {
      "text/plain": [
       "Index(['ANN_ALLSKY_KT_2014', 'ANN_ALLSKY_SFC_SW_DWN_2014',\n",
       "       'ANN_CLRSKY_SFC_SW_DWN_2014', 'ANN_WS10M_MAX_AVG_2014',\n",
       "       'ANN_WS10M_MIN_AVG_2014', 'ANN_WS50M_MAX_AVG_2014',\n",
       "       'ANN_WS50M_MIN_AVG_2014', 'autumn_ALLSKY_KT_2014',\n",
       "       'autumn_ALLSKY_SFC_SW_DWN_2014', 'autumn_CLRSKY_SFC_SW_DWN_2014',\n",
       "       'autumn_WS10M_MAX_AVG_2014', 'autumn_WS10M_MIN_AVG_2014',\n",
       "       'autumn_WS50M_MAX_AVG_2014', 'autumn_WS50M_MIN_AVG_2014',\n",
       "       'spring_ALLSKY_KT_2014', 'spring_ALLSKY_SFC_SW_DWN_2014',\n",
       "       'spring_CLRSKY_SFC_SW_DWN_2014', 'spring_WS10M_MAX_AVG_2014',\n",
       "       'spring_WS10M_MIN_AVG_2014', 'spring_WS50M_MAX_AVG_2014',\n",
       "       'spring_WS50M_MIN_AVG_2014', 'summer_ALLSKY_KT_2014',\n",
       "       'summer_ALLSKY_SFC_SW_DWN_2014', 'summer_CLRSKY_SFC_SW_DWN_2014',\n",
       "       'summer_WS10M_MAX_AVG_2014', 'summer_WS10M_MIN_AVG_2014',\n",
       "       'summer_WS50M_MAX_AVG_2014', 'summer_WS50M_MIN_AVG_2014',\n",
       "       'winter_ALLSKY_KT_2014', 'winter_ALLSKY_SFC_SW_DWN_2014',\n",
       "       'winter_CLRSKY_SFC_SW_DWN_2014', 'winter_WS10M_MAX_AVG_2014',\n",
       "       'winter_WS10M_MIN_AVG_2014', 'winter_WS50M_MAX_AVG_2014',\n",
       "       'winter_WS50M_MIN_AVG_2014', 'code_prim_fuel_transf'],\n",
       "      dtype='object')"
      ]
     },
     "execution_count": 21,
     "metadata": {},
     "output_type": "execute_result"
    }
   ],
   "source": [
    "df_transformed_combined_2014.columns"
   ]
  },
  {
   "cell_type": "code",
   "execution_count": null,
   "metadata": {},
   "outputs": [],
   "source": [
    "# X_columns_delete_2014 = X_2014.columns.str.contains('RANGE') | X_2014.columns.str.contains('MAX_AVG') | X_2014.columns.str.contains('median')\n",
    "# columns_delete_2014 = df_transformed_combined_2014.columns.str.contains('RANGE') | df_transformed_combined_2014.columns.str.contains('MAX_AVG') | df_transformed_combined_2014.columns.str.contains('median')\n",
    "\n",
    "# X_2014 = X_2014.loc[:,~X_columns_delete_2014]\n",
    "\n",
    "# df_transformed_combined_2014 = df_transformed_combined_2014.loc[:,~columns_delete_2014]"
   ]
  },
  {
   "cell_type": "code",
   "execution_count": null,
   "metadata": {},
   "outputs": [],
   "source": [
    "df_transformed_combined_2014.columns"
   ]
  },
  {
   "cell_type": "markdown",
   "metadata": {},
   "source": [
    "# FEATURE ENGINEERING"
   ]
  },
  {
   "cell_type": "markdown",
   "metadata": {},
   "source": [
    "## Mutual Information"
   ]
  },
  {
   "cell_type": "code",
   "execution_count": null,
   "metadata": {},
   "outputs": [],
   "source": [
    "mi_scores = utils.make_mi_scores(X_2014, y, \"classifier\")\n"
   ]
  },
  {
   "cell_type": "code",
   "execution_count": null,
   "metadata": {},
   "outputs": [],
   "source": [
    "plt.figure(dpi=100, figsize=(8, 30))\n",
    "utils.plot_scores(mi_scores[mi_scores > .3], \"Mutual Information Scores\")"
   ]
  },
  {
   "cell_type": "markdown",
   "metadata": {},
   "source": [
    "## Pearson correlations"
   ]
  },
  {
   "cell_type": "code",
   "execution_count": null,
   "metadata": {},
   "outputs": [],
   "source": [
    "# df_solar_2 = df_solar_2[(df_solar_2['capacity_mw'] < 100)].copy()\n",
    "\n",
    "\n",
    "corr_matrix = df_transformed_combined_2014.corr().abs()\n",
    "\n",
    "# Select upper triangle of correlation matrix\n",
    "upper = corr_matrix.where(np.triu(np.ones(corr_matrix.shape), k=1).astype(bool))\n",
    "# Find index of feature columns with correlation greater than 0.95\n",
    "to_drop = [column for column in upper.columns if any(upper[column] > 0.95)]\n",
    "df_transformed_combined_2014.drop(columns=to_drop, inplace=True)"
   ]
  },
  {
   "cell_type": "code",
   "execution_count": null,
   "metadata": {},
   "outputs": [],
   "source": [
    "# plt.bar(df_all_concat_annual.corr().abs().unstack()['capacity_mw'].sort_values(ascending=False), height=df_all_concat_annual.columns)\n",
    "corr_matrix = df_transformed_combined_2014.corr().abs()\n",
    "\n",
    "\n",
    "\n",
    "target_correlations = corr_matrix.unstack()['code_prim_fuel_transf'].sort_values(ascending=False)\n",
    "# target_correlations = corr_matrix.unstack()['generation_gwh'].sort_values(ascending=False)\n",
    "# target_correlations[target_correlations > .30]\n",
    "plt.figure(figsize=(20,10))\n",
    "# plt.figure(dpi=100, figsize=(4, 10))\n",
    "utils.plot_scores(target_correlations[target_correlations > .20], \"Correlations\")"
   ]
  },
  {
   "cell_type": "code",
   "execution_count": null,
   "metadata": {},
   "outputs": [],
   "source": [
    "target_correlations[target_correlations > .20].index"
   ]
  },
  {
   "cell_type": "code",
   "execution_count": null,
   "metadata": {},
   "outputs": [],
   "source": [
    "# sns.pairplot(df_transformed_combined_2014[target_correlations[target_correlations > .20].index])"
   ]
  },
  {
   "cell_type": "code",
   "execution_count": null,
   "metadata": {},
   "outputs": [],
   "source": [
    "# CLRSKY_SFC_SW_DNI\n",
    "\n",
    "# category = pd.cut(df_transformed_combined_2014['max_CLRSKY_SFC_SW_DWN_2014'], 3).cat.codes.rename('category')"
   ]
  },
  {
   "cell_type": "code",
   "execution_count": null,
   "metadata": {},
   "outputs": [],
   "source": [
    "# category.value_counts()"
   ]
  },
  {
   "cell_type": "code",
   "execution_count": null,
   "metadata": {},
   "outputs": [],
   "source": [
    "# df_all_concat_w_category = pd.concat([df_transformed_combined_2014[target_correlations[target_correlations > .20].index], category], axis=1)"
   ]
  },
  {
   "cell_type": "code",
   "execution_count": null,
   "metadata": {},
   "outputs": [],
   "source": [
    "# sns.pairplot(df_all_concat_w_category, hue='category')"
   ]
  },
  {
   "cell_type": "code",
   "execution_count": null,
   "metadata": {},
   "outputs": [],
   "source": [
    "# mi_scores = utils.make_mi_scores(X, y, \"classifier\")\n",
    "# plt.figure(dpi=100, figsize=(8, 30))\n",
    "# utils.plot_scores(mi_scores, \"Mutual Information Scores\")"
   ]
  },
  {
   "cell_type": "code",
   "execution_count": null,
   "metadata": {},
   "outputs": [],
   "source": [
    "utils.correlation_matrix(df_transformed_combined_2014)"
   ]
  },
  {
   "cell_type": "code",
   "execution_count": null,
   "metadata": {},
   "outputs": [],
   "source": [
    "# corr_matrix = X.join(y).corr().abs()\n",
    "\n",
    "\n",
    "\n",
    "# target_correlations = corr_matrix.unstack()['code_prim_fuel_transf'].sort_values(ascending=False)\n",
    "# # target_correlations = corr_matrix.unstack()['generation_gwh'].sort_values(ascending=False)\n",
    "# # target_correlations[target_correlations > .20]\n",
    "# plt.figure(figsize=(20,10))\n",
    "# # plt.figure(dpi=100, figsize=(4, 10))\n",
    "# utils.plot_scores(target_correlations[target_correlations > .20], \"Correlations\")"
   ]
  },
  {
   "cell_type": "code",
   "execution_count": null,
   "metadata": {},
   "outputs": [],
   "source": [
    "df_transformed_combined"
   ]
  },
  {
   "cell_type": "code",
   "execution_count": 36,
   "metadata": {},
   "outputs": [
    {
     "data": {
      "text/html": [
       "<div>\n",
       "<style scoped>\n",
       "    .dataframe tbody tr th:only-of-type {\n",
       "        vertical-align: middle;\n",
       "    }\n",
       "\n",
       "    .dataframe tbody tr th {\n",
       "        vertical-align: top;\n",
       "    }\n",
       "\n",
       "    .dataframe thead th {\n",
       "        text-align: right;\n",
       "    }\n",
       "</style>\n",
       "<table border=\"1\" class=\"dataframe\">\n",
       "  <thead>\n",
       "    <tr style=\"text-align: right;\">\n",
       "      <th></th>\n",
       "      <th>ANN_ALLSKY_KT_2012</th>\n",
       "      <th>ANN_ALLSKY_KT_2013</th>\n",
       "      <th>ANN_ALLSKY_KT_2014</th>\n",
       "      <th>ANN_ALLSKY_KT_2015</th>\n",
       "      <th>ANN_ALLSKY_KT_2016</th>\n",
       "      <th>ANN_ALLSKY_KT_2017</th>\n",
       "      <th>ANN_ALLSKY_KT_2018</th>\n",
       "      <th>ANN_ALLSKY_KT_2019</th>\n",
       "      <th>ANN_ALLSKY_SFC_SW_DWN_2012</th>\n",
       "      <th>ANN_ALLSKY_SFC_SW_DWN_2013</th>\n",
       "      <th>...</th>\n",
       "      <th>winter_WS50M_MAX_AVG_2018</th>\n",
       "      <th>winter_WS50M_MAX_AVG_2019</th>\n",
       "      <th>winter_WS50M_MIN_AVG_2012</th>\n",
       "      <th>winter_WS50M_MIN_AVG_2013</th>\n",
       "      <th>winter_WS50M_MIN_AVG_2014</th>\n",
       "      <th>winter_WS50M_MIN_AVG_2015</th>\n",
       "      <th>winter_WS50M_MIN_AVG_2016</th>\n",
       "      <th>winter_WS50M_MIN_AVG_2017</th>\n",
       "      <th>winter_WS50M_MIN_AVG_2018</th>\n",
       "      <th>winter_WS50M_MIN_AVG_2019</th>\n",
       "    </tr>\n",
       "    <tr>\n",
       "      <th>index</th>\n",
       "      <th></th>\n",
       "      <th></th>\n",
       "      <th></th>\n",
       "      <th></th>\n",
       "      <th></th>\n",
       "      <th></th>\n",
       "      <th></th>\n",
       "      <th></th>\n",
       "      <th></th>\n",
       "      <th></th>\n",
       "      <th></th>\n",
       "      <th></th>\n",
       "      <th></th>\n",
       "      <th></th>\n",
       "      <th></th>\n",
       "      <th></th>\n",
       "      <th></th>\n",
       "      <th></th>\n",
       "      <th></th>\n",
       "      <th></th>\n",
       "      <th></th>\n",
       "    </tr>\n",
       "  </thead>\n",
       "  <tbody>\n",
       "    <tr>\n",
       "      <th>0</th>\n",
       "      <td>0.69</td>\n",
       "      <td>0.70</td>\n",
       "      <td>0.70</td>\n",
       "      <td>0.68</td>\n",
       "      <td>0.71</td>\n",
       "      <td>0.71</td>\n",
       "      <td>0.70</td>\n",
       "      <td>0.69</td>\n",
       "      <td>5.89</td>\n",
       "      <td>6.01</td>\n",
       "      <td>...</td>\n",
       "      <td>6.966667</td>\n",
       "      <td>6.850000</td>\n",
       "      <td>1.283333</td>\n",
       "      <td>1.003333</td>\n",
       "      <td>1.023333</td>\n",
       "      <td>1.006667</td>\n",
       "      <td>0.950000</td>\n",
       "      <td>1.320000</td>\n",
       "      <td>1.176667</td>\n",
       "      <td>1.176667</td>\n",
       "    </tr>\n",
       "    <tr>\n",
       "      <th>1</th>\n",
       "      <td>0.70</td>\n",
       "      <td>0.70</td>\n",
       "      <td>0.70</td>\n",
       "      <td>0.69</td>\n",
       "      <td>0.72</td>\n",
       "      <td>0.71</td>\n",
       "      <td>0.70</td>\n",
       "      <td>0.69</td>\n",
       "      <td>6.02</td>\n",
       "      <td>6.05</td>\n",
       "      <td>...</td>\n",
       "      <td>7.606667</td>\n",
       "      <td>7.903333</td>\n",
       "      <td>1.663333</td>\n",
       "      <td>1.473333</td>\n",
       "      <td>1.290000</td>\n",
       "      <td>1.520000</td>\n",
       "      <td>1.543333</td>\n",
       "      <td>1.613333</td>\n",
       "      <td>1.476667</td>\n",
       "      <td>1.603333</td>\n",
       "    </tr>\n",
       "    <tr>\n",
       "      <th>2</th>\n",
       "      <td>0.70</td>\n",
       "      <td>0.70</td>\n",
       "      <td>0.70</td>\n",
       "      <td>0.69</td>\n",
       "      <td>0.72</td>\n",
       "      <td>0.71</td>\n",
       "      <td>0.70</td>\n",
       "      <td>0.69</td>\n",
       "      <td>6.02</td>\n",
       "      <td>6.05</td>\n",
       "      <td>...</td>\n",
       "      <td>7.606667</td>\n",
       "      <td>7.903333</td>\n",
       "      <td>1.663333</td>\n",
       "      <td>1.473333</td>\n",
       "      <td>1.290000</td>\n",
       "      <td>1.520000</td>\n",
       "      <td>1.543333</td>\n",
       "      <td>1.613333</td>\n",
       "      <td>1.476667</td>\n",
       "      <td>1.603333</td>\n",
       "    </tr>\n",
       "    <tr>\n",
       "      <th>3</th>\n",
       "      <td>0.65</td>\n",
       "      <td>0.65</td>\n",
       "      <td>0.65</td>\n",
       "      <td>0.63</td>\n",
       "      <td>0.66</td>\n",
       "      <td>0.67</td>\n",
       "      <td>0.67</td>\n",
       "      <td>0.65</td>\n",
       "      <td>5.43</td>\n",
       "      <td>5.45</td>\n",
       "      <td>...</td>\n",
       "      <td>5.126667</td>\n",
       "      <td>5.426667</td>\n",
       "      <td>1.870000</td>\n",
       "      <td>1.380000</td>\n",
       "      <td>1.606667</td>\n",
       "      <td>1.260000</td>\n",
       "      <td>1.473333</td>\n",
       "      <td>1.873333</td>\n",
       "      <td>1.210000</td>\n",
       "      <td>1.516667</td>\n",
       "    </tr>\n",
       "    <tr>\n",
       "      <th>4</th>\n",
       "      <td>0.65</td>\n",
       "      <td>0.65</td>\n",
       "      <td>0.65</td>\n",
       "      <td>0.63</td>\n",
       "      <td>0.66</td>\n",
       "      <td>0.67</td>\n",
       "      <td>0.67</td>\n",
       "      <td>0.65</td>\n",
       "      <td>5.43</td>\n",
       "      <td>5.45</td>\n",
       "      <td>...</td>\n",
       "      <td>4.650000</td>\n",
       "      <td>4.740000</td>\n",
       "      <td>1.616667</td>\n",
       "      <td>1.020000</td>\n",
       "      <td>1.063333</td>\n",
       "      <td>0.743333</td>\n",
       "      <td>0.936667</td>\n",
       "      <td>1.336667</td>\n",
       "      <td>0.916667</td>\n",
       "      <td>0.923333</td>\n",
       "    </tr>\n",
       "  </tbody>\n",
       "</table>\n",
       "<p>5 rows × 280 columns</p>\n",
       "</div>"
      ],
      "text/plain": [
       "       ANN_ALLSKY_KT_2012  ANN_ALLSKY_KT_2013  ANN_ALLSKY_KT_2014  \\\n",
       "index                                                               \n",
       "0                    0.69                0.70                0.70   \n",
       "1                    0.70                0.70                0.70   \n",
       "2                    0.70                0.70                0.70   \n",
       "3                    0.65                0.65                0.65   \n",
       "4                    0.65                0.65                0.65   \n",
       "\n",
       "       ANN_ALLSKY_KT_2015  ANN_ALLSKY_KT_2016  ANN_ALLSKY_KT_2017  \\\n",
       "index                                                               \n",
       "0                    0.68                0.71                0.71   \n",
       "1                    0.69                0.72                0.71   \n",
       "2                    0.69                0.72                0.71   \n",
       "3                    0.63                0.66                0.67   \n",
       "4                    0.63                0.66                0.67   \n",
       "\n",
       "       ANN_ALLSKY_KT_2018  ANN_ALLSKY_KT_2019  ANN_ALLSKY_SFC_SW_DWN_2012  \\\n",
       "index                                                                       \n",
       "0                    0.70                0.69                        5.89   \n",
       "1                    0.70                0.69                        6.02   \n",
       "2                    0.70                0.69                        6.02   \n",
       "3                    0.67                0.65                        5.43   \n",
       "4                    0.67                0.65                        5.43   \n",
       "\n",
       "       ANN_ALLSKY_SFC_SW_DWN_2013  ...  winter_WS50M_MAX_AVG_2018  \\\n",
       "index                              ...                              \n",
       "0                            6.01  ...                   6.966667   \n",
       "1                            6.05  ...                   7.606667   \n",
       "2                            6.05  ...                   7.606667   \n",
       "3                            5.45  ...                   5.126667   \n",
       "4                            5.45  ...                   4.650000   \n",
       "\n",
       "       winter_WS50M_MAX_AVG_2019  winter_WS50M_MIN_AVG_2012  \\\n",
       "index                                                         \n",
       "0                       6.850000                   1.283333   \n",
       "1                       7.903333                   1.663333   \n",
       "2                       7.903333                   1.663333   \n",
       "3                       5.426667                   1.870000   \n",
       "4                       4.740000                   1.616667   \n",
       "\n",
       "       winter_WS50M_MIN_AVG_2013  winter_WS50M_MIN_AVG_2014  \\\n",
       "index                                                         \n",
       "0                       1.003333                   1.023333   \n",
       "1                       1.473333                   1.290000   \n",
       "2                       1.473333                   1.290000   \n",
       "3                       1.380000                   1.606667   \n",
       "4                       1.020000                   1.063333   \n",
       "\n",
       "       winter_WS50M_MIN_AVG_2015  winter_WS50M_MIN_AVG_2016  \\\n",
       "index                                                         \n",
       "0                       1.006667                   0.950000   \n",
       "1                       1.520000                   1.543333   \n",
       "2                       1.520000                   1.543333   \n",
       "3                       1.260000                   1.473333   \n",
       "4                       0.743333                   0.936667   \n",
       "\n",
       "       winter_WS50M_MIN_AVG_2017  winter_WS50M_MIN_AVG_2018  \\\n",
       "index                                                         \n",
       "0                       1.320000                   1.176667   \n",
       "1                       1.613333                   1.476667   \n",
       "2                       1.613333                   1.476667   \n",
       "3                       1.873333                   1.210000   \n",
       "4                       1.336667                   0.916667   \n",
       "\n",
       "       winter_WS50M_MIN_AVG_2019  \n",
       "index                             \n",
       "0                       1.176667  \n",
       "1                       1.603333  \n",
       "2                       1.603333  \n",
       "3                       1.516667  \n",
       "4                       0.923333  \n",
       "\n",
       "[5 rows x 280 columns]"
      ]
     },
     "execution_count": 36,
     "metadata": {},
     "output_type": "execute_result"
    }
   ],
   "source": [
    "X.head()"
   ]
  },
  {
   "cell_type": "code",
   "execution_count": 22,
   "metadata": {},
   "outputs": [],
   "source": [
    "X = df_transformed_combined.drop(columns=['code_prim_fuel_transf'])\n",
    "X = X.reindex(sorted(X.columns), axis=1)\n",
    "y = df_transformed_combined['code_prim_fuel_transf']"
   ]
  },
  {
   "cell_type": "code",
   "execution_count": 23,
   "metadata": {},
   "outputs": [],
   "source": [
    "X_train, X_test, y_train, y_test = train_test_split(X, y, test_size=0.2,random_state = 0)"
   ]
  },
  {
   "cell_type": "code",
   "execution_count": 39,
   "metadata": {},
   "outputs": [
    {
     "data": {
      "text/html": [
       "<div>\n",
       "<style scoped>\n",
       "    .dataframe tbody tr th:only-of-type {\n",
       "        vertical-align: middle;\n",
       "    }\n",
       "\n",
       "    .dataframe tbody tr th {\n",
       "        vertical-align: top;\n",
       "    }\n",
       "\n",
       "    .dataframe thead th {\n",
       "        text-align: right;\n",
       "    }\n",
       "</style>\n",
       "<table border=\"1\" class=\"dataframe\">\n",
       "  <thead>\n",
       "    <tr style=\"text-align: right;\">\n",
       "      <th></th>\n",
       "      <th>ANN_ALLSKY_KT_2012</th>\n",
       "      <th>ANN_ALLSKY_KT_2013</th>\n",
       "      <th>ANN_ALLSKY_KT_2014</th>\n",
       "      <th>ANN_ALLSKY_KT_2015</th>\n",
       "      <th>ANN_ALLSKY_KT_2016</th>\n",
       "      <th>ANN_ALLSKY_KT_2017</th>\n",
       "      <th>ANN_ALLSKY_KT_2018</th>\n",
       "      <th>ANN_ALLSKY_KT_2019</th>\n",
       "      <th>ANN_ALLSKY_SFC_SW_DWN_2012</th>\n",
       "      <th>ANN_ALLSKY_SFC_SW_DWN_2013</th>\n",
       "      <th>...</th>\n",
       "      <th>winter_WS50M_MAX_AVG_2018</th>\n",
       "      <th>winter_WS50M_MAX_AVG_2019</th>\n",
       "      <th>winter_WS50M_MIN_AVG_2012</th>\n",
       "      <th>winter_WS50M_MIN_AVG_2013</th>\n",
       "      <th>winter_WS50M_MIN_AVG_2014</th>\n",
       "      <th>winter_WS50M_MIN_AVG_2015</th>\n",
       "      <th>winter_WS50M_MIN_AVG_2016</th>\n",
       "      <th>winter_WS50M_MIN_AVG_2017</th>\n",
       "      <th>winter_WS50M_MIN_AVG_2018</th>\n",
       "      <th>winter_WS50M_MIN_AVG_2019</th>\n",
       "    </tr>\n",
       "    <tr>\n",
       "      <th>index</th>\n",
       "      <th></th>\n",
       "      <th></th>\n",
       "      <th></th>\n",
       "      <th></th>\n",
       "      <th></th>\n",
       "      <th></th>\n",
       "      <th></th>\n",
       "      <th></th>\n",
       "      <th></th>\n",
       "      <th></th>\n",
       "      <th></th>\n",
       "      <th></th>\n",
       "      <th></th>\n",
       "      <th></th>\n",
       "      <th></th>\n",
       "      <th></th>\n",
       "      <th></th>\n",
       "      <th></th>\n",
       "      <th></th>\n",
       "      <th></th>\n",
       "      <th></th>\n",
       "    </tr>\n",
       "  </thead>\n",
       "  <tbody>\n",
       "    <tr>\n",
       "      <th>0</th>\n",
       "      <td>0.69</td>\n",
       "      <td>0.70</td>\n",
       "      <td>0.70</td>\n",
       "      <td>0.68</td>\n",
       "      <td>0.71</td>\n",
       "      <td>0.71</td>\n",
       "      <td>0.70</td>\n",
       "      <td>0.69</td>\n",
       "      <td>5.89</td>\n",
       "      <td>6.01</td>\n",
       "      <td>...</td>\n",
       "      <td>6.966667</td>\n",
       "      <td>6.850000</td>\n",
       "      <td>1.283333</td>\n",
       "      <td>1.003333</td>\n",
       "      <td>1.023333</td>\n",
       "      <td>1.006667</td>\n",
       "      <td>0.950000</td>\n",
       "      <td>1.320000</td>\n",
       "      <td>1.176667</td>\n",
       "      <td>1.176667</td>\n",
       "    </tr>\n",
       "    <tr>\n",
       "      <th>1</th>\n",
       "      <td>0.70</td>\n",
       "      <td>0.70</td>\n",
       "      <td>0.70</td>\n",
       "      <td>0.69</td>\n",
       "      <td>0.72</td>\n",
       "      <td>0.71</td>\n",
       "      <td>0.70</td>\n",
       "      <td>0.69</td>\n",
       "      <td>6.02</td>\n",
       "      <td>6.05</td>\n",
       "      <td>...</td>\n",
       "      <td>7.606667</td>\n",
       "      <td>7.903333</td>\n",
       "      <td>1.663333</td>\n",
       "      <td>1.473333</td>\n",
       "      <td>1.290000</td>\n",
       "      <td>1.520000</td>\n",
       "      <td>1.543333</td>\n",
       "      <td>1.613333</td>\n",
       "      <td>1.476667</td>\n",
       "      <td>1.603333</td>\n",
       "    </tr>\n",
       "    <tr>\n",
       "      <th>2</th>\n",
       "      <td>0.70</td>\n",
       "      <td>0.70</td>\n",
       "      <td>0.70</td>\n",
       "      <td>0.69</td>\n",
       "      <td>0.72</td>\n",
       "      <td>0.71</td>\n",
       "      <td>0.70</td>\n",
       "      <td>0.69</td>\n",
       "      <td>6.02</td>\n",
       "      <td>6.05</td>\n",
       "      <td>...</td>\n",
       "      <td>7.606667</td>\n",
       "      <td>7.903333</td>\n",
       "      <td>1.663333</td>\n",
       "      <td>1.473333</td>\n",
       "      <td>1.290000</td>\n",
       "      <td>1.520000</td>\n",
       "      <td>1.543333</td>\n",
       "      <td>1.613333</td>\n",
       "      <td>1.476667</td>\n",
       "      <td>1.603333</td>\n",
       "    </tr>\n",
       "    <tr>\n",
       "      <th>3</th>\n",
       "      <td>0.65</td>\n",
       "      <td>0.65</td>\n",
       "      <td>0.65</td>\n",
       "      <td>0.63</td>\n",
       "      <td>0.66</td>\n",
       "      <td>0.67</td>\n",
       "      <td>0.67</td>\n",
       "      <td>0.65</td>\n",
       "      <td>5.43</td>\n",
       "      <td>5.45</td>\n",
       "      <td>...</td>\n",
       "      <td>5.126667</td>\n",
       "      <td>5.426667</td>\n",
       "      <td>1.870000</td>\n",
       "      <td>1.380000</td>\n",
       "      <td>1.606667</td>\n",
       "      <td>1.260000</td>\n",
       "      <td>1.473333</td>\n",
       "      <td>1.873333</td>\n",
       "      <td>1.210000</td>\n",
       "      <td>1.516667</td>\n",
       "    </tr>\n",
       "    <tr>\n",
       "      <th>4</th>\n",
       "      <td>0.65</td>\n",
       "      <td>0.65</td>\n",
       "      <td>0.65</td>\n",
       "      <td>0.63</td>\n",
       "      <td>0.66</td>\n",
       "      <td>0.67</td>\n",
       "      <td>0.67</td>\n",
       "      <td>0.65</td>\n",
       "      <td>5.43</td>\n",
       "      <td>5.45</td>\n",
       "      <td>...</td>\n",
       "      <td>4.650000</td>\n",
       "      <td>4.740000</td>\n",
       "      <td>1.616667</td>\n",
       "      <td>1.020000</td>\n",
       "      <td>1.063333</td>\n",
       "      <td>0.743333</td>\n",
       "      <td>0.936667</td>\n",
       "      <td>1.336667</td>\n",
       "      <td>0.916667</td>\n",
       "      <td>0.923333</td>\n",
       "    </tr>\n",
       "  </tbody>\n",
       "</table>\n",
       "<p>5 rows × 280 columns</p>\n",
       "</div>"
      ],
      "text/plain": [
       "       ANN_ALLSKY_KT_2012  ANN_ALLSKY_KT_2013  ANN_ALLSKY_KT_2014  \\\n",
       "index                                                               \n",
       "0                    0.69                0.70                0.70   \n",
       "1                    0.70                0.70                0.70   \n",
       "2                    0.70                0.70                0.70   \n",
       "3                    0.65                0.65                0.65   \n",
       "4                    0.65                0.65                0.65   \n",
       "\n",
       "       ANN_ALLSKY_KT_2015  ANN_ALLSKY_KT_2016  ANN_ALLSKY_KT_2017  \\\n",
       "index                                                               \n",
       "0                    0.68                0.71                0.71   \n",
       "1                    0.69                0.72                0.71   \n",
       "2                    0.69                0.72                0.71   \n",
       "3                    0.63                0.66                0.67   \n",
       "4                    0.63                0.66                0.67   \n",
       "\n",
       "       ANN_ALLSKY_KT_2018  ANN_ALLSKY_KT_2019  ANN_ALLSKY_SFC_SW_DWN_2012  \\\n",
       "index                                                                       \n",
       "0                    0.70                0.69                        5.89   \n",
       "1                    0.70                0.69                        6.02   \n",
       "2                    0.70                0.69                        6.02   \n",
       "3                    0.67                0.65                        5.43   \n",
       "4                    0.67                0.65                        5.43   \n",
       "\n",
       "       ANN_ALLSKY_SFC_SW_DWN_2013  ...  winter_WS50M_MAX_AVG_2018  \\\n",
       "index                              ...                              \n",
       "0                            6.01  ...                   6.966667   \n",
       "1                            6.05  ...                   7.606667   \n",
       "2                            6.05  ...                   7.606667   \n",
       "3                            5.45  ...                   5.126667   \n",
       "4                            5.45  ...                   4.650000   \n",
       "\n",
       "       winter_WS50M_MAX_AVG_2019  winter_WS50M_MIN_AVG_2012  \\\n",
       "index                                                         \n",
       "0                       6.850000                   1.283333   \n",
       "1                       7.903333                   1.663333   \n",
       "2                       7.903333                   1.663333   \n",
       "3                       5.426667                   1.870000   \n",
       "4                       4.740000                   1.616667   \n",
       "\n",
       "       winter_WS50M_MIN_AVG_2013  winter_WS50M_MIN_AVG_2014  \\\n",
       "index                                                         \n",
       "0                       1.003333                   1.023333   \n",
       "1                       1.473333                   1.290000   \n",
       "2                       1.473333                   1.290000   \n",
       "3                       1.380000                   1.606667   \n",
       "4                       1.020000                   1.063333   \n",
       "\n",
       "       winter_WS50M_MIN_AVG_2015  winter_WS50M_MIN_AVG_2016  \\\n",
       "index                                                         \n",
       "0                       1.006667                   0.950000   \n",
       "1                       1.520000                   1.543333   \n",
       "2                       1.520000                   1.543333   \n",
       "3                       1.260000                   1.473333   \n",
       "4                       0.743333                   0.936667   \n",
       "\n",
       "       winter_WS50M_MIN_AVG_2017  winter_WS50M_MIN_AVG_2018  \\\n",
       "index                                                         \n",
       "0                       1.320000                   1.176667   \n",
       "1                       1.613333                   1.476667   \n",
       "2                       1.613333                   1.476667   \n",
       "3                       1.873333                   1.210000   \n",
       "4                       1.336667                   0.916667   \n",
       "\n",
       "       winter_WS50M_MIN_AVG_2019  \n",
       "index                             \n",
       "0                       1.176667  \n",
       "1                       1.603333  \n",
       "2                       1.603333  \n",
       "3                       1.516667  \n",
       "4                       0.923333  \n",
       "\n",
       "[5 rows x 280 columns]"
      ]
     },
     "execution_count": 39,
     "metadata": {},
     "output_type": "execute_result"
    }
   ],
   "source": [
    "X.head()"
   ]
  },
  {
   "cell_type": "markdown",
   "metadata": {},
   "source": [
    "# SCALING"
   ]
  },
  {
   "cell_type": "code",
   "execution_count": 24,
   "metadata": {},
   "outputs": [],
   "source": [
    "# X_train_normalized = stats.boxcox(X_train)\n",
    "x = X_train.values #returns a numpy array\n",
    "min_max_scaler = MinMaxScaler()\n",
    "power_transformer = PowerTransformer(method='yeo-johnson')\n",
    "standard_scaler = StandardScaler()\n",
    "# x_scaled = min_max_scaler.fit_transform(x)\n",
    "# x_scaled = power_transformer.fit_transform(x)\n",
    "x_scaled = standard_scaler.fit_transform(x)\n",
    "X_train_scaled = pd.DataFrame(x_scaled, index=X_train.index, columns=X_train.columns)\n",
    "\n",
    "x = X_test.values #returns a numpy array\n",
    "# x_scaled = min_max_scaler.fit_transform(x)\n",
    "# x_scaled = power_transformer.fit_transform(x)\n",
    "x_scaled = standard_scaler.fit_transform(x)\n",
    "X_test_scaled = pd.DataFrame(x_scaled, index=X_test.index, columns=X_test.columns)\n",
    "\n",
    "x = X.values #returns a numpy array\n",
    "# x_scaled = min_max_scaler.fit_transform(x)\n",
    "# x_scaled = power_transformer.fit_transform(x)\n",
    "x_scaled = standard_scaler.fit_transform(x)\n",
    "X_scaled = pd.DataFrame(x_scaled, index=X.index, columns=X.columns)\n"
   ]
  },
  {
   "cell_type": "markdown",
   "metadata": {},
   "source": [
    "# DECISION TREE CLASSIFIER"
   ]
  },
  {
   "cell_type": "code",
   "execution_count": 88,
   "metadata": {},
   "outputs": [
    {
     "name": "stdout",
     "output_type": "stream",
     "text": [
      "1200\n"
     ]
    },
    {
     "data": {
      "text/plain": [
       "<AxesSubplot:>"
      ]
     },
     "execution_count": 88,
     "metadata": {},
     "output_type": "execute_result"
    },
    {
     "data": {
      "image/png": "[encoded data removed]",
      "text/plain": [
       "<Figure size 432x288 with 1 Axes>"
      ]
     },
     "metadata": {
      "needs_background": "light"
     },
     "output_type": "display_data"
    }
   ],
   "source": [
    "candidate_max_leaf_nodes = [10, 50, 80, 100, 500, 1200, 1500]\n",
    "results = {}\n",
    "\n",
    "results = {node: utils.get_accuracy_tree(\"classifier\",node, X_train, X_test, y_train, y_test) for node in candidate_max_leaf_nodes}\n",
    "best_tree_size = max(results, key=results.get)\n",
    "print(best_tree_size)\n",
    "sns.lineplot(data=results, x= results.keys(), y= results.values())"
   ]
  },
  {
   "cell_type": "code",
   "execution_count": 25,
   "metadata": {},
   "outputs": [
    {
     "name": "stdout",
     "output_type": "stream",
     "text": [
      "Cross validation:\n",
      "[75.44 74.72 75.69 75.32 75.47](%)\n",
      "Mean: 75.33%, Standard Deviation: 0.33%\n",
      "Hold Out:\n",
      "75.45%\n",
      "              precision    recall  f1-score   support\n",
      "\n",
      "       Other       0.80      0.80      0.80      3755\n",
      "       Solar       0.70      0.71      0.70      2160\n",
      "        Wind       0.69      0.68      0.68      1068\n",
      "\n",
      "    accuracy                           0.75      6983\n",
      "   macro avg       0.73      0.73      0.73      6983\n",
      "weighted avg       0.75      0.75      0.75      6983\n",
      "\n"
     ]
    },
    {
     "data": {
      "image/png": "[encoded data removed]",
      "text/plain": [
       "<Figure size 432x288 with 2 Axes>"
      ]
     },
     "metadata": {
      "needs_background": "light"
     },
     "output_type": "display_data"
    }
   ],
   "source": [
    "tree_model = DecisionTreeClassifier()\n",
    "tree_model.fit(X_train, y_train)\n",
    "utils.custom_classification_prediction_report(tree_model, X, y, X_test, y_test, list_target_in_order)"
   ]
  },
  {
   "cell_type": "code",
   "execution_count": null,
   "metadata": {},
   "outputs": [],
   "source": [
    "importance = tree_model.feature_importances_\n",
    "# summarize feature importance\n",
    "for i,v in enumerate(importance):\n",
    "\tprint(f'Feature: {X_train.columns[i]}, Score: {np.around(v*100,2)} %')\n",
    "\t# print('Feature: %0d, Score: %.5f' % (i,v))\n",
    "# plot feature importance\n",
    "plt.figure(figsize=(30,20))\n",
    "plt.bar([X_train.columns[x] for x in range(len(importance))], importance)\n",
    "plt.xticks(rotation=90)\n",
    "plt.show()"
   ]
  },
  {
   "cell_type": "markdown",
   "metadata": {},
   "source": [
    "# RANDOM FOREST CLASSIFIER"
   ]
  },
  {
   "cell_type": "code",
   "execution_count": null,
   "metadata": {},
   "outputs": [],
   "source": [
    "# Numbers of trees\n",
    "n_estimators = [int(x) for x in np.arange(10, 101, 10)]\n",
    "# Numbers of features to consider at every split\n",
    "# max_features = [1, \"sqrt\", \"log2\"]\n",
    "# Maximum numbers of levels in tree\n",
    "max_depth = [int(x) for x in np.arange(10, 501, 10)]\n",
    "# Minimum numbers of samples required to split a node\n",
    "min_samples_split = [int(x) for x in np.arange(10, 51, 10)]\n",
    "# Minimum numbers of samples required at each leaf node\n",
    "min_samples_leaf = [int(x) for x in np.arange(5, 101, 5)]\n",
    "# Method of selecting samples for training each tree\n",
    "bootstrap = [True, False]\n",
    "\n",
    "max_leaf_nodes = [int(x) for x in np.arange(10, 501, 10)]\n",
    "\n",
    "\n",
    "param_grid = {\n",
    "                'n_estimators': n_estimators,\n",
    "                'max_depth': max_depth,\n",
    "                'min_samples_split': min_samples_split,\n",
    "                'min_samples_leaf': min_samples_leaf,\n",
    "                'bootstrap': bootstrap,\n",
    "                'max_leaf_nodes': max_leaf_nodes\n",
    "            }\n",
    "\n"
   ]
  },
  {
   "cell_type": "code",
   "execution_count": null,
   "metadata": {},
   "outputs": [],
   "source": [
    "rf_model = RandomForestClassifier(random_state=0)\n",
    "# rf_grid = GridSearchCV(estimator = rf_model, param_grid = param_grid, cv=3, verbose = 2, n_jobs=4)\n",
    "rf_grid = RandomizedSearchCV(estimator = rf_model, param_distributions = param_grid, n_iter = 150, cv=5, verbose = 2, n_jobs=4)"
   ]
  },
  {
   "cell_type": "code",
   "execution_count": null,
   "metadata": {},
   "outputs": [],
   "source": [
    "rf_grid.fit(X_train, y_train)"
   ]
  },
  {
   "cell_type": "code",
   "execution_count": null,
   "metadata": {},
   "outputs": [],
   "source": [
    "rf_grid.best_params_"
   ]
  },
  {
   "cell_type": "code",
   "execution_count": null,
   "metadata": {},
   "outputs": [],
   "source": [
    "rf_grid.score(X_test, y_test)\n",
    "# rf_grid.score(X_test_scaled_pca, y_test)"
   ]
  },
  {
   "cell_type": "code",
   "execution_count": 65,
   "metadata": {},
   "outputs": [
    {
     "data": {
      "text/html": [
       "<style>#sk-container-id-4 {color: black;background-color: white;}#sk-container-id-4 pre{padding: 0;}#sk-container-id-4 div.sk-toggleable {background-color: white;}#sk-container-id-4 label.sk-toggleable__label {cursor: pointer;display: block;width: 100%;margin-bottom: 0;padding: 0.3em;box-sizing: border-box;text-align: center;}#sk-container-id-4 label.sk-toggleable__label-arrow:before {content: \"▸\";float: left;margin-right: 0.25em;color: #696969;}#sk-container-id-4 label.sk-toggleable__label-arrow:hover:before {color: black;}#sk-container-id-4 div.sk-estimator:hover label.sk-toggleable__label-arrow:before {color: black;}#sk-container-id-4 div.sk-toggleable__content {max-height: 0;max-width: 0;overflow: hidden;text-align: left;background-color: #f0f8ff;}#sk-container-id-4 div.sk-toggleable__content pre {margin: 0.2em;color: black;border-radius: 0.25em;background-color: #f0f8ff;}#sk-container-id-4 input.sk-toggleable__control:checked~div.sk-toggleable__content {max-height: 200px;max-width: 100%;overflow: auto;}#sk-container-id-4 input.sk-toggleable__control:checked~label.sk-toggleable__label-arrow:before {content: \"▾\";}#sk-container-id-4 div.sk-estimator input.sk-toggleable__control:checked~label.sk-toggleable__label {background-color: #d4ebff;}#sk-container-id-4 div.sk-label input.sk-toggleable__control:checked~label.sk-toggleable__label {background-color: #d4ebff;}#sk-container-id-4 input.sk-hidden--visually {border: 0;clip: rect(1px 1px 1px 1px);clip: rect(1px, 1px, 1px, 1px);height: 1px;margin: -1px;overflow: hidden;padding: 0;position: absolute;width: 1px;}#sk-container-id-4 div.sk-estimator {font-family: monospace;background-color: #f0f8ff;border: 1px dotted black;border-radius: 0.25em;box-sizing: border-box;margin-bottom: 0.5em;}#sk-container-id-4 div.sk-estimator:hover {background-color: #d4ebff;}#sk-container-id-4 div.sk-parallel-item::after {content: \"\";width: 100%;border-bottom: 1px solid gray;flex-grow: 1;}#sk-container-id-4 div.sk-label:hover label.sk-toggleable__label {background-color: #d4ebff;}#sk-container-id-4 div.sk-serial::before {content: \"\";position: absolute;border-left: 1px solid gray;box-sizing: border-box;top: 0;bottom: 0;left: 50%;z-index: 0;}#sk-container-id-4 div.sk-serial {display: flex;flex-direction: column;align-items: center;background-color: white;padding-right: 0.2em;padding-left: 0.2em;position: relative;}#sk-container-id-4 div.sk-item {position: relative;z-index: 1;}#sk-container-id-4 div.sk-parallel {display: flex;align-items: stretch;justify-content: center;background-color: white;position: relative;}#sk-container-id-4 div.sk-item::before, #sk-container-id-4 div.sk-parallel-item::before {content: \"\";position: absolute;border-left: 1px solid gray;box-sizing: border-box;top: 0;bottom: 0;left: 50%;z-index: -1;}#sk-container-id-4 div.sk-parallel-item {display: flex;flex-direction: column;z-index: 1;position: relative;background-color: white;}#sk-container-id-4 div.sk-parallel-item:first-child::after {align-self: flex-end;width: 50%;}#sk-container-id-4 div.sk-parallel-item:last-child::after {align-self: flex-start;width: 50%;}#sk-container-id-4 div.sk-parallel-item:only-child::after {width: 0;}#sk-container-id-4 div.sk-dashed-wrapped {border: 1px dashed gray;margin: 0 0.4em 0.5em 0.4em;box-sizing: border-box;padding-bottom: 0.4em;background-color: white;}#sk-container-id-4 div.sk-label label {font-family: monospace;font-weight: bold;display: inline-block;line-height: 1.2em;}#sk-container-id-4 div.sk-label-container {text-align: center;}#sk-container-id-4 div.sk-container {/* jupyter's `normalize.less` sets `[hidden] { display: none; }` but bootstrap.min.css set `[hidden] { display: none !important; }` so we also need the `!important` here to be able to override the default hidden behavior on the sphinx rendered scikit-learn.org. See: https://github.com/scikit-learn/scikit-learn/issues/21755 */display: inline-block !important;position: relative;}#sk-container-id-4 div.sk-text-repr-fallback {display: none;}</style><div id=\"sk-container-id-4\" class=\"sk-top-container\"><div class=\"sk-text-repr-fallback\"><pre>RandomForestClassifier(bootstrap=False, max_depth=420, max_leaf_nodes=490,\n",
       "                       min_samples_split=20, n_estimators=20)</pre><b>In a Jupyter environment, please rerun this cell to show the HTML representation or trust the notebook. <br />On GitHub, the HTML representation is unable to render, please try loading this page with nbviewer.org.</b></div><div class=\"sk-container\" hidden><div class=\"sk-item\"><div class=\"sk-estimator sk-toggleable\"><input class=\"sk-toggleable__control sk-hidden--visually\" id=\"sk-estimator-id-4\" type=\"checkbox\" checked><label for=\"sk-estimator-id-4\" class=\"sk-toggleable__label sk-toggleable__label-arrow\">RandomForestClassifier</label><div class=\"sk-toggleable__content\"><pre>RandomForestClassifier(bootstrap=False, max_depth=420, max_leaf_nodes=490,\n",
       "                       min_samples_split=20, n_estimators=20)</pre></div></div></div></div></div>"
      ],
      "text/plain": [
       "RandomForestClassifier(bootstrap=False, max_depth=420, max_leaf_nodes=490,\n",
       "                       min_samples_split=20, n_estimators=20)"
      ]
     },
     "execution_count": 65,
     "metadata": {},
     "output_type": "execute_result"
    }
   ],
   "source": [
    "rf_model2 = RandomForestClassifier(bootstrap= False,\n",
    " max_depth= 420,\n",
    " min_samples_leaf= 1,\n",
    " min_samples_split= 20,\n",
    " n_estimators= 20,\n",
    " max_leaf_nodes= 490)\n",
    "# rf_model2 = RandomForestClassifier()\n",
    "\n",
    "rf_model2.fit(X_train, y_train)"
   ]
  },
  {
   "cell_type": "code",
   "execution_count": 66,
   "metadata": {},
   "outputs": [
    {
     "name": "stdout",
     "output_type": "stream",
     "text": [
      "Cross validation:\n",
      "[75.3  76.68 74.36 74.17 77.23](%)\n",
      "Mean: 75.55%, Standard Deviation: 1.22%\n",
      "Hold Out:\n",
      "75.4%\n",
      "              precision    recall  f1-score   support\n",
      "\n",
      "       Other       0.75      0.67      0.71      1072\n",
      "       Solar       0.74      0.77      0.76      1100\n",
      "        Wind       0.77      0.83      0.80      1035\n",
      "\n",
      "    accuracy                           0.75      3207\n",
      "   macro avg       0.75      0.75      0.75      3207\n",
      "weighted avg       0.75      0.75      0.75      3207\n",
      "\n"
     ]
    },
    {
     "data": {
      "image/png": "[encoded data removed]",
      "text/plain": [
       "<Figure size 432x288 with 2 Axes>"
      ]
     },
     "metadata": {
      "needs_background": "light"
     },
     "output_type": "display_data"
    }
   ],
   "source": [
    "utils.custom_classification_prediction_report(rf_model2, X, y, X_test, y_test, list_target_in_order)"
   ]
  },
  {
   "cell_type": "code",
   "execution_count": null,
   "metadata": {},
   "outputs": [],
   "source": [
    "utils.learning_curve_plot(\"Random Forest\", rf_model2, X_train, y_train)"
   ]
  },
  {
   "cell_type": "code",
   "execution_count": null,
   "metadata": {},
   "outputs": [],
   "source": [
    "importance = rf_model2.feature_importances_\n",
    "# summarize feature importance\n",
    "for i,v in enumerate(importance):\n",
    "\tprint(f'Feature: {X_train.columns[i]}, Score: {np.around(v*100,2)} %')\n",
    "\t# print('Feature: %0d, Score: %.5f' % (i,v))\n",
    "# plot feature importance\n",
    "plt.figure(figsize=(30,10))\n",
    "plt.bar([X_train.columns[x] for x in range(len(importance))], importance)\n",
    "plt.xticks(rotation=90)\n",
    "plt.show()"
   ]
  },
  {
   "cell_type": "markdown",
   "metadata": {},
   "source": [
    "# XGBOOST"
   ]
  },
  {
   "cell_type": "code",
   "execution_count": null,
   "metadata": {},
   "outputs": [],
   "source": [
    "xgbclass_model_1 = XGBClassifier()\n",
    "xgbclass_model_1.fit(X_train, y_train)\n",
    "# xgbclass_model_1.fit(X_train_scaled_pca, y_train)"
   ]
  },
  {
   "cell_type": "code",
   "execution_count": null,
   "metadata": {},
   "outputs": [],
   "source": [
    "utils.custom_classification_prediction_report(xgbclass_model_1, X, y, X_test, y_test, list_target_in_order)"
   ]
  },
  {
   "cell_type": "code",
   "execution_count": null,
   "metadata": {},
   "outputs": [],
   "source": [
    "param_grid = {\n",
    "                'n_estimators': [5,10,50,100,500],\n",
    "                'learning_rate': [0.001,0.01,0.05,0.1,0.2],\n",
    "                'max_depth': [2,4,6],\n",
    "                'gamma': [0.0,0.1,0.2],\n",
    "                'colsample_bytree' : [ 0.3, 0.4, 0.5 , 0.7 ]\n",
    "            }"
   ]
  },
  {
   "cell_type": "code",
   "execution_count": null,
   "metadata": {},
   "outputs": [],
   "source": [
    "# xgb_grid = GridSearchCV(estimator = XGBClassifier(), param_grid = param_grid, cv=4, verbose = 2, n_jobs=4)\n",
    "xgb_grid = RandomizedSearchCV(estimator = XGBClassifier(), param_distributions = param_grid, n_iter = 30, cv=5, verbose = 1, n_jobs=4)"
   ]
  },
  {
   "cell_type": "code",
   "execution_count": null,
   "metadata": {},
   "outputs": [],
   "source": [
    "xgb_grid.fit(X_train, y_train)"
   ]
  },
  {
   "cell_type": "code",
   "execution_count": null,
   "metadata": {},
   "outputs": [],
   "source": [
    "xgb_grid.score(X_test, y_test)"
   ]
  },
  {
   "cell_type": "code",
   "execution_count": null,
   "metadata": {},
   "outputs": [],
   "source": [
    "xgb_grid.best_params_"
   ]
  },
  {
   "cell_type": "code",
   "execution_count": null,
   "metadata": {},
   "outputs": [],
   "source": [
    "xgbclass_model_2 = XGBClassifier(n_estimators=100, max_depth=6, learning_rate=0.2, gamma=0.0, colsample_bytree = 0.5, n_jobs=4)\n",
    "xgbclass_model_2.fit(X_train, y_train)"
   ]
  },
  {
   "cell_type": "code",
   "execution_count": null,
   "metadata": {},
   "outputs": [],
   "source": [
    "utils.custom_classification_prediction_report(xgbclass_model_2, X, y, X_test, y_test, list_target_in_order)"
   ]
  },
  {
   "cell_type": "markdown",
   "metadata": {},
   "source": [
    "# KNN"
   ]
  },
  {
   "cell_type": "code",
   "execution_count": null,
   "metadata": {},
   "outputs": [],
   "source": [
    "candidate_n_neighbors = np.arange(1,31)\n",
    "results = {}\n",
    "\n",
    "results = {n: utils.get_accuracy_knn(\"classifier\",n, X_train, X_test, y_train, y_test) for n in candidate_n_neighbors}\n",
    "best_n_neighbors = max(results, key=results.get)\n",
    "print(best_n_neighbors)\n",
    "sns.lineplot(data=results, x= results.keys(), y= results.values())"
   ]
  },
  {
   "cell_type": "code",
   "execution_count": null,
   "metadata": {},
   "outputs": [],
   "source": [
    "knn_model_1 = KNeighborsClassifier(n_neighbors = best_n_neighbors)\n",
    "knn_model_1.fit(X_train, y_train)"
   ]
  },
  {
   "cell_type": "code",
   "execution_count": null,
   "metadata": {},
   "outputs": [],
   "source": [
    "utils.custom_classification_prediction_report(knn_model_1, X, y, X_test, y_test, list_target_in_order)"
   ]
  },
  {
   "cell_type": "code",
   "execution_count": null,
   "metadata": {},
   "outputs": [],
   "source": [
    "candidate_n_neighbors = np.arange(1,25)\n",
    "results = {}\n",
    "\n",
    "results = {n: utils.get_accuracy_knn(\"classifier\",n, X_train_scaled, X_test_scaled, y_train, y_test) for n in candidate_n_neighbors}\n",
    "best_n_neighbors = max(results, key=results.get)\n",
    "print(best_n_neighbors)\n",
    "sns.lineplot(data=results, x= results.keys(), y= results.values())"
   ]
  },
  {
   "cell_type": "code",
   "execution_count": null,
   "metadata": {},
   "outputs": [],
   "source": [
    "knn_model_2 = KNeighborsClassifier(n_neighbors = best_n_neighbors)\n",
    "knn_model_2.fit(X_train_scaled, y_train)"
   ]
  },
  {
   "cell_type": "code",
   "execution_count": null,
   "metadata": {},
   "outputs": [],
   "source": [
    "utils.custom_classification_prediction_report(knn_model_2, X_scaled, y, X_test_scaled, y_test, list_target_in_order)"
   ]
  },
  {
   "cell_type": "markdown",
   "metadata": {},
   "source": [
    "# NAIVE BAYES"
   ]
  },
  {
   "cell_type": "code",
   "execution_count": null,
   "metadata": {},
   "outputs": [],
   "source": [
    "nb_model_1 = GaussianNB()\n",
    "nb_model_1.fit(X_train, y_train)\n",
    "\n",
    "utils.custom_classification_prediction_report(nb_model_1, X, y, X_test, y_test, list_target_in_order)"
   ]
  },
  {
   "cell_type": "code",
   "execution_count": null,
   "metadata": {},
   "outputs": [],
   "source": [
    "nb_model_2 = GaussianNB()\n",
    "nb_model_2.fit(X_train_scaled, y_train)\n",
    "\n",
    "utils.custom_classification_prediction_report(nb_model_2, X_scaled, y, X_test, y_test, list_target_in_order)"
   ]
  },
  {
   "cell_type": "markdown",
   "metadata": {},
   "source": [
    "# SVM"
   ]
  },
  {
   "cell_type": "code",
   "execution_count": null,
   "metadata": {},
   "outputs": [],
   "source": [
    "svm_model_1 = SVC(decision_function_shape='ovo')\n",
    "svm_model_1.fit(X_train_scaled, y_train)\n",
    "\n",
    "utils.custom_classification_prediction_report(svm_model_1, X, y, X_test, y_test, list_target_in_order)"
   ]
  },
  {
   "cell_type": "code",
   "execution_count": null,
   "metadata": {},
   "outputs": [],
   "source": [
    "param_grid = {\n",
    "                'C': [0.5, 1, 10, 100], # NOTE: values for C must be > 0\n",
    "                'gamma': ['scale', 1, .1, .01, .001, .0001],\n",
    "                'kernel': ['rbf', 'linear'], # Some linear fittings last to 7/8 mins. Not recommended at all\n",
    "                'decision_function_shape': ['ovo', 'ovr']\n",
    "            }\n",
    "# svm_grid = GridSearchCV(estimator = SVC(), param_grid = param_grid, cv=5, verbose = 2, n_jobs=4)\n",
    "svm_grid = RandomizedSearchCV(estimator = SVC(), param_distributions = param_grid, cv=5, verbose = 2, n_jobs=4)"
   ]
  },
  {
   "cell_type": "code",
   "execution_count": null,
   "metadata": {},
   "outputs": [],
   "source": [
    "svm_grid.fit(X_train_scaled, y_train)"
   ]
  },
  {
   "cell_type": "code",
   "execution_count": null,
   "metadata": {},
   "outputs": [],
   "source": [
    "svm_grid.best_params_"
   ]
  },
  {
   "cell_type": "code",
   "execution_count": null,
   "metadata": {},
   "outputs": [],
   "source": [
    "svm_grid.score(X_test_scaled, y_test)"
   ]
  },
  {
   "cell_type": "code",
   "execution_count": null,
   "metadata": {},
   "outputs": [],
   "source": [
    "svm_model_2 = SVC(C= 10, gamma= 0.1, kernel='rbf', decision_function_shape= 'ovo')\n",
    "svm_model_2.fit(X_train_scaled, y_train)\n",
    "utils.custom_classification_prediction_report(svm_model_2, X_scaled, y, X_test_scaled, y_test, list_target_in_order)"
   ]
  },
  {
   "cell_type": "markdown",
   "metadata": {},
   "source": [
    "# PCA"
   ]
  },
  {
   "cell_type": "code",
   "execution_count": null,
   "metadata": {},
   "outputs": [],
   "source": [
    "pca = PCA(n_components=3)\n",
    "pca.fit(X_train_scaled)"
   ]
  },
  {
   "cell_type": "code",
   "execution_count": null,
   "metadata": {},
   "outputs": [],
   "source": [
    "PC_values = np.arange(pca.n_components_) + 1\n",
    "plt.plot(PC_values, pca.explained_variance_ratio_, 'o-', linewidth=2, color='blue')\n",
    "plt.title('Scree Plot')\n",
    "plt.xlabel('Principal Component')\n",
    "plt.ylabel('Variance Explained')\n",
    "plt.show()"
   ]
  },
  {
   "cell_type": "markdown",
   "metadata": {},
   "source": [
    "## Decision tree with PCA"
   ]
  },
  {
   "cell_type": "code",
   "execution_count": null,
   "metadata": {},
   "outputs": [],
   "source": [
    "X_train_scaled_pca = pca.transform(X_train_scaled)\n",
    "X_test_scaled_pca = pca.transform(X_test_scaled)\n",
    "X_scaled_pca = pca.transform(X_scaled)\n",
    "\n",
    "candidate_max_leaf_nodes = [10, 50, 80, 100, 500, 1200, 1500]\n",
    "results = {}\n",
    "\n",
    "results = {node: utils.get_accuracy_tree(\"classifier\",node, X_train_scaled_pca, X_test_scaled_pca, y_train, y_test) for node in candidate_max_leaf_nodes}\n",
    "best_tree_size = max(results, key=results.get)\n",
    "print(best_tree_size)\n",
    "sns.lineplot(data=results, x= results.keys(), y= results.values())\n"
   ]
  },
  {
   "cell_type": "code",
   "execution_count": null,
   "metadata": {},
   "outputs": [],
   "source": [
    "tree_model = DecisionTreeClassifier(max_leaf_nodes = best_tree_size, random_state=0)\n",
    "tree_model.fit(X_train_scaled_pca, y_train)"
   ]
  },
  {
   "cell_type": "code",
   "execution_count": null,
   "metadata": {},
   "outputs": [],
   "source": [
    "utils.custom_classification_prediction_report(tree_model, X_scaled_pca, y, X_test_scaled_pca, y_test, list_target_in_order)"
   ]
  },
  {
   "cell_type": "markdown",
   "metadata": {},
   "source": [
    "# LOGISTIC REGRESSION"
   ]
  },
  {
   "cell_type": "code",
   "execution_count": null,
   "metadata": {},
   "outputs": [],
   "source": [
    "logistic_model_1 = LogisticRegression(multi_class= 'ovr')\n",
    "logistic_model_1.fit(X_train_scaled, y_train)\n",
    "utils.custom_classification_prediction_report(logistic_model_1, X_scaled, y, X_test_scaled, y_test, list_target_in_order)"
   ]
  },
  {
   "cell_type": "markdown",
   "metadata": {},
   "source": [
    "# LDA & QDA"
   ]
  },
  {
   "cell_type": "code",
   "execution_count": null,
   "metadata": {},
   "outputs": [],
   "source": [
    "lda = LDA(n_components = 2)\n",
    "X_train_scaled_lda = lda.fit_transform(X_train_scaled, y_train)\n",
    "X_test_scaled_lda = lda.transform(X_test_scaled)\n",
    "X_scaled_lda = lda.transform(X_scaled)"
   ]
  },
  {
   "cell_type": "code",
   "execution_count": null,
   "metadata": {},
   "outputs": [],
   "source": [
    "lda.fit(X_train_scaled_lda, y_train)\n",
    "utils.custom_classification_prediction_report(lda, X_scaled_lda, y, X_test_scaled_lda, y_test, list_target_in_order)"
   ]
  },
  {
   "cell_type": "code",
   "execution_count": null,
   "metadata": {},
   "outputs": [],
   "source": [
    "lda_2 = LDA()\n",
    "lda_2.fit(X_train_scaled, y_train)\n",
    "utils.custom_classification_prediction_report(lda_2, X_scaled, y, X_test_scaled, y_test, list_target_in_order)"
   ]
  },
  {
   "cell_type": "code",
   "execution_count": null,
   "metadata": {},
   "outputs": [],
   "source": [
    "qda = QDA()\n",
    "qda.fit(X_train, y_train)\n",
    "utils.custom_classification_prediction_report(qda, X, y, X_test, y_test, list_target_in_order)"
   ]
  },
  {
   "cell_type": "markdown",
   "metadata": {},
   "source": [
    "# NEURAL NETWORK"
   ]
  },
  {
   "cell_type": "code",
   "execution_count": null,
   "metadata": {},
   "outputs": [],
   "source": [
    "nn_model_1 = MLPClassifier(max_iter=300)\n",
    "nn_model_1.fit(X_train, y_train)"
   ]
  },
  {
   "cell_type": "code",
   "execution_count": null,
   "metadata": {},
   "outputs": [],
   "source": [
    "utils.custom_classification_prediction_report(nn_model_1, X, y, X_test, y_test, list_target_in_order)"
   ]
  },
  {
   "cell_type": "markdown",
   "metadata": {},
   "source": [
    "# BAGGING CLASSIFIER"
   ]
  },
  {
   "cell_type": "code",
   "execution_count": null,
   "metadata": {},
   "outputs": [],
   "source": [
    "bag_model_1 = BaggingClassifier(\n",
    "    base_estimator = RandomForestClassifier(\n",
    "                        bootstrap=False, \n",
    "                        max_depth=420, \n",
    "                        max_leaf_nodes=490,\n",
    "                       min_samples_split=20, \n",
    "                       n_estimators=20\n",
    "                       ), \n",
    "    n_estimators=50)\n",
    "    \n",
    "bag_model_1.fit(X_train, y_train)\n",
    "utils.custom_classification_prediction_report(bag_model_1, X, y, X_test, y_test, list_target_in_order)"
   ]
  },
  {
   "cell_type": "code",
   "execution_count": null,
   "metadata": {},
   "outputs": [],
   "source": [
    "\n",
    "bag_model_2 = BaggingClassifier(\n",
    "    base_estimator = SVC(\n",
    "                            C= 10, \n",
    "                            gamma= 0.1, \n",
    "                            kernel='rbf', \n",
    "                            decision_function_shape= 'ovo'\n",
    "                        ), \n",
    "    n_estimators=10)\n",
    "    \n",
    "bag_model_2.fit(X_train_scaled, y_train)\n",
    "utils.custom_classification_prediction_report(bag_model_2, X_scaled, y, X_test_scaled, y_test, list_target_in_order)"
   ]
  },
  {
   "cell_type": "code",
   "execution_count": null,
   "metadata": {},
   "outputs": [],
   "source": [
    "classifier = {\n",
    "        'KNeighbors': KNeighborsClassifier(n_neighbors=3),\n",
    "        'DecisionTree': DecisionTreeClassifier(max_leaf_nodes=500),\n",
    "        'XGBClassifier': XGBClassifier()\n",
    "    }\n",
    "\n",
    "for name, estimator in classifier.items():\n",
    "    bag_class = BaggingClassifier(base_estimator=estimator, n_estimators=10).fit(X_train_scaled, y_train)\n",
    "    \n",
    "    bag_pred = bag_class.predict(X_test_scaled)\n",
    "    \n",
    "    results_cv = cross_val_score(bag_class, X_scaled, y, cv=StratifiedKFold(shuffle = True))\n",
    "    \n",
    "    print(f'Accuracy Bagging with {name}: {accuracy_score(bag_pred, y_test)}')\n",
    "    print('')\n",
    "    print(f'Mean: {results_cv.mean()}, Standard Deviation: {results_cv.std()}')\n",
    "    print('')"
   ]
  },
  {
   "cell_type": "markdown",
   "metadata": {},
   "source": [
    "# VOTING CLASSIFIER"
   ]
  },
  {
   "cell_type": "code",
   "execution_count": null,
   "metadata": {},
   "outputs": [],
   "source": [
    "\n",
    "\n",
    "votclass_model_1 = VotingClassifier(estimators=[\n",
    "    ('knn', KNeighborsClassifier(n_neighbors=3)), \n",
    "    ('svc', SVC(C= 10, gamma= 0.1, kernel='rbf', decision_function_shape= 'ovo')), \n",
    "    ('rf', RandomForestClassifier(bootstrap= False,\n",
    "        max_depth= 420,\n",
    "        min_samples_leaf= 1,\n",
    "        min_samples_split= 20,\n",
    "        n_estimators= 20,\n",
    "        max_leaf_nodes= 490))\n",
    "], voting='hard')\n",
    "votclass_model_1.fit(X_train, y_train)\n",
    "\n",
    "utils.custom_classification_prediction_report(votclass_model_1, X, y, X_test, y_test, list_target_in_order)"
   ]
  },
  {
   "cell_type": "markdown",
   "metadata": {},
   "source": [
    "# ADABOOST"
   ]
  },
  {
   "cell_type": "code",
   "execution_count": null,
   "metadata": {},
   "outputs": [],
   "source": [
    "adaBoost_model_1 = AdaBoostClassifier()\n",
    "adaBoost_model_1.fit(X_train_scaled, y_train)\n",
    "\n",
    "utils.custom_classification_prediction_report(adaBoost_model_1, X_scaled, y, X_test_scaled, y_test, list_target_in_order)"
   ]
  },
  {
   "cell_type": "markdown",
   "metadata": {},
   "source": [
    "# GRADIENT TREE BOOSTING"
   ]
  },
  {
   "cell_type": "code",
   "execution_count": null,
   "metadata": {},
   "outputs": [],
   "source": [
    "gradboost_model_1 = GradientBoostingClassifier()\n",
    "gradboost_model_1.fit(X_train, y_train)\n",
    "\n",
    "utils.custom_classification_prediction_report(gradboost_model_1, X, y, X_test, y_test, list_target_in_order)"
   ]
  },
  {
   "cell_type": "code",
   "execution_count": null,
   "metadata": {},
   "outputs": [],
   "source": [
    "# Numbers of trees\n",
    "n_estimators = [int(x) for x in np.arange(10, 101, 10)]\n",
    "# Numbers of features to consider at every split\n",
    "# max_features = [1, \"sqrt\", \"log2\"]\n",
    "# Maximum numbers of levels in tree\n",
    "max_depth = [int(x) for x in np.arange(10, 501, 10)]\n",
    "# Minimum numbers of samples required to split a node\n",
    "min_samples_split = [int(x) for x in np.arange(10, 51, 10)]\n",
    "# Minimum numbers of samples required at each leaf node\n",
    "min_samples_leaf = [int(x) for x in np.arange(5, 101, 5)]\n",
    "\n",
    "learning_rate = [np.around(x,3) for x in np.arange(0.005, 2.001, 0.005)]\n",
    "\n",
    "warm_start = [True, False]\n",
    "\n",
    "n_iter_no_change = [5, 10 , None]\n",
    "\n",
    "max_leaf_nodes = [int(x) for x in np.arange(10, 501, 10)]\n",
    "\n",
    "\n",
    "param_grid_gbc = {\n",
    "                'n_estimators': n_estimators,\n",
    "                # 'max_features': max_features,\n",
    "                'max_depth': max_depth,\n",
    "                'min_samples_split': min_samples_split,\n",
    "                'min_samples_leaf': min_samples_leaf,\n",
    "                'warm_start': warm_start,\n",
    "                'max_leaf_nodes': max_leaf_nodes,\n",
    "                'n_iter_no_change': n_iter_no_change,\n",
    "                'learning_rate': learning_rate\n",
    "            }\n"
   ]
  },
  {
   "cell_type": "code",
   "execution_count": null,
   "metadata": {},
   "outputs": [],
   "source": [
    "gbc_model = GradientBoostingClassifier(random_state=0)\n",
    "# rf_grid = GridSearchCV(estimator = rf_model, param_grid = param_grid, cv=3, verbose = 2, n_jobs=4)\n",
    "gbc_grid = RandomizedSearchCV(estimator = gbc_model, param_distributions = param_grid_gbc, n_iter = 30, cv=5, verbose = 2, n_jobs=4)"
   ]
  },
  {
   "cell_type": "code",
   "execution_count": null,
   "metadata": {},
   "outputs": [],
   "source": [
    "# rf_grid.fit(X_train_scaled_pca, y_train)\n",
    "gbc_grid.fit(X_train, y_train)"
   ]
  },
  {
   "cell_type": "code",
   "execution_count": null,
   "metadata": {},
   "outputs": [],
   "source": [
    "gbc_grid.best_params_"
   ]
  },
  {
   "cell_type": "code",
   "execution_count": null,
   "metadata": {},
   "outputs": [],
   "source": [
    "gbc_grid.score(X_test, y_test)\n",
    "# rf_grid.score(X_test_scaled_pca, y_test)"
   ]
  },
  {
   "cell_type": "code",
   "execution_count": null,
   "metadata": {},
   "outputs": [],
   "source": [
    "gbc_grid.best_estimator_"
   ]
  },
  {
   "cell_type": "code",
   "execution_count": null,
   "metadata": {},
   "outputs": [],
   "source": [
    "gradboost_model_2 = GradientBoostingClassifier(learning_rate=0.07, max_depth=20, max_leaf_nodes=100,\n",
    "                           min_samples_leaf=90, min_samples_split=40,\n",
    "                           n_estimators=80, random_state=0, warm_start=True)\n",
    "gradboost_model_2.fit(X_train, y_train)                        \n",
    "utils.custom_classification_prediction_report(gradboost_model_2, X, y, X_test, y_test, list_target_in_order)"
   ]
  },
  {
   "cell_type": "markdown",
   "metadata": {},
   "source": [
    "# EXPORTING FINAL DATA AND MODEL"
   ]
  },
  {
   "cell_type": "code",
   "execution_count": null,
   "metadata": {},
   "outputs": [],
   "source": [
    "X.to_csv(utils.DIR_DATA_PROCESSED/\"classification_X.csv\")\n",
    "y.to_csv(utils.DIR_DATA_PROCESSED/\"classification_y.csv\")\n",
    "df_target_equivalent.to_csv(utils.DIR_DATA_PROCESSED/\"classification_y_real_values.csv\")"
   ]
  },
  {
   "cell_type": "code",
   "execution_count": null,
   "metadata": {},
   "outputs": [],
   "source": [
    "utils.custom_classification_prediction_report(xgbclass_model_1, X, y, X_test, y_test, list_target_in_order)"
   ]
  },
  {
   "cell_type": "code",
   "execution_count": null,
   "metadata": {},
   "outputs": [],
   "source": [
    "utils.custom_classification_prediction_report(xgbclass_model_2, X, y, X_test, y_test, list_target_in_order)"
   ]
  },
  {
   "cell_type": "code",
   "execution_count": null,
   "metadata": {},
   "outputs": [],
   "source": [
    "joblib.dump(xgbclass_model_1, utils.DIR_MODELS/\"xgbclass_model_1.pkl\")"
   ]
  },
  {
   "cell_type": "code",
   "execution_count": null,
   "metadata": {},
   "outputs": [],
   "source": [
    "y_test.value_counts()"
   ]
  },
  {
   "cell_type": "code",
   "execution_count": null,
   "metadata": {},
   "outputs": [],
   "source": []
  }
 ],
 "metadata": {
  "kernelspec": {
   "display_name": "Python 3.8.10 ('env_renewable_power_plants_pred': venv)",
   "language": "python",
   "name": "python3"
  },
  "language_info": {
   "codemirror_mode": {
    "name": "ipython",
    "version": 3
   },
   "file_extension": ".py",
   "mimetype": "text/x-python",
   "name": "python",
   "nbconvert_exporter": "python",
   "pygments_lexer": "ipython3",
   "version": "3.8.10"
  },
  "orig_nbformat": 4,
  "vscode": {
   "interpreter": {
    "hash": "60bc2f3e2ae26542789000890b40dee3a700b323ee2b6f35697d2a36a7d239d7"
   }
  }
 },
 "nbformat": 4,
 "nbformat_minor": 2
}
